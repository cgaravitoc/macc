{
 "cells": [
  {
   "cell_type": "markdown",
   "metadata": {
    "colab_type": "text",
    "id": "TpmFfXsQ0dYI"
   },
   "source": [
    "<table>\n",
    "    <tr>\n",
    "        <td><img src=\"./imagenes/Macc.png\" width=\"400\"/></td>\n",
    "        <td>&nbsp;</td>\n",
    "        <td>\n",
    "            <h1 style=\"color:blue;text-align:left\">Inteligencia Artificial</h1></td>\n",
    "        <td>\n",
    "            <table><tr>\n",
    "            <tp><p style=\"font-size:150%;text-align:center\">Notebook 4</p></tp>\n",
    "            <tp><p style=\"font-size:150%;text-align:center\">Búsqueda en espacio de estados (3/3) </p></tp>\n",
    "            </tr></table>\n",
    "        </td>\n",
    "    </tr>\n",
    "</table>\n",
    "\n",
    "---"
   ]
  },
  {
   "cell_type": "markdown",
   "metadata": {
    "colab_type": "text",
    "id": "V3SkDSWJ0dYJ"
   },
   "source": [
    "## Objetivo\n",
    "\n",
    "En el notebook anterior solucionamos el problema de las jarras de agua con una función de costo que mide el desperdicio de agua usando el algoritmo `best_first_search`. En este notebook vamos a utilizar dicho algoritmo para hacer búsquedas basadas no solo en costos (llamada `uniform_cost_search`), sino también en funciones heurísticas para mejorar el proceso de búsqueda. Las heurísticas usan información específica sobre el problema para evaluar qué tan cerca está un estado de la solución del problema. \n",
    "\n",
    "Adaptado de (Russell & Norvig, 2020), secciones 3.4.2, 3.5.1 y 3.5.2."
   ]
  },
  {
   "cell_type": "markdown",
   "metadata": {
    "colab_type": "text",
    "id": "5HnQ_gA70dYL"
   },
   "source": [
    "## Secciones\n",
    "\n",
    "Desarrollaremos la explicación de la siguiente manera:\n",
    "\n",
    "* [Problema del viaje a Rumania](#rumania).\n",
    "* [Estrategia de búsqueda uniform cost](#uniform).\n",
    "* [Problema del 8 puzzle](#8puzzle).\n",
    "* [Comparación de heurísticas](#heuristicas).\n",
    "* [Estrategia de búsqueda avara](#avara).\n",
    "* [Estrategia de búsqueda A*](#Astar).\n",
    "* [Problema del laberinto](#laberinto).\n",
    "* [Opciones para ahorrar memoria](#memoria).\n",
    "\n"
   ]
  },
  {
   "cell_type": "markdown",
   "metadata": {},
   "source": [
    "## El problema del viaje a Rumania <a class=\"anchor\" id=\"rumania\"></a>\n",
    "\n",
    "Imagine que usted viaja a Rumania y que desconoce por completo el país, pero tiene a mano un mapa de los caminos, que le indica las longitudes en kilómetros, como el siguiente:\n",
    "\n",
    "<img src=\"./imagenes/Rumania.png\" width=\"500px\"/>\n",
    "\n",
    "El problema consiste en, dada una ciudad de salida y una ciudad de llegada, encontrar el camino más corto."
   ]
  },
  {
   "cell_type": "markdown",
   "metadata": {},
   "source": [
    "**Ejercicio 1:**\n",
    "\n",
    "Complete la definición formal del problema del viaje a Rumania:    \n",
    "\n",
    "* **Estado inicial**: \n",
    "\n",
    "* **Posibles acciones**: \n",
    "\n",
    "* **Función de transiciones**: \n",
    "\n",
    "* **Prueba de satisfacción del objetivo**: \n",
    "\n",
    "* **Función de costo**: "
   ]
  },
  {
   "cell_type": "markdown",
   "metadata": {},
   "source": [
    "**Respuesta:**\n",
    "\n",
    "Una posible solución es la siguiente:\n",
    "\n",
    "* **Estado inicial**: Ciudad de salida.\n",
    "\n",
    "* **Posibles acciones**: Todas las ciudades vecinas que conectan con una ciudad dada.\n",
    "\n",
    "* **Función de transiciones**: Una acción es una ciudad, así que la transición es ir a esa ciudad.\n",
    "\n",
    "* **Prueba de satisfacción del objetivo**: ¿Ciudad dada es la ciudad de llegada?\n",
    "\n",
    "* **Función de costo**: Cantidad de kilómetros desde la ciudad dada a la ciudad vecina."
   ]
  },
  {
   "cell_type": "markdown",
   "metadata": {},
   "source": [
    "---"
   ]
  },
  {
   "cell_type": "markdown",
   "metadata": {},
   "source": [
    "Podemos importar este problema desde nuestra librería `ambientes`:"
   ]
  },
  {
   "cell_type": "code",
   "execution_count": 1,
   "metadata": {},
   "outputs": [],
   "source": [
    "from ambientes import ViajeRumania\n",
    "from busqueda import *"
   ]
  },
  {
   "cell_type": "markdown",
   "metadata": {},
   "source": [
    "Supongamos que nuestro problema es ir desde Sibiu hasta Bucharest. Entonces creamos el problema así:"
   ]
  },
  {
   "cell_type": "code",
   "execution_count": 2,
   "metadata": {},
   "outputs": [],
   "source": [
    "viaje = ViajeRumania('Sibiu', 'Bucharest')"
   ]
  },
  {
   "cell_type": "markdown",
   "metadata": {},
   "source": [
    "Observe que el problema tiene un atributo de rutas, que podemos visualizar así:"
   ]
  },
  {
   "cell_type": "code",
   "execution_count": 3,
   "metadata": {},
   "outputs": [
    {
     "data": {
      "text/plain": [
       "{'Oradea': {'Zerind': 71, 'Sibiu': 151},\n",
       " 'Zerind': {'Arad': 75, 'Oradea': 71},\n",
       " 'Arad': {'Timisoara': 118, 'Sibiu': 140, 'Zerind': 71},\n",
       " 'Timisoara': {'Lugoj': 111, 'Arad': 118},\n",
       " 'Lugoj': {'Mehadia': 70, 'Timisoara': 111},\n",
       " 'Mehadia': {'Drobeta': 75, 'Lugoj': 70},\n",
       " 'Drobeta': {'Craiova': 120, 'Mehadia': 75},\n",
       " 'Sibiu': {'Fagaras': 99, 'Rimnicu Vilcea': 80, 'Arad': 140, 'Oradea': 151},\n",
       " 'Rimnicu Vilcea': {'Craiova': 146, 'Pitesti': 97, 'Sibiu': 80},\n",
       " 'Craiova': {'Pitesti': 138, 'Drobeta': 120, 'Rimnicu Vilcea': 146},\n",
       " 'Fagaras': {'Bucharest': 211, 'Sibiu': 99},\n",
       " 'Pitesti': {'Bucharest': 101, 'Craiova': 138, 'Rimnicu Vilcea': 97},\n",
       " 'Bucharest': {'Giurgiu': 90, 'Urziceni': 85, 'Fagaras': 211, 'Pitesti': 101},\n",
       " 'Giurgiu': {'Bucharest': 90},\n",
       " 'Urziceni': {'Vaslui': 142, 'Hirsova': 98, 'Bucharest': 85},\n",
       " 'Vaslui': {'Iasi': 92, 'Urziceni': 142},\n",
       " 'Iasi': {'Neamt': 87, 'Vaslui': 92},\n",
       " 'Neamt': {'Iasi': 87},\n",
       " 'Hirsova': {'Eforie': 86, 'Urziceni': 98},\n",
       " 'Eforie': {'Hirsova': 86}}"
      ]
     },
     "execution_count": 3,
     "metadata": {},
     "output_type": "execute_result"
    }
   ],
   "source": [
    "viaje.rutas"
   ]
  },
  {
   "cell_type": "markdown",
   "metadata": {},
   "source": [
    "Este atributo se utiliza tanto para encontrar las acciones aplicables como para determinar los costos de ir de una ciudad a una ciudad vecina."
   ]
  },
  {
   "cell_type": "markdown",
   "metadata": {},
   "source": [
    "**Ejercicio 2:**\n",
    "\n",
    "A mano, encuentre el camino más corto desde Sibiu a Bucharest. Cree una lista con los nodos en dicho camino y encuentre su atributo `costo_camino`."
   ]
  },
  {
   "cell_type": "markdown",
   "metadata": {},
   "source": [
    "---"
   ]
  },
  {
   "cell_type": "markdown",
   "metadata": {},
   "source": [
    "**Ejercicio 3:**\n",
    "\n",
    "Desde la librería `busqueda` importe las funciones `depth_first_search` y `breadth_first_search`. Utilice ambos métodos para solucionar el problema y encuentre el kilometraje de la solución dada por cada uno de estos métodos. ¿Alguna se parece a la solución encontrada a mano?"
   ]
  },
  {
   "cell_type": "markdown",
   "metadata": {},
   "source": [
    "La solución obtenida mediante `depth_first_search` es muy poco óptima, pues su kilometraje es 1135 kilómetros. La solución encontrada mediante `breadth_first_search` es mejor, pues es de solo 310 kilómetros, pero no es la solución óptima."
   ]
  },
  {
   "cell_type": "markdown",
   "metadata": {},
   "source": [
    "---"
   ]
  },
  {
   "cell_type": "markdown",
   "metadata": {},
   "source": [
    "## Uniform-cost search (o algoritmo de Dijkstra) <a class=\"anchor\" id=\"uniform\"></a>\n",
    "\n",
    "En el notebook anterior solucionamos el problema de las jarras de agua con una función de costo que mide el desperdicio de agua. Al realizar una búsqueda en un espacio de estados usando una función de costo, como `desperdicio`, se dice que se está realizando una búsqueda de costo uniforme. Sí, sí, así es. Sólo cambiando la función de costo se cambia el nombre del algoritmo. Extraño, pero cierto. Lo que caracteriza a la búsqueda de costo uniforme es que la función de costo siempre crece a medida que aumentamos la longitud del camino. "
   ]
  },
  {
   "cell_type": "markdown",
   "metadata": {},
   "source": [
    "**Ejercicio 4:**\n",
    "\n",
    "Ahora encuentre la solución óptima del viaje a Rumania mediante el algoritmo de costo uniforme (que es el mismo `best_first_search`; observe que no necesita sino poner un argumento, porque usaremos el costo que viene por defecto en el problema)."
   ]
  },
  {
   "cell_type": "markdown",
   "metadata": {},
   "source": [
    "---"
   ]
  },
  {
   "cell_type": "markdown",
   "metadata": {},
   "source": [
    "**Cuando el orden de los factores sí altera el producto**\n",
    "\n",
    "Veremos ahora un ejemplo que nos permite justificar por qué la verificación de la prueba de satisfacción de objetivo se realiza al explorar la frontera, no al expandir un nodo. Observe que en el notebook 2 realizábamos esta verificación al expandir un nodo. Si encontrábamos una solución, estaba bien y concluíamos la búsqueda. En el algoritmo `best_first_search` somos un poco más cuidadosos y no verificamos sino hasta expandir la frontera de acuerdo a la lista prioritaria. La razón de esto podemos verla con un ejemplo.\n",
    "\n",
    "Consideremos el problema de ir desde Sibiu a Bucharest.\n",
    "\n",
    "<img src=\"./imagenes/Sibiu2Bucharest.png\" width=\"280px\"/>\n",
    "\n",
    "Los sucesores de Sibiu son Rimnicu Vilcea y Fagaras, con un coste de 80 y 99, respectivamente. El nodo de menor costo, Rimnicu Vilcea, se amplía a continuación, añadiendo Pitesti con un costo de 80+97=177. El nodo de menor costo es ahora Fagaras, por lo que se amplía, añadiendo Bucarest con un costo de 99 + 211 = 310. Bucarest es el objetivo, pero el algoritmo sólo comprueba los objetivos cuando expande un nodo, no cuando genera un nodo, por lo que aún no ha detectado que éste es un camino hacia el objetivo.\n",
    "\n",
    "El algoritmo continúa, eligiendo Pitesti para la siguiente expansión y añadiendo un segundo camino a Bucarest con un costo de 80 + 97 + 101 = 278. Tiene un costo menor, por lo que sustituye a la ruta anterior alcanzada y se añade a la frontera. Resulta que este nodo tiene ahora el costo más bajo, por lo que se considera el siguiente, se comprueba que es una meta y se devuelve. Nótese que si hubiéramos comprobado la existencia de un objetivo al generar un nodo en lugar de al ampliar el nodo de menor costo, habríamos devuelto un camino de mayor costo (el que pasa por Fagaras).\n",
    "\n"
   ]
  },
  {
   "cell_type": "markdown",
   "metadata": {},
   "source": [
    "## El problema del rompecabezas de 8 piezas <a class=\"anchor\" id=\"8puzzle\"></a>\n",
    "\n",
    "Considere ocho piezas cuadradas, cada una con un número del 1 al 8. Estas piezas se ponen en una caja cuadrada  formando un rompecabezas, de tal manera que queda un espacio del mismo tamaño que las piezas, como en la figura siguiente:\n",
    "\n",
    "<img src=\"./imagenes/puzzle.png\" width=\"350px\"/>\n",
    "\n",
    "Las piezas adyacentes al espacio pueden desplazarse desde su posición hasta ocupar el espacio vacío, de tal manera que es posible cambiar el orden de todas las piezas. El problema consiste en, dada una posición del rompecabezas, encontrar una manera de mover las piezas para lograr otra posición deseada.\n",
    "\n",
    "La descripción formal del problema es como sigue:\n",
    "\n",
    "* **Estado inicial**: Un rompezabezas donde las piezas están dispuestas aleatoriamente.\n",
    "\n",
    "* **Posibles acciones**: Mover una ficha al espacio vacío. En cada configuración hay maximo cuatro fichas que pueden moverse al espacio vacío (cuando este está en el centro). Usualmente solo pueden moverse tres fichas o solo dos, cuando el espacio vacío está en una esquina. \n",
    "\n",
    "* **Función de transiciones**: Mover la ficha y obtener el tablero correspondiente.\n",
    "\n",
    "* **Prueba de satisfacción del objetivo**: El tablero está organizado como sigue:\n",
    "\n",
    "<img src=\"./imagenes/objetivo.png\" width=\"350px\"/>\n",
    "\n",
    "* **Función de costo**: Cada acción cuesta 1 punto."
   ]
  },
  {
   "cell_type": "markdown",
   "metadata": {},
   "source": [
    "Observe que podemos usar el método `pintar_camino` para visualizar el movimiento correspondiente de las piezas:"
   ]
  },
  {
   "cell_type": "code",
   "execution_count": 8,
   "metadata": {},
   "outputs": [],
   "source": [
    "from ambientes import Rompecabezas\n",
    "from random import choice\n",
    "import numpy as np"
   ]
  },
  {
   "cell_type": "code",
   "execution_count": 9,
   "metadata": {
    "scrolled": true
   },
   "outputs": [
    {
     "data": {
      "image/png": "[encoded data removed]",
      "text/plain": [
       "<Figure size 432x288 with 1 Axes>"
      ]
     },
     "metadata": {
      "needs_background": "light"
     },
     "output_type": "display_data"
    }
   ],
   "source": [
    "puz = Rompecabezas()\n",
    "s = puz.estado_inicial\n",
    "a = choice(puz.acciones_aplicables(s))\n",
    "puz.pintar_camino([a])"
   ]
  },
  {
   "cell_type": "markdown",
   "metadata": {},
   "source": [
    "El problema del rompecabezas es difícil, y usualmente le cuesta un buen tiempo a los métodos de `breadth_first_search` y `depth_first_search` converger en una solución. Si usted es curioso, trate de usar uno de estos métodos para resolver el problema. El resultado que usted debe obtener es una celda que se queda corriendo hasta que se agota la paciencia.\n",
    "\n",
    "El método `uniform_cost_search`, que usa la función de costos usual en el algoritmo `best_first_search`, es mucho más eficiente que los anteriores, pero aún puede mejorarse, como lo veremos en un momento. Por ahora, el ejercicio es resolver el problema del rompecabezas mediante `best_first_search` y la siguiente función de costo:"
   ]
  },
  {
   "cell_type": "code",
   "execution_count": 10,
   "metadata": {},
   "outputs": [],
   "source": [
    "def costo_accion(self, estado, accion):\n",
    "    return 1"
   ]
  },
  {
   "cell_type": "code",
   "execution_count": 11,
   "metadata": {},
   "outputs": [
    {
     "data": {
      "text/plain": [
       "<AxesSubplot:>"
      ]
     },
     "execution_count": 11,
     "metadata": {},
     "output_type": "execute_result"
    },
    {
     "data": {
      "image/png": "[encoded data removed]",
      "text/plain": [
       "<Figure size 432x288 with 1 Axes>"
      ]
     },
     "metadata": {
      "needs_background": "light"
     },
     "output_type": "display_data"
    }
   ],
   "source": [
    "puz = Rompecabezas()\n",
    "S = np.matrix([[0, 6, 1], [4, 8, 7], [5, 2, 3]])\n",
    "puz.estado_inicial = S\n",
    "puz.pintar_estado(puz.estado_inicial)"
   ]
  },
  {
   "cell_type": "code",
   "execution_count": 12,
   "metadata": {},
   "outputs": [
    {
     "name": "stdout",
     "output_type": "stream",
     "text": [
      "La solución encontrada es:  [((0, 1), (0, 0)), ((1, 1), (0, 1)), ((2, 1), (1, 1)), ((2, 0), (2, 1)), ((1, 0), (2, 0)), ((1, 1), (1, 0)), ((2, 1), (1, 1)), ((2, 2), (2, 1)), ((1, 2), (2, 2)), ((0, 2), (1, 2)), ((0, 1), (0, 2)), ((0, 0), (0, 1)), ((1, 0), (0, 0)), ((2, 0), (1, 0)), ((2, 1), (2, 0)), ((1, 1), (2, 1)), ((0, 1), (1, 1)), ((0, 0), (0, 1)), ((1, 0), (0, 0)), ((2, 0), (1, 0))]\n",
      "La cantidad de movimientos es:  20\n",
      "CPU times: user 28.6 s, sys: 97 ms, total: 28.7 s\n",
      "Wall time: 28.7 s\n"
     ]
    }
   ],
   "source": [
    "%%time\n",
    "l = best_first_search(puz)\n",
    "if l is not None:\n",
    "    camino = solucion(l)\n",
    "    print(\"La solución encontrada es: \", camino)\n",
    "    print(\"La cantidad de movimientos es: \", len(camino))\n",
    "else:\n",
    "    print(\"No hay solución!\")"
   ]
  },
  {
   "cell_type": "markdown",
   "metadata": {},
   "source": [
    "Observe que, en mi computador, el algoritmo con costo uniforme tarda más de 33 segundos en converger a una solución."
   ]
  },
  {
   "cell_type": "code",
   "execution_count": 13,
   "metadata": {},
   "outputs": [
    {
     "data": {
      "image/png": "[encoded data removed]",
      "text/plain": [
       "<Figure size 432x288 with 1 Axes>"
      ]
     },
     "metadata": {
      "needs_background": "light"
     },
     "output_type": "display_data"
    }
   ],
   "source": [
    "puz.pintar_camino(camino)"
   ]
  },
  {
   "cell_type": "markdown",
   "metadata": {
    "scrolled": false
   },
   "source": [
    "## Funciones heurísticas <a class=\"anchor\" id=\"heuristicas\"></a>\n",
    "\n",
    "Las heurísticas son reglas de comportamiento que aprovechan el conocimiento específico sobre ciertos problemas. El problema del rompecabezas nos permite explicar esto mejor. Podemos evaluar una especie de distancia entre un estado dado y el estado objetivo mediante el conteo de piezas que no se encuentran en el lugar objetivo. Por ejemplo, considere el siguiente tablero:"
   ]
  },
  {
   "cell_type": "code",
   "execution_count": 14,
   "metadata": {},
   "outputs": [
    {
     "data": {
      "text/plain": [
       "<AxesSubplot:>"
      ]
     },
     "execution_count": 14,
     "metadata": {},
     "output_type": "execute_result"
    },
    {
     "data": {
      "image/png": "[encoded data removed]",
      "text/plain": [
       "<Figure size 432x288 with 1 Axes>"
      ]
     },
     "metadata": {
      "needs_background": "light"
     },
     "output_type": "display_data"
    }
   ],
   "source": [
    "puz = Rompecabezas()\n",
    "puz.objetivo = puz.estado_inicial\n",
    "S = np.matrix([[6, 3, 2], [7, 4, 0], [8, 5, 1]])\n",
    "puz.objetivo = S\n",
    "puz.pintar_estado(S)"
   ]
  },
  {
   "cell_type": "markdown",
   "metadata": {},
   "source": [
    "En este tablero hay dos piezas que no están en la posición objetivo, a saber, el 1 y el 2. Por lo tanto, la función heurística `piezas_mal_puestas` debe devolver el valor 2."
   ]
  },
  {
   "cell_type": "markdown",
   "metadata": {},
   "source": [
    "**Ejercicio 6:**\n",
    "\n",
    "Implemente la función `piezas_mal_puestas`, la cual recibe un estado `s` y una acción `a` y devuelve el valor de la heurística discutida anteriormente, aplicada sobre el estado resultado de aplicar `a` en el estado `s`.\n",
    "\n",
    "Escriba y verifique su código con la siguiente celda:"
   ]
  },
  {
   "cell_type": "code",
   "execution_count": 15,
   "metadata": {},
   "outputs": [],
   "source": [
    "def piezas_mal_puestas(self, estado, accion):\n",
    "    pass # Reemplazar por la implementación de la heurística\n",
    "\n",
    "setattr(Rompecabezas,\"costo\",piezas_mal_puestas)\n",
    "puz = Rompecabezas()\n",
    "objetivo = puz.objetivo\n",
    "a = puz.acciones_aplicables(objetivo)[1]\n",
    "s = puz.transicion(objetivo, a)\n",
    "a = puz.acciones_aplicables(s)[1]\n",
    "puz.costo(s, a)"
   ]
  },
  {
   "cell_type": "markdown",
   "metadata": {},
   "source": [
    "El output de la celda debe ser el valor 2."
   ]
  },
  {
   "cell_type": "markdown",
   "metadata": {},
   "source": [
    "---"
   ]
  },
  {
   "cell_type": "markdown",
   "metadata": {},
   "source": [
    "Otra heurística para el problema del rompecabezas es el siguiente. La distancia entre un estado y el objetivo se mide como la suma de las distancias entre cada pieza y su lugar objetivo. Esta última distancia se mide como la distancia del taxista, es decir, la suma de las distancias verticales y horizontales. Por ejemplo, suponga el siguiente estado:"
   ]
  },
  {
   "cell_type": "code",
   "execution_count": 17,
   "metadata": {},
   "outputs": [
    {
     "data": {
      "text/plain": [
       "<AxesSubplot:>"
      ]
     },
     "execution_count": 17,
     "metadata": {},
     "output_type": "execute_result"
    },
    {
     "data": {
      "image/png": "[encoded data removed]",
      "text/plain": [
       "<Figure size 432x288 with 1 Axes>"
      ]
     },
     "metadata": {
      "needs_background": "light"
     },
     "output_type": "display_data"
    }
   ],
   "source": [
    "objetivo = puz.objetivo\n",
    "a = puz.acciones_aplicables(objetivo)[0]\n",
    "s = puz.transicion(objetivo, a)\n",
    "a = puz.acciones_aplicables(s)[2]\n",
    "s = puz.transicion(s, a)\n",
    "a = puz.acciones_aplicables(s)[1]\n",
    "s = puz.transicion(s, a)\n",
    "a = puz.acciones_aplicables(s)[2]\n",
    "s = puz.transicion(s, a)\n",
    "puz.pintar_estado(s)"
   ]
  },
  {
   "cell_type": "markdown",
   "metadata": {},
   "source": [
    "Observe que el 1 está a una casilla de su lugar (una abajo), el cuatro está a una casilla de su lugar (una a la izquierda) y el 3 está a dos casillas de su lugar (una arriba y una a la izquierda. El valor de la heurística `manhattan` debe ser 1 + 1 + 2 = 4. "
   ]
  },
  {
   "cell_type": "markdown",
   "metadata": {},
   "source": [
    "**Ejercicio 7:**\n",
    "\n",
    "Implemente la función `manhattan`, la cual recibe un estado `s` y una acción `a` y devuelve el valor de la heurística discutida anteriormente, aplicada sobre el estado resultado de aplicar `a` en el estado `s`.\n",
    "\n",
    "Escriba y verifique su código con la siguiente celda:"
   ]
  },
  {
   "cell_type": "code",
   "execution_count": 18,
   "metadata": {},
   "outputs": [],
   "source": [
    "def manhattan(self, estado, accion):\n",
    "    pass\n",
    "\n",
    "setattr(Rompecabezas,\"costo\",manhattan)\n",
    "puz = Rompecabezas()\n",
    "objetivo = puz.objetivo\n",
    "a = puz.acciones_aplicables(objetivo)[0]\n",
    "s = puz.transicion(objetivo, a)\n",
    "a = puz.acciones_aplicables(s)[2]\n",
    "s = puz.transicion(s, a)\n",
    "a = puz.acciones_aplicables(s)[1]\n",
    "s = puz.transicion(s, a)\n",
    "a = puz.acciones_aplicables(s)[2]\n",
    "puz.costo(s, a)"
   ]
  },
  {
   "cell_type": "markdown",
   "metadata": {},
   "source": [
    "El output de la celda debe ser el valor 4."
   ]
  },
  {
   "cell_type": "markdown",
   "metadata": {},
   "source": [
    "---"
   ]
  },
  {
   "cell_type": "markdown",
   "metadata": {},
   "source": [
    "## Búsqueda avara <a class=\"anchor\" id=\"avara\"></a>\n",
    "\n",
    "\n",
    "\n",
    "Al ordenar los nodos explorados mediante una función heurística, lo que se busca es explorar primero aquel nodo que se acerque más al objetivo. Observe que la búsqueda mediante la heurística `piezas_mal_puestas` es mucho más rápida que la de costo uniforme que examinamos anteriormente. "
   ]
  },
  {
   "cell_type": "code",
   "execution_count": 20,
   "metadata": {
    "scrolled": true
   },
   "outputs": [
    {
     "name": "stdout",
     "output_type": "stream",
     "text": [
      "La solución encontrada es:  [((0, 1), (0, 0)), ((1, 1), (0, 1)), ((1, 0), (1, 1)), ((2, 0), (1, 0)), ((2, 1), (2, 0)), ((2, 2), (2, 1)), ((1, 2), (2, 2)), ((0, 2), (1, 2)), ((0, 1), (0, 2)), ((1, 1), (0, 1)), ((1, 0), (1, 1)), ((2, 0), (1, 0)), ((2, 1), (2, 0)), ((1, 1), (2, 1)), ((1, 0), (1, 1)), ((0, 0), (1, 0)), ((0, 1), (0, 0)), ((1, 1), (0, 1)), ((1, 0), (1, 1)), ((2, 0), (1, 0))]\n",
      "La cantidad de movimientos es:  20\n",
      "CPU times: user 4.34 s, sys: 13.1 ms, total: 4.35 s\n",
      "Wall time: 4.35 s\n"
     ]
    }
   ],
   "source": [
    "%%time\n",
    "puz = Rompecabezas()\n",
    "S = np.matrix([[0, 6, 1], [4, 8, 7], [5, 2, 3]])\n",
    "puz.estado_inicial = S\n",
    "l = best_first_search(puz, piezas_mal_puestas)\n",
    "if l is not None:\n",
    "    camino = solucion(l)\n",
    "    print(\"La solución encontrada es: \", camino)\n",
    "    print(\"La cantidad de movimientos es: \", len(camino))\n",
    "else:\n",
    "    print(\"No hay solución!\")"
   ]
  },
  {
   "cell_type": "markdown",
   "metadata": {},
   "source": [
    "Observe que, en mi computador, la búsqueda avara usando la heurística `piezas_mal_puestas` toma solo 5 segundos en converger a una solución, en contraste con los 33 segundos de la búsqueda de costo uniforme."
   ]
  },
  {
   "cell_type": "markdown",
   "metadata": {},
   "source": [
    "**Ejercicio 8:**\n",
    "\n",
    "Encuentre el tiempo que toma encontrar una solución mediante la búsqueda avara que usa la heurística `manhattan`. ¿Cuál es más rápida? ¿Por qué?"
   ]
  },
  {
   "cell_type": "markdown",
   "metadata": {},
   "source": [
    "---"
   ]
  },
  {
   "cell_type": "markdown",
   "metadata": {},
   "source": [
    "Observe que, en mi computador, la búsqueda avara usando la heurística `manhattan` toma menos de 2 segundos, lo cual la convierte en el método ganador para resolver el problema del rompecabezas de ocho piezas. \n",
    "\n",
    "Podemos verificar esta diferencia de tiempos mediante nuestro método empírico:"
   ]
  },
  {
   "cell_type": "code",
   "execution_count": 22,
   "metadata": {},
   "outputs": [],
   "source": [
    "from Tiempos import compara_funciones"
   ]
  },
  {
   "cell_type": "code",
   "execution_count": 24,
   "metadata": {},
   "outputs": [
    {
     "name": "stdout",
     "output_type": "stream",
     "text": [
      "                sum_sq    df             F        PR(>F)\n",
      "C(Función)  124.253415   1.0  48649.241525  1.651215e-86\n",
      "Residual      0.148136  58.0           NaN           NaN\n"
     ]
    },
    {
     "data": {
      "image/png": "[encoded data removed]",
      "text/plain": [
       "<Figure size 432x216 with 1 Axes>"
      ]
     },
     "metadata": {
      "needs_background": "light"
     },
     "output_type": "display_data"
    }
   ],
   "source": [
    "import warnings\n",
    "warnings.filterwarnings('ignore')\n",
    "\n",
    "funs = [lambda x: best_first_search(puz, piezas_mal_puestas),\n",
    "        lambda x: best_first_search(puz, manhattan)\n",
    "]\n",
    "nombres = ['piezas_mal_puestas', 'manhattan']\n",
    "prob = Rompecabezas()\n",
    "compara_funciones(funs=funs, arg=prob, nombres=nombres)"
   ]
  },
  {
   "cell_type": "markdown",
   "metadata": {},
   "source": [
    "La heurística `manhattan` es mejor porque estima más precisamente qué tan diferente es un estado del objetivo. Por ejemplo, si el 1 esta a tres fichas de distancia, `manhattan` devuelve el valor 3, mientras que si está a dos fichas de distancia, devuelve 2. En ambos casos `piezas_mal_puestas` devuelve el valor 1, sin importar que se necesiten más movimientos en la primera que en la segunda para poner el 1 en su lugar."
   ]
  },
  {
   "cell_type": "markdown",
   "metadata": {},
   "source": [
    "---"
   ]
  },
  {
   "cell_type": "markdown",
   "metadata": {},
   "source": [
    "## En este notebook usted aprendió\n",
    "\n",
    "* Cómo realizar una búsqueda mediante el método *uniform_cost*, el cual es un caso particular del método general *best_first*.\n",
    "* Implementar y comparar distintas heurísticas para resolver el problema del rompecabezas.\n",
    "* Comparar los tiempos y la optimalidad de las heurísticas."
   ]
  },
  {
   "cell_type": "markdown",
   "metadata": {},
   "source": [
    "---"
   ]
  }
 ],
 "metadata": {
  "colab": {
   "name": "arboles_busqueda.ipynb",
   "provenance": []
  },
  "kernelspec": {
   "display_name": "Python 3",
   "language": "python",
   "name": "python3"
  },
  "language_info": {
   "codemirror_mode": {
    "name": "ipython",
    "version": 3
   },
   "file_extension": ".py",
   "mimetype": "text/x-python",
   "name": "python",
   "nbconvert_exporter": "python",
   "pygments_lexer": "ipython3",
   "version": "3.9.7"
  }
 },
 "nbformat": 4,
 "nbformat_minor": 1
}

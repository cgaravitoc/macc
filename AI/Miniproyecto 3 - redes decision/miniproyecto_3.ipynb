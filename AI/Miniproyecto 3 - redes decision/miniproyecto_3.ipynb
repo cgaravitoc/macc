{
 "cells": [
  {
   "cell_type": "markdown",
   "metadata": {},
   "source": [
    "# **Redes de decisión y el mundo del Wumpus**\n",
    "\n",
    "Juan Sebastián Cortés, Carlos Garavito\n",
    "***"
   ]
  },
  {
   "cell_type": "markdown",
   "metadata": {},
   "source": [
    "## Descripción del problema"
   ]
  },
  {
   "cell_type": "markdown",
   "metadata": {},
   "source": [
    "En este proyecto se modifique la función `crear_red_decision`, implementada en el notebook `Redes de decisión` visto en clase, para incluir las variables de hedor y Wumpus, tal que el héroe sea capaz de encontrar el oro y salir del laberinto sin caer en un pozo y sin ser devorado por el Wumpus."
   ]
  },
  {
   "cell_type": "markdown",
   "metadata": {},
   "source": [
    "## Modificación de la función"
   ]
  },
  {
   "cell_type": "markdown",
   "metadata": {},
   "source": [
    "La estrategia para modificar la función es: \n",
    "\n",
    "1. Crear variables de Wumpus y hedor\n",
    "2. Crear las aristas del grafo para Wumpus y hedor\n",
    "3. Crear las tablas de probabilidad para el Wumpus y sus casillas adyacentes, \n",
    "4. Crear la función utilidad\n",
    "\n",
    "A continuación, se muestran las funiciones en `python` implementadas que realizan cada uno de los puntos anteriors. Luego de la explicación, se muestra la función `crear_red_decision` con las correcciones aplicadas. "
   ]
  },
  {
   "cell_type": "markdown",
   "metadata": {},
   "source": [
    "\n",
    "### 1. Crear variables de Wumpus y hedor"
   ]
  },
  {
   "cell_type": "markdown",
   "metadata": {},
   "source": [
    "Dentro de la función `crear_red_decision` se incluyen los siguientes ciclos `for` que crear las variables para las casillas adyacentes, dada una casilla:"
   ]
  },
  {
   "cell_type": "code",
   "execution_count": null,
   "metadata": {},
   "outputs": [],
   "source": [
    "# no correr, solo explicativo\n",
    "\n",
    "# Creando variables de wumpus\n",
    "for c in casillas_adyacentes3:\n",
    "    wumpus_i = gum.LabelizedVariable('wumpus'+str(c),'wumpus'+str(c),2)\n",
    "    model.addChanceNode(wumpus_i)\n",
    "\n",
    "# Creando variables de hedor\n",
    "for c1 in casillas_adyacentes2:\n",
    "    hedor_i = gum.LabelizedVariable('hedor'+str(c1),'hedor'+str(c1),2)\n",
    "    model.addChanceNode(hedor_i)"
   ]
  },
  {
   "cell_type": "markdown",
   "metadata": {},
   "source": [
    "\n",
    "### 2. Crear las aristas del grafo para Wumpus y hedor\n"
   ]
  },
  {
   "cell_type": "markdown",
   "metadata": {},
   "source": [
    "De igual manera, dentro de la función `crear_red_decision` se incluyen los siguientes ciclos `for` que crear las aristas del grafos, dada una casilla:"
   ]
  },
  {
   "cell_type": "code",
   "execution_count": null,
   "metadata": {},
   "outputs": [],
   "source": [
    "# no correr, solo explicativo\n",
    "\n",
    "for c in casillas_adyacentes3:\n",
    "    for c1 in adyacentes(c):\n",
    "        if c1 in casillas_adyacentes2:\n",
    "            model.addArc('wumpus'+str(c), 'hedor'+str(c1))\n",
    "for c in casillas:\n",
    "    model.addArc('wumpus'+str(c), 'UtilityOfCasilla')"
   ]
  },
  {
   "cell_type": "markdown",
   "metadata": {},
   "source": [
    "### 3. Crear las tablas de probabilidad para el Wumpus y sus casillas adyacentes, \n"
   ]
  },
  {
   "cell_type": "markdown",
   "metadata": {},
   "source": [
    "Se incluyen también ciclos que permiten la creación de las tablas de probabilidad. "
   ]
  },
  {
   "cell_type": "code",
   "execution_count": null,
   "metadata": {},
   "outputs": [],
   "source": [
    "# no correr, solo explicativo\n",
    "\n",
    "wumpuss = ['wumpus'+str(c) for c in casillas_adyacentes3]\n",
    "for wumpus in wumpuss:\n",
    "    model.cpt(wumpus)[:]=[0.66,0.33]\n",
    "\n",
    "for c in casillas_adyacentes2:\n",
    "    hedor = 'hedor' + str(c)\n",
    "    wumpus_hedor = ['wumpus'+str(c1) for c1 in adyacentes(c)]\n",
    "    opciones = list(product(*[[0,1] for p in wumpus_hedor]))\n",
    "    dicts_variables = [{wumpus_hedor[i]:op[i] for i in range(len(wumpus_hedor))} for op in opciones]\n",
    "    for d in dicts_variables:\n",
    "        model.cpt(hedor)[d] = wumpus_a_hedor(d)"
   ]
  },
  {
   "cell_type": "markdown",
   "metadata": {},
   "source": [
    "### 4. Crear la función utilidad"
   ]
  },
  {
   "cell_type": "markdown",
   "metadata": {},
   "source": [
    "Finalmente, la función de utilidad modificada que tiene en cuenta la presencia del Wumpus en el laberinto resulta como:\n",
    "\n",
    "$$\n",
    "U(\\text{casilla}(x,y)) = \\begin{cases}\n",
    "1, & \\text{si }Oro(x,y), \\land \\neg Wumpus(x,y) \\neg Pozo(x,y) \\\\\n",
    "0, & \\text{si }\\neg Pozo(x,y) \\land \\neg Wumpus(x,y) \\\\\n",
    "-1, & \\text {si } Pozo(x,y) \\lor Wumpus(x,y)\n",
    "\\end{cases}\n",
    "$$\n",
    "\n",
    "Su implementación es:"
   ]
  },
  {
   "cell_type": "code",
   "execution_count": null,
   "metadata": {},
   "outputs": [],
   "source": [
    "# no correr, solo explicativo\n",
    "\n",
    "def utilidad(d):\n",
    "    C = d['Casilla']\n",
    "    if (d['wumpus'+str(C)] == 0) and (d['oro'] == C ) and (d['pozo'+str(C)] == 0):\n",
    "        return 1\n",
    "    elif (d['pozo'+str(C)] == 0) and (d['wumpus'+str(C)] == 0) :\n",
    "        return 0\n",
    "    else:\n",
    "        return -1"
   ]
  },
  {
   "cell_type": "markdown",
   "metadata": {},
   "source": [
    "### Función resultante `crear_red_decision`"
   ]
  },
  {
   "cell_type": "code",
   "execution_count": 1,
   "metadata": {},
   "outputs": [],
   "source": [
    "import matplotlib.pyplot as plt\n",
    "import numpy as np\n",
    "from itertools import product\n",
    "from entornos import *\n",
    "from agentes import *\n",
    "from busqueda import *\n",
    "import pyAgrum as gum\n",
    "import pyAgrum.lib.notebook as gnb\n",
    "gum.config['notebook','potential_visible_digits']=2\n",
    "import warnings\n",
    "warnings.filterwarnings('ignore')\n",
    "\n",
    "%matplotlib inline"
   ]
  },
  {
   "cell_type": "code",
   "execution_count": 6,
   "metadata": {},
   "outputs": [],
   "source": [
    "# correr para ver resultados\n",
    "\n",
    "W = Wumpus()\n",
    "def adyacentes(c):\n",
    "    return W.adyacentes(c)\n",
    "\n",
    "def crear_red_decision(cas):   \n",
    "    \n",
    "    model = gum.InfluenceDiagram()\n",
    "    \n",
    "    todas_casillas = [(x,y) for x in range(4) for y in range(4)]\n",
    "    total_casillas = len(todas_casillas)\n",
    "    casillas = adyacentes(cas)\n",
    "    num_casillas = len(casillas)\n",
    "    aux = [adyacentes(c) for c in casillas]\n",
    "    aux = [item for sublist in aux for item in sublist]\n",
    "    casillas_adyacentes2 = list(set(aux))\n",
    "    aux = [adyacentes(c) for c in casillas_adyacentes2]\n",
    "    aux = [item for sublist in aux for item in sublist]\n",
    "    casillas_adyacentes3 = list(set(aux))\n",
    "\n",
    "    # Creando variables del oro y brillo\n",
    "    oro = gum.LabelizedVariable('oro','oro',total_casillas)\n",
    "    for i, c in enumerate(todas_casillas):\n",
    "        oro.changeLabel(i,str(c))\n",
    "        brillo_i = gum.LabelizedVariable('brillo'+str(c),'brillo'+str(c),2)\n",
    "        model.addChanceNode(brillo_i)\n",
    "    model.addChanceNode(oro)\n",
    "\n",
    "    # Creando variables de pozo\n",
    "    for c in casillas_adyacentes3:\n",
    "        pozo_i = gum.LabelizedVariable('pozo'+str(c),'pozo'+str(c),2)\n",
    "        model.addChanceNode(pozo_i)\n",
    "\n",
    "    # Creando variables de brisa\n",
    "    for c1 in casillas_adyacentes2:\n",
    "        brisa_i = gum.LabelizedVariable('brisa'+str(c1),'brisa'+str(c1),2)\n",
    "        model.addChanceNode(brisa_i)\n",
    "\n",
    "    # Creando variables de wumpus\n",
    "    for c in casillas_adyacentes3:\n",
    "        wumpus_i = gum.LabelizedVariable('wumpus'+str(c),'wumpus'+str(c),2)\n",
    "        model.addChanceNode(wumpus_i)\n",
    "\n",
    "    # Creando variables de hedor\n",
    "    for c1 in casillas_adyacentes2:\n",
    "        hedor_i = gum.LabelizedVariable('hedor'+str(c1),'hedor'+str(c1),2)\n",
    "        model.addChanceNode(hedor_i)\n",
    "\n",
    "    # Creando variables de casilla\n",
    "    casilla = gum.LabelizedVariable('Casilla','Casilla a moverse',num_casillas)\n",
    "    for i, c in enumerate(casillas):\n",
    "        casilla.changeLabel(i,str(c))\n",
    "    model.addDecisionNode(casilla)\n",
    "\n",
    "    # Creando variable de utilidad\n",
    "    ut_casilla = gum.LabelizedVariable('UtilityOfCasilla','Valor casilla',1)\n",
    "    model.addUtilityNode(ut_casilla)\n",
    "\n",
    "    # Creando aristas del grafo\n",
    "    for c in todas_casillas:\n",
    "        model.addArc('oro', 'brillo'+str(c))\n",
    "    for c in casillas_adyacentes3:\n",
    "        for c1 in adyacentes(c):\n",
    "            if c1 in casillas_adyacentes2:\n",
    "                model.addArc('pozo'+str(c), 'brisa'+str(c1))\n",
    "    for c in casillas:\n",
    "        model.addArc('pozo'+str(c), 'UtilityOfCasilla')\n",
    "    \n",
    "    for c in casillas_adyacentes3:\n",
    "        for c1 in adyacentes(c):\n",
    "            if c1 in casillas_adyacentes2:\n",
    "                model.addArc('wumpus'+str(c), 'hedor'+str(c1))\n",
    "    for c in casillas:\n",
    "        model.addArc('wumpus'+str(c), 'UtilityOfCasilla')\n",
    "\n",
    "    model.addArc('oro', 'UtilityOfCasilla')\n",
    "    model.addArc('Casilla', 'UtilityOfCasilla')\n",
    "    \n",
    "    # Creando tablas de probabilidad\n",
    "    model.cpt('oro').fillWith([1/total_casillas]*total_casillas)\n",
    "    for c in todas_casillas:\n",
    "        brillo = 'brillo' + str(c)\n",
    "        for c1 in todas_casillas:\n",
    "            model.cpt(brillo)[{'oro': str(c1)}] = oro_a_brillo(c,c1)\n",
    "    \n",
    "    pozos = ['pozo'+str(c) for c in casillas_adyacentes3]\n",
    "    for pozo in pozos:\n",
    "        model.cpt(pozo)[:]=[0.8,0.2]\n",
    "\n",
    "    for c in casillas_adyacentes2:\n",
    "        brisa = 'brisa' + str(c)\n",
    "        pozos_brisa = ['pozo'+str(c1) for c1 in adyacentes(c)]\n",
    "        opciones = list(product(*[[0,1] for p in pozos_brisa]))\n",
    "        dicts_variables = [{pozos_brisa[i]:op[i] for i in range(len(pozos_brisa))} for op in opciones]\n",
    "        for d in dicts_variables:\n",
    "            model.cpt(brisa)[d] = pozos_a_brisa(d)\n",
    "\n",
    "    wumpuss = ['wumpus'+str(c) for c in casillas_adyacentes3]\n",
    "    for wumpus in wumpuss:\n",
    "        model.cpt(wumpus)[:]=[0.94,0.06]\n",
    "\n",
    "    for c in casillas_adyacentes2:\n",
    "        hedor = 'hedor' + str(c)\n",
    "        wumpus_hedor = ['wumpus'+str(c1) for c1 in adyacentes(c)]\n",
    "        opciones = list(product(*[[0,1] for p in wumpus_hedor]))\n",
    "        dicts_variables = [{wumpus_hedor[i]:op[i] for i in range(len(wumpus_hedor))} for op in opciones]\n",
    "        for d in dicts_variables:\n",
    "            model.cpt(hedor)[d] = wumpus_a_hedor(d)\n",
    "\n",
    "    for c in casillas_adyacentes2:\n",
    "        brisa = 'brisa' + str(c)\n",
    "        pozos_brisa = ['pozo'+str(c1) for c1 in adyacentes(c)]\n",
    "        opciones = list(product(*[[0,1] for p in pozos_brisa]))\n",
    "        dicts_variables = [{pozos_brisa[i]:op[i] for i in range(len(pozos_brisa))} for op in opciones]\n",
    "        for d in dicts_variables:\n",
    "            model.cpt(brisa)[d] = pozos_a_brisa(d)\n",
    "        \n",
    "    # Creando la utilidad\n",
    "    wumpuss = ['wumpus'+str(c) for c in casillas]\n",
    "    pozos = ['pozo'+str(c) for c in casillas]\n",
    "    casillas = [str(c) for c in adyacentes(cas)]\n",
    "    todas_casillas = [str(c) for c in todas_casillas]\n",
    "    variables = ['Casilla','oro'] + pozos + wumpuss\n",
    "    #print(\"variables: \", variables)\n",
    "    opciones = list(product(casillas, todas_casillas, *[[0,1] for i in pozos], *[[0,1] for i in wumpuss]))\n",
    "    #print(\"opciones 1: \", opciones)\n",
    "    dicts_variables = [{variables[i]:op[i] for i in range(len(variables))} for op in opciones]\n",
    "    #print(\"dicts_variables: \", dicts_variables)\n",
    "    for d in dicts_variables:\n",
    "        model.utility('UtilityOfCasilla')[d]=utilidad(d)\n",
    "\n",
    "    return model\n",
    "\n",
    "def pozos_a_brisa(d):\n",
    "    if 1 not in d.values():\n",
    "        return [1,0]\n",
    "    else:\n",
    "        return [0,1]\n",
    "\n",
    "def wumpus_a_hedor(d):\n",
    "    if 1 not in d.values():\n",
    "        return [1,0]\n",
    "    else:\n",
    "        return [0,1]\n",
    "\n",
    "def oro_a_brillo(c1,c2):\n",
    "    if c1 == c2:\n",
    "        return [0,1]\n",
    "    else:\n",
    "        return [1,0]\n",
    "    \n",
    "def utilidad(d):\n",
    "    C = d['Casilla']\n",
    "    if (d['wumpus'+str(C)] == 0) and (d['oro'] == C ) and (d['pozo'+str(C)] == 0):\n",
    "        return 1\n",
    "    elif (d['pozo'+str(C)] == 0) and (d['wumpus'+str(C)] == 0) :\n",
    "        return 0\n",
    "    else:\n",
    "        return -1"
   ]
  },
  {
   "cell_type": "markdown",
   "metadata": {},
   "source": [
    "## Resultados"
   ]
  },
  {
   "cell_type": "markdown",
   "metadata": {},
   "source": [
    "Recuperando la función `tomar_decision`, `maximo_aleatorio` y el programa del agente en `programa_utility_based`: "
   ]
  },
  {
   "cell_type": "code",
   "execution_count": 7,
   "metadata": {},
   "outputs": [],
   "source": [
    "def tomar_decision(casilla, evs, tabla=False, imagen=False):\n",
    "    # Creamos la red de decision para la casilla dada\n",
    "    model = crear_red_decision(casilla)\n",
    "    # Guardamos solo la evidencia que cae en las variables de la red de decisión\n",
    "    evid = {v:evs[v] for v in evs.keys() if v in model.names()}\n",
    "    # Hacemos la inferencia\n",
    "    ie = gum.InfluenceDiagramInference(model)\n",
    "    ie.setEvidence(evid)\n",
    "    ie.makeInference()\n",
    "    casillas = [c for c in adyacentes(casilla)]\n",
    "    valores = ie.posteriorUtility(\"Casilla\")\n",
    "    if tabla:\n",
    "        print(valores)\n",
    "    # Escogemos la acción con mayor utilidad esperada\n",
    "    decision = maximo_aleatorio(valores.tolist())\n",
    "    if tabla:\n",
    "        print('Decisión ->', casillas[decision])\n",
    "    if imagen:\n",
    "        gnb.showInference(model,evs=evid,targets={},size=\"30\")\n",
    "    return casillas[decision]\n",
    "\n",
    "\n",
    "def maximo_aleatorio(valores):\n",
    "    indices = [i for i, x in enumerate(valores) if x == max(valores)]\n",
    "    return np.random.choice(indices)\n",
    "    \n",
    "\n",
    "def programa_utility_based(self, DEB=False):\n",
    "       \n",
    "    # Encuentra la casilla actual\n",
    "    casilla_actual = self.loc\n",
    "#    print('agente en:', casilla_actual, self.oro)\n",
    "    direccion = self.direccion\n",
    "    percepcion = self.perceptos\n",
    "    casillas_seguras = self.seguras\n",
    "    evidencia = self.evidencia\n",
    "    oro = self.oro\n",
    "    \n",
    "    # Si tiene el oro y está en la casilla de salida, salir\n",
    "    if oro and (casilla_actual == (0,0)):\n",
    "        self.acciones = ['salir']\n",
    "    # Si ve el oro, lo toma y planea un camino hasta la salida\n",
    "    if 'brillo' in percepcion:\n",
    "#        print(\"¡Veo el oro!\")\n",
    "        self.oro = True\n",
    "        self.acciones = ['agarrar']\n",
    "        R = Rejilla(casilla_actual, (0,0), casillas_seguras)\n",
    "        camino = best_first_search(R)\n",
    "        camino = [casilla_actual] + solucion(camino)\n",
    "        acs = acciones_camino(camino, direccion)\n",
    "        if DEB:\n",
    "            print(f'desde {casilla_actual} hasta {casilla_ir}')\n",
    "            print(f'sigue el camino {acs}')\n",
    "        self.acciones += acs\n",
    "    else:\n",
    "        # Escoje la casilla de mayor utilidad\n",
    "        casilla_ir = tomar_decision(casilla_actual, evidencia, tabla=DEB)\n",
    "        camino = [casilla_actual, casilla_ir]\n",
    "        acs = acciones_camino(camino, direccion)\n",
    "        if DEB:\n",
    "            print(f'desde {casilla_actual} hasta {casilla_ir}')\n",
    "            print(f'sigue el camino {acs}')\n",
    "        self.acciones += acs\n",
    "\n",
    "setattr(Agente, \"programa\", programa_utility_based)\n"
   ]
  },
  {
   "cell_type": "markdown",
   "metadata": {},
   "source": [
    "### Cargando el escenario de prueba y evaluando la corrección implementada"
   ]
  },
  {
   "cell_type": "markdown",
   "metadata": {},
   "source": [
    "Es necesario mencionar, que se debe inicializar el problema dando la evidencia del pozo y el wumpus en la posición inicial: esto es, inicializar la variable evidencia como: \n",
    "\n",
    "```\n",
    "evidencia = {'pozo(0, 0)':0, 'wumpus(0, 0)':0}. \n",
    "```\n",
    "\n",
    "Además, también es necesario modificar la ejecución del programa, tal que se incluya la evidencia de las nuevas variables en cada iteración. Esto es, incluir dentro del ciclo `for` de ejecución los condicionales: \n",
    "\n",
    "```\n",
    "if 'hedor' in agente.perceptos:                         \n",
    "    agente.evidencia['hedor'+str(casilla_actual)] = 1  \n",
    "else:                                                   \n",
    "    agente.evidencia['hedor'+str(casilla_actual)] = 0\n",
    "```\n"
   ]
  },
  {
   "cell_type": "code",
   "execution_count": 8,
   "metadata": {},
   "outputs": [
    {
     "name": "stdout",
     "output_type": "stream",
     "text": [
      "Juego terminado!\n",
      " Puntaje: 956\n"
     ]
    },
    {
     "data": {
      "image/svg+xml": "<?xml version=\"1.0\" encoding=\"utf-8\" standalone=\"no\"?>\n<!DOCTYPE svg PUBLIC \"-//W3C//DTD SVG 1.1//EN\"\n  \"http://www.w3.org/Graphics/SVG/1.1/DTD/svg11.dtd\">\n<svg xmlns:xlink=\"http://www.w3.org/1999/xlink\" width=\"460.8pt\" height=\"449.28pt\" viewBox=\"0 0 460.8 449.28\" xmlns=\"http://www.w3.org/2000/svg\" version=\"1.1\">\n <metadata>\n  <rdf:RDF xmlns:dc=\"http://purl.org/dc/elements/1.1/\" xmlns:cc=\"http://creativecommons.org/ns#\" xmlns:rdf=\"http://www.w3.org/1999/02/22-rdf-syntax-ns#\">\n   <cc:Work>\n    <dc:type rdf:resource=\"http://purl.org/dc/dcmitype/StillImage\"/>\n    <dc:date>2022-06-27T20:41:51.809734</dc:date>\n    <dc:format>image/svg+xml</dc:format>\n    <dc:creator>\n     <cc:Agent>\n      <dc:title>Matplotlib v3.5.2, https://matplotlib.org/</dc:title>\n     </cc:Agent>\n    </dc:creator>\n   </cc:Work>\n  </rdf:RDF>\n </metadata>\n <defs>\n  <style type=\"text/css\">*{stroke-linejoin: round; stroke-linecap: butt}</style>\n </defs>\n <g id=\"figure_1\">\n  <g id=\"patch_1\">\n   <path d=\"M 0 449.28 \nL 460.8 449.28 \nL 460.8 0 \nL 0 0 \nL 0 449.28 \nz\n\" style=\"fill: none\"/>\n  </g>\n  <g id=\"axes_1\">\n   <g id=\"patch_2\">\n    <path d=\"M 7.2 442.08 \nL 452.7072 442.08 \nL 452.7072 8.06976 \nL 7.2 8.06976 \nz\n\" clip-path=\"url(#p471d811da9)\" style=\"fill: #fff8dc; stroke: #000000; stroke-width: 2; stroke-linejoin: miter\"/>\n   </g>\n   <g id=\"patch_3\">\n    <path d=\"M 7.2 442.08 \nL 453.6 442.08 \nL 453.6 438.60096 \nL 7.2 438.60096 \nz\n\" clip-path=\"url(#p471d811da9)\"/>\n   </g>\n   <g id=\"patch_4\">\n    <path d=\"M 7.2 442.08 \nL 10.7712 442.08 \nL 10.7712 7.2 \nL 7.2 7.2 \nz\n\" clip-path=\"url(#p471d811da9)\"/>\n   </g>\n   <g id=\"patch_5\">\n    <path d=\"M 7.2 333.36 \nL 453.6 333.36 \nL 453.6 329.88096 \nL 7.2 329.88096 \nz\n\" clip-path=\"url(#p471d811da9)\"/>\n   </g>\n   <g id=\"patch_6\">\n    <path d=\"M 118.8 442.08 \nL 122.3712 442.08 \nL 122.3712 7.2 \nL 118.8 7.2 \nz\n\" clip-path=\"url(#p471d811da9)\"/>\n   </g>\n   <g id=\"patch_7\">\n    <path d=\"M 7.2 224.64 \nL 453.6 224.64 \nL 453.6 221.16096 \nL 7.2 221.16096 \nz\n\" clip-path=\"url(#p471d811da9)\"/>\n   </g>\n   <g id=\"patch_8\">\n    <path d=\"M 230.4 442.08 \nL 233.9712 442.08 \nL 233.9712 7.2 \nL 230.4 7.2 \nz\n\" clip-path=\"url(#p471d811da9)\"/>\n   </g>\n   <g id=\"patch_9\">\n    <path d=\"M 7.2 115.92 \nL 453.6 115.92 \nL 453.6 112.44096 \nL 7.2 112.44096 \nz\n\" clip-path=\"url(#p471d811da9)\"/>\n   </g>\n   <g id=\"patch_10\">\n    <path d=\"M 342 442.08 \nL 345.5712 442.08 \nL 345.5712 7.2 \nL 342 7.2 \nz\n\" clip-path=\"url(#p471d811da9)\"/>\n   </g>\n   <image xlink:href=\"data:image/png;base64,\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\" id=\"image077d0caeb8\" transform=\"scale(1 -1)translate(0 -58)\" x=\"257.5\" y=\"-358.595\" width=\"58\" height=\"58\"/>\n   <image xlink:href=\"data:image/png;base64,\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\" id=\"image18b18d769f\" transform=\"scale(1 -1)translate(0 -58)\" x=\"369.1\" y=\"-141.155\" width=\"58\" height=\"58\"/>\n   <image xlink:href=\"data:image/png;base64,\niVBORw0KGgoAAAANSUhEUgAAAD4AAAAZCAYAAABpaJ3KAAAIvElEQVR4nO2Xe1ST5x3Hf29C8kK0QTOueZMghEsIAQQxgOUmimJVdHSeApZLKEQyrlYuIs42OusO6GAe5GbFKUe7gdycdlpQYOIpaIGi4pBOoFEBZSPE0AgCefZHB0UgAbduO2fz+9/7/D7P7/n+nvd9Li/AG73RG/3fycbGxojJZBrY29tj/20vryszMzNdgiAMeDyeVo40X+O+9HQSCcOeKZ8/V2/csAHJZDLz+Tgcx7FfHjp0nGdjg6ytrFBSYuIQjuMAAJCfn5+6ytlZDQBAoVBIrkLhJM/GBmVlZhbjOA4kEgkkMTGyqVzh4eE/q6ysNAYA2LZt22O+rS06sH//n3R0dDAzMzNyYkJC5xTrt359ikQiMZjPk0gkysAAnr1QqdDGjRvVurq6OIa9xvvDMAweP35MKSsr6zHjcJC1tfXobCY6KkqdmpKCBgcHKRiGweniYtX7O3eqAQDc3d1RV1eXBMMw4FpYTA4MDOzDMAzy8vLaP/roIzmJRCIHBwWhqVwBW7c+Ly0trZPExNyrrq4exDAMUlNTR7OzszuYTCY/IjxcPcU6OjggsVicps37xMQE9XeffaZimpoiRwcHdVRU1OKLn5JUKuVs2xaA0vfuPTGz/d3AwPt0Op069dzf32/htHIlAgBwc3NDRkZGgAFg1lZWqK21lb1z587pviQM05lVOCotLb3BYbORWq2mAADo6+tjy5YtozOZTJeI8PBp9h+Fpy/Gu0ql0rHl8VBZWdk3M9t1tHWqqqpi9/b2XDrz2zMOOI6rh4cVe2fGyysq+AAAubm53k+ePDnh5elpl5iYWDr28iWUlZXBs2fPAMMwNDo6Ct09PbLAwEDw9PSEk0VFk21tbbojIyNgYWEB3d3dUymv4jjuMTk5aQ8ArQqFAgHAcxqNRh4eHn7VHEL3tXm/ePGiRWdnZ8kqZ+c1tnz+cHx8PH9mfM4aZzAYpKKiogzh6tXquNhYWW1NrWFQcHBYU3MzuaGhQTmTLSoqetuSy0UlJSV1VArl3jubN78dFx//HgCwAADkcrkbQgiMjY0nBAJBTHNzMy6Xy4feCwrqAgBobW2F7du3++/evdtAJpOBiYnJb34aGPiiuLi4JTU1VScnO/vPGRkZ02xcXBxbLpf7fKdSAV1f/8ps77GxsfqFBQXZq11c0M8lkoc3GxudnJydQysqKpYPDAyMzztD1tbWcOzYsU84bDZyd3ObqK2tuXLjxo15N78pxcXF9Z369NOBqWc+n08mCGL5Qan0KYfNRt5eXtPrcq2Pz31nJycUs2tXGwAAiUQip6Sk9Ads3TrkaG8/KIqI+D0AAIVCgS1btrTY8fmj63x9O0UikR6TyVwdEhyM1ri7Iwd7++/2fPhhxmwvSUlJbWwWC/muXTt64cKFksrKSm3Wf1B+Xl6jk9NK9OjRI8vF9QDIyckpz9i3b4ROp2N0Op30QWSkOjc3t+bw4cPg5uaGOjo6fpTjkMlkOs7c3Gbrk8OH5d5eXujbb3tXLjbn9BtVKBTwQvUCyGRy0mI7JyUlvTs+MfHVW0uXqpcuWTJpZGyMzp4965eRkQFNTU2YnZ0dWjjLIoRQP0JoRFN4aGhomVwuh+XLGTavnZtGo8G1a9e8OWw2IphMZMnlIlehUCn9+OMTUqn0X/L9n1BJSclBFkF8792Sq3YVChVSqfQYhUJZfBKhUEiysrJyuF5bmxASEqJmEQRKS02t/vfZfj2FhoYaBgYGHpov5urqqhsREeFUU1OTtmPHDsQiCFRVVXXgnxrozp07h6wsLbV+tufOnTsYs2tXo4mJCa6NCwgIQO9s2qTQxmRmZrbsTUs7Y2Mz/5dbWlpq7+nhMREZGfnVQt7r6+tHnZyc5njXumv7+PiQPr98+VRwUNB+d3f3G9pYBoNxoPPBgzUSiSRHG6enp2ekVCrpleXlFzUxAoFg9fXr18NiY2PnXWNZWVkdISEhDQ86Ow015fDz86NWV1ffihSJ8JCQ4C+1eXpFly5dWsFmsZDAzm6sorw8QhuLYRjo0+nLvDw9J6VS6ZyjZkonT56kZ2VlfcMiCHVLS4uuJk6pVK5f5eyMco8fPziz3djYGE6fPp1vZWmJLLnc8WOZmdz5+peVlb3PYbORwM5uvKGhYd0Cpf4gKpVKYpqaooGBvl8vxLq4uCxxcHBATFNTtC89vUUTt37duhGmqSna5O8/1tXVNe8xJ5fLjfi2tohpaopycrJvz4zRaDSw5HLVrkIh6u+XBWoaJzk5mcVmsdDTp08LFvI+RziOYyyCQIWF+X/w9/fXyIWGhhqzCAJ98cVVpa6ursZlIxaLVdHRUUgikehpYtra2j5gEQRqbm6S0Wi0ORNDpVKXMk1NEUEw39Lm/ejRo2TzFStQfn6eUqlUUjVx85odGxtDunp6JgX5hRvv3b2LbHk85Lt27UB4WNjX8fHx0ztOX1+frb6+PlAoVMbo6KjGC4aBgQGpt6cXRCLRTzQxDx8+NDY0NASEwFylUs3ZjHAcH+FyuYhFsBQFBQW3Ghoa5v3hTk5OnnRzd+cUFhYtteXxxgR2dmiDn1+/JCamPS0tTTDFLXizio6Opshksg2SmBhB+507Nj3d3X89d/586vj491dfsVj8x9qaGn9vb+8JHx+fkqbm5s9tbW0vJiQkvJzKIRaL4YVK1VtfX2/GYDDA3t5e4eDoeLmxsbG6rq6uVKlUAp/PB4FAUNfW2uqzztf3bx5enhXNTc1XraytryYkJExfXoqKiuKuXLnyq9u3bi3BMAzIZDIQBPGkta2NPXvCIiIiaMnJyWH37t7l3evosBgcHGwvLCz8xaIKX4yysrKMRpTKk7dv3/aTyWR6crkcOBzOxJdNTa/cHsLDw6meHh4Zz5VKl+amJk5fX59JeFjYqSixePqv78iRI/rDcvmZr9vbNz+SyXQUCgWYm5v/pfHmTavZ454/f56sVCqdR0ZGGHv27Ln6Y9TyRv+r+jttYHVmOoc8vwAAAABJRU5ErkJggg==\" id=\"image3367418404\" transform=\"scale(1 -1)translate(0 -25)\" x=\"143.8\" y=\"-190.321\" width=\"62\" height=\"25\"/>\n   <image xlink:href=\"data:image/png;base64,\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\" id=\"image00de765b84\" transform=\"scale(1 -1)translate(0 -25)\" x=\"32.2\" y=\"-299.041\" width=\"62\" height=\"25\"/>\n   <image xlink:href=\"data:image/png;base64,\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\" id=\"image47e6248257\" transform=\"scale(1 -1)translate(0 -25)\" x=\"32.2\" y=\"-81.601\" width=\"62\" height=\"25\"/>\n   <image xlink:href=\"data:image/png;base64,\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\" id=\"image90c74283af\" transform=\"scale(1 -1)translate(0 -27)\" x=\"138.9\" y=\"-341.579\" width=\"72\" height=\"27\"/>\n   <image xlink:href=\"data:image/png;base64,\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\" id=\"image58d4b45c37\" transform=\"scale(1 -1)translate(0 -27)\" x=\"362.1\" y=\"-341.579\" width=\"72\" height=\"27\"/>\n   <image xlink:href=\"data:image/png;base64,\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\" id=\"image04f0f3de9d\" transform=\"scale(1 -1)translate(0 -27)\" x=\"250.5\" y=\"-232.859\" width=\"72\" height=\"27\"/>\n   <image xlink:href=\"data:image/png;base64,\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\" id=\"imagef43181079e\" transform=\"scale(1 -1)translate(0 -27)\" x=\"250.5\" y=\"-124.139\" width=\"72\" height=\"27\"/>\n   <image xlink:href=\"data:image/png;base64,\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\" id=\"image5c2908ae27\" transform=\"scale(1 -1)translate(0 -27)\" x=\"362.1\" y=\"-232.859\" width=\"72\" height=\"27\"/>\n   <image xlink:href=\"data:image/png;base64,\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\" id=\"image076851a593\" transform=\"scale(1 -1)translate(0 -27)\" x=\"362.1\" y=\"-15.419\" width=\"72\" height=\"27\"/>\n   <image xlink:href=\"data:image/png;base64,\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\" id=\"imagea4d552a980\" transform=\"scale(1 -1)translate(0 -76)\" x=\"24.975\" y=\"-131.855\" width=\"77\" height=\"76\"/>\n   <image xlink:href=\"data:image/png;base64,\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\" id=\"image4cebe6c86d\" transform=\"scale(1 -1)translate(0 -49)\" x=\"48.3\" y=\"-362.87\" width=\"30\" height=\"49\"/>\n  </g>\n </g>\n <defs>\n  <clipPath id=\"p471d811da9\">\n   <rect x=\"7.2\" y=\"7.2\" width=\"446.4\" height=\"434.88\"/>\n  </clipPath>\n </defs>\n</svg>\n",
      "text/plain": [
       "<Figure size 576x576 with 1 Axes>"
      ]
     },
     "metadata": {
      "needs_background": "light"
     },
     "output_type": "display_data"
    }
   ],
   "source": [
    "from time import sleep\n",
    "from IPython.display import clear_output\n",
    "\n",
    "W = Wumpus(wumpus=(0,2), oro=(3,3), pozos=[(2,0), (3,2)])\n",
    "agente = Agente()\n",
    "evidencia = {'pozo(0, 0)':0, 'wumpus(0, 0)':0} # modificado\n",
    "casillas_seguras = []\n",
    "setattr(Agente, \"evidencia\", evidencia)\n",
    "setattr(Agente, \"seguras\", casillas_seguras)\n",
    "formulas = agente.fluentes_mapa_mental()\n",
    "formulas += [f'en(0,0)_1', 'mirando_e_1', 'segura(0,0)']\n",
    "agente.base = LPQuery(formulas)\n",
    "agente.perceptos = W.para_sentidos()\n",
    "c = agente.interp_percepto(mundo='wumpus')\n",
    "agente.base.TELL(c)\n",
    "max_turnos = 50\n",
    "W.pintar_todo()\n",
    "plt.show()\n",
    "\n",
    "for t in range(max_turnos):\n",
    "    turnos_disp = max_turnos - t\n",
    "    print(\"turnos disponibles\", turnos_disp)\n",
    "#    vis(agente)\n",
    "    casilla_actual = agente.loc\n",
    "    if casilla_actual not in casillas_seguras:\n",
    "        casillas_seguras.append(agente.loc)\n",
    "    agente.perceptos = W.para_sentidos()\n",
    "    if 'brillo' not in agente.perceptos:\n",
    "        agente.evidencia['brillo'+str(casilla_actual)] = 0\n",
    "    if 'brisa' in agente.perceptos:\n",
    "        agente.evidencia['brisa'+str(casilla_actual)] = 1\n",
    "    else:\n",
    "        agente.evidencia['brisa'+str(casilla_actual)] = 0     \n",
    "    if 'hedor' in agente.perceptos:                         # nuevo\n",
    "        agente.evidencia['hedor'+str(casilla_actual)] = 1   # nuevo\n",
    "    else:                                                   # nuevo\n",
    "        agente.evidencia['hedor'+str(casilla_actual)] = 0   # nuevo\n",
    "    print(\"Evidencia: \", agente.evidencia)\n",
    "    a = agente.reaccionar(DEB=False)\n",
    "    print(\"Accion: \", a)\n",
    "    formula_accion = f'{a}_{agente.turno-1}'\n",
    "    agente.base.TELL(formula_accion)\n",
    "    W.transicion(a)\n",
    "    if not W.juego_activo:\n",
    "        clear_output(wait=True)\n",
    "        print(W.mensaje)\n",
    "        break\n",
    "    clear_output(wait=True)\n",
    "    agente.estimar_estado(W)\n",
    "    W.pintar_todo()\n",
    "    plt.show()\n",
    "    sleep(.25) "
   ]
  },
  {
   "cell_type": "code",
   "execution_count": null,
   "metadata": {},
   "outputs": [],
   "source": []
  }
 ],
 "metadata": {
  "kernelspec": {
   "display_name": "Python 3.7.13 ('audio_gen')",
   "language": "python",
   "name": "python3"
  },
  "language_info": {
   "codemirror_mode": {
    "name": "ipython",
    "version": 3
   },
   "file_extension": ".py",
   "mimetype": "text/x-python",
   "name": "python",
   "nbconvert_exporter": "python",
   "pygments_lexer": "ipython3",
   "version": "3.7.13"
  },
  "orig_nbformat": 4,
  "vscode": {
   "interpreter": {
    "hash": "77d24201b52f90ad0484bc834e122a113a96909b1a5871605504051bb4665e51"
   }
  }
 },
 "nbformat": 4,
 "nbformat_minor": 2
}

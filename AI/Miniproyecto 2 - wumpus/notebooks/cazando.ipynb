{
 "cells": [
  {
   "cell_type": "markdown",
   "metadata": {},
   "source": [
    "# Cazando al wumpus"
   ]
  },
  {
   "cell_type": "code",
   "execution_count": 1,
   "metadata": {},
   "outputs": [],
   "source": [
    "# define rutas de trabajo e importa ambiente de trabajo\n",
    "import os\n",
    "import sys\n",
    "\n",
    "CURRENT_PATH = os.getcwd()\n",
    "NOTEBOOKS_PATH = os.path.join(CURRENT_PATH, os.path.pardir, 'notebooks')\n",
    "PYTHON_PATH = os.path.join(CURRENT_PATH, os.path.pardir, 'python')\n",
    "sys.path.append(PYTHON_PATH)\n",
    "\n",
    "from logica import *\n",
    "from entornos import *\n",
    "from wkb import *\n",
    "from time import sleep\n",
    "from IPython.display import clear_output\n",
    "import matplotlib.pyplot as plt\n",
    "\n",
    "from busqueda import best_first_search, solucion, breadth_first_search"
   ]
  },
  {
   "cell_type": "markdown",
   "metadata": {},
   "source": [
    "### Detectando al wumpus"
   ]
  },
  {
   "cell_type": "code",
   "execution_count": 222,
   "metadata": {},
   "outputs": [],
   "source": [
    "# crea la base de conocimientos de alerta de wumpus\n",
    "\n",
    "def alerta_wumpus(self):\n",
    "    x, y = self.loc\n",
    "    turno = self.turno\n",
    "    formulas = []\n",
    "    formulas += [\n",
    "        f'en({x},{y})_{turno}Yhedor_{turno}>alerta_wumpus({x},{y})',  \n",
    "    ]\n",
    "    return formulas\n",
    "\n",
    "setattr(Agente_wkb, 'alerta_wumpus', alerta_wumpus)\n"
   ]
  },
  {
   "cell_type": "code",
   "execution_count": 256,
   "metadata": {},
   "outputs": [],
   "source": [
    "# guarda casillas donde detecto wumpus\n",
    "\n",
    "def consulta_alerta(self):\n",
    "\t'''\n",
    "\tidentifica y retorna las casillas en donde es posible que el wumpus esta.\n",
    "\tEs necesario que la base de conocimientos tenga la cabeza de ASK ya creada.\n",
    "\t'''\n",
    "\tturno = self.turno\n",
    "\tx, y = self.loc\n",
    "\n",
    "\tdef truncar(x):\n",
    "\t\tif x < 0:\n",
    "\t\t\treturn 0\n",
    "\t\telif x > 3:\n",
    "\t\t\treturn 3\n",
    "\t\telse:\n",
    "\t\t\treturn x\n",
    "\n",
    "\tdef adyacentes(casilla):\n",
    "\t\tx, y = casilla\n",
    "\t\tadyacentes = [\n",
    "\t\t\t(truncar(x - 1), y), (truncar(x + 1), y),\n",
    "\t\t\t(x, truncar(y - 1)), (x, truncar(y + 1))\n",
    "\t\t]\n",
    "\t\tadyacentes = [c for c in adyacentes if c != casilla]\n",
    "\t\treturn adyacentes\n",
    "\t\n",
    "\tcasillas = adyacentes(self.loc)\n",
    "\tconsulta_alertas = []\n",
    "\t\n",
    "\tconsulta = ASK(f'alerta_wumpus({x},{y})', 'success', self.base)\n",
    "\tif consulta:\n",
    "\t\tfor c in casillas:\n",
    "\t\t\tx1, y1 = c\n",
    "\t\t\tconsulta_alertas.append(f'alerta_wumpus({x1},{y1})_{turno}')\n",
    "\t\t\t\n",
    "\treturn consulta_alertas\n",
    "\n",
    "setattr(Agente_wkb, 'consulta_alerta', consulta_alerta)"
   ]
  },
  {
   "cell_type": "code",
   "execution_count": 257,
   "metadata": {},
   "outputs": [],
   "source": [
    "# modifica el metodo `estimar_estado_wkb` para incluir \n",
    "# `alerta_wumpus`\n",
    "# `consulta_alerta`\n",
    "\n",
    "def estimar_estado_wkb2(self, W):\n",
    "    self.base.TELL(f'segura({self.loc[0]},{self.loc[1]})')\n",
    "    cas_seguras = self.adyacentes_seguras_wkb()\n",
    "    self.base.TELL('Y'.join([f'segura({c[0]},{c[1]})' for c in cas_seguras]))\n",
    "    nueva_dir = self.nueva_direccion_wkb()\n",
    "    self.base.TELL(nueva_dir)\n",
    "    nueva_pos = self.nueva_posicion_wkb()\n",
    "    self.base.TELL(nueva_pos)\n",
    "    formulas = [d for d in self.base.datos if f'_{self.turno}' in d]\n",
    "    formulas += [s for s in self.base.datos if 'segura' in s]\n",
    "    formulas += self.fluentes_mapa_mental_wkb()\n",
    "    formulas += self.brisa_pozo_wkb()\n",
    "    formulas += self.hedor_wumpus_wkb()\n",
    "    formulas += self.casilla_segura_wkb()\n",
    "    formulas += self.casillas_visitadas_wkb()\n",
    "    formulas += self.alerta_wumpus() # new\n",
    "    self.perceptos = W.para_sentidos()\n",
    "    formulas += [self.interp_percepto_wkb(mundo='wumpus')]\n",
    "    self.base = LPQuery(formulas)\n",
    "\n",
    "setattr(Agente_wkb, 'estimar_estado_wkb', estimar_estado_wkb2)\n"
   ]
  },
  {
   "cell_type": "markdown",
   "metadata": {},
   "source": [
    "#### Prueba manual"
   ]
  },
  {
   "cell_type": "code",
   "execution_count": 258,
   "metadata": {},
   "outputs": [
    {
     "name": "stdout",
     "output_type": "stream",
     "text": [
      "¡Base de conocimiento creada!\n",
      "***listado de alertas***\n",
      "['alerta_wumpus(0,0)_2', 'alerta_wumpus(2,0)_2', 'alerta_wumpus(1,1)_2', 'alerta_wumpus(1,1)_5', 'alerta_wumpus(3,1)_5', 'alerta_wumpus(2,0)_5', 'alerta_wumpus(2,2)_5']\n"
     ]
    }
   ],
   "source": [
    "W = Wumpus(wumpus=(1,1), oro=(2,3), pozos=[(0,3), (3,3)])\n",
    "agente = Agente_wkb()\n",
    "formulas = agente.fluentes_mapa_mental_wkb()\n",
    "formulas += agente.brisa_pozo_wkb()\n",
    "formulas += agente.hedor_wumpus_wkb()\n",
    "formulas += agente.casilla_segura_wkb()\n",
    "formulas += agente.alerta_wumpus() # new\n",
    "formulas += agente.consulta_alerta() # new\n",
    "formulas += [f'en(0,0)_1', 'mirando_e_1', 'segura(0,0)']\n",
    "agente.perceptos = W.para_sentidos()\n",
    "agente.base = LPQuery(formulas)\n",
    "print(\"¡Base de conocimiento creada!\")\n",
    "c = agente.interp_percepto_wkb(mundo='wumpus')\n",
    "agente.base.TELL(c)\n",
    "\n",
    "consulta_alertas = [] # lista que guarda las casillas en donde es probable que el wumpus esta\n",
    "\n",
    "agente.turno += 1\n",
    "a ='adelante'\n",
    "formula_accion = f'{a}_{agente.turno-1}'\n",
    "agente.base.TELL(formula_accion)\n",
    "W.transicion(a)\n",
    "agente.estimar_estado_wkb(W)\n",
    "consulta_alertas += agente.consulta_alerta() # con la base de conocimiento actual, evalua hedor y crea lista de posibles lugares para el wumpus\n",
    "\n",
    "agente.turno += 1\n",
    "a ='adelante'\n",
    "formula_accion = f'{a}_{agente.turno-1}'\n",
    "agente.base.TELL(formula_accion)\n",
    "W.transicion(a)\n",
    "agente.estimar_estado_wkb(W)\n",
    "consulta_alertas += agente.consulta_alerta()\n",
    "\n",
    "agente.turno += 1\n",
    "a ='voltearIzquierda'\n",
    "W.transicion(a)\n",
    "formula_accion = f'{a}_{agente.turno-1}'\n",
    "agente.base.TELL(formula_accion)\n",
    "agente.estimar_estado_wkb(W)\n",
    "consulta_alertas += agente.consulta_alerta()\n",
    "\n",
    "\n",
    "agente.turno += 1\n",
    "a ='adelante'\n",
    "W.transicion(a)\n",
    "formula_accion = f'{a}_{agente.turno-1}'\n",
    "agente.base.TELL(formula_accion)\n",
    "agente.estimar_estado_wkb(W)\n",
    "consulta_alertas += agente.consulta_alerta()\n",
    "\n",
    "print(\"***listado de alertas***\")\n",
    "print(consulta_alertas)"
   ]
  },
  {
   "cell_type": "code",
   "execution_count": 236,
   "metadata": {},
   "outputs": [
    {
     "data": {
      "text/plain": [
       "<AxesSubplot:>"
      ]
     },
     "execution_count": 236,
     "metadata": {},
     "output_type": "execute_result"
    },
    {
     "data": {
      "image/png": "[encoded data removed]",
      "text/plain": [
       "<Figure size 576x576 with 1 Axes>"
      ]
     },
     "metadata": {
      "needs_background": "light"
     },
     "output_type": "display_data"
    }
   ],
   "source": [
    "W.pintar_todo()"
   ]
  },
  {
   "cell_type": "markdown",
   "metadata": {},
   "source": [
    "#### Prueba con programa de agente"
   ]
  },
  {
   "cell_type": "code",
   "execution_count": 259,
   "metadata": {},
   "outputs": [],
   "source": [
    "def programaKB(self, DEB=False):\n",
    "    acciones = []\n",
    "    turno, casilla_actual, direccion, cas_seguras, cas_visitadas = self.cache_wkb()\n",
    "    if DEB:\n",
    "        print('Turno acutal:', turno)\n",
    "        print('Casilla actual:', casilla_actual)\n",
    "        print('Dirección actual:', direccion)\n",
    "        print('Casillas adyacentes seguras:', cas_seguras)\n",
    "        print('Casillas visitadas:', cas_visitadas)\n",
    "    if ASK(f'brillo_{turno}','success',self.base):\n",
    "        if DEB:\n",
    "            print('¡Oh, el oro!')\n",
    "    else:\n",
    "        opciones = [casilla for casilla in cas_seguras if casilla not in cas_visitadas]\n",
    "        if DEB:\n",
    "            print('Casillas opcionales:', opciones)\n",
    "        if len(opciones) > 0:\n",
    "            casilla_ir = choice(opciones)\n",
    "            if DEB:\n",
    "                print('El agente quiere ir a la casilla', casilla_ir)\n",
    "            camino = [casilla_actual, casilla_ir]\n",
    "            acciones = acciones_camino(camino, direccion)\n",
    "        elif len(cas_seguras) > 0:\n",
    "            print('no hay mas opciones')\n",
    "            casilla_ir = choice(cas_seguras)\n",
    "            if DEB:\n",
    "                print('El agente quiere devolverse a la casilla', casilla_ir)\n",
    "            camino = [casilla_actual, casilla_ir]\n",
    "            acciones = acciones_camino(camino, direccion)\n",
    "        else:\n",
    "            print(\"¡Caso no contemplado!\")\n",
    "    self.acciones += acciones\n",
    "\n",
    "setattr(Agente_wkb, 'programa', programaKB)"
   ]
  },
  {
   "cell_type": "code",
   "execution_count": 278,
   "metadata": {},
   "outputs": [],
   "source": [
    "# guarda casillas donde detecto wumpus\n",
    "\n",
    "def consulta_alerta(self):\n",
    "\t'''\n",
    "\tidentifica y retorna las casillas en donde es posible que el wumpus esta.\n",
    "\tEs necesario que la base de conocimientos tenga la cabeza de ASK ya creada.\n",
    "\t'''\n",
    "\tturno = self.turno\n",
    "\tx, y = self.loc\n",
    "\t#visitadas = []\n",
    "\tvisitadas = self.todas_seguras_wkb()\n",
    "\n",
    "\tdef truncar(x):\n",
    "\t\tif x < 0:\n",
    "\t\t\treturn 0\n",
    "\t\telif x > 3:\n",
    "\t\t\treturn 3\n",
    "\t\telse:\n",
    "\t\t\treturn x\n",
    "\n",
    "\tdef adyacentes(casilla):\n",
    "\t\tx, y = casilla\n",
    "\t\tadyacentes = [\n",
    "\t\t\t(truncar(x - 1), y), (truncar(x + 1), y),\n",
    "\t\t\t(x, truncar(y - 1)), (x, truncar(y + 1))\n",
    "\t\t]\n",
    "\t\tadyacentes = [c for c in adyacentes if c != casilla]\n",
    "\t\treturn adyacentes\n",
    "\t\n",
    "\tcasillas = adyacentes(self.loc)\n",
    "\tconsulta_alertas = []\n",
    "\t\n",
    "\tconsulta = ASK(f'alerta_wumpus({x},{y})', 'success', self.base)\n",
    "\tif consulta:\n",
    "\t\tfor c in casillas:\n",
    "\t\t\tx1, y1 = c\n",
    "\t\t\tconsulta_alertas.append(f'alerta_wumpus({x1},{y1})')\n",
    "\t\t\tif c in visitadas:\n",
    "\t\t\t\tx1, y1 = c\n",
    "\t\t\t\tconsulta_alertas.remove(f'alerta_wumpus({x1},{y1})')\n",
    "\t\t\t\n",
    "\treturn consulta_alertas\n",
    "\n",
    "setattr(Agente_wkb, 'consulta_alerta', consulta_alerta)"
   ]
  },
  {
   "cell_type": "code",
   "execution_count": 294,
   "metadata": {},
   "outputs": [
    {
     "data": {
      "image/png": "[encoded data removed]",
      "text/plain": [
       "<Figure size 576x576 with 1 Axes>"
      ]
     },
     "metadata": {
      "needs_background": "light"
     },
     "output_type": "display_data"
    },
    {
     "name": "stdout",
     "output_type": "stream",
     "text": [
      "***listado de alertas***\n",
      "['alerta_wumpus(2,2)', 'alerta_wumpus(1,3)', 'alerta_wumpus(2,2)', 'alerta_wumpus(1,3)', 'alerta_wumpus(2,2)', 'alerta_wumpus(1,3)', 'alerta_wumpus(2,2)', 'alerta_wumpus(1,3)', 'alerta_wumpus(2,2)', 'alerta_wumpus(1,3)', 'alerta_wumpus(3,1)', 'alerta_wumpus(2,2)', 'alerta_wumpus(3,1)', 'alerta_wumpus(2,2)', 'alerta_wumpus(3,1)', 'alerta_wumpus(2,2)', 'alerta_wumpus(2,2)', 'alerta_wumpus(3,3)']\n",
      "***visitadas***\n",
      "[(0, 0), (0, 1), (0, 2), (1, 0), (1, 1), (1, 2), (2, 0), (2, 1), (3, 0), (3, 1), (3, 2)]\n"
     ]
    }
   ],
   "source": [
    "\n",
    "W = Wumpus(wumpus=None, oro=(2,3), pozos=[(0,3), (3,3)])\n",
    "agente = Agente_wkb()\n",
    "formulas = agente.fluentes_mapa_mental_wkb()\n",
    "formulas += agente.brisa_pozo_wkb()\n",
    "formulas += agente.hedor_wumpus_wkb()\n",
    "formulas += agente.casilla_segura_wkb()\n",
    "formulas += agente.alerta_wumpus()\n",
    "formulas += [f'en(0,0)_1', 'mirando_e_1', 'segura(0,0)']\n",
    "agente.base = LPQuery(formulas)\n",
    "agente.perceptos = W.para_sentidos()\n",
    "c = agente.interp_percepto_wkb(mundo='wumpus')\n",
    "agente.base.TELL(c)\n",
    "print(\"¡Base de conocimiento creada!\")\n",
    "\n",
    "consulta_alertas = [] # lista que guarda las casillas en donde es probable que el wumpus esta\n",
    "\n",
    "for i in range(40):\n",
    "    a = agente.reaccionar_wkb()\n",
    "    formula_accion = f'{a}_{agente.turno-1}'\n",
    "    agente.base.TELL(formula_accion)\n",
    "    W.transicion(a)\n",
    "    if not W.juego_activo:\n",
    "        clear_output(wait=True)\n",
    "        W.pintar_todo()\n",
    "        print(W.mensaje)\n",
    "        break\n",
    "    agente.estimar_estado_wkb(W)\n",
    "    consulta_alertas += agente.consulta_alerta()\n",
    "    clear_output(wait=True)\n",
    "    W.pintar_todo()\n",
    "    plt.show()\n",
    "    sleep(.25) \n",
    "\n",
    "print(\"***listado de alertas***\")\n",
    "print(consulta_alertas)\n",
    "\n",
    "print(\"***visitadas***\")\n",
    "print(agente.todas_seguras_wkb())"
   ]
  },
  {
   "cell_type": "code",
   "execution_count": 295,
   "metadata": {},
   "outputs": [
    {
     "data": {
      "text/plain": [
       "Counter({'alerta_wumpus(2,2)': 9,\n",
       "         'alerta_wumpus(1,3)': 5,\n",
       "         'alerta_wumpus(3,1)': 3,\n",
       "         'alerta_wumpus(3,3)': 1})"
      ]
     },
     "execution_count": 295,
     "metadata": {},
     "output_type": "execute_result"
    }
   ],
   "source": [
    "from collections import Counter\n",
    "Counter(consulta_alertas)"
   ]
  },
  {
   "cell_type": "markdown",
   "metadata": {},
   "source": [
    "la casilla con mayor cantidad de alarmas, es la mas probable en donde esté el wumpus."
   ]
  },
  {
   "cell_type": "code",
   "execution_count": null,
   "metadata": {},
   "outputs": [],
   "source": []
  }
 ],
 "metadata": {
  "interpreter": {
   "hash": "5eba2f6daac758e0c4eb74cbbf3fd787eaf14bd08a71327f2f2275e3d00aa03b"
  },
  "kernelspec": {
   "display_name": "Python 3.8.8 ('base')",
   "language": "python",
   "name": "python3"
  },
  "language_info": {
   "codemirror_mode": {
    "name": "ipython",
    "version": 3
   },
   "file_extension": ".py",
   "mimetype": "text/x-python",
   "name": "python",
   "nbconvert_exporter": "python",
   "pygments_lexer": "ipython3",
   "version": "3.8.8"
  },
  "orig_nbformat": 4
 },
 "nbformat": 4,
 "nbformat_minor": 2
}

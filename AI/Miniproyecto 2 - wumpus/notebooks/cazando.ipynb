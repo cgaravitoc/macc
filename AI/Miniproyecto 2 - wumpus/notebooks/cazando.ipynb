{
 "cells": [
  {
   "cell_type": "markdown",
   "metadata": {},
   "source": [
    "# Cazando al wumpus"
   ]
  },
  {
   "cell_type": "code",
   "execution_count": 1,
   "metadata": {},
   "outputs": [],
   "source": [
    "# define rutas de trabajo e importa ambiente de trabajo\n",
    "import os\n",
    "import sys\n",
    "\n",
    "CURRENT_PATH = os.getcwd()\n",
    "NOTEBOOKS_PATH = os.path.join(CURRENT_PATH, os.path.pardir, 'notebooks')\n",
    "PYTHON_PATH = os.path.join(CURRENT_PATH, os.path.pardir, 'python')\n",
    "sys.path.append(PYTHON_PATH)\n",
    "\n",
    "from logica import *\n",
    "from entornos import *\n",
    "from wkb import *\n",
    "from time import sleep\n",
    "from IPython.display import clear_output\n",
    "import matplotlib.pyplot as plt\n",
    "from collections import Counter\n",
    "\n",
    "\n",
    "from busqueda import best_first_search, solucion, breadth_first_search"
   ]
  },
  {
   "cell_type": "markdown",
   "metadata": {},
   "source": [
    "### Detectando al wumpus"
   ]
  },
  {
   "cell_type": "code",
   "execution_count": 2,
   "metadata": {},
   "outputs": [],
   "source": [
    "# crea la base de conocimientos de alerta de wumpus\n",
    "\n",
    "def alerta_wumpus(self):\n",
    "    x, y = self.loc\n",
    "    turno = self.turno\n",
    "    formulas = []\n",
    "    formulas += [\n",
    "        f'en({x},{y})_{turno}Yhedor_{turno}>alerta_wumpus({x},{y})',  \n",
    "    ]\n",
    "    return formulas\n",
    "\n",
    "setattr(Agente_wkb, 'alerta_wumpus', alerta_wumpus)\n"
   ]
  },
  {
   "cell_type": "code",
   "execution_count": 54,
   "metadata": {},
   "outputs": [],
   "source": [
    "# guarda casillas donde detecto wumpus\n",
    "\n",
    "def consulta_alerta(self):\n",
    "\t'''\n",
    "\tidentifica y retorna las casillas en donde es posible que el wumpus esta.\n",
    "\tEs necesario que la base de conocimientos tenga la cabeza de ASK ya creada.\n",
    "\t'''\n",
    "\tturno = self.turno\n",
    "\tx, y = self.loc\n",
    "\n",
    "\tdef truncar(x):\n",
    "\t\tif x < 0:\n",
    "\t\t\treturn 0\n",
    "\t\telif x > 3:\n",
    "\t\t\treturn 3\n",
    "\t\telse:\n",
    "\t\t\treturn x\n",
    "\n",
    "\tdef adyacentes(casilla):\n",
    "\t\tx, y = casilla\n",
    "\t\tadyacentes = [\n",
    "\t\t\t(truncar(x - 1), y), (truncar(x + 1), y),\n",
    "\t\t\t(x, truncar(y - 1)), (x, truncar(y + 1))\n",
    "\t\t]\n",
    "\t\tadyacentes = [c for c in adyacentes if c != casilla]\n",
    "\t\treturn adyacentes\n",
    "\t\n",
    "\tcasillas = adyacentes(self.loc)\n",
    "\tconsulta_alertas = []\n",
    "\t\n",
    "\tconsulta = ASK(f'alerta_wumpus({x},{y})', 'success', self.base)\n",
    "\tif consulta:\n",
    "\t\tfor c in casillas:\n",
    "\t\t\tx1, y1 = c\n",
    "\t\t\tconsulta_alertas.append(f'alerta_wumpus({x1},{y1})_{turno}')\n",
    "\t\t\t\n",
    "\treturn consulta_alertas\n",
    "\n",
    "setattr(Agente_wkb, 'consulta_alerta', consulta_alerta)"
   ]
  },
  {
   "cell_type": "code",
   "execution_count": 55,
   "metadata": {},
   "outputs": [],
   "source": [
    "# modifica el metodo `estimar_estado_wkb` para incluir \n",
    "# `alerta_wumpus`\n",
    "# `consulta_alerta`\n",
    "\n",
    "def estimar_estado_wkb2(self, W):\n",
    "    self.base.TELL(f'segura({self.loc[0]},{self.loc[1]})')\n",
    "    cas_seguras = self.adyacentes_seguras_wkb()\n",
    "    self.base.TELL('Y'.join([f'segura({c[0]},{c[1]})' for c in cas_seguras]))\n",
    "    nueva_dir = self.nueva_direccion_wkb()\n",
    "    self.base.TELL(nueva_dir)\n",
    "    nueva_pos = self.nueva_posicion_wkb()\n",
    "    self.base.TELL(nueva_pos)\n",
    "    formulas = [d for d in self.base.datos if f'_{self.turno}' in d]\n",
    "    formulas += [s for s in self.base.datos if 'segura' in s]\n",
    "    formulas += self.fluentes_mapa_mental_wkb()\n",
    "    formulas += self.brisa_pozo_wkb()\n",
    "    formulas += self.hedor_wumpus_wkb()\n",
    "    formulas += self.casilla_segura_wkb()\n",
    "    formulas += self.casillas_visitadas_wkb()\n",
    "    formulas += self.alerta_wumpus() # new\n",
    "    self.perceptos = W.para_sentidos()\n",
    "    formulas += [self.interp_percepto_wkb(mundo='wumpus')]\n",
    "    self.base = LPQuery(formulas)\n",
    "\n",
    "setattr(Agente_wkb, 'estimar_estado_wkb', estimar_estado_wkb2)\n"
   ]
  },
  {
   "cell_type": "markdown",
   "metadata": {},
   "source": [
    "#### Prueba manual"
   ]
  },
  {
   "cell_type": "code",
   "execution_count": 56,
   "metadata": {},
   "outputs": [
    {
     "name": "stdout",
     "output_type": "stream",
     "text": [
      "¡Base de conocimiento creada!\n",
      "***listado de alertas***\n",
      "['alerta_wumpus(0,0)_2', 'alerta_wumpus(2,0)_2', 'alerta_wumpus(1,1)_2', 'alerta_wumpus(1,1)_5', 'alerta_wumpus(3,1)_5', 'alerta_wumpus(2,0)_5', 'alerta_wumpus(2,2)_5']\n"
     ]
    }
   ],
   "source": [
    "W = Wumpus(wumpus=(1,1), oro=(2,3), pozos=[(0,3), (3,3)])\n",
    "agente = Agente_wkb()\n",
    "formulas = agente.fluentes_mapa_mental_wkb()\n",
    "formulas += agente.brisa_pozo_wkb()\n",
    "formulas += agente.hedor_wumpus_wkb()\n",
    "formulas += agente.casilla_segura_wkb()\n",
    "formulas += agente.alerta_wumpus() # new\n",
    "formulas += agente.consulta_alerta() # new\n",
    "formulas += [f'en(0,0)_1', 'mirando_e_1', 'segura(0,0)']\n",
    "agente.perceptos = W.para_sentidos()\n",
    "agente.base = LPQuery(formulas)\n",
    "print(\"¡Base de conocimiento creada!\")\n",
    "c = agente.interp_percepto_wkb(mundo='wumpus')\n",
    "agente.base.TELL(c)\n",
    "\n",
    "consulta_alertas = [] # lista que guarda las casillas en donde es probable que el wumpus esta\n",
    "\n",
    "agente.turno += 1\n",
    "a ='adelante'\n",
    "formula_accion = f'{a}_{agente.turno-1}'\n",
    "agente.base.TELL(formula_accion)\n",
    "W.transicion(a)\n",
    "agente.estimar_estado_wkb(W)\n",
    "consulta_alertas += agente.consulta_alerta() # con la base de conocimiento actual, evalua hedor y crea lista de posibles lugares para el wumpus\n",
    "\n",
    "agente.turno += 1\n",
    "a ='adelante'\n",
    "formula_accion = f'{a}_{agente.turno-1}'\n",
    "agente.base.TELL(formula_accion)\n",
    "W.transicion(a)\n",
    "agente.estimar_estado_wkb(W)\n",
    "consulta_alertas += agente.consulta_alerta()\n",
    "\n",
    "agente.turno += 1\n",
    "a ='voltearIzquierda'\n",
    "W.transicion(a)\n",
    "formula_accion = f'{a}_{agente.turno-1}'\n",
    "agente.base.TELL(formula_accion)\n",
    "agente.estimar_estado_wkb(W)\n",
    "consulta_alertas += agente.consulta_alerta()\n",
    "\n",
    "\n",
    "agente.turno += 1\n",
    "a ='adelante'\n",
    "W.transicion(a)\n",
    "formula_accion = f'{a}_{agente.turno-1}'\n",
    "agente.base.TELL(formula_accion)\n",
    "agente.estimar_estado_wkb(W)\n",
    "consulta_alertas += agente.consulta_alerta()\n",
    "\n",
    "print(\"***listado de alertas***\")\n",
    "print(consulta_alertas)"
   ]
  },
  {
   "cell_type": "code",
   "execution_count": 57,
   "metadata": {},
   "outputs": [
    {
     "data": {
      "text/plain": [
       "<AxesSubplot:>"
      ]
     },
     "execution_count": 57,
     "metadata": {},
     "output_type": "execute_result"
    },
    {
     "data": {
      "image/png": "[encoded data removed]",
      "text/plain": [
       "<Figure size 576x576 with 1 Axes>"
      ]
     },
     "metadata": {
      "needs_background": "light"
     },
     "output_type": "display_data"
    }
   ],
   "source": [
    "W.pintar_todo()"
   ]
  },
  {
   "cell_type": "markdown",
   "metadata": {},
   "source": [
    "#### Prueba con programa de agente"
   ]
  },
  {
   "cell_type": "code",
   "execution_count": 3,
   "metadata": {},
   "outputs": [],
   "source": [
    "# Modifica `lista_alertas`\n",
    "# - guarda casillas donde detecto wumpus\n",
    "# - quita turno de las formulas de alerta\n",
    "# - quita de la lista casillas visitadas\n",
    "\n",
    "def lista_alertas(self):\n",
    "\t'''\n",
    "\tidentifica y retorna las casillas en donde es posible que el wumpus esta.\n",
    "\tEs necesario que la base de conocimientos tenga la cabeza de ASK ya creada.\n",
    "\t'''\n",
    "\tturno = self.turno\n",
    "\tx, y = self.loc\n",
    "\n",
    "\tdef truncar(x):\n",
    "\t\tif x < 0:\n",
    "\t\t\treturn 0\n",
    "\t\telif x > 3:\n",
    "\t\t\treturn 3\n",
    "\t\telse:\n",
    "\t\t\treturn x\n",
    "\n",
    "\tdef adyacentes(casilla):\n",
    "\t\tx, y = casilla\n",
    "\t\tadyacentes = [\n",
    "\t\t\t(truncar(x - 1), y), (truncar(x + 1), y),\n",
    "\t\t\t(x, truncar(y - 1)), (x, truncar(y + 1))\n",
    "\t\t]\n",
    "\t\tadyacentes = [c for c in adyacentes if c != casilla]\n",
    "\t\treturn adyacentes\n",
    "\t\n",
    "\tcasillas = adyacentes(self.loc)\n",
    "\talertas = []\n",
    "\t\n",
    "\tconsulta = ASK(f'alerta_wumpus({x},{y})', 'success', self.base)\n",
    "\tif consulta:\n",
    "\t\tfor c in casillas:\n",
    "\t\t\tx1, y1 = c\n",
    "\t\t\talertas.append(f'posible_wumpus({x1},{y1})')\n",
    "\t\t\tif c in self.todas_seguras_wkb(): \n",
    "\t\t\t\talertas.remove(f'posible_wumpus({x1},{y1})')\n",
    "\t\t\t\n",
    "\treturn alertas\n",
    "\n",
    "setattr(Agente_wkb, 'lista_alertas', lista_alertas)"
   ]
  },
  {
   "cell_type": "code",
   "execution_count": 59,
   "metadata": {},
   "outputs": [],
   "source": [
    "def programaKB(self, DEB=False):\n",
    "    acciones = []\n",
    "    turno, casilla_actual, direccion, cas_seguras, cas_visitadas = self.cache_wkb()\n",
    "    if DEB:\n",
    "        print('Turno acutal:', turno)\n",
    "        print('Casilla actual:', casilla_actual)\n",
    "        print('Dirección actual:', direccion)\n",
    "        print('Casillas adyacentes seguras:', cas_seguras)\n",
    "        print('Casillas visitadas:', cas_visitadas)\n",
    "    if ASK(f'brillo_{turno}','success',self.base):\n",
    "        if DEB:\n",
    "            print('¡Oh, el oro!')\n",
    "    else:\n",
    "        opciones = [casilla for casilla in cas_seguras if casilla not in cas_visitadas]\n",
    "        if DEB:\n",
    "            print('Casillas opcionales:', opciones)\n",
    "        if len(opciones) > 0:\n",
    "            print(f\"opciones: {opciones}\")\n",
    "            casilla_ir = choice(opciones)\n",
    "            if DEB:\n",
    "                print('El agente quiere ir a la casilla', casilla_ir)\n",
    "            camino = [casilla_actual, casilla_ir]\n",
    "            acciones = acciones_camino(camino, direccion)\n",
    "        elif len(cas_seguras) > 0:\n",
    "            casilla_ir = choice(cas_seguras)\n",
    "            if DEB:\n",
    "                print('El agente quiere devolverse a la casilla', casilla_ir)\n",
    "            camino = [casilla_actual, casilla_ir]\n",
    "            acciones = acciones_camino(camino, direccion)\n",
    "        else:\n",
    "            print(\"¡Caso no contemplado!\")\n",
    "    self.acciones += acciones\n",
    "\n",
    "setattr(Agente_wkb, 'programa', programaKB)"
   ]
  },
  {
   "cell_type": "code",
   "execution_count": 60,
   "metadata": {},
   "outputs": [
    {
     "data": {
      "image/png": "[encoded data removed]",
      "text/plain": [
       "<Figure size 576x576 with 1 Axes>"
      ]
     },
     "metadata": {
      "needs_background": "light"
     },
     "output_type": "display_data"
    },
    {
     "name": "stdout",
     "output_type": "stream",
     "text": [
      "***listado de alertas***\n",
      "['alerta_wumpus(0,1)_5', 'alerta_wumpus(2,1)_5', 'alerta_wumpus(1,0)_5', 'alerta_wumpus(1,2)_5', 'alerta_wumpus(0,1)_6', 'alerta_wumpus(2,1)_6', 'alerta_wumpus(1,0)_6', 'alerta_wumpus(1,2)_6', 'alerta_wumpus(1,2)_20', 'alerta_wumpus(3,2)_20', 'alerta_wumpus(2,1)_20', 'alerta_wumpus(2,3)_20', 'alerta_wumpus(1,2)_21', 'alerta_wumpus(3,2)_21', 'alerta_wumpus(2,1)_21', 'alerta_wumpus(2,3)_21', 'alerta_wumpus(1,2)_25', 'alerta_wumpus(3,2)_25', 'alerta_wumpus(2,1)_25', 'alerta_wumpus(2,3)_25', 'alerta_wumpus(1,2)_26', 'alerta_wumpus(3,2)_26', 'alerta_wumpus(2,1)_26', 'alerta_wumpus(2,3)_26', 'alerta_wumpus(1,2)_27', 'alerta_wumpus(3,2)_27', 'alerta_wumpus(2,1)_27', 'alerta_wumpus(2,3)_27', 'alerta_wumpus(1,2)_31', 'alerta_wumpus(3,2)_31', 'alerta_wumpus(2,1)_31', 'alerta_wumpus(2,3)_31']\n"
     ]
    }
   ],
   "source": [
    "\n",
    "W = Wumpus(wumpus=None, oro=(2,3), pozos=[(0,3), (3,3)])\n",
    "agente = Agente_wkb()\n",
    "formulas = agente.fluentes_mapa_mental_wkb()\n",
    "formulas += agente.brisa_pozo_wkb()\n",
    "formulas += agente.hedor_wumpus_wkb()\n",
    "formulas += agente.casilla_segura_wkb()\n",
    "formulas += agente.alerta_wumpus()\n",
    "formulas += [f'en(0,0)_1', 'mirando_e_1', 'segura(0,0)']\n",
    "agente.base = LPQuery(formulas)\n",
    "agente.perceptos = W.para_sentidos()\n",
    "c = agente.interp_percepto_wkb(mundo='wumpus')\n",
    "agente.base.TELL(c)\n",
    "print(\"¡Base de conocimiento creada!\")\n",
    "\n",
    "alertas = [] # lista que guarda las casillas en donde es probable que el wumpus esta\n",
    "\n",
    "for i in range(30):\n",
    "    a = agente.reaccionar_wkb()\n",
    "    formula_accion = f'{a}_{agente.turno-1}'\n",
    "    agente.base.TELL(formula_accion)\n",
    "    W.transicion(a)\n",
    "    if not W.juego_activo:\n",
    "        clear_output(wait=True)\n",
    "        W.pintar_todo()\n",
    "        print(W.mensaje)\n",
    "        break\n",
    "    agente.estimar_estado_wkb(W)\n",
    "    alertas += agente.consulta_alerta()\n",
    "    clear_output(wait=True)\n",
    "    W.pintar_todo()\n",
    "    plt.show()\n",
    "    sleep(.25) \n",
    "\n",
    "\n",
    "print(\"***listado de alertas***\")\n",
    "print(alertas)\n",
    "\n",
    "#print(\"***visitadas***\")\n",
    "#print(agente.todas_seguras_wkb())"
   ]
  },
  {
   "cell_type": "markdown",
   "metadata": {},
   "source": [
    "## Cazando al wumpus"
   ]
  },
  {
   "cell_type": "markdown",
   "metadata": {},
   "source": [
    "la casilla con mayor cantidad de alarmas, es la mas probable en donde esté el wumpus."
   ]
  },
  {
   "cell_type": "code",
   "execution_count": 4,
   "metadata": {},
   "outputs": [],
   "source": [
    "def identifica_wumpus(self, alertas):\n",
    "    '''\n",
    "    Identifica posición mas probable del wumpus e\n",
    "    identifica los puntos de disparo seguros\n",
    "\n",
    "    Requiere \n",
    "    from collections import Counter\n",
    "    '''\n",
    "    c = Counter(alertas)\n",
    "    c = dict(c)\n",
    "    prob_wumpus = max(c, key = c.get).replace(\"posible_wumpus\", \"\")\n",
    "    prob_wumpus = eval(prob_wumpus)\n",
    "    print(\"casilla con alta probabilidad de wumpus: \", prob_wumpus)\n",
    "\n",
    "    return prob_wumpus\n",
    "\n",
    "setattr(Agente_wkb, 'identifica_wumpus', identifica_wumpus)\n"
   ]
  },
  {
   "cell_type": "code",
   "execution_count": 5,
   "metadata": {},
   "outputs": [],
   "source": [
    "def disparo_seguro(self, prob_wumpus):\n",
    "\n",
    "    disparo_seguro = []\n",
    "    for c in self.todas_seguras_wkb(): \n",
    "        #print(\"Puntos seguros de disparo\")\n",
    "        if c[0] == prob_wumpus[0]: \n",
    "            #print(\"x: \", c)\n",
    "            disparo_seguro.append(c)\n",
    "        elif c[1] == prob_wumpus[1]: \n",
    "            #print(\"y: \", c)\n",
    "            disparo_seguro.append(c)\n",
    "    \n",
    "    print(\"Puntos seguros de disparo: \", disparo_seguro)\n",
    "    return  disparo_seguro  \n",
    "\n",
    "setattr(Agente_wkb, 'disparo_seguro', disparo_seguro)\n"
   ]
  },
  {
   "cell_type": "code",
   "execution_count": 6,
   "metadata": {},
   "outputs": [],
   "source": [
    "def apunta_dir(self, dir_objetivo):\n",
    "    '''\n",
    "    Cambia la dirección actual del agente, a la dirección objetivo.\n",
    "    '''\n",
    "    dir_direcciones = {'o':'oeste', 'e':'este', 's':'sur', 'n':'norte'}\n",
    "    print(f\"dir actual: {self.solo_direccion_wkb()}\")\n",
    "    acciones_apuntar = voltear(self.solo_direccion_wkb(), dir_direcciones[dir_objetivo])\n",
    "    print(\"acciones apuntar: \", acciones_apuntar)\n",
    "    for accion in acciones_apuntar: \n",
    "        #print(self.solo_direccion_wkb())\n",
    "        self.turno += 1\n",
    "        W.transicion(accion)\n",
    "        formula_accion = f'{accion}_{self.turno-1}'\n",
    "        self.base.TELL(formula_accion)\n",
    "        self.estimar_estado_wkb(W)\n",
    "        print(self.solo_direccion_wkb())\n",
    "    print(f\"dir final: {self.solo_direccion_wkb()}\")\n",
    "    \n",
    "setattr(Agente_wkb, 'apunta_dir', apunta_dir)\n"
   ]
  },
  {
   "cell_type": "code",
   "execution_count": 7,
   "metadata": {},
   "outputs": [],
   "source": [
    "def apunta(self, prob_wumpus):\n",
    "    '''\n",
    "    Cambia la dirección del agente a la dirección apropiada para disparar al wumpus\n",
    "    '''\n",
    "    print(f\"prob_wumpus: {prob_wumpus}\")\n",
    "    x_agente, y_agente = self.loc\n",
    "    x_wumpus, y_wumpus = prob_wumpus\n",
    "\n",
    "    if x_agente < x_wumpus: \n",
    "        print(f\"pos_agente: {self.loc}, dir: {self.solo_direccion_wkb()} - pos_wumpus: {prob_wumpus}\")\n",
    "        ## apunta este\n",
    "        self.apunta_dir('e')\n",
    "    elif x_agente > x_wumpus: \n",
    "        print(f\"pos_agente: {self.loc}, dir: {self.solo_direccion_wkb()} - pos_wumpus: {prob_wumpus}\")\n",
    "        ## apunta oeste\n",
    "        self.apunta_dir('o')\n",
    "    elif y_agente < y_wumpus: \n",
    "        print(f\"pos_agente: {self.loc}, dir: {self.solo_direccion_wkb()} - pos_wumpus: {prob_wumpus}\")\n",
    "        ## apunta norte\n",
    "        self.apunta_dir('n')\n",
    "    elif y_agente > y_wumpus: \n",
    "        print(f\"pos_agente: {self.loc}, dir: {self.solo_direccion_wkb()} - pos_wumpus: {prob_wumpus}\")\n",
    "        ## apunta sur\n",
    "        self.apunta_dir('s')\n",
    "    else:\n",
    "        print(\"no fue posible apuntar\")\n",
    "\n",
    "    W.pintar_todo()\n",
    "    plt.show()\n",
    "\n",
    "setattr(Agente_wkb, 'apunta', apunta)"
   ]
  },
  {
   "cell_type": "code",
   "execution_count": 8,
   "metadata": {},
   "outputs": [],
   "source": [
    "def casilla_apunta(self, disparo_seguro): \n",
    "    '''\n",
    "    Se dirige a una casilla segura para apuntar\n",
    "    '''\n",
    "#    disparo_seguro = self.disparo_seguro(alertas)\n",
    "    print(\"se dirige a casilla segura\")\n",
    "\n",
    "    if self.loc in disparo_seguro: \n",
    "        clear_output(wait=True)\n",
    "        print(\"Listo para disparar\")\n",
    "        W.pintar_todo()\n",
    "        plt.show()\n",
    "        return None\n",
    "    \n",
    "    else:\n",
    "        print(\"ir a casilla de disparo\")\n",
    "        acciones = []\n",
    "        turno, casilla_actual, direccion, cas_seguras, cas_visitadas = self.cache_wkb()\n",
    "        R = Rejilla(self.loc, choice(disparo_seguro), self.todas_seguras_wkb())\n",
    "        camino = best_first_search(R)\n",
    "        camino = [self.loc] + solucion(camino)\n",
    "        acciones += acciones_camino(camino, direccion)\n",
    "\n",
    "    #self.acciones += acciones\n",
    "        \n",
    "        for accion in acciones: \n",
    "            #print(self.solo_direccion_wkb())\n",
    "            self.turno += 1\n",
    "            W.transicion(accion)\n",
    "            formula_accion = f'{accion}_{self.turno-1}'\n",
    "            self.base.TELL(formula_accion)\n",
    "            self.estimar_estado_wkb(W)\n",
    "            clear_output(wait=True)\n",
    "            W.pintar_todo()\n",
    "            plt.show()\n",
    "            sleep(.5) \n",
    "    print(\"en posicion de disparo\")\n",
    "    print(f\"ubiación final del self: {self.loc}\")\n",
    "    print(f\"dir final: \", {self.solo_direccion_wkb()})\n",
    "\n",
    "setattr(Agente_wkb, 'casilla_apunta', casilla_apunta)"
   ]
  },
  {
   "cell_type": "code",
   "execution_count": 9,
   "metadata": {},
   "outputs": [],
   "source": [
    "def explorar(self):\n",
    "    acciones = []\n",
    "    turno, casilla_actual, direccion, cas_seguras, cas_visitadas = self.cache_wkb()\n",
    "\n",
    "    opciones = [casilla for casilla in cas_seguras if casilla not in cas_visitadas]\n",
    "    \n",
    "    if len(opciones) > 0:\n",
    "        print(f\"opciones: {opciones}\")\n",
    "        casilla_ir = choice(opciones)\n",
    "        camino = [casilla_actual, casilla_ir]\n",
    "        acciones = acciones_camino(camino, direccion)\n",
    "    elif len(cas_seguras) > 0:\n",
    "        casilla_ir = choice(cas_seguras)\n",
    "        camino = [casilla_actual, casilla_ir]\n",
    "        acciones = acciones_camino(camino, direccion)\n",
    "    else:\n",
    "        print(\"¡Caso no contemplado!\")\n",
    "        \n",
    "    self.acciones += acciones \n",
    "\n",
    "setattr(Agente_wkb, 'explorar', explorar)"
   ]
  },
  {
   "cell_type": "markdown",
   "metadata": {},
   "source": [
    "## **Construcción programa agente**"
   ]
  },
  {
   "cell_type": "code",
   "execution_count": 11,
   "metadata": {},
   "outputs": [],
   "source": [
    "def programaKB(self, DEB=False):\n",
    "    acciones = []\n",
    "    turno, casilla_actual, direccion, cas_seguras, cas_visitadas = self.cache_wkb()\n",
    "\n",
    "    self.explorar()\n",
    "    #print(\"¡Cuidado! Wumpus vivo\")\n",
    "    #self.lista_alertas() # recorre el laberinto identificando alertas wumpus\n",
    "    # prob_wumpus = self.identifica_wumpus(alertas) # identifica posible lugar wumpus\n",
    "    # self.disparo_seguro(prob_wumpus) # encuentra lugares seguros de disparo\n",
    "    # self.casilla_apunta(alertas) # se dirige a la casilla de disparo\n",
    "    # self.apunta(prob_wumpus)\n",
    "    # acciones.append('disparar')\n",
    "    # print(\"¡El wumpus ha caido!\")\n",
    "\n",
    "        # cazar!\n",
    "        \n",
    "    # if not W.wumpus_vivo: \n",
    "    #     print(\"El wumpus esta sin vida...\")\n",
    "        # buscar oro y salir\n",
    "        # modificar base de conocimiento para que wumpusmuerto y hedor -> seguro\n",
    "\n",
    "setattr(Agente_wkb, 'programa', programaKB)"
   ]
  },
  {
   "cell_type": "code",
   "execution_count": 12,
   "metadata": {},
   "outputs": [
    {
     "data": {
      "image/png": "[encoded data removed]",
      "text/plain": [
       "<Figure size 576x576 with 1 Axes>"
      ]
     },
     "metadata": {
      "needs_background": "light"
     },
     "output_type": "display_data"
    },
    {
     "ename": "ValueError",
     "evalue": "max() arg is an empty sequence",
     "output_type": "error",
     "traceback": [
      "\u001b[1;31m---------------------------------------------------------------------------\u001b[0m",
      "\u001b[1;31mValueError\u001b[0m                                Traceback (most recent call last)",
      "\u001b[1;32m<ipython-input-12-033ecdb65d70>\u001b[0m in \u001b[0;36m<module>\u001b[1;34m\u001b[0m\n\u001b[0;32m     37\u001b[0m \u001b[1;33m\u001b[0m\u001b[0m\n\u001b[0;32m     38\u001b[0m \u001b[0malertas\u001b[0m \u001b[1;33m=\u001b[0m \u001b[0mexplorar_lab\u001b[0m\u001b[1;33m(\u001b[0m\u001b[1;33m)\u001b[0m\u001b[1;33m\u001b[0m\u001b[1;33m\u001b[0m\u001b[0m\n\u001b[1;32m---> 39\u001b[1;33m \u001b[0mprob_wumpus\u001b[0m \u001b[1;33m=\u001b[0m \u001b[0magente\u001b[0m\u001b[1;33m.\u001b[0m\u001b[0midentifica_wumpus\u001b[0m\u001b[1;33m(\u001b[0m\u001b[0malertas\u001b[0m\u001b[1;33m)\u001b[0m\u001b[1;33m\u001b[0m\u001b[1;33m\u001b[0m\u001b[0m\n\u001b[0m\u001b[0;32m     40\u001b[0m \u001b[0mdisparo_seguro\u001b[0m \u001b[1;33m=\u001b[0m \u001b[0magente\u001b[0m\u001b[1;33m.\u001b[0m\u001b[0mdisparo_seguro\u001b[0m\u001b[1;33m(\u001b[0m\u001b[0mprob_wumpus\u001b[0m\u001b[1;33m)\u001b[0m \u001b[1;31m# encuentra lugares seguros de disparo\u001b[0m\u001b[1;33m\u001b[0m\u001b[1;33m\u001b[0m\u001b[0m\n\u001b[0;32m     41\u001b[0m \u001b[0magente\u001b[0m\u001b[1;33m.\u001b[0m\u001b[0mcasilla_apunta\u001b[0m\u001b[1;33m(\u001b[0m\u001b[0mdisparo_seguro\u001b[0m\u001b[1;33m)\u001b[0m\u001b[1;33m\u001b[0m\u001b[1;33m\u001b[0m\u001b[0m\n",
      "\u001b[1;32m<ipython-input-4-d516e8701ad1>\u001b[0m in \u001b[0;36midentifica_wumpus\u001b[1;34m(self, alertas)\u001b[0m\n\u001b[0;32m      9\u001b[0m     \u001b[0mc\u001b[0m \u001b[1;33m=\u001b[0m \u001b[0mCounter\u001b[0m\u001b[1;33m(\u001b[0m\u001b[0malertas\u001b[0m\u001b[1;33m)\u001b[0m\u001b[1;33m\u001b[0m\u001b[1;33m\u001b[0m\u001b[0m\n\u001b[0;32m     10\u001b[0m     \u001b[0mc\u001b[0m \u001b[1;33m=\u001b[0m \u001b[0mdict\u001b[0m\u001b[1;33m(\u001b[0m\u001b[0mc\u001b[0m\u001b[1;33m)\u001b[0m\u001b[1;33m\u001b[0m\u001b[1;33m\u001b[0m\u001b[0m\n\u001b[1;32m---> 11\u001b[1;33m     \u001b[0mprob_wumpus\u001b[0m \u001b[1;33m=\u001b[0m \u001b[0mmax\u001b[0m\u001b[1;33m(\u001b[0m\u001b[0mc\u001b[0m\u001b[1;33m,\u001b[0m \u001b[0mkey\u001b[0m \u001b[1;33m=\u001b[0m \u001b[0mc\u001b[0m\u001b[1;33m.\u001b[0m\u001b[0mget\u001b[0m\u001b[1;33m)\u001b[0m\u001b[1;33m.\u001b[0m\u001b[0mreplace\u001b[0m\u001b[1;33m(\u001b[0m\u001b[1;34m\"posible_wumpus\"\u001b[0m\u001b[1;33m,\u001b[0m \u001b[1;34m\"\"\u001b[0m\u001b[1;33m)\u001b[0m\u001b[1;33m\u001b[0m\u001b[1;33m\u001b[0m\u001b[0m\n\u001b[0m\u001b[0;32m     12\u001b[0m     \u001b[0mprob_wumpus\u001b[0m \u001b[1;33m=\u001b[0m \u001b[0meval\u001b[0m\u001b[1;33m(\u001b[0m\u001b[0mprob_wumpus\u001b[0m\u001b[1;33m)\u001b[0m\u001b[1;33m\u001b[0m\u001b[1;33m\u001b[0m\u001b[0m\n\u001b[0;32m     13\u001b[0m     \u001b[0mprint\u001b[0m\u001b[1;33m(\u001b[0m\u001b[1;34m\"casilla con alta probabilidad de wumpus: \"\u001b[0m\u001b[1;33m,\u001b[0m \u001b[0mprob_wumpus\u001b[0m\u001b[1;33m)\u001b[0m\u001b[1;33m\u001b[0m\u001b[1;33m\u001b[0m\u001b[0m\n",
      "\u001b[1;31mValueError\u001b[0m: max() arg is an empty sequence"
     ]
    }
   ],
   "source": [
    "# codigo de ejecución \n",
    "\n",
    "W = Wumpus(wumpus=None, oro=(2,3), pozos=[(0,3), (3,3)])\n",
    "agente = Agente_wkb()\n",
    "formulas = agente.fluentes_mapa_mental_wkb()\n",
    "formulas += agente.brisa_pozo_wkb()\n",
    "formulas += agente.hedor_wumpus_wkb()\n",
    "formulas += agente.casilla_segura_wkb()\n",
    "formulas += agente.alerta_wumpus()\n",
    "formulas += [f'en(0,0)_1', 'mirando_e_1', 'segura(0,0)']\n",
    "agente.base = LPQuery(formulas)\n",
    "agente.perceptos = W.para_sentidos()\n",
    "c = agente.interp_percepto_wkb(mundo='wumpus')\n",
    "agente.base.TELL(c)\n",
    "print(\"¡Base de conocimiento creada!\")\n",
    "\n",
    "def explorar_lab():\n",
    "    alertas = [] # lista que guarda las casillas en donde es probable que el wumpus esta\n",
    "    for i in range(40):\n",
    "        a = agente.reaccionar_wkb()\n",
    "        formula_accion = f'{a}_{agente.turno-1}'\n",
    "        agente.base.TELL(formula_accion)\n",
    "        W.transicion(a)\n",
    "        if not W.juego_activo:\n",
    "            clear_output(wait=True)\n",
    "            W.pintar_todo()\n",
    "            print(W.mensaje)\n",
    "            break\n",
    "        agente.estimar_estado_wkb(W)\n",
    "        alertas += agente.lista_alertas()\n",
    "        clear_output(wait=True)\n",
    "        W.pintar_todo()\n",
    "        plt.show()\n",
    "        sleep(.25) \n",
    "\n",
    "    return alertas\n",
    "\n",
    "alertas = explorar_lab()\n",
    "prob_wumpus = agente.identifica_wumpus(alertas)\n",
    "disparo_seguro = agente.disparo_seguro(prob_wumpus) # encuentra lugares seguros de disparo\n",
    "agente.casilla_apunta(disparo_seguro)\n",
    "agente.apunta(prob_wumpus) # se dirige a la casilla de disparo\n",
    "\n",
    "print(\"listo para disparar\")\n",
    "agente.turno += 1\n",
    "a = 'disparar'\n",
    "W.transicion(a)\n",
    "formula_accion = f'{a}_{agente.turno-1}'\n",
    "agente.base.TELL(formula_accion)\n",
    "#agente.estimar_estado_wkb(W)\n",
    "\n",
    "if not W.wumpus_vivo: \n",
    "    print(\"¡El wumpus ha sido impactado!\")\n",
    "\n",
    "else: \n",
    "    print(\"intento fallido. Wumpus vivo. :v\")"
   ]
  },
  {
   "cell_type": "markdown",
   "metadata": {},
   "source": [
    "- Mejorar metodos de la clase\n",
    "- exploracion y caza, deben retornar acciones\n",
    "- el bucle se repite según la cantidad de acciones disponibles para el agente\n",
    "- el programa de agente: primero caza, luego sale con el oro. "
   ]
  },
  {
   "cell_type": "code",
   "execution_count": 202,
   "metadata": {},
   "outputs": [
    {
     "data": {
      "text/plain": [
       "[1, 2, 3, 4, 5, 6]"
      ]
     },
     "execution_count": 202,
     "metadata": {},
     "output_type": "execute_result"
    }
   ],
   "source": [
    "l= [1,2,3,4,5,6,7]\n",
    "l.remove(7)\n",
    "l"
   ]
  },
  {
   "cell_type": "markdown",
   "metadata": {},
   "source": [
    "## Construcción de funciones"
   ]
  },
  {
   "cell_type": "code",
   "execution_count": 65,
   "metadata": {},
   "outputs": [
    {
     "data": {
      "image/png": "[encoded data removed]",
      "text/plain": [
       "<Figure size 576x576 with 1 Axes>"
      ]
     },
     "metadata": {
      "needs_background": "light"
     },
     "output_type": "display_data"
    },
    {
     "name": "stdout",
     "output_type": "stream",
     "text": [
      "dir final:  norte\n",
      "ubiación final del agente: (0, 2)\n"
     ]
    }
   ],
   "source": [
    "disparo_seguro = agente.disparo_seguro(consulta_alertas)\n",
    "\n",
    "acciones = []\n",
    "turno, casilla_actual, direccion, cas_seguras, cas_visitadas = agente.cache_wkb()\n",
    "R = Rejilla(agente.loc, choice(disparo_seguro), agente.todas_seguras_wkb())\n",
    "camino = best_first_search(R)\n",
    "camino = [agente.loc] + solucion(camino)\n",
    "acciones += acciones_camino(camino, direccion)\n",
    "\n",
    "for accion in acciones: \n",
    "    #print(agente.solo_direccion_wkb())\n",
    "    agente.turno += 1\n",
    "    W.transicion(accion)\n",
    "    formula_accion = f'{accion}_{agente.turno-1}'\n",
    "    agente.base.TELL(formula_accion)\n",
    "    agente.estimar_estado_wkb(W)\n",
    "    clear_output(wait=True)\n",
    "    W.pintar_todo()\n",
    "    plt.show()\n",
    "    sleep(.5) \n",
    "\n",
    "print(\"dir final: \", agente.solo_direccion_wkb())\n",
    "print(f\"ubiación final del agente: {agente.loc}\")\n",
    "\n"
   ]
  },
  {
   "cell_type": "code",
   "execution_count": 48,
   "metadata": {},
   "outputs": [
    {
     "name": "stdout",
     "output_type": "stream",
     "text": [
      "casilla con alta probabilidad de wumpus:  (1, 2)\n",
      "Puntos seguros de disparo:  [(0, 2), (1, 0), (1, 1), (2, 2), (3, 2)]\n"
     ]
    }
   ],
   "source": [
    "# puntos seguros de disparo\n",
    "\n",
    "from collections import Counter\n",
    "\n",
    "\n",
    "c = Counter(consulta_alertas)\n",
    "c = dict(c)\n",
    "prob_wumpus = max(c, key = c.get).replace(\"posible_wumpus\", \"\")\n",
    "prob_wumpus = eval(prob_wumpus)\n",
    "print(\"casilla con alta probabilidad de wumpus: \", prob_wumpus)\n",
    "\n",
    "disparo_seguro = []\n",
    "for c in agente.todas_seguras_wkb(): \n",
    "    #print(\"Puntos seguros de disparo\")\n",
    "    if c[0] == prob_wumpus[0]: \n",
    "        #print(\"x: \", c)\n",
    "        disparo_seguro.append(c)\n",
    "    elif c[1] == prob_wumpus[1]: \n",
    "        #print(\"y: \", c)\n",
    "        disparo_seguro.append(c)\n",
    "\n",
    "print(\"Puntos seguros de disparo: \", disparo_seguro)"
   ]
  },
  {
   "cell_type": "code",
   "execution_count": null,
   "metadata": {},
   "outputs": [],
   "source": [
    "x_agente, y_agente = agente.loc\n",
    "x_wumpus, y_wumpus = prob_wumpus\n",
    "\n",
    "if x_agente == x_wumpus - 1: \n",
    "    print(f\"pos_agente: {agente.loc}, dir: {agente.solo_direccion_wkb()} - pos_wumpus: {prob_wumpus}\")\n",
    "    ## apunta este\n",
    "    agente.apunta('e')\n",
    "elif x_agente == x_wumpus + 1: \n",
    "    print(f\"pos_agente: {agente.loc}, dir: {agente.solo_direccion_wkb()} - pos_wumpus: {prob_wumpus}\")\n",
    "    ## apunta oeste\n",
    "    agente.apunta('o')\n",
    "elif y_agente == y_wumpus - 1: \n",
    "    print(f\"pos_agente: {agente.loc}, dir: {agente.solo_direccion_wkb()} - pos_wumpus: {prob_wumpus}\")\n",
    "    ## apunta norte\n",
    "    agente.apunta('n')\n",
    "elif y_agente == y_wumpus + 1: \n",
    "    print(f\"pos_agente: {agente.loc}, dir: {agente.solo_direccion_wkb()} - pos_wumpus: {prob_wumpus}\")\n",
    "    ## apunta sur\n",
    "    agente.apunta('s')"
   ]
  },
  {
   "cell_type": "code",
   "execution_count": 14,
   "metadata": {},
   "outputs": [
    {
     "name": "stdout",
     "output_type": "stream",
     "text": [
      "dir actual:  sur\n",
      "acciones apuntar:  ['voltearIzquierda', 'voltearIzquierda']\n",
      "este\n",
      "norte\n",
      "dir final:  norte\n"
     ]
    }
   ],
   "source": [
    "dir_direcciones = {'o':'oeste', 'e':'este', 's':'sur', 'n':'norte'}\n",
    "dir_objetivo = 'n'\n",
    "print(\"dir actual: \", agente.solo_direccion_wkb())\n",
    "acciones_apuntar = voltear(agente.solo_direccion_wkb(), dir_direcciones[dir_objetivo])\n",
    "print(\"acciones apuntar: \", acciones_apuntar)\n",
    "for accion in acciones_apuntar: \n",
    "    #print(agente.solo_direccion_wkb())\n",
    "    agente.turno += 1\n",
    "    W.transicion(accion)\n",
    "    formula_accion = f'{accion}_{agente.turno-1}'\n",
    "    agente.base.TELL(formula_accion)\n",
    "    agente.estimar_estado_wkb(W)\n",
    "    print(agente.solo_direccion_wkb())\n",
    "print(\"dir final: \", agente.solo_direccion_wkb())\n"
   ]
  },
  {
   "cell_type": "code",
   "execution_count": null,
   "metadata": {},
   "outputs": [],
   "source": []
  }
 ],
 "metadata": {
  "interpreter": {
   "hash": "5eba2f6daac758e0c4eb74cbbf3fd787eaf14bd08a71327f2f2275e3d00aa03b"
  },
  "kernelspec": {
   "display_name": "Python 3.8.8 ('base')",
   "language": "python",
   "name": "python3"
  },
  "language_info": {
   "codemirror_mode": {
    "name": "ipython",
    "version": 3
   },
   "file_extension": ".py",
   "mimetype": "text/x-python",
   "name": "python",
   "nbconvert_exporter": "python",
   "pygments_lexer": "ipython3",
   "version": "3.8.8"
  },
  "orig_nbformat": 4
 },
 "nbformat": 4,
 "nbformat_minor": 2
}

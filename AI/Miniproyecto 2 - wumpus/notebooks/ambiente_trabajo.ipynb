{
 "cells": [
  {
   "cell_type": "markdown",
   "metadata": {},
   "source": [
    "# Ambiente de trabajo - Hunt the wumpus!"
   ]
  },
  {
   "cell_type": "code",
   "execution_count": 372,
   "metadata": {},
   "outputs": [],
   "source": [
    "# define rutas de trabajo e importa ambiente de trabajo\n",
    "import os\n",
    "import sys\n",
    "\n",
    "CURRENT_PATH = os.getcwd()\n",
    "NOTEBOOKS_PATH = os.path.join(CURRENT_PATH, os.path.pardir, 'notebooks')\n",
    "PYTHON_PATH = os.path.join(CURRENT_PATH, os.path.pardir, 'python')\n",
    "sys.path.append(PYTHON_PATH)\n",
    "\n",
    "from logica import *\n",
    "from entornos import *\n",
    "from wkb import *\n",
    "from time import sleep\n",
    "from IPython.display import clear_output\n",
    "import matplotlib.pyplot as plt\n",
    "\n",
    "from busqueda import best_first_search, solucion, breadth_first_search\n",
    "\n"
   ]
  },
  {
   "cell_type": "code",
   "execution_count": 373,
   "metadata": {},
   "outputs": [],
   "source": [
    "# Crea el objeto agente con la base de conocimientos para transitar seguro y salir de la cueva\n",
    "\n",
    "W = Wumpus(wumpus=(3,3), oro=(1,2), pozos=[(0,3), (2,2)])\n",
    "agente = Agente_wkb()\n",
    "formulas = agente.fluentes_mapa_mental_wkb()\n",
    "formulas += agente.brisa_pozo_wkb()\n",
    "formulas += agente.hedor_wumpus_wkb()\n",
    "formulas += agente.casilla_segura_wkb()\n",
    "# formulas += agente.wumpus_muerto() # agregar: ya no importa el hedor del wumpus\n",
    "# formulas += agente.caza_wumpus() # agregar: \n",
    "formulas += [f'en(0,0)_1', 'mirando_e_1', 'segura(0,0)']\n",
    "agente.base = LPQuery(formulas)\n",
    "agente.perceptos = W.para_sentidos()\n",
    "c = agente.interp_percepto_wkb(mundo='wumpus')\n",
    "agente.base.TELL(c)\n"
   ]
  },
  {
   "cell_type": "markdown",
   "metadata": {},
   "source": [
    "## Programa agente"
   ]
  },
  {
   "cell_type": "markdown",
   "metadata": {},
   "source": [
    "La función `programaKB`, que es un método de la clase agente, es la función a modificar y en ella debe incluirse la base de conocimiento necesaria para cazar al wumpus."
   ]
  },
  {
   "cell_type": "code",
   "execution_count": 199,
   "metadata": {},
   "outputs": [],
   "source": [
    "def programaKB(self, DEB=False):\n",
    "    acciones = []\n",
    "    turno, casilla_actual, direccion, cas_seguras, cas_visitadas = self.cache_wkb()\n",
    "\n",
    "    if DEB:\n",
    "        print('')\n",
    "        print('Turno acutal:', turno)\n",
    "        print('Casilla actual:', casilla_actual)\n",
    "        print('Dirección actual:', direccion)\n",
    "        print('Casillas adyacentes seguras:', cas_seguras)\n",
    "        print('Casillas visitadas:', cas_visitadas)\n",
    "        print('¿El oro ha sido tomado?: ', W.oro_tomado)\n",
    "        print('¿El wumpus sigue con vida?: ', W.wumpus_vivo)\n",
    "\n",
    "    if ASK(f'brillo_{turno}','success',self.base):\n",
    "        if DEB:\n",
    "            print('¡Oh, el oro!')\n",
    "        acciones.append('agarrar')\n",
    "        R = Rejilla(casilla_actual, (0,0), self.todas_seguras_wkb())\n",
    "        camino = best_first_search(R)\n",
    "        camino = [casilla_actual] + solucion(camino)\n",
    "        acciones += acciones_camino(camino, direccion)\n",
    "        acciones.append('salir')\n",
    "    else:\n",
    "        opciones = [casilla for casilla in cas_seguras if casilla not in cas_visitadas]\n",
    "        if DEB:\n",
    "            print('Casillas opcionales:', opciones)\n",
    "        if len(opciones) > 0:\n",
    "            casilla_ir = choice(opciones)\n",
    "            if DEB:\n",
    "                print('El agente quiere ir a la casilla', casilla_ir)\n",
    "            camino = [casilla_actual, casilla_ir]\n",
    "            acciones = acciones_camino(camino, direccion)\n",
    "        elif len(cas_seguras) > 0:\n",
    "            casilla_ir = choice(cas_seguras)\n",
    "            if DEB:\n",
    "                print('El agente quiere devolverse a la casilla', casilla_ir)\n",
    "            camino = [casilla_actual, casilla_ir]\n",
    "            acciones = acciones_camino(camino, direccion)\n",
    "        else:\n",
    "            print(\"¡Caso no contemplado!\")\n",
    "    self.acciones += acciones\n",
    "\n",
    "setattr(Agente_wkb, 'programa', programaKB)"
   ]
  },
  {
   "cell_type": "markdown",
   "metadata": {},
   "source": [
    "## ¡Jugar!"
   ]
  },
  {
   "cell_type": "code",
   "execution_count": 200,
   "metadata": {},
   "outputs": [
    {
     "name": "stdout",
     "output_type": "stream",
     "text": [
      "\n",
      "Turno acutal: 1\n",
      "Casilla actual: (0, 0)\n",
      "Dirección actual: este\n",
      "Casillas adyacentes seguras: [(1, 0), (0, 1)]\n",
      "Casillas visitadas: [(0, 0)]\n",
      "¿El oro ha sido tomado?:  False\n",
      "¿El wumpus sigue con vida?:  True\n",
      "Casillas opcionales: [(1, 0), (0, 1)]\n",
      "El agente quiere ir a la casilla (1, 0)\n",
      "\n",
      "Turno acutal: 2\n",
      "Casilla actual: (1, 0)\n",
      "Dirección actual: este\n",
      "Casillas adyacentes seguras: [(0, 0), (2, 0), (1, 1)]\n",
      "Casillas visitadas: [(0, 0), (1, 0)]\n",
      "¿El oro ha sido tomado?:  False\n",
      "¿El wumpus sigue con vida?:  True\n",
      "Casillas opcionales: [(2, 0), (1, 1)]\n",
      "El agente quiere ir a la casilla (2, 0)\n",
      "\n",
      "Turno acutal: 3\n",
      "Casilla actual: (2, 0)\n",
      "Dirección actual: este\n",
      "Casillas adyacentes seguras: [(1, 0), (3, 0), (2, 1)]\n",
      "Casillas visitadas: [(0, 0), (1, 0), (2, 0)]\n",
      "¿El oro ha sido tomado?:  False\n",
      "¿El wumpus sigue con vida?:  True\n",
      "Casillas opcionales: [(3, 0), (2, 1)]\n",
      "El agente quiere ir a la casilla (2, 1)\n",
      "\n",
      "Turno acutal: 5\n",
      "Casilla actual: (2, 1)\n",
      "Dirección actual: norte\n",
      "Casillas adyacentes seguras: [(1, 1), (2, 0)]\n",
      "Casillas visitadas: [(0, 0), (1, 0), (2, 0), (2, 1)]\n",
      "¿El oro ha sido tomado?:  False\n",
      "¿El wumpus sigue con vida?:  True\n",
      "Casillas opcionales: [(1, 1)]\n",
      "El agente quiere ir a la casilla (1, 1)\n",
      "\n",
      "Turno acutal: 7\n",
      "Casilla actual: (1, 1)\n",
      "Dirección actual: oeste\n",
      "Casillas adyacentes seguras: [(0, 1), (2, 1), (1, 0), (1, 2)]\n",
      "Casillas visitadas: [(0, 0), (1, 0), (1, 1), (2, 0), (2, 1)]\n",
      "¿El oro ha sido tomado?:  False\n",
      "¿El wumpus sigue con vida?:  True\n",
      "Casillas opcionales: [(0, 1), (1, 2)]\n",
      "El agente quiere ir a la casilla (0, 1)\n",
      "\n",
      "Turno acutal: 8\n",
      "Casilla actual: (0, 1)\n",
      "Dirección actual: oeste\n",
      "Casillas adyacentes seguras: [(1, 1), (0, 0), (0, 2)]\n",
      "Casillas visitadas: [(0, 0), (0, 1), (1, 0), (1, 1), (2, 0), (2, 1)]\n",
      "¿El oro ha sido tomado?:  False\n",
      "¿El wumpus sigue con vida?:  True\n",
      "Casillas opcionales: [(0, 2)]\n",
      "El agente quiere ir a la casilla (0, 2)\n",
      "\n",
      "Turno acutal: 10\n",
      "Casilla actual: (0, 2)\n",
      "Dirección actual: norte\n",
      "Casillas adyacentes seguras: [(1, 2), (0, 1)]\n",
      "Casillas visitadas: [(0, 0), (0, 1), (0, 2), (1, 0), (1, 1), (2, 0), (2, 1)]\n",
      "¿El oro ha sido tomado?:  False\n",
      "¿El wumpus sigue con vida?:  True\n",
      "Casillas opcionales: [(1, 2)]\n",
      "El agente quiere ir a la casilla (1, 2)\n"
     ]
    }
   ],
   "source": [
    "# ejecuta el juego \n",
    "\n",
    "for i in range(10):\n",
    "    a = agente.reaccionar_wkb(DEB=True) # DEB = False by default\n",
    "    formula_accion = f'{a}_{agente.turno-1}'\n",
    "    agente.base.TELL(formula_accion)\n",
    "    W.transicion(a)\n",
    "    if not W.juego_activo:\n",
    "        clear_output(wait=True)\n",
    "        W.pintar_todo()\n",
    "        print(W.mensaje)\n",
    "        break\n",
    "    agente.estimar_estado_wkb(W)\n",
    "    #clear_output(wait=True)\n",
    "    #W.pintar_todo()\n",
    "    #plt.show()\n",
    "    #sleep(.3) "
   ]
  }
 ],
 "metadata": {
  "interpreter": {
   "hash": "5eba2f6daac758e0c4eb74cbbf3fd787eaf14bd08a71327f2f2275e3d00aa03b"
  },
  "kernelspec": {
   "display_name": "Python 3.8.8 ('base')",
   "language": "python",
   "name": "python3"
  },
  "language_info": {
   "codemirror_mode": {
    "name": "ipython",
    "version": 3
   },
   "file_extension": ".py",
   "mimetype": "text/x-python",
   "name": "python",
   "nbconvert_exporter": "python",
   "pygments_lexer": "ipython3",
   "version": "3.8.8"
  },
  "orig_nbformat": 4
 },
 "nbformat": 4,
 "nbformat_minor": 2
}

{
 "cells": [
  {
   "cell_type": "markdown",
   "metadata": {},
   "source": [
    "# **Cazando al wumpus**\n",
    "\n",
    "Carlos Garavito, Emmanuel Moreno\n",
    "***\n"
   ]
  },
  {
   "cell_type": "markdown",
   "metadata": {},
   "source": [
    "## Descripción del problema"
   ]
  },
  {
   "cell_type": "markdown",
   "metadata": {},
   "source": [
    "## Estrategia para la caza del wumpus"
   ]
  },
  {
   "cell_type": "markdown",
   "metadata": {},
   "source": [
    "Para realizar la casa del wumpus, se sacará provecho del trabajo realizado en clase, en donde se desarrolla la base de conocimiento del `mundo del wumpus`. En este, en la mayoria de casos el agente es capaz de explorar seguro el laberinto, encontrar el oro y escapar. Esto es, se desarrollo una base de conocimiento que\n",
    "- identifica lugares seguros de acuerdo a la respuesta de los sensores\n",
    "- una vez encuentra el oro, escoge la ruta mas corta hacia la salida con las casillas visitadas seguras. \n",
    "\n",
    "de esta manera, la base de conocimiento y los métodos de la clase agente que la crean, se incluyen en el paquete `agente_wkb`. "
   ]
  },
  {
   "cell_type": "markdown",
   "metadata": {},
   "source": [
    "## Cazando al wumpus"
   ]
  },
  {
   "cell_type": "code",
   "execution_count": 33,
   "metadata": {},
   "outputs": [],
   "source": [
    "# define rutas de trabajo e importa ambiente de trabajo\n",
    "import os\n",
    "import sys\n",
    "\n",
    "CURRENT_PATH = os.getcwd()\n",
    "NOTEBOOKS_PATH = os.path.join(CURRENT_PATH, os.path.pardir, 'notebooks')\n",
    "PYTHON_PATH = os.path.join(CURRENT_PATH, os.path.pardir, 'python')\n",
    "sys.path.append(PYTHON_PATH)\n",
    "\n",
    "from logica import *\n",
    "from entornos import *\n",
    "from wkb import *\n",
    "from time import sleep\n",
    "from IPython.display import clear_output\n",
    "import matplotlib.pyplot as plt\n",
    "from collections import Counter\n",
    "\n",
    "\n",
    "from busqueda import best_first_search, solucion, breadth_first_search"
   ]
  },
  {
   "cell_type": "markdown",
   "metadata": {},
   "source": [
    "### Base de conocimiento `alerta_wumpus`"
   ]
  },
  {
   "cell_type": "code",
   "execution_count": 34,
   "metadata": {},
   "outputs": [],
   "source": [
    "# crea la base de conocimientos de alerta de wumpus\n",
    "\n",
    "def alerta_wumpus(self):\n",
    "    x, y = self.loc\n",
    "    turno = self.turno\n",
    "    formulas = []\n",
    "    formulas += [\n",
    "        f'en({x},{y})_{turno}Yhedor_{turno}>alerta_wumpus({x},{y})',  \n",
    "    ]\n",
    "    return formulas\n",
    "\n",
    "setattr(Agente_wkb, 'alerta_wumpus', alerta_wumpus)\n"
   ]
  },
  {
   "cell_type": "code",
   "execution_count": 35,
   "metadata": {},
   "outputs": [],
   "source": [
    "# modifica el metodo `estimar_estado_wkb` para incluir \n",
    "# `alerta_wumpus`\n",
    "\n",
    "def estimar_estado_wkb2(self, W):\n",
    "    self.base.TELL(f'segura({self.loc[0]},{self.loc[1]})')\n",
    "    cas_seguras = self.adyacentes_seguras_wkb()\n",
    "    self.base.TELL('Y'.join([f'segura({c[0]},{c[1]})' for c in cas_seguras]))\n",
    "    nueva_dir = self.nueva_direccion_wkb()\n",
    "    self.base.TELL(nueva_dir)\n",
    "    nueva_pos = self.nueva_posicion_wkb()\n",
    "    self.base.TELL(nueva_pos)\n",
    "    formulas = [d for d in self.base.datos if f'_{self.turno}' in d]\n",
    "    formulas += [s for s in self.base.datos if 'segura' in s]\n",
    "    formulas += self.fluentes_mapa_mental_wkb()\n",
    "    formulas += self.brisa_pozo_wkb()\n",
    "    formulas += self.hedor_wumpus_wkb()\n",
    "    formulas += self.casilla_segura_wkb()\n",
    "    formulas += self.casillas_visitadas_wkb()\n",
    "    formulas += self.alerta_wumpus() # new\n",
    "    self.perceptos = W.para_sentidos()\n",
    "    formulas += [self.interp_percepto_wkb(mundo='wumpus')]\n",
    "    self.base = LPQuery(formulas)\n",
    "\n",
    "setattr(Agente_wkb, 'estimar_estado_wkb', estimar_estado_wkb2)\n"
   ]
  },
  {
   "cell_type": "markdown",
   "metadata": {},
   "source": [
    "## Lista de alertas Wumpus"
   ]
  },
  {
   "cell_type": "code",
   "execution_count": 36,
   "metadata": {},
   "outputs": [],
   "source": [
    "# Modifica `lista_alertas`\n",
    "# - guarda casillas donde detecto wumpus\n",
    "# - quita turno de las formulas de alerta\n",
    "# - quita de la lista casillas visitadas\n",
    "\n",
    "def lista_alertas(self):\n",
    "\t'''\n",
    "\tidentifica y retorna las casillas en donde es posible que el wumpus esta.\n",
    "\tEs necesario que la base de conocimientos tenga la cabeza de ASK ya creada.\n",
    "\t'''\n",
    "\tturno = self.turno\n",
    "\tx, y = self.loc\n",
    "\n",
    "\tdef truncar(x):\n",
    "\t\tif x < 0:\n",
    "\t\t\treturn 0\n",
    "\t\telif x > 3:\n",
    "\t\t\treturn 3\n",
    "\t\telse:\n",
    "\t\t\treturn x\n",
    "\n",
    "\tdef adyacentes(casilla):\n",
    "\t\tx, y = casilla\n",
    "\t\tadyacentes = [\n",
    "\t\t\t(truncar(x - 1), y), (truncar(x + 1), y),\n",
    "\t\t\t(x, truncar(y - 1)), (x, truncar(y + 1))\n",
    "\t\t]\n",
    "\t\tadyacentes = [c for c in adyacentes if c != casilla]\n",
    "\t\treturn adyacentes\n",
    "\t\n",
    "\tcasillas = adyacentes(self.loc)\n",
    "\talertas = []\n",
    "\t\n",
    "\tconsulta = ASK(f'alerta_wumpus({x},{y})', 'success', self.base)\n",
    "\tif consulta:\n",
    "\t\tfor c in casillas:\n",
    "\t\t\tx1, y1 = c\n",
    "\t\t\talertas.append(f'posible_wumpus({x1},{y1})')\n",
    "\t\t\tif c in self.todas_seguras_wkb(): \n",
    "\t\t\t\talertas.remove(f'posible_wumpus({x1},{y1})')\n",
    "\t\t\t\n",
    "\treturn alertas\n",
    "\n",
    "setattr(Agente_wkb, 'lista_alertas', lista_alertas)"
   ]
  },
  {
   "cell_type": "markdown",
   "metadata": {},
   "source": [
    "### Estimación de posición del Wumpus"
   ]
  },
  {
   "cell_type": "code",
   "execution_count": 37,
   "metadata": {},
   "outputs": [],
   "source": [
    "def identifica_wumpus(self, alertas):\n",
    "    '''\n",
    "    Identifica posición mas probable del wumpus e\n",
    "    identifica los puntos de disparo seguros\n",
    "\n",
    "    Requiere \n",
    "    from collections import Counter\n",
    "    '''\n",
    "    c = Counter(alertas)\n",
    "    c = dict(c)\n",
    "    prob_wumpus = max(c, key = c.get).replace(\"posible_wumpus\", \"\")\n",
    "    prob_wumpus = eval(prob_wumpus)\n",
    "    print(\"casilla con alta probabilidad de wumpus: \", prob_wumpus)\n",
    "\n",
    "    return prob_wumpus\n",
    "\n",
    "setattr(Agente_wkb, 'identifica_wumpus', identifica_wumpus)\n"
   ]
  },
  {
   "cell_type": "markdown",
   "metadata": {},
   "source": [
    "### Caza del Wumpus"
   ]
  },
  {
   "cell_type": "code",
   "execution_count": 38,
   "metadata": {},
   "outputs": [],
   "source": [
    "def disparo_seguro(self, prob_wumpus):\n",
    "\n",
    "    disparo_seguro = []\n",
    "    for c in self.todas_seguras_wkb(): \n",
    "        #print(\"Puntos seguros de disparo\")\n",
    "        if c[0] == prob_wumpus[0]: \n",
    "            #print(\"x: \", c)\n",
    "            disparo_seguro.append(c)\n",
    "        elif c[1] == prob_wumpus[1]: \n",
    "            #print(\"y: \", c)\n",
    "            disparo_seguro.append(c)\n",
    "    \n",
    "    print(\"Puntos seguros de disparo: \", disparo_seguro)\n",
    "    return  disparo_seguro  \n",
    "\n",
    "setattr(Agente_wkb, 'disparo_seguro', disparo_seguro)\n"
   ]
  },
  {
   "cell_type": "code",
   "execution_count": 39,
   "metadata": {},
   "outputs": [],
   "source": [
    "def apunta_dir(self, dir_objetivo):\n",
    "    '''\n",
    "    Cambia la dirección actual del agente, a la dirección objetivo.\n",
    "    '''\n",
    "    dir_direcciones = {'o':'oeste', 'e':'este', 's':'sur', 'n':'norte'}\n",
    "    print(f\"dir actual: {self.solo_direccion_wkb()}\")\n",
    "    acciones_apuntar = voltear(self.solo_direccion_wkb(), dir_direcciones[dir_objetivo])\n",
    "    print(\"acciones apuntar: \", acciones_apuntar)\n",
    "    for accion in acciones_apuntar: \n",
    "        #print(self.solo_direccion_wkb())\n",
    "        self.turno += 1\n",
    "        W.transicion(accion)\n",
    "        formula_accion = f'{accion}_{self.turno-1}'\n",
    "        self.base.TELL(formula_accion)\n",
    "        self.estimar_estado_wkb(W)\n",
    "        print(self.solo_direccion_wkb())\n",
    "    print(f\"dir final: {self.solo_direccion_wkb()}\")\n",
    "    \n",
    "setattr(Agente_wkb, 'apunta_dir', apunta_dir)\n"
   ]
  },
  {
   "cell_type": "code",
   "execution_count": 40,
   "metadata": {},
   "outputs": [],
   "source": [
    "def apunta(self, prob_wumpus):\n",
    "    '''\n",
    "    Cambia la dirección del agente a la dirección apropiada para disparar al wumpus\n",
    "    '''\n",
    "    print(f\"prob_wumpus: {prob_wumpus}\")\n",
    "    x_agente, y_agente = self.loc\n",
    "    x_wumpus, y_wumpus = prob_wumpus\n",
    "\n",
    "    if x_agente < x_wumpus: \n",
    "        print(f\"pos_agente: {self.loc}, dir: {self.solo_direccion_wkb()} - pos_wumpus: {prob_wumpus}\")\n",
    "        ## apunta este\n",
    "        self.apunta_dir('e')\n",
    "    elif x_agente > x_wumpus: \n",
    "        print(f\"pos_agente: {self.loc}, dir: {self.solo_direccion_wkb()} - pos_wumpus: {prob_wumpus}\")\n",
    "        ## apunta oeste\n",
    "        self.apunta_dir('o')\n",
    "    elif y_agente < y_wumpus: \n",
    "        print(f\"pos_agente: {self.loc}, dir: {self.solo_direccion_wkb()} - pos_wumpus: {prob_wumpus}\")\n",
    "        ## apunta norte\n",
    "        self.apunta_dir('n')\n",
    "    elif y_agente > y_wumpus: \n",
    "        print(f\"pos_agente: {self.loc}, dir: {self.solo_direccion_wkb()} - pos_wumpus: {prob_wumpus}\")\n",
    "        ## apunta sur\n",
    "        self.apunta_dir('s')\n",
    "    else:\n",
    "        print(\"no fue posible apuntar\")\n",
    "\n",
    "    W.pintar_todo()\n",
    "    plt.show()\n",
    "\n",
    "setattr(Agente_wkb, 'apunta', apunta)"
   ]
  },
  {
   "cell_type": "code",
   "execution_count": 41,
   "metadata": {},
   "outputs": [],
   "source": [
    "def casilla_apunta(self, disparo_seguro): \n",
    "    '''\n",
    "    Se dirige a una casilla segura para apuntar\n",
    "    '''\n",
    "#    disparo_seguro = self.disparo_seguro(alertas)\n",
    "    print(\"se dirige a casilla segura\")\n",
    "\n",
    "    if self.loc in disparo_seguro: \n",
    "        clear_output(wait=True)\n",
    "        print(\"Listo para disparar\")\n",
    "        W.pintar_todo()\n",
    "        plt.show()\n",
    "        return None\n",
    "    \n",
    "    else:\n",
    "        print(\"ir a casilla de disparo\")\n",
    "        acciones = []\n",
    "        turno, casilla_actual, direccion, cas_seguras, cas_visitadas = self.cache_wkb()\n",
    "        R = Rejilla(self.loc, choice(disparo_seguro), self.todas_seguras_wkb())\n",
    "        camino = best_first_search(R)\n",
    "        camino = [self.loc] + solucion(camino)\n",
    "        acciones += acciones_camino(camino, direccion)\n",
    "\n",
    "    #self.acciones += acciones\n",
    "        \n",
    "        for accion in acciones: \n",
    "            #print(self.solo_direccion_wkb())\n",
    "            self.turno += 1\n",
    "            W.transicion(accion)\n",
    "            formula_accion = f'{accion}_{self.turno-1}'\n",
    "            self.base.TELL(formula_accion)\n",
    "            self.estimar_estado_wkb(W)\n",
    "            clear_output(wait=True)\n",
    "            W.pintar_todo()\n",
    "            plt.show()\n",
    "            sleep(.5) \n",
    "    print(\"en posicion de disparo\")\n",
    "    print(f\"ubiación final del self: {self.loc}\")\n",
    "    print(f\"dir final: \", {self.solo_direccion_wkb()})\n",
    "\n",
    "setattr(Agente_wkb, 'casilla_apunta', casilla_apunta)"
   ]
  },
  {
   "cell_type": "markdown",
   "metadata": {},
   "source": [
    "## Prueba"
   ]
  },
  {
   "cell_type": "code",
   "execution_count": 49,
   "metadata": {},
   "outputs": [],
   "source": [
    "def explorar(self):\n",
    "    acciones = []\n",
    "    turno, casilla_actual, direccion, cas_seguras, cas_visitadas = self.cache_wkb()\n",
    "\n",
    "    opciones = [casilla for casilla in cas_seguras if casilla not in cas_visitadas]\n",
    "    \n",
    "    if len(opciones) > 0:\n",
    "        print(f\"opciones: {opciones}\")\n",
    "        casilla_ir = choice(opciones)\n",
    "        camino = [casilla_actual, casilla_ir]\n",
    "        acciones = acciones_camino(camino, direccion)\n",
    "    elif len(cas_seguras) > 0:\n",
    "        casilla_ir = choice(cas_seguras)\n",
    "        camino = [casilla_actual, casilla_ir]\n",
    "        acciones = acciones_camino(camino, direccion)\n",
    "    else:\n",
    "        print(\"¡Caso no contemplado!\")\n",
    "        \n",
    "    self.acciones += acciones \n",
    "\n",
    "setattr(Agente_wkb, 'explorar', explorar)"
   ]
  },
  {
   "cell_type": "code",
   "execution_count": 58,
   "metadata": {},
   "outputs": [],
   "source": [
    "def programaKB(self, DEB=False):\n",
    "    acciones = []\n",
    "    turno, casilla_actual, direccion, cas_seguras, cas_visitadas = self.cache_wkb()\n",
    "\n",
    "    #self.explorar()\n",
    "\n",
    "    if not W.wumpus_vivo: \n",
    "        print(\"cazar\")\n",
    "    else: \n",
    "        if ASK(f'brillo_{turno}','success',self.base):\n",
    "            if DEB:\n",
    "                print('¡Oh, el oro!')\n",
    "            acciones.append('agarrar')\n",
    "            R = Rejilla(casilla_actual, (0,0), self.todas_seguras_wkb())\n",
    "            camino = best_first_search(R)\n",
    "            camino = [casilla_actual] + solucion(camino)\n",
    "            acciones += acciones_camino(camino, direccion)\n",
    "            acciones.append('salir')\n",
    "        else:\n",
    "            opciones = [casilla for casilla in cas_seguras if casilla not in cas_visitadas]\n",
    "            if DEB:\n",
    "                print('Casillas opcionales:', opciones)\n",
    "            if len(opciones) > 0:\n",
    "                casilla_ir = choice(opciones)\n",
    "                if DEB:\n",
    "                    print('El agente quiere ir a la casilla', casilla_ir)\n",
    "                camino = [casilla_actual, casilla_ir]\n",
    "                acciones = acciones_camino(camino, direccion)\n",
    "            elif len(cas_seguras) > 0:\n",
    "                casilla_ir = choice(cas_seguras)\n",
    "                if DEB:\n",
    "                    print('El agente quiere devolverse a la casilla', casilla_ir)\n",
    "                camino = [casilla_actual, casilla_ir]\n",
    "                acciones = acciones_camino(camino, direccion)\n",
    "            else:\n",
    "                print(\"¡Caso no contemplado!\")\n",
    "        self.acciones += acciones\n",
    "\n",
    "setattr(Agente_wkb, 'programa', programaKB)"
   ]
  },
  {
   "cell_type": "code",
   "execution_count": 57,
   "metadata": {},
   "outputs": [
    {
     "data": {
      "image/png": "[encoded data removed]",
      "text/plain": [
       "<Figure size 576x576 with 1 Axes>"
      ]
     },
     "metadata": {
      "needs_background": "light"
     },
     "output_type": "display_data"
    },
    {
     "name": "stdout",
     "output_type": "stream",
     "text": [
      "en posicion de disparo\n",
      "ubiación final del self: (3, 2)\n",
      "dir final:  {'norte'}\n",
      "prob_wumpus: (2, 2)\n",
      "pos_agente: (3, 2), dir: norte - pos_wumpus: (2, 2)\n",
      "dir actual: norte\n",
      "acciones apuntar:  ['voltearIzquierda']\n",
      "oeste\n",
      "dir final: oeste\n"
     ]
    },
    {
     "data": {
      "image/png": "[encoded data removed]",
      "text/plain": [
       "<Figure size 576x576 with 1 Axes>"
      ]
     },
     "metadata": {
      "needs_background": "light"
     },
     "output_type": "display_data"
    },
    {
     "name": "stdout",
     "output_type": "stream",
     "text": [
      "listo para disparar\n",
      "¡El wumpus ha caido!\n",
      "¡El wumpus ha sido impactado!\n"
     ]
    }
   ],
   "source": [
    "# codigo de ejecución \n",
    "\n",
    "W = Wumpus(wumpus=None, oro=(2,3), pozos=[(0,3), (3,3)])\n",
    "agente = Agente_wkb()\n",
    "formulas = agente.fluentes_mapa_mental_wkb()\n",
    "formulas += agente.brisa_pozo_wkb()\n",
    "formulas += agente.hedor_wumpus_wkb()\n",
    "formulas += agente.casilla_segura_wkb()\n",
    "formulas += agente.alerta_wumpus()\n",
    "formulas += [f'en(0,0)_1', 'mirando_e_1', 'segura(0,0)']\n",
    "agente.base = LPQuery(formulas)\n",
    "agente.perceptos = W.para_sentidos()\n",
    "c = agente.interp_percepto_wkb(mundo='wumpus')\n",
    "agente.base.TELL(c)\n",
    "print(\"¡Base de conocimiento creada!\")\n",
    "\n",
    "alertas = [] # lista que guarda las casillas en donde es probable que el wumpus esta\n",
    "\n",
    "for i in range(40):\n",
    "    print(agente.loc)\n",
    "    a = agente.reaccionar_wkb()\n",
    "    formula_accion = f'{a}_{agente.turno-1}'\n",
    "    agente.base.TELL(formula_accion)\n",
    "    W.transicion(a)\n",
    "    if not W.juego_activo:\n",
    "        clear_output(wait=True)\n",
    "        W.pintar_todo()\n",
    "        print(W.mensaje)\n",
    "        break\n",
    "    agente.estimar_estado_wkb(W)\n",
    "    alertas += agente.lista_alertas()\n",
    "    clear_output(wait=True)\n",
    "    W.pintar_todo()\n",
    "    plt.show()\n",
    "    sleep(.25) \n",
    "\n",
    "#alertas = explorar_lab(alertas)\n",
    "prob_wumpus = agente.identifica_wumpus(alertas)\n",
    "disparo_seguro = agente.disparo_seguro(prob_wumpus) # encuentra lugares seguros de disparo\n",
    "agente.casilla_apunta(disparo_seguro)\n",
    "agente.apunta(prob_wumpus) # se dirige a la casilla de disparo\n",
    "\n",
    "print(\"listo para disparar\")\n",
    "agente.turno += 1\n",
    "a = 'disparar'\n",
    "W.transicion(a)\n",
    "formula_accion = f'{a}_{agente.turno-1}'\n",
    "agente.base.TELL(formula_accion)\n",
    "#agente.estimar_estado_wkb(W)\n",
    "\n",
    "if not W.wumpus_vivo: \n",
    "    print(\"¡El wumpus ha sido impactado!\")\n",
    "\n",
    "else: \n",
    "    print(\"intento fallido. Wumpus vivo. :v\")"
   ]
  },
  {
   "cell_type": "markdown",
   "metadata": {},
   "source": []
  },
  {
   "cell_type": "markdown",
   "metadata": {},
   "source": []
  }
 ],
 "metadata": {
  "kernelspec": {
   "display_name": "Python 3.8.8 ('base')",
   "language": "python",
   "name": "python3"
  },
  "language_info": {
   "codemirror_mode": {
    "name": "ipython",
    "version": 3
   },
   "file_extension": ".py",
   "mimetype": "text/x-python",
   "name": "python",
   "nbconvert_exporter": "python",
   "pygments_lexer": "ipython3",
   "version": "3.8.8"
  },
  "orig_nbformat": 4,
  "vscode": {
   "interpreter": {
    "hash": "5eba2f6daac758e0c4eb74cbbf3fd787eaf14bd08a71327f2f2275e3d00aa03b"
   }
  }
 },
 "nbformat": 4,
 "nbformat_minor": 2
}

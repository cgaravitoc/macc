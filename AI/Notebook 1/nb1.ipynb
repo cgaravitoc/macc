{
 "cells": [
  {
   "cell_type": "markdown",
   "metadata": {
    "colab_type": "text",
    "id": "TpmFfXsQ0dYI"
   },
   "source": [
    "<table>\n",
    "    <tr>\n",
    "        <td><img src=\"./imagenes/Macc.png\" width=\"400\"/></td>\n",
    "        <td>&nbsp;</td>\n",
    "        <td>\n",
    "            <h1 style=\"color:blue;text-align:left\">Inteligencia Artificial</h1></td>\n",
    "        <td>\n",
    "            <table><tr>\n",
    "            <tp><p style=\"font-size:150%;text-align:center\">Notebook 1</p></tp>\n",
    "            <tp><p style=\"font-size:150%;text-align:center\">Ambientes de tarea</p></tp>\n",
    "            </tr></table>\n",
    "        </td>\n",
    "    </tr>\n",
    "</table>\n",
    "\n",
    "---"
   ]
  },
  {
   "cell_type": "markdown",
   "metadata": {
    "colab_type": "text",
    "id": "V3SkDSWJ0dYJ"
   },
   "source": [
    "## Objetivo\n",
    "\n",
    "La representación de problemas es uno de los temas iniciales en la historia de la inteligencia artificial. Gracias a una mirada en perspectiva, hoy podemos definir una estructura común para la representación de muchos problemas, en lo que se conoce como un **ambiente de tarea**. El objetivo de este notebook es permitir al estudiante ganar familiaridad con la implementación en Python de un ambiente de tarea particular, que usaremos para resolver el problema de las ocho reinas, pero que se podrá adaptar luego a otros problemas.\n",
    "\n",
    "Adaptado de (Russell & Norvig, 2020), sección 3.1.1"
   ]
  },
  {
   "cell_type": "markdown",
   "metadata": {
    "colab_type": "text",
    "id": "5HnQ_gA70dYL"
   },
   "source": [
    "## Secciones\n",
    "\n",
    "Desarrollaremos la explicación de la siguiente manera:\n",
    "\n",
    "1. [Presentación del problema de las ocho reinas](#presentacion).\n",
    "2. [Implementación del ambiente de tarea en Python](#implementacion).\n"
   ]
  },
  {
   "cell_type": "markdown",
   "metadata": {
    "colab_type": "text",
    "id": "S4x5lJfd0dYM"
   },
   "source": [
    "## Problema de ejemplo <a class=\"anchor\" id=\"presentacion\"></a>\n",
    "\n",
    "El siguiente problema se conoce como las *ocho reinas*, el cual consiste en poner ocho reinas en un tablero de ajerdez de tal manera que ninguna pueda atacar a las demás. \n",
    "\n",
    "En el siguiente tablero hay siete reinas. ¿Es esta una situación admisible? ¿Cuál puede ser una solución al problema?\n",
    "\n",
    "<img src=\"./imagenes/ocho_reinas.png\" width=\"230\">"
   ]
  },
  {
   "cell_type": "markdown",
   "metadata": {
    "colab_type": "text",
    "id": "4601LZmB0dYN"
   },
   "source": [
    "¿Cómo definimos el *entorno*? Este puede representarse como una colección de estados, donde cada uno de ellos representa el tablero con cero o más reinas. Por su parte, las acciones del agente consisten en poner una reina en una casilla vacía del tablero (aunque no todas las acciones serán *aplicables* dado un estado del tablero)."
   ]
  },
  {
   "cell_type": "markdown",
   "metadata": {
    "colab_type": "text",
    "id": "P60dU8Mg0dYO"
   },
   "source": [
    "**Ejercicio 1:**\n",
    "\n",
    "De acuerdo con la formulación de entornos hecha durante la clase, ¿cuáles características considera usted que  tiene el *entorno* en este problema?\n",
    "\n",
    "| Opción 1 | Opción 2 |\n",
    "| :---: | :---: |\n",
    "| $\\checkmark$ Completamente observable | Parcialmente observable|\n",
    "| Agente único | Multiagente |\n",
    "| Determinista | Estocástico |\n",
    "| Episódico    | secuencial  |\n",
    "| Estático     | dinámico    |\n",
    "| Discreto     | continuo    |\n",
    "| Conocido     | desconocido |"
   ]
  },
  {
   "cell_type": "markdown",
   "metadata": {},
   "source": [
    "----"
   ]
  },
  {
   "cell_type": "markdown",
   "metadata": {
    "colab_type": "text",
    "id": "vL49lY0r0dYP"
   },
   "source": [
    "La **definición formal** del problema se hace con base en la definición de las siguientes características:\n",
    "\n",
    "* **Estado inicial**: Situación del entorno desde la cual el agente comienza a resolver el problema. En nuestro ejemplo, el estado inicial es el tablero vacío.\n",
    "\n",
    "* **Posibles acciones**: Descripción de las posibles acciones del agente en el entorno, dado un estado `s`. Estas acciones se llaman las *acciones aplicables* en `s`. En nuestro problema, dado un estado con $k$ reinas ($k<8$), las acciones aplicables son poner una reina en una de las casillas vacías que no es atacada por ninguna de las otras reinas.\n",
    "\n",
    "* **Función de transiciones**: Descripción del entorno que resulta de la ejecución de una de las acciones del agente. Junto con el estado inicial y las posibles acciones, la función de transiciones define el *espacio de estados* del problema. En nuestro ejemplo, la función toma un tablero con $k$ reinas ($k<8$) y devuelve un tablero con $k+1$ reinas.\n",
    "\n",
    "* **Prueba de satisfacción del objetivo**: Es una prueba que permite determinar si un estado es un *estado objetivo* en el cual se resuelve el problema. Esta prueba puede contener una colección de estados objetivo (para chequear si el estado es uno de ellos) o puede estar dada en términos de una condición explícita que debe cumplir un estado. En nuestro ejemplo usaremos una condición explícita. Esto es, la prueba debe verificar la condición de si un tablero dado contiene ocho reinas en el cual niguna puede atacar a otra.\n",
    "\n",
    "* **Función de costo**: Determina el costo numérico asociado a cada camino entre estados. En nuestro ejemplo, dicha función no es esencial, pero consideraremos que cada acción tiene el mismo costo, de tal manera que la función de costo es la cantidad de acciones realizadas (siempre devolverá el valor de 8 en cualquier solución). "
   ]
  },
  {
   "cell_type": "markdown",
   "metadata": {
    "colab_type": "text",
    "id": "ESao4G9n0dYP"
   },
   "source": [
    "\n",
    "## Implementación del problema <a class=\"anchor\" id=\"implementacion\"></a>\n",
    "\n",
    "Implementaremos el problema de las ocho reinas mediante una clase en Python."
   ]
  },
  {
   "cell_type": "code",
   "execution_count": null,
   "metadata": {
    "colab": {},
    "colab_type": "code",
    "id": "73kSrhUo0dYQ"
   },
   "outputs": [],
   "source": [
    "import matplotlib.pyplot as plt\n",
    "import matplotlib.patches as patches\n",
    "from matplotlib.offsetbox import AnnotationBbox, OffsetImage\n",
    "import numpy as np\n",
    "import copy\n",
    "\n",
    "%matplotlib inline"
   ]
  },
  {
   "cell_type": "code",
   "execution_count": null,
   "metadata": {
    "colab": {},
    "colab_type": "code",
    "id": "p9AyvGbc0dYV"
   },
   "outputs": [],
   "source": [
    "class OchoReinas:\n",
    "    \n",
    "    def __init__(self):\n",
    "        self.estado_inicial = np.matrix([[0]*8]*8)\n",
    "    \n",
    "    def pintar_estado(self, estado):\n",
    "        # Dibuja el tablero correspondiente al estado\n",
    "        # Input: estado, que es una 8-lista de 8-listas\n",
    "        fig, axes = plt.subplots()\n",
    "\n",
    "        # Dibujo el tablero\n",
    "        step = 1./8\n",
    "        offset = 0.001\n",
    "        tangulos = []\n",
    "\n",
    "        # Borde del tablero\n",
    "        tangulos.append(patches.Rectangle((0,0),0.998,0.998,\\\n",
    "                                          facecolor='cornsilk',\\\n",
    "                                         edgecolor='black',\\\n",
    "                                         linewidth=2))\n",
    "\n",
    "        # Creo los cuadrados oscuros en el tablero\n",
    "        for i in range(4):\n",
    "            for j in range(4):\n",
    "                tangulos.append(\n",
    "                    patches.Rectangle(\n",
    "                                      (2 * i * step, 2 * j * step), \\\n",
    "                                       step - offset, \\\n",
    "                                       step,\\\n",
    "                                       facecolor='lightslategrey')\\\n",
    "                                       )\n",
    "                tangulos.append(\n",
    "                    patches.Rectangle(\n",
    "                                      (step + 2 * i * step, (2 * j + 1) * step), \\\n",
    "                                       step - offset, \\\n",
    "                                       step,\\\n",
    "                                       facecolor='lightslategrey')\\\n",
    "                                       )\n",
    "\n",
    "        # Creo las líneas del tablero\n",
    "        for j in range(8):\n",
    "            locacion = j * step\n",
    "            # Crea linea horizontal en el rectangulo\n",
    "            tangulos.append(patches.Rectangle(*[(0, locacion), 1, 0.008],\\\n",
    "                    facecolor='black'))\n",
    "            # Crea linea vertical en el rectangulo\n",
    "            tangulos.append(patches.Rectangle(*[(locacion, 0), 0.008, 1],\\\n",
    "                    facecolor='black'))\n",
    "\n",
    "        for t in tangulos:\n",
    "            axes.add_patch(t)\n",
    "\n",
    "        # Cargando imagen de la reina\n",
    "        arr_img = plt.imread(\"./imagenes/8Reinas/reina.png\", format='png')\n",
    "        imagebox = OffsetImage(arr_img, zoom=0.048)\n",
    "        imagebox.image.axes = axes\n",
    "    \n",
    "        offsetX = 0.065\n",
    "        offsetY = 0.065\n",
    "        for i in range(8):\n",
    "            for j in range(8):\n",
    "                if estado[j, i] == 1:\n",
    "                    # print(\"Reina en (\" + str(i) + \", \" + str(j) + \")\")\n",
    "                    Y = 7 - j\n",
    "                    X = i\n",
    "                    # print(\"(\" + str(X) + \", \" + str(Y) + \")\")\n",
    "                    ab = AnnotationBbox(\n",
    "                        imagebox, \n",
    "                        [(X*step) + offsetX, (Y*step) + offsetY], \n",
    "                        frameon=False)\n",
    "                    axes.add_artist(ab)\n",
    "        \n",
    "        axes.axis('off')\n",
    "        return axes\n",
    "    \n",
    "    def acciones_aplicables(self, estado):\n",
    "        # Devuelve una lista de parejas que representan\n",
    "        # las casillas vacías en las que es permitido\n",
    "        # poner una reina adicional\n",
    "        # Input: estado, que es una np.matrix(8x8)\n",
    "        # Output: lista de indices (x,y)\n",
    "        indices = [(x, y) for x in range(8) for y in range(8)]\n",
    "        indices_bloqueados = []\n",
    "        # Chequeamos primero que haya menos de ocho reinas\n",
    "        if estado.sum() >= 8:\n",
    "            return []\n",
    "        else:\n",
    "            # Bloqueamos índices por cada reina encontrada\n",
    "            for x in range(8):\n",
    "                for y in range(8):\n",
    "                    if estado[y, x]==1:\n",
    "                        #print(\"Reina encontrada en\", x, y)\n",
    "                        # Encuentra una reina\n",
    "                        # Elimina la fila\n",
    "                        #print(\"Bloqueando filas...\")\n",
    "                        indices_bloqueados += [(i, y) for i in range(8)]\n",
    "                        # Elimina la columna\n",
    "                        #print(\"Bloqueando columnas...\")\n",
    "                        indices_bloqueados += [(x, i) for i in range(8)]\n",
    "                        # Elimina las diagonales \\\n",
    "                        # print(\"\\nBloqueando diagonales...\")\n",
    "                        dif = np.abs(x-y)\n",
    "                        offset_x = 0\n",
    "                        offset_y = 0\n",
    "                        for i in range(1, 8 - dif):\n",
    "                            if (y + i) == 8:\n",
    "                                offset_x = - (x + i)\n",
    "                                offset_y = dif\n",
    "                            if (x + i) == 8:\n",
    "                                offset_x = dif\n",
    "                                offset_y = - (y + i)\n",
    "                            xB = (x + i + offset_x) % 8\n",
    "                            yB = (y + i + offset_y) % 8\n",
    "                            # print(\"(\" + str(xB) + \", \" + str(yB) + \")\", end=\"\")\n",
    "                            indices_bloqueados.append((xB, yB))\n",
    "                        # Elimina las transversales /\n",
    "                        # print(\"\\nBloqueando transversales...\")\n",
    "                        dif1 = np.abs((7-x)-y)\n",
    "                        # print(\"\\n Dif\", dif1)\n",
    "                        offset_x = 0\n",
    "                        offset_y = 0\n",
    "                        for i in range(1, 8 - dif1):\n",
    "                            xB = (x + i + offset_x) % 8\n",
    "                            yB = (y - i + offset_y) % 8\n",
    "                            # print(\"(\" + str(xB) + \", \" + str(yB) + \")\", end=\"\")\n",
    "                            indices_bloqueados.append((xB, yB))\n",
    "                            if yB == 0:\n",
    "                                offset_x = - (x + i + 1)\n",
    "                                offset_y = x + i + 1\n",
    "                            if xB == 7:\n",
    "                                offset_x = y - (i + 1) - 7\n",
    "                                offset_y = 8 - (y - i)\n",
    "\n",
    "            return list(set(indices) - set(indices_bloqueados))\n",
    "\n",
    "    def transicion(self, estado, indices):\n",
    "        # Devuelve el tablero incluyendo una reina en el indice\n",
    "        # Input: estado, que es una np.matrix(8x8)\n",
    "        #        indice, de la forma (x,y)\n",
    "        # Output: estado, que es una np.matrix(8x8)\n",
    "        \n",
    "        s = copy.deepcopy(estado)\n",
    "        x = indices[0]\n",
    "        y = indices[1]\n",
    "        s[y, x] = 1\n",
    "        return s\n",
    "    \n",
    "    def test_objetivo(self, estado):\n",
    "        # Devuelve True/False dependiendo si el estado\n",
    "        # resuelve el problema\n",
    "        # Input: estado, que es una np.matrix(8x8)\n",
    "        # Output: True/False\n",
    "        # print(\"Determinando si hay exactamente ocho reinas...\")\n",
    "        num_reinas = estado.sum()\n",
    "        if num_reinas != 8:\n",
    "            # print(\"Numero incorrecto de reinas!\")\n",
    "            return False\n",
    "        else:\n",
    "            # print(\"Determinando si las reinas no se atacan...\")\n",
    "            # print(\"Buscando reina por fila...\")\n",
    "            filas = [i[0] for i in estado.sum(axis=1).tolist()]\n",
    "            if any(i>1 for i in filas):\n",
    "                # print(\"Dos reinas en la misma fila!\")\n",
    "                return False\n",
    "            else:\n",
    "                # print(\"Buscando reina por columna...\")\n",
    "                columnas = estado.sum(axis=0).tolist()[0]\n",
    "                if any(j>1 for j in columnas):\n",
    "                    # print(\"Dos reinas en la misma columna!\")\n",
    "                    return False\n",
    "                else:\n",
    "                    for x in range(8):\n",
    "                        for y in range(8):\n",
    "                            if estado[y, x]==1:\n",
    "                                # print(\"Reina encontrada en (\" + str(x) + \", \" + str(y) + \")\")\n",
    "                                # print(\"Buscando otra reina en la misma diagonal...\")\n",
    "                                dif = np.abs(x-y)\n",
    "                                offset_x = 0\n",
    "                                offset_y = 0\n",
    "                                for i in range(1, 8 - dif):\n",
    "                                    if (y + i) == 8:\n",
    "                                        offset_x = - (x + i)\n",
    "                                        offset_y = dif\n",
    "                                    if (x + i) == 8:\n",
    "                                        offset_x = dif\n",
    "                                        offset_y = - (y + i)\n",
    "                                    xB = (x + i + offset_x) % 8\n",
    "                                    yB = (y + i + offset_y) % 8\n",
    "                                    if estado[yB, xB] == 1:\n",
    "                                        #print(\"Dos reinas en la misma diagonal!\")\n",
    "                                        return False\n",
    "            \n",
    "                                # print(\"Buscando otra reina en la misma transversal...\")\n",
    "                                dif1 = np.abs((7-x)-y)\n",
    "                                # print(\"\\n Dif\", dif1)\n",
    "                                offset_x = 0\n",
    "                                offset_y = 0\n",
    "                                for i in range(1, 8 - dif1):\n",
    "                                    xB = (x + i + offset_x) % 8\n",
    "                                    yB = (y - i + offset_y) % 8\n",
    "                                    # print(\"(\" + str(xB) + \", \" + str(yB) + \")\", end=\"\")\n",
    "                                    if estado[yB, xB]==1:\n",
    "                                        # print(\"Dos reinas en la misma transversal!\")\n",
    "                                        return False\n",
    "                                    if yB == 0:\n",
    "                                        offset_x = - (x + i + 1)\n",
    "                                        offset_y = x + i + 1\n",
    "                                    if xB == 7:\n",
    "                                        offset_x = y - (i + 1) - 7\n",
    "                                        offset_y = 8 - (y - i)\n",
    "                                        \n",
    "        return True \n",
    "    \n",
    "    def costo(self, estado, accion):\n",
    "        return 1\n"
   ]
  },
  {
   "cell_type": "code",
   "execution_count": null,
   "metadata": {
    "colab": {},
    "colab_type": "code",
    "id": "ZzcB3xN70dYZ",
    "outputId": "3d01fdf5-3ee2-42ce-ef97-21232a3d47f0"
   },
   "outputs": [],
   "source": [
    "prob = OchoReinas()\n",
    "s = prob.estado_inicial\n",
    "print(\"Este es el estado inicial:\")\n",
    "prob.pintar_estado(s)"
   ]
  },
  {
   "cell_type": "markdown",
   "metadata": {},
   "source": [
    "**Ejercicio 2:**\n",
    "\n",
    "Considere el siguiente estado:"
   ]
  },
  {
   "cell_type": "code",
   "execution_count": null,
   "metadata": {},
   "outputs": [],
   "source": [
    "s1 = prob.transicion(s,(0,0))\n",
    "s1 = prob.transicion(s1,(1,2))\n",
    "s1 = prob.transicion(s1,(2,4))\n",
    "s1 = prob.transicion(s1,(3,6))\n",
    "s1 = prob.transicion(s1,(4,1))\n",
    "s1 = prob.transicion(s1,(5,3))\n",
    "s1 = prob.transicion(s1,(7,7))\n",
    "prob.pintar_estado(s1)"
   ]
  },
  {
   "cell_type": "markdown",
   "metadata": {},
   "source": [
    "* ¿Cuáles son las acciones aplicables en `s1`?\n",
    "* Construya y dibuje un estado `s2` con una de las acciones aplicables en `s1`.\n",
    "* Use la prueba de satisfacción de objetivo `test_objetivo()` para determinar si `s2` resuelve el problema."
   ]
  },
  {
   "cell_type": "markdown",
   "metadata": {},
   "source": [
    "---"
   ]
  },
  {
   "cell_type": "markdown",
   "metadata": {},
   "source": [
    "**Ejercicio 3:**\n",
    "\n",
    "Considere el siguiente estado:"
   ]
  },
  {
   "cell_type": "code",
   "execution_count": null,
   "metadata": {},
   "outputs": [],
   "source": [
    "s1 = prob.transicion(s,(0,0))\n",
    "s1 = prob.transicion(s1,(1,2))\n",
    "s1 = prob.transicion(s1,(2,4))\n",
    "s1 = prob.transicion(s1,(3,6))\n",
    "s1 = prob.transicion(s1,(4,1))\n",
    "s1 = prob.transicion(s1,(5,3))\n",
    "prob.pintar_estado(s1)"
   ]
  },
  {
   "cell_type": "markdown",
   "metadata": {},
   "source": [
    "* ¿Cuáles son las acciones aplicables en `s1`?\n",
    "* A partir de `s1` construya y dibuje un estado `s2` con 7 damas, usando las acciones aplicables de `s1`.\n",
    "* ¿Cuáles son las acciones aplicables a partir de `s2`?"
   ]
  },
  {
   "cell_type": "markdown",
   "metadata": {},
   "source": [
    "---"
   ]
  },
  {
   "cell_type": "markdown",
   "metadata": {},
   "source": [
    "**Ejercicio 4:**\n",
    "\n",
    "Considere el siguiente estado:"
   ]
  },
  {
   "cell_type": "code",
   "execution_count": null,
   "metadata": {},
   "outputs": [],
   "source": [
    "s1 = prob.transicion(s,(0,4))\n",
    "s1 = prob.transicion(s1,(1,6))\n",
    "s1 = prob.transicion(s1,(2,1))\n",
    "s1 = prob.transicion(s1,(3,5))\n",
    "s1 = prob.transicion(s1,(4,2))\n",
    "s1 = prob.transicion(s1,(5,0))\n",
    "prob.pintar_estado(s1)"
   ]
  },
  {
   "cell_type": "markdown",
   "metadata": {},
   "source": [
    "* ¿Cuáles son las acciones aplicables en `s1`?\n",
    "* A partir de `s1` construya y dibuje un estado `s2` con 7 damas, usando las acciones aplicables de `s1`.\n",
    "* A partir de `s2` construya y dibuje un estado `s3` con 8 damas, usando las acciones aplicables de `s2`.\n",
    "* ¿Acaso `s3` pasa la prueba de satisfacción del objetivo?"
   ]
  },
  {
   "cell_type": "markdown",
   "metadata": {},
   "source": [
    "---"
   ]
  },
  {
   "cell_type": "markdown",
   "metadata": {},
   "source": [
    "## En este notebook usted aprendió\n",
    "\n",
    "* Cómo definir formalmente un problema e implementar el ambiente de tarea en python."
   ]
  }
 ],
 "metadata": {
  "colab": {
   "name": "arboles_busqueda.ipynb",
   "provenance": []
  },
  "kernelspec": {
   "display_name": "Python 3",
   "language": "python",
   "name": "python3"
  },
  "language_info": {
   "codemirror_mode": {
    "name": "ipython",
    "version": 3
   },
   "file_extension": ".py",
   "mimetype": "text/x-python",
   "name": "python",
   "nbconvert_exporter": "python",
   "pygments_lexer": "ipython3",
   "version": "3.9.1"
  }
 },
 "nbformat": 4,
 "nbformat_minor": 1
}

{
 "cells": [
  {
   "cell_type": "markdown",
   "metadata": {},
   "source": [
    "<table>\n",
    "    <tr>\n",
    "        <td><img src=\"./imagenes/Macc.png\" width=\"400\"/></td>\n",
    "        <td>&nbsp;</td>\n",
    "        <td>\n",
    "            <h1 style=\"color:blue;text-align:left\">Inteligencia Artificial</h1></td>\n",
    "        <td>\n",
    "            <table><tr>\n",
    "            <tp><p style=\"font-size:150%;text-align:center\">Notebook 7</p></tp>\n",
    "            <tp><p style=\"font-size:150%;text-align:center\">Lógica Proposicional </p></tp>\n",
    "            </tr></table>\n",
    "        </td>\n",
    "    </tr>\n",
    "</table>\n",
    "\n",
    "---\n"
   ]
  },
  {
   "cell_type": "markdown",
   "metadata": {},
   "source": [
    "## Objetivo <a class=\"anchor\" id=\"inicio\"></a>\n",
    "\n",
    "En este notebook veremos una manera de implementar una base de conocimiento sobre la cual se ejecutan los algoritmos de deducción forward-chaining y backward-chaining. \n",
    "\n",
    "## Secciones\n",
    "\n",
    "Desarrollaremos la explicación en las siguientes secciones:\n",
    "\n",
    "* [Base de conocimiento.](#base)\n",
    "* [Forward chaining.](#forward)\n",
    "* [Backward chaining.](#backward)\n"
   ]
  },
  {
   "cell_type": "markdown",
   "metadata": {},
   "source": [
    "## Base de conocimiento <a class=\"anchor\" id=\"base\"></a>\n",
    "\n",
    "([Volver al inicio](#inicio))\n",
    "\n",
    "Una base de conocimiento es una estructura sobre la cual se pueden hacer consultas de objetivos. Más adelante usaremos las estrategias de forward y backward chaining para hacer las consultas. Lo que necesitamos ahora es una implementación de la base de conocimiento en python. \n",
    "\n",
    "Una base de conocimiento tiene dos partes: \n",
    "\n",
    "* Los datos, que son literales que ya sabemos como verdaderos; \n",
    "* Las reglas, que representan el conocimiento que se aplicará sobre los datos para obtener nuevos datos.\n",
    "\n",
    "Implementaremos una base de conocimiento mediante la clase `LPQuery`, que se encuentra en la librería `logica`:"
   ]
  },
  {
   "cell_type": "code",
   "execution_count": 1,
   "metadata": {},
   "outputs": [],
   "source": [
    "from logica import LPQuery"
   ]
  },
  {
   "cell_type": "markdown",
   "metadata": {},
   "source": [
    "Inicializamos una base de conocimiento con el ejemplo de las diapositivas:"
   ]
  },
  {
   "cell_type": "code",
   "execution_count": 2,
   "metadata": {},
   "outputs": [
    {
     "name": "stdout",
     "output_type": "stream",
     "text": [
      "Datos:\n",
      "s\n",
      "p\n",
      "\n",
      "Reglas:\n",
      "q>r\n",
      "pYs>r\n",
      "\n"
     ]
    }
   ],
   "source": [
    "formulas = ['q>r','pYs>r','s','p']\n",
    "base_ejemplo = LPQuery(formulas)\n",
    "print(base_ejemplo)"
   ]
  },
  {
   "cell_type": "markdown",
   "metadata": {},
   "source": [
    "La clase `LPQuery` tiene los siguientes atributos:\n",
    "\n",
    "* datos: lista de literales que ya sabemos como verdaderos.\n",
    "* reglas: lista de reglas que representan el conocimiento.\n",
    "* atomos: lista de los átomos que aparecen en los datos y las reglas.\n",
    "\n",
    "También tiene los siguientes métodos:\n",
    "\n",
    "* reglas_aplicables(`literal`): que devuelve una lista de reglas en la base cuya cabeza es el `literal`.\n",
    "* test_objetivo(`literal`): que devuelve verdadero si el `literal` está en los datos. \n",
    "* TELL(`formula`): que incluye en la base de conocimiento la `formula`en el lugar adecuado, dependiendo de si es un dato o una regla."
   ]
  },
  {
   "cell_type": "code",
   "execution_count": 3,
   "metadata": {},
   "outputs": [
    {
     "name": "stdout",
     "output_type": "stream",
     "text": [
      "pYs>r\n",
      "['p', 's']\n",
      "r\n"
     ]
    }
   ],
   "source": [
    "reglas = base_ejemplo.reglas\n",
    "print(reglas[1].nombre)\n",
    "print(reglas[1].cuerpo)\n",
    "print(reglas[1].cabeza)"
   ]
  },
  {
   "cell_type": "code",
   "execution_count": 4,
   "metadata": {},
   "outputs": [
    {
     "data": {
      "text/plain": [
       "['q', 'r', 'p', 's']"
      ]
     },
     "execution_count": 4,
     "metadata": {},
     "output_type": "execute_result"
    }
   ],
   "source": [
    "base_ejemplo.atomos"
   ]
  },
  {
   "cell_type": "markdown",
   "metadata": {},
   "source": [
    "## Forward chaining <a class=\"anchor\" id=\"forward\"></a>\n",
    "\n",
    "([Volver al inicio](#inicio))"
   ]
  },
  {
   "cell_type": "markdown",
   "metadata": {},
   "source": [
    "El siguiente es el pseudo código de la función `pl_fc_entails`, que implementa la estratégia de deducción forward chaining:\n",
    "\n",
    "<img src=\"./imagenes/forward-chaining.png\" width=\"550\"/>"
   ]
  },
  {
   "cell_type": "markdown",
   "metadata": {},
   "source": [
    "**Ejercicio 2:**\n",
    "\n",
    "Implemente un código python con el algoritmo `pl_fc_entails`. Verifique cuáles de las letras 'p', 'q', 'r', o 's' se puede deducir a partir de la base de conocimiento creada anteriormente.\n",
    "\n",
    "**Nota:** Observe que al inicializar `queue`como la lista de literales en los datos, es importante que `queue` sea una copia. Si se usa la instrucción `queue=base.datos`, entonces al modificar `queue` se modifica también `base.datos`. Para que no suceda esto, se puede utilizar `queue=deepcopy(base.datos)` (observe que hay que importar `deepcopy` de la libería `copy`)."
   ]
  },
  {
   "cell_type": "markdown",
   "metadata": {},
   "source": [
    "La respuesta debe ser:\n",
    "\n",
    "```\n",
    "El átomo p se deduce de la base?: True\n",
    "El átomo q se deduce de la base?: False\n",
    "El átomo r se deduce de la base?: True\n",
    "El átomo s se deduce de la base?: True\n",
    "```"
   ]
  },
  {
   "cell_type": "markdown",
   "metadata": {},
   "source": [
    "**Respuesta:**\n",
    "\n",
    "Una posible implementación es la siguiente:"
   ]
  },
  {
   "cell_type": "code",
   "execution_count": 5,
   "metadata": {},
   "outputs": [],
   "source": [
    "from copy import deepcopy\n",
    "\n",
    "def pl_fc_entails(base, q) :\n",
    "    count = {}\n",
    "    for regla in base.reglas:\n",
    "        count[regla.nombre] = len(regla.cuerpo)\n",
    "    inferred = dict(zip(base.atomos, [False]*len(base.atomos)))\n",
    "    queue = deepcopy(base.datos)\n",
    "    while len(queue) > 0:\n",
    "        p = queue.pop()\n",
    "        if p == q:\n",
    "            return True\n",
    "        elif inferred[p] == False:\n",
    "            inferred[p] = True\n",
    "            for regla in base.reglas:\n",
    "                if p in regla.cuerpo:\n",
    "                    count[regla.nombre] -= 1\n",
    "                    if count[regla.nombre] == 0:\n",
    "                        queue.append(regla.cabeza)\n",
    "    return False"
   ]
  },
  {
   "cell_type": "code",
   "execution_count": 6,
   "metadata": {},
   "outputs": [
    {
     "name": "stdout",
     "output_type": "stream",
     "text": [
      "El átomo p se deduce de la base?: True\n",
      "El átomo q se deduce de la base?: False\n",
      "El átomo r se deduce de la base?: True\n",
      "El átomo s se deduce de la base?: True\n"
     ]
    }
   ],
   "source": [
    "print(\"El átomo p se deduce de la base?:\", pl_fc_entails(base_ejemplo, 'p'))\n",
    "print(\"El átomo q se deduce de la base?:\", pl_fc_entails(base_ejemplo, 'q'))\n",
    "print(\"El átomo r se deduce de la base?:\", pl_fc_entails(base_ejemplo, 'r'))\n",
    "print(\"El átomo s se deduce de la base?:\", pl_fc_entails(base_ejemplo, 's'))"
   ]
  },
  {
   "cell_type": "markdown",
   "metadata": {},
   "source": [
    "---"
   ]
  },
  {
   "cell_type": "markdown",
   "metadata": {},
   "source": [
    "## Backward chaining <a class=\"anchor\" id=\"backward\"></a>\n",
    "\n",
    "([Volver al inicio](#inicio))"
   ]
  },
  {
   "cell_type": "markdown",
   "metadata": {},
   "source": [
    "El siguiente es el pseudocódigo de la función `and_or_graph_search`, el cual implementa la estratégia de deducción backward chaining:\n",
    "\n",
    "<img src=\"./imagenes/and-or-graph-search.png\" width=\"520\"/>\n",
    "<img src=\"./imagenes/or-search1.png\" width=\"490\"/>\n",
    "<img src=\"./imagenes/and-search.png\" width=\"500\"/>\n"
   ]
  },
  {
   "cell_type": "markdown",
   "metadata": {},
   "source": [
    "**Ejercicio 3:**\n",
    "\n",
    "Implemente un código python con el algoritmo `and_or_graph_search`. Verifique cuáles de las letras 'p', 'q', 'r', o 's' se puede deducir a partir de la base de conocimiento creada anteriormente."
   ]
  },
  {
   "cell_type": "markdown",
   "metadata": {},
   "source": [
    "La respuesta debe ser:\n",
    "\n",
    "```\n",
    "El átomo p se deduce de la base?: success\n",
    "El átomo q se deduce de la base?: failure\n",
    "El átomo r se deduce de la base?: success\n",
    "El átomo s se deduce de la base?: success\n",
    "```"
   ]
  },
  {
   "cell_type": "markdown",
   "metadata": {},
   "source": [
    "**Respuesta:**\n",
    "\n",
    "Una posible implementación es la siguiente:"
   ]
  },
  {
   "cell_type": "code",
   "execution_count": 7,
   "metadata": {},
   "outputs": [],
   "source": [
    "def and_or_graph_search(objetivo, base):\n",
    "    return or_search(objetivo, base, [])\n",
    "\n",
    "def or_search(head, base, camino):\n",
    "    if base.test_objetivo(head):\n",
    "        return 'success'\n",
    "    elif head in camino:\n",
    "        return 'failure'\n",
    "    reglas = base.reglas_aplicables(head)\n",
    "    if not reglas:\n",
    "        return 'failure'\n",
    "    for regla in reglas:\n",
    "        plan = and_search(regla.cuerpo, base, [head] + camino)\n",
    "        if plan != 'failure':\n",
    "            return 'success'    \n",
    "    return 'failure'\n",
    "\n",
    "def and_search(literales, base, camino):\n",
    "    for literal in literales:\n",
    "        plan = or_search(literal, base, camino)\n",
    "        if plan == 'failure':\n",
    "            return 'failure'\n",
    "    return 'success'"
   ]
  },
  {
   "cell_type": "code",
   "execution_count": 8,
   "metadata": {},
   "outputs": [
    {
     "name": "stdout",
     "output_type": "stream",
     "text": [
      "El átomo p se deduce de la base?: success\n",
      "El átomo q se deduce de la base?: failure\n",
      "El átomo r se deduce de la base?: success\n",
      "El átomo s se deduce de la base?: success\n"
     ]
    }
   ],
   "source": [
    "print(\"El átomo p se deduce de la base?:\", and_or_graph_search('p', base_ejemplo))\n",
    "print(\"El átomo q se deduce de la base?:\", and_or_graph_search('q', base_ejemplo))\n",
    "print(\"El átomo r se deduce de la base?:\", and_or_graph_search('r', base_ejemplo))\n",
    "print(\"El átomo s se deduce de la base?:\", and_or_graph_search('s', base_ejemplo))"
   ]
  },
  {
   "cell_type": "markdown",
   "metadata": {},
   "source": [
    "---"
   ]
  },
  {
   "cell_type": "markdown",
   "metadata": {},
   "source": [
    "## En este notebook usted aprendió\n",
    "\n",
    "* Las reglas como un fragmento de la lógica proposicional para la deducción automática.\n",
    "* El algoritmo de deducción mediante forward-chaining.\n",
    "* El algoritmo de deducción mediante backward-chaining.\n",
    "* La estructura de las bases de conocimiento.\n"
   ]
  }
 ],
 "metadata": {
  "kernelspec": {
   "display_name": "Python 3",
   "language": "python",
   "name": "python3"
  },
  "language_info": {
   "codemirror_mode": {
    "name": "ipython",
    "version": 3
   },
   "file_extension": ".py",
   "mimetype": "text/x-python",
   "name": "python",
   "nbconvert_exporter": "python",
   "pygments_lexer": "ipython3",
   "version": "3.9.7"
  }
 },
 "nbformat": 4,
 "nbformat_minor": 4
}

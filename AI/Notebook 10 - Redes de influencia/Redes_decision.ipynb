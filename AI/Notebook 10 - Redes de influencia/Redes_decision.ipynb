{
 "cells": [
  {
   "cell_type": "markdown",
   "metadata": {},
   "source": [
    "<table>\n",
    "    <tr>\n",
    "        <td><img src=\"./imagenes/Macc.png\" width=\"400\"/></td>\n",
    "        <td>\n",
    "            <h1 style=\"color:blue;text-align:left\">Inteligencia Artificial</h1></td>\n",
    "        <td>\n",
    "           <p style=\"font-size:150%;text-align:center\">Redes de decisión</p>\n",
    "        </td>\n",
    "    </tr>\n",
    "</table>\n",
    "\n",
    "---\n"
   ]
  },
  {
   "cell_type": "markdown",
   "metadata": {},
   "source": [
    "# Objetivo  <a class=\"anchor\" id=\"inicio\"></a>\n",
    "\n",
    "En este notebook veremos cómo tomar decisiones racionales, entendidas estas como aquellas que maximizan la utilidad esperada del agente. Veremos que podemos echar mano de las redes bayesianas, pero necesitamos también el concepto de las funciones de utilidad.\n",
    "\n",
    "Adaptado de Russell & Norvig (2021), cap. 16."
   ]
  },
  {
   "cell_type": "markdown",
   "metadata": {},
   "source": [
    "# Secciones\n",
    "\n",
    "* [Utilidad esperada y toma de decisiones.](#MEU)\n",
    "* [Implementación de redes de decisión](#implementacion)\n",
    "* [Escenarios más complejos.](#dependencia)\n",
    "* [Agente basado en utilidad.](#utility-based)\n"
   ]
  },
  {
   "cell_type": "markdown",
   "metadata": {},
   "source": [
    "# Utilidad esperada y toma de decisiones   <a class=\"anchor\" id=\"MEU\">\n",
    "\n",
    "\n",
    "\n",
    "Hemos visto que uno de los objetivos de la Inteligencia Artificial es producir agentes cuyo comportamiento sea inteligente. Este se ha entendido tradicionalmente como la realización de acciones racionales, las cuales  buscan obtener fines de la manera más eficiente posible. Imagine que un agente debe tomar una decisión de entre un conjunto de acciones $\\{a_1,\\ldots, a_0\\}$. Cada acción $a_i$ produce un estado $S_i$. Si el agente fuera indiferente frente a los estados $S_i$s, entonces cualquier acción estaría bien para él y el problema de decisión sería trivial. No obstante, un agente racional tiene un objetivo que quiere cumplir. Esto divide los estados $S_i$s en aquellos que cumplen el objetivo y aquellos que no. Es más, muchas veces es posible asignar una preferencia entre dos estados, $S_i$ y $S_j$, de tal manera que el agente prefiere a $S_i$ sobre $S_j$ si el primero lo acerca más a su objetivo que el segundo. Así pues, un agente racional, frente a su problema de decisión, realizará la acción $a$ que con mayor probabilidad lo lleve al estado que esté más cerca del objetivo.\n",
    "    \n",
    "Es posible formalizar esta idea usando tres conceptos. El primero es el de una *lotería*, el cual no es otra cosa que un conjunto de estados, cada uno con una probabilidad asignada: $\\{S_1,p_1; S_2,p_2; \\ldots; S_n,p_n\\}$. El segundo es el de una *función de utilidad* $U$, la cual le asigna un valor numérico a cada estado $S_i$ de tal manera que $U(S_i)>U(S_j)$ sii el agente prefiere el estado $S_i$ sobre el estado $S_j$. Estos dos conceptos nos permiten definir la *Utilidad Esperada* de la siguiente manera:\n",
    "    \n",
    "$$U\\!E=\\sum_{i=1}^n U(S_i)p_i$$\n",
    "    \n",
    "El tercer concepto es que el conjunto de estados $\\{S_1,p_1; S_2,p_2; \\ldots; S_n,p_n\\}$ depende de una acción $a$. Es decir, se representan situaciones en las cuales el resultado de una acción $a$ es incierta. La incertidumbre resulta porque la acción no determina completamente el resultado cuando, por ejemplo, este depende de otros agentes, o de factores que no son completamente conocidos y/o controlables por el agente. Esto es, una acción $a$ da como resultado un estado $S_1$ con probabilidad $P(S_1|a)$, o un estado $S_2$ con probabilidad $P(S_2|a)$, $\\ldots$, o un estado $S_n$ con probabilidad $P(S_n|a)$. Así pues, tenemos el concepto de *Utilidad Esperada* de una acción $a$:\n",
    "    \n",
    "$$U\\!E(a)=\\sum_{i=1}^n U(S_i)P(S_i|a)\\qquad\\qquad (1)$$\n",
    "\n",
    "Un agente racional, frente a un problema de decisión, decidirá ejecutar la acción que le permita **maximizar su utilidad esperada**:\n",
    "    \n",
    "$$\\mbox{Acción}=\\mbox{argmax}_a\\, U\\!E(a)=\\mbox{argmax}_a\\sum_{i=1}^n U(S_i)P(S_i|a)\\qquad\\qquad (2)$$"
   ]
  },
  {
   "cell_type": "markdown",
   "metadata": {},
   "source": [
    "## Ejemplo con el mundo del Wumpus\n",
    "\n",
    "Para ilustrar esta propuesta de cómo un agente toma una decisión racional, volvamos a nuestro bien conocido mundo del Wumpus. Suponga que el agente, después de partir de la celda $(0,0)$, se encuentra en la casilla $(1,0)$. Analicemos dos situaciones posibles, como lo muestran las siguientes figuras:\n",
    "\n",
    "<table>\n",
    "  <tr>\n",
    "    <td><img src=\"./imagenes/ParaRedesDecisionB.png\" width=\"300\"></td>\n",
    "    <td><img src=\"./imagenes/ParaRedesDecisionA.png\" width=\"300\"></td>\n",
    "  </tr>\n",
    "</table>\n",
    "\n",
    "Las dos situaciones corresponden a si el agente siente una brisa (izquierda) o no (derecha). ¿Cuál es la acción racional en cada caso? Observe que el agente tiene tres acciones posibles:\n",
    "\n",
    "1. Regresarse a $(0,0)$\n",
    "2. Seguir a $(2,0)$\n",
    "3. Subir a $(1,1)$.\n",
    "\n",
    "\n",
    "Hagamos el ejercicio de asignar utilidades a los estados resultantes de estas acciones. Estos estados son, claramente, la casilla a la que llega el agente después de realizar la acción. Vamos a proceder a determinar la utilidad con base en la consideración de si en la casilla correspondiente hay o no un pozo y de si está o no el oro. Por ejemplo:\n",
    "\n",
    "$$\n",
    "U(\\mbox{casilla}(x,y)) = \\begin{cases}\n",
    "1, & \\mbox{si }oro(x,y) \\wedge \\neg pozo(x,y)\\\\\n",
    "0, & \\mbox{si }\\neg oro(x,y) \\wedge \\neg pozo(x,y)\\\\\n",
    "-1, & \\mbox{ si }pozo(x,y)\n",
    "\\end{cases}\n",
    "$$\n",
    "\n",
    "Dado que el agente desconoce la localización de los pozos y del oro, no es posible deducir cuál es la utilidad de una casilla. No obstante, como vimos en el notebook pasado, sí podemos cuantificar la incertidumbre y revisar nuestras predicciones con base en la información que vamos incorporando. Podemos entonces ponderar la utilidad de cada estado posible con su probabilidad de ocurrencia, mediante la fórmula de la utilidad esperada (1). En este caso tendríamos:\n",
    "\n",
    "\\begin{align*}\n",
    "U\\!E(\\mbox{ir a casilla }(x,y)|e)&=U(oro(x,y), \\neg pozo(x,y))P(oro(x,y), \\neg pozo(x,y)|e)\\\\\n",
    "& \\quad + U(\\neg oro(x,y), \\neg pozo(x,y))P(\\neg oro(x,y), \\neg pozo(x,y)|e)\\\\\n",
    "&=U(oro(x,y), \\neg pozo(x,y))P(oro(x,y))P(\\neg pozo(x,y)|e)\\\\\n",
    "& \\quad + U(\\neg oro(x,y), \\neg pozo(x,y))P(\\neg oro(x,y))P(\\neg pozo(x,y)|e)\\\\\n",
    "& \\quad + U(pozo(x,y))P(pozo(x,y)|e)\\\\\n",
    "&= 1\\times P(oro(x,y))P(\\neg pozo(x,y)|e)\\\\\n",
    "& \\quad + 0 \\times P(\\neg oro(x,y))P(\\neg pozo(x,y)|e)\\\\\n",
    "& \\quad - 1 \\times P(pozo(x,y)|e)\n",
    "\\end{align*}\n",
    "\n",
    "La acción racional queda determinada por la fórmula (2) de maximización de la utilidad esperada, la cual requiere que realicemos el cálculo anterior para todas las acciones posibles, de tal manera que escogeremos la acción que tenga asociada la mayor utilidad esperada. \n",
    "\n",
    "Ahora bien, observe que llevar a cabo estos cálculos puede hacerse con o sin evidencia. Observe también que la evidencia disponible es lo que separa la situación de la figura de arriba a la izquierda (en donde la evidencia es que hay brisa en $(1,0)$) de la situación de la derecha (en donde no hay brisa). Podríamos tratar de hacer los cálculos a mano, pero es más divertido programar el computador para que los haga por nosotros.\n",
    "\n",
    "Vamos a ver a continuación cómo usar el objeto `InfluenceDiagram` de la librería `pyagrum` para implementar el cálculo de la toma racional de decisiones. Comenzaremos con una situación en que no consideramos el oro, que es más sencilla, para luego incluir esta complicación en nuestros cálculos."
   ]
  },
  {
   "cell_type": "markdown",
   "metadata": {},
   "source": [
    "# Implementación de redes de decisión <a class=\"anchor\" id=\"implementacion\">\n",
    "    \n",
    "([Volver al inicio](#inicio))\n",
    "\n",
    "Una red de decisión, también conocida como un diagrama de influencia, es una red que incorpora una red bayesiana, un nodo de acción y otro de utilidad (es posible tener más de un nodo de acción y más de un nodo de utilidad, pero en nuestros ejemplos solo tendremos uno de cada uno). Mediante ella es posible calcular las utilidades esperadas de las acciones de acuerdo a las probabilidades establecidas en la red bayesiana y la evidencia disponible.\n",
    "    \n",
    "En la red de decisión hay tres tipos de nodos:\n",
    "    \n",
    "* Nodos de probabilidad: son los nodos de la red bayesiana.\n",
    "* Nodo de decisión: es el nodo que representa las acciones posibles.\n",
    "* Nodo de utilidad: está conectado a los demás nodos de tal manera que representa la utilidad esperada de cada acción del nodo de decisión, de acuerdo a las probabilidades de los nodos de probabilidad.\n",
    " \n",
    "Para comprender mejor estos conceptos, creemos una red de decisión simple para el ejemplo del mundo del Wumpus que discutimos anteriormente. "
   ]
  },
  {
   "cell_type": "markdown",
   "metadata": {},
   "source": [
    "### Ejemplo sin considerar el oro <a class=\"anchor\" id=\"sin_oro\">\n",
    "    \n",
    "([Siguiente ejemplo](#solo_oro))\n",
    "\n",
    "\n",
    "\n",
    "Vamos a comenzar con un caso sencillo, en el cual no tomamos en cuenta si hay o no oro en una casilla. De esta manera, nuestra función de utilidad es la siguiente:\n",
    "    \n",
    "$$\n",
    "U(\\mbox{casilla}(x,y)) = \\begin{cases}\n",
    "1, & \\mbox{si }\\neg pozo(x,y)\\\\\n",
    "-1, & \\mbox{ si }pozo(x,y)\n",
    "\\end{cases}\n",
    "$$\n",
    "    \n",
    "Lo primero que debemos hacer es cargar las librerías que necesitamos:"
   ]
  },
  {
   "cell_type": "code",
   "execution_count": null,
   "metadata": {},
   "outputs": [],
   "source": [
    "import matplotlib.pyplot as plt\n",
    "import numpy as np\n",
    "from itertools import product\n",
    "from entornos import *\n",
    "from agentes import *\n",
    "from busqueda import *\n",
    "import pyAgrum as gum\n",
    "import pyAgrum.lib.notebook as gnb\n",
    "gum.config['notebook','potential_visible_digits']=2\n",
    "import warnings\n",
    "warnings.filterwarnings('ignore')"
   ]
  },
  {
   "cell_type": "markdown",
   "metadata": {},
   "source": [
    "A continuación, creamos una instancia de la clase `InfluenceDiagram`:"
   ]
  },
  {
   "cell_type": "code",
   "execution_count": null,
   "metadata": {},
   "outputs": [],
   "source": [
    "model = gum.InfluenceDiagram()"
   ]
  },
  {
   "cell_type": "markdown",
   "metadata": {},
   "source": [
    "Ahora creamos los nodos de probabilidad y sus conexiones. Observe que esto es muy similar a la manera como creamos una red bayesiana en el notebook pasado:\n",
    "\n",
    "**Red bayesiana con los nodos de probabilidad:**"
   ]
  },
  {
   "cell_type": "code",
   "execution_count": null,
   "metadata": {},
   "outputs": [],
   "source": [
    "# Creando los nodos\n",
    "pozo0 = gum.LabelizedVariable('pozo(0,0)','pozo(0,0)',2)\n",
    "model.addChanceNode(pozo0)\n",
    "pozo1 = gum.LabelizedVariable('pozo(1,1)','pozo(1,1)',2)\n",
    "model.addChanceNode(pozo1)\n",
    "pozo2 = gum.LabelizedVariable('pozo(2,0)','pozo(2,0)',2)\n",
    "model.addChanceNode(pozo2)\n",
    "brisa = gum.LabelizedVariable('brisa(1,0)','brisa(1,0)',2)\n",
    "model.addChanceNode(brisa)\n",
    "\n",
    "# Creando las aristas de la red bayesiana\n",
    "model.addArc('pozo(0,0)', 'brisa(1,0)')\n",
    "model.addArc('pozo(1,1)', 'brisa(1,0)')\n",
    "model.addArc('pozo(2,0)', 'brisa(1,0)')\n",
    "\n",
    "# Creando las probabilidades\n",
    "model.cpt('pozo(0,0)')[:]=[0.8,0.2]\n",
    "model.cpt('pozo(1,1)')[:]=[0.8,0.2]\n",
    "model.cpt('pozo(2,0)')[:]=[0.8,0.2]\n",
    "model.cpt('brisa(1,0)')[{'pozo(0,0)': 1, 'pozo(1,1)': 1, 'pozo(2,0)': 1}] = [0, 1]\n",
    "model.cpt('brisa(1,0)')[{'pozo(0,0)': 1, 'pozo(1,1)': 1, 'pozo(2,0)': 0}] = [0, 1]\n",
    "model.cpt('brisa(1,0)')[{'pozo(0,0)': 1, 'pozo(1,1)': 0, 'pozo(2,0)': 1}] = [0, 1]\n",
    "model.cpt('brisa(1,0)')[{'pozo(0,0)': 1, 'pozo(1,1)': 0, 'pozo(2,0)': 0}] = [0, 1]\n",
    "model.cpt('brisa(1,0)')[{'pozo(0,0)': 0, 'pozo(1,1)': 1, 'pozo(2,0)': 1}] = [0, 1]\n",
    "model.cpt('brisa(1,0)')[{'pozo(0,0)': 0, 'pozo(1,1)': 1, 'pozo(2,0)': 0}] = [0, 1]\n",
    "model.cpt('brisa(1,0)')[{'pozo(0,0)': 0, 'pozo(1,1)': 0, 'pozo(2,0)': 1}] = [0, 1]\n",
    "model.cpt('brisa(1,0)')[{'pozo(0,0)': 0, 'pozo(1,1)': 0, 'pozo(2,0)': 0}] = [1, 0]\n",
    "\n",
    "model"
   ]
  },
  {
   "cell_type": "markdown",
   "metadata": {},
   "source": [
    "**Nodo de decisión:**\n",
    "\n",
    "Luego creamos un nodo de decisión. Este nodo es la variable que representa cuál es la acción a tomar. En nuestro ejemplo, definir una acción es equivalente a considerar a cuál casilla se va a mover el agente."
   ]
  },
  {
   "cell_type": "code",
   "execution_count": null,
   "metadata": {},
   "outputs": [],
   "source": [
    "casilla = gum.LabelizedVariable('Casilla','Casilla a moverse',3)\n",
    "casilla.changeLabel(0,'(0,0)')\n",
    "casilla.changeLabel(1,'(2,0)')\n",
    "casilla.changeLabel(2,'(1,1)')\n",
    "model.addDecisionNode(casilla)"
   ]
  },
  {
   "cell_type": "markdown",
   "metadata": {},
   "source": [
    "**Nodo de utilidad:**\n",
    "\n",
    "Y ahora creamos el nodo de utilidad. Las conexiones a este nodo deben ser todas las variables sobre las cuales depende la utilidad del estado obtenido por la acción realizada. En nuestro caso, consideramos los pozos y la casilla a la que se mueve el agente:"
   ]
  },
  {
   "cell_type": "code",
   "execution_count": null,
   "metadata": {},
   "outputs": [],
   "source": [
    "ut_casilla = gum.LabelizedVariable('UtilityOfCasilla','Valor casilla',1)\n",
    "model.addUtilityNode(ut_casilla)\n",
    "\n",
    "model.addArc('pozo(0,0)', 'UtilityOfCasilla')\n",
    "model.addArc('pozo(1,1)', 'UtilityOfCasilla')\n",
    "model.addArc('pozo(2,0)', 'UtilityOfCasilla')\n",
    "model.addArc('Casilla', 'UtilityOfCasilla')\n",
    "\n",
    "model"
   ]
  },
  {
   "cell_type": "markdown",
   "metadata": {},
   "source": [
    "Nos falta incluir el cálculo de la utilidad de cada acción (que en nuestro caso es una casilla). Definamos primero la función de utilidad de una casilla:"
   ]
  },
  {
   "cell_type": "code",
   "execution_count": null,
   "metadata": {},
   "outputs": [],
   "source": [
    "def utilidad(d):\n",
    "    '''\n",
    "    Función que determina la utilidad de una casilla.\n",
    "    Input: d, que es un diccionario de la forma:\n",
    "        {\n",
    "            'pozo(0,0)':valor1,\n",
    "            'pozo(1,1)':valor2,\n",
    "            'pozo(2,0)':valor3,\n",
    "            'Casilla':'(x,y)'\n",
    "        }\n",
    "    '''\n",
    "    \n",
    "    C = d['Casilla']\n",
    "    if (d['pozo' + C] == 0):\n",
    "        return 1\n",
    "    else:\n",
    "        return -1"
   ]
  },
  {
   "cell_type": "markdown",
   "metadata": {},
   "source": [
    "Comprobamos el funcionamiento de la función con un ejemplo:"
   ]
  },
  {
   "cell_type": "code",
   "execution_count": null,
   "metadata": {},
   "outputs": [],
   "source": [
    "d = {'pozo(0,0)':1,'pozo(1,1)':0,'pozo(2,0)':1,'Casilla':'(0,0)'}\n",
    "utilidad(d)"
   ]
  },
  {
   "cell_type": "markdown",
   "metadata": {},
   "source": [
    "Ahora debemos asignar la utilidad al nodo `UtilityOfCasilla` de acuerdo a todas las posibles combinaciones de valores para las variables que conectan a ella. Pero para hacer esto de manera escalable, crearemos automáticamente todos los diccionarios con todas las combinaciones de valores posibles."
   ]
  },
  {
   "cell_type": "code",
   "execution_count": null,
   "metadata": {},
   "outputs": [],
   "source": [
    "variables = ['pozo(0,0)','pozo(1,1)','pozo(2,0)','Casilla']\n",
    "opciones = product([0,1], [0,1], [0,1], ['(0,0)','(1,1)','(2,0)'])\n",
    "dicts_variables = [{variables[i]:op[i] for i in range(len(variables))} for op in opciones]\n",
    "dicts_variables"
   ]
  },
  {
   "cell_type": "markdown",
   "metadata": {},
   "source": [
    "Asignamos la utilidad del nodo `UtilityOfCasilla`:"
   ]
  },
  {
   "cell_type": "code",
   "execution_count": null,
   "metadata": {},
   "outputs": [],
   "source": [
    "for d in dicts_variables:\n",
    "    model.utility('UtilityOfCasilla')[d]=utilidad(d)"
   ]
  },
  {
   "cell_type": "markdown",
   "metadata": {},
   "source": [
    "Y finalmente comprobamos que el cálculo de la utilidad sea el esperado:"
   ]
  },
  {
   "cell_type": "code",
   "execution_count": null,
   "metadata": {},
   "outputs": [],
   "source": [
    "ie = gum.InfluenceDiagramInference(model)\n",
    "ie.makeInference()\n",
    "ie.posteriorUtility(\"UtilityOfCasilla\")"
   ]
  },
  {
   "cell_type": "markdown",
   "metadata": {},
   "source": [
    "Ya podemos visualizar la red de decisión:"
   ]
  },
  {
   "cell_type": "code",
   "execution_count": null,
   "metadata": {},
   "outputs": [],
   "source": [
    "print(\"Situación I: Análisis del escenario sin información:\")\n",
    "gnb.showInference(model,evs={},size=\"6\")"
   ]
  },
  {
   "cell_type": "markdown",
   "metadata": {},
   "source": [
    "Observe que el nodo de decisión `Casilla` nos muestra la utilidad esperada de cada opción. En este caso, todas tienen un valor de 0.6. La mejor opción también está señalada (que en este caso es la primera que aparece).\n",
    "\n",
    "Ahora bien, debemos incluir la evidencia que tengamos a nuestra disposición. Ya sabemos que no hay pozo en la casilla $(0,0)$ porque las reglas del mundo lo prohiben. También, dependiendo del escenario que consideremos (izquierda -- con brisa -- o derecha -- sin brisa -- ), podemos ver qué acción tiene mayor utilidad esperada. Tómese unos minutos para entender el análisis siguiente de las dos situaciones visualizadas en la red de decisión:"
   ]
  },
  {
   "cell_type": "code",
   "execution_count": null,
   "metadata": {},
   "outputs": [],
   "source": [
    "print(\"Situación II: Análisis del escenario con brisa:\")\n",
    "gnb.showInference(model,evs={'pozo(0,0)':0,'brisa(1,0)':1},size=\"6\")\n",
    "print(\"Situación III: Análisis del escenario sin brisa:\")\n",
    "gnb.showInference(model,evs={'pozo(0,0)':0,'brisa(1,0)':0},size=\"6\")"
   ]
  },
  {
   "cell_type": "markdown",
   "metadata": {},
   "source": [
    "Tanto en la situación I como en la III, tenemos varias acciones con la misma utilidad esperada: un empate entre máximos. El método `optimalDecision` que viene con la librería siempre escogerá la primera acción en este empate:"
   ]
  },
  {
   "cell_type": "code",
   "execution_count": null,
   "metadata": {},
   "outputs": [],
   "source": [
    "ie = gum.InfluenceDiagramInference(model)\n",
    "ie.setEvidence({'pozo(0,0)':0,'brisa(1,0)':0})\n",
    "ie.makeInference()\n",
    "print(\"Utilidades esperadas de las acciones:\")\n",
    "print(ie.posteriorUtility(\"Casilla\"))\n",
    "print(\"Decisión de la librería:\")\n",
    "print(ie.optimalDecision(\"Casilla\"))"
   ]
  },
  {
   "cell_type": "markdown",
   "metadata": {},
   "source": [
    "Podemos crear una sencilla función auxiliar para escoger una acción aleatoria entre aquellas que tienen máxima utilidad esperada:"
   ]
  },
  {
   "cell_type": "code",
   "execution_count": null,
   "metadata": {},
   "outputs": [],
   "source": [
    "def maximo_aleatorio(valores):\n",
    "    indices = [i for i, x in enumerate(valores) if x == max(valores)]\n",
    "    return np.random.choice(indices)"
   ]
  },
  {
   "cell_type": "code",
   "execution_count": null,
   "metadata": {},
   "outputs": [],
   "source": [
    "casillas = ['(0,0)', '(1,1)', '(2,0)']\n",
    "valores = ie.posteriorUtility(\"Casilla\").tolist()\n",
    "accion = maximo_aleatorio(valores)\n",
    "print(\"Primera iteración:\", casillas[accion])\n",
    "accion = maximo_aleatorio(valores)\n",
    "print(\"Segunda iteración:\", casillas[accion])\n",
    "accion = maximo_aleatorio(valores)\n",
    "print(\"Tercera iteración:\", casillas[accion])"
   ]
  },
  {
   "cell_type": "markdown",
   "metadata": {},
   "source": [
    "**Ejercicio 1:**\n",
    "\n",
    "Haga un análisis de las utilidades esperadas y de la acción racional a tomar cuando el agente sabe que no hay pozo en $(0,0)$ pero sí en $(2,0)$."
   ]
  },
  {
   "cell_type": "markdown",
   "metadata": {},
   "source": [
    "---"
   ]
  },
  {
   "cell_type": "markdown",
   "metadata": {},
   "source": [
    "### Ejemplo solo incluyendo el oro <a class=\"anchor\" id=\"solo_oro\">\n",
    "    \n",
    "([Anterior ejemplo](#sin_oro)  -- [Siguiente ejemplo](#combinado))\n",
    "\n",
    "Antes de incluir tanto pozos como oro en una red de decisión, consideremos primero un ejemplo en donde sólo incluimos el oro. Junto con el ejemplo anterior, ya sabremos cómo influyen estos dos factores en la utilidad y nos será más claro analizar el caso combinado.\n",
    "    \n",
    "Comenzamos creando la parte correspondiente a la red bayesiana, que en este caso relaciona una variable `oro`, que representa la localización del oro en la rejilla, con las variables binarias que representan si en una casilla hay o no brillo:"
   ]
  },
  {
   "cell_type": "code",
   "execution_count": null,
   "metadata": {},
   "outputs": [],
   "source": [
    "model = gum.InfluenceDiagram()\n",
    "\n",
    "# Creamos los nodos de probabilidad\n",
    "oro0 = gum.LabelizedVariable('brillo(0,0)','brillo(0,0)',2)\n",
    "model.addChanceNode(oro0)\n",
    "oro1 = gum.LabelizedVariable('brillo(1,1)','brillo(1,1)',2)\n",
    "model.addChanceNode(oro1)\n",
    "oro2 = gum.LabelizedVariable('brillo(2,0)','brillo(2,0)',2)\n",
    "model.addChanceNode(oro2)\n",
    "oro = gum.LabelizedVariable('oro','oro',3)\n",
    "oro.changeLabel(0,'(0,0)')\n",
    "oro.changeLabel(1,'(1,1)')\n",
    "oro.changeLabel(2,'(2,0)')\n",
    "model.addChanceNode(oro)\n",
    "\n",
    "# Creamos las aristas de la red bayesiana\n",
    "model.addArc('oro', 'brillo(0,0)')\n",
    "model.addArc('oro', 'brillo(1,1)')\n",
    "model.addArc('oro', 'brillo(2,0)')\n",
    "\n",
    "# Creamos las probabilidades\n",
    "model.cpt('oro').fillWith([1/3,1/3,1/3])\n",
    "model.cpt('brillo(0,0)')[{'oro': 0}] = [0,1]\n",
    "model.cpt('brillo(0,0)')[{'oro': 1}] = [1,0]\n",
    "model.cpt('brillo(0,0)')[{'oro': 2}] = [1,0]\n",
    "model.cpt('brillo(1,1)')[{'oro': 0}] = [1,0]\n",
    "model.cpt('brillo(1,1)')[{'oro': 1}] = [0,1]\n",
    "model.cpt('brillo(1,1)')[{'oro': 2}] = [1,0]\n",
    "model.cpt('brillo(2,0)')[{'oro': 0}] = [1,0]\n",
    "model.cpt('brillo(2,0)')[{'oro': 1}] = [1,0]\n",
    "model.cpt('brillo(2,0)')[{'oro': 2}] = [0,1]\n",
    "\n",
    "model"
   ]
  },
  {
   "cell_type": "markdown",
   "metadata": {},
   "source": [
    "Incluimos ahora el nodo de decisión, el de utilidad, y las relaciones de utilidades. La utilidad, cuando sólo consideramos el oro, estará dada por la siguiente fórmula:\n",
    "\n",
    "$$\n",
    "U(\\mbox{casilla}(x,y)) = \\begin{cases}\n",
    "1, & \\mbox{si }Oro(x,y)\\\\\n",
    "0, & \\mbox{ si }\\neg Oro(x,y)\n",
    "\\end{cases}\n",
    "$$"
   ]
  },
  {
   "cell_type": "code",
   "execution_count": null,
   "metadata": {},
   "outputs": [],
   "source": [
    "# Creamos el nodo de decisión\n",
    "casilla = gum.LabelizedVariable('Casilla','Casilla a moverse',3)\n",
    "casilla.changeLabel(0,'(0,0)')\n",
    "casilla.changeLabel(1,'(2,0)')\n",
    "casilla.changeLabel(2,'(1,1)')\n",
    "model.addDecisionNode(casilla)\n",
    "\n",
    "# Creamos el nodo de utilidad\n",
    "ut_casilla = gum.LabelizedVariable('UtilityOfCasilla','Valor casilla',1)\n",
    "model.addUtilityNode(ut_casilla)\n",
    "\n",
    "# Creamos las aristas de la utilidad\n",
    "model.addArc('oro', 'UtilityOfCasilla')\n",
    "model.addArc('Casilla', 'UtilityOfCasilla')\n",
    "\n",
    "# Asignamos las utilidades\n",
    "variables = ['oro','Casilla']\n",
    "opciones = product(['(0,0)','(1,1)','(2,0)'], ['(0,0)','(1,1)','(2,0)'])\n",
    "dicts_variables = [{variables[i]:op[i] for i in range(len(variables))} for op in opciones]\n",
    "\n",
    "def utilidad(d):\n",
    "    C = d['Casilla']\n",
    "    if d['oro'] == C:\n",
    "        return 1\n",
    "    else:\n",
    "        return 0\n",
    "\n",
    "for d in dicts_variables:\n",
    "    model.utility('UtilityOfCasilla')[d]=utilidad(d)\n",
    "\n",
    "\n",
    "model"
   ]
  },
  {
   "cell_type": "markdown",
   "metadata": {},
   "source": [
    "Confirmamos que el cálculo de la utilidad esté correcto:"
   ]
  },
  {
   "cell_type": "code",
   "execution_count": null,
   "metadata": {},
   "outputs": [],
   "source": [
    "ie = gum.InfluenceDiagramInference(model)\n",
    "ie.makeInference()\n",
    "ie.posteriorUtility(\"UtilityOfCasilla\")"
   ]
  },
  {
   "cell_type": "markdown",
   "metadata": {},
   "source": [
    "Consideremos ahora el escenario sin evidencia:"
   ]
  },
  {
   "cell_type": "code",
   "execution_count": null,
   "metadata": {},
   "outputs": [],
   "source": [
    "print(\"Situación I: Análisis del escenario sin evidencia:\")\n",
    "gnb.showInference(model,evs={},size=\"6\")"
   ]
  },
  {
   "cell_type": "markdown",
   "metadata": {},
   "source": [
    "En la situación I, en la cual no tenemos evidencia, cualquiera de las tres casillas representa la misma utilidad esperada. Esto coincide con nuestra intuición, toda vez que el oro puede estar en cualquiera de ellas. "
   ]
  },
  {
   "cell_type": "markdown",
   "metadata": {},
   "source": [
    "**Ejercicio 2:**\n",
    "\n",
    "Analice el escenario en el que no hay brillo en $(0,0)$. ¿Qué casilla tiene mayor utilidad esperada? ¿Es esto intuitivamente cierto?"
   ]
  },
  {
   "cell_type": "markdown",
   "metadata": {},
   "source": [
    "---"
   ]
  },
  {
   "cell_type": "markdown",
   "metadata": {},
   "source": [
    "# Escenarios más complejos  <a class=\"anchor\" id=\"dependencia\">\n",
    "    \n",
    "([Volver al inicio](#inicio))\n",
    "    \n",
    "Ya estamos listos para considerar un escenario que incluye tanto los pozos y la briza como el oro y el brillo. Pero haremos esto en dos pasos: primero ambas variables en un escenario pequeño, luego el escenario completo que se requiere para implementar un agente basado en utilidad. "
   ]
  },
  {
   "cell_type": "markdown",
   "metadata": {},
   "source": [
    "    \n",
    "### Oro y pozos <a class=\"anchor\" id=\"combinado\">\n",
    "    \n",
    "El siguiente es el código que genera la red de decisión. Observe la creación de la red bayesiana, del nodo de decisión con las acciones del agente, y el nodo de utilidad con la utilidad que definimos al comienzo del notebook.\n",
    "    \n",
    "([Anterior ejemplo](#solo_oro)  -- [Siguiente ejemplo](#combinado_todos))\n"
   ]
  },
  {
   "cell_type": "code",
   "execution_count": null,
   "metadata": {},
   "outputs": [],
   "source": [
    "model = gum.InfluenceDiagram()\n",
    "\n",
    "# Creamos los nodos de probabilidad\n",
    "pozo0 = gum.LabelizedVariable('pozo(0,0)','pozo(0,0)',2)\n",
    "model.addChanceNode(pozo0)\n",
    "pozo1 = gum.LabelizedVariable('pozo(1,1)','pozo(1,1)',2)\n",
    "model.addChanceNode(pozo1)\n",
    "pozo2 = gum.LabelizedVariable('pozo(2,0)','pozo(2,0)',2)\n",
    "model.addChanceNode(pozo2)\n",
    "brisa = gum.LabelizedVariable('brisa(1,0)','brisa(1,0)',2)\n",
    "model.addChanceNode(brisa)\n",
    "oro0 = gum.LabelizedVariable('brillo(0,0)','brillo(0,0)',2)\n",
    "model.addChanceNode(oro0)\n",
    "oro1 = gum.LabelizedVariable('brillo(1,1)','brillo(1,1)',2)\n",
    "model.addChanceNode(oro1)\n",
    "oro2 = gum.LabelizedVariable('brillo(2,0)','brillo(2,0)',2)\n",
    "model.addChanceNode(oro2)\n",
    "oro = gum.LabelizedVariable('oro','oro',3)\n",
    "oro.changeLabel(0,'(0,0)')\n",
    "oro.changeLabel(1,'(1,1)')\n",
    "oro.changeLabel(2,'(2,0)')\n",
    "model.addChanceNode(oro)\n",
    "\n",
    "# Creamos las aristas de la red bayesiana\n",
    "model.addArc('pozo(0,0)', 'brisa(1,0)')\n",
    "model.addArc('pozo(1,1)', 'brisa(1,0)')\n",
    "model.addArc('pozo(2,0)', 'brisa(1,0)')\n",
    "model.addArc('oro', 'brillo(0,0)')\n",
    "model.addArc('oro', 'brillo(1,1)')\n",
    "model.addArc('oro', 'brillo(2,0)')\n",
    "\n",
    "# Creamos las probabilidades\n",
    "model.cpt('pozo(0,0)')[:]=[0.8,0.2]\n",
    "model.cpt('pozo(1,1)')[:]=[0.8,0.2]\n",
    "model.cpt('pozo(2,0)')[:]=[0.8,0.2]\n",
    "model.cpt('brisa(1,0)')[{'pozo(0,0)': 1, 'pozo(1,1)': 1, 'pozo(2,0)': 1}] = [0, 1]\n",
    "model.cpt('brisa(1,0)')[{'pozo(0,0)': 1, 'pozo(1,1)': 1, 'pozo(2,0)': 0}] = [0, 1]\n",
    "model.cpt('brisa(1,0)')[{'pozo(0,0)': 1, 'pozo(1,1)': 0, 'pozo(2,0)': 1}] = [0, 1]\n",
    "model.cpt('brisa(1,0)')[{'pozo(0,0)': 1, 'pozo(1,1)': 0, 'pozo(2,0)': 0}] = [0, 1]\n",
    "model.cpt('brisa(1,0)')[{'pozo(0,0)': 0, 'pozo(1,1)': 1, 'pozo(2,0)': 1}] = [0, 1]\n",
    "model.cpt('brisa(1,0)')[{'pozo(0,0)': 0, 'pozo(1,1)': 1, 'pozo(2,0)': 0}] = [0, 1]\n",
    "model.cpt('brisa(1,0)')[{'pozo(0,0)': 0, 'pozo(1,1)': 0, 'pozo(2,0)': 1}] = [0, 1]\n",
    "model.cpt('brisa(1,0)')[{'pozo(0,0)': 0, 'pozo(1,1)': 0, 'pozo(2,0)': 0}] = [1, 0]\n",
    "model.cpt('oro').fillWith([1/3,1/3,1/3])\n",
    "model.cpt('brillo(0,0)')[{'oro': 0}] = [0,1]\n",
    "model.cpt('brillo(0,0)')[{'oro': 1}] = [1,0]\n",
    "model.cpt('brillo(0,0)')[{'oro': 2}] = [1,0]\n",
    "model.cpt('brillo(1,1)')[{'oro': 0}] = [1,0]\n",
    "model.cpt('brillo(1,1)')[{'oro': 1}] = [0,1]\n",
    "model.cpt('brillo(1,1)')[{'oro': 2}] = [1,0]\n",
    "model.cpt('brillo(2,0)')[{'oro': 0}] = [1,0]\n",
    "model.cpt('brillo(2,0)')[{'oro': 1}] = [1,0]\n",
    "model.cpt('brillo(2,0)')[{'oro': 2}] = [0,1]\n",
    "\n",
    "# Creamos el nodo de decisión\n",
    "casilla = gum.LabelizedVariable('Casilla','Casilla a moverse',3)\n",
    "casilla.changeLabel(0,'(0,0)')\n",
    "casilla.changeLabel(1,'(1,1)')\n",
    "casilla.changeLabel(2,'(2,0)')\n",
    "model.addDecisionNode(casilla)\n",
    "\n",
    "# Creamos el nodo de utilidad\n",
    "ut_casilla = gum.LabelizedVariable('UtilityOfCasilla','Valor casilla',1)\n",
    "model.addUtilityNode(ut_casilla)\n",
    "\n",
    "# Creamos las aristas de utilidad\n",
    "model.addArc('pozo(0,0)', 'UtilityOfCasilla')\n",
    "model.addArc('pozo(1,1)', 'UtilityOfCasilla')\n",
    "model.addArc('pozo(2,0)', 'UtilityOfCasilla')\n",
    "model.addArc('oro', 'UtilityOfCasilla')\n",
    "model.addArc('Casilla', 'UtilityOfCasilla')\n",
    "\n",
    "# Asignamos las utilidades\n",
    "variables = ['pozo(0,0)','pozo(1,1)','pozo(2,0)','oro','Casilla']\n",
    "opciones = product([0,1], [0,1], [0,1], ['(0,0)','(1,1)','(2,0)'], ['(0,0)','(1,1)','(2,0)'])\n",
    "dicts_variables = [{variables[i]:op[i] for i in range(len(variables))} for op in opciones]\n",
    "\n",
    "def utilidad(d):\n",
    "    C = d['Casilla']\n",
    "    if (d['pozo'+C] == 0) and (d['oro'] == C):\n",
    "        return 1\n",
    "    elif (d['pozo'+C] == 0):\n",
    "        return 0\n",
    "    else:\n",
    "        return -1\n",
    "\n",
    "for d in dicts_variables:\n",
    "    model.utility('UtilityOfCasilla')[d]=utilidad(d)\n",
    "\n",
    "print(\"Situación I: Análisis del escenario sin evidencia:\")\n",
    "gnb.showInference(model,evs={},size=\"6\")"
   ]
  },
  {
   "cell_type": "markdown",
   "metadata": {},
   "source": [
    "Observe que cuando el agente está en la casilla $(1,0)$ y no tiene ninguna información sobre el mundo, todas las tres acciones posibles tienen la misma utilidad. Esto cambia cuando incluimos evidencia. Realice los siguientes ejercicios para analizar distintos esceneraios."
   ]
  },
  {
   "cell_type": "markdown",
   "metadata": {},
   "source": [
    "**Ejercicio 3:**\n",
    "\n",
    "Considere un escenario en el cual no hay brillo en $(0,0)$ ni brisa en $(1,0)$. Este es el escenario de la figura de la derecha al comienzo del notebook. En este escenario, ¿cuál acción tiene mayor utilidad esperada? ¿Es esto intuitivamente cierto?"
   ]
  },
  {
   "cell_type": "markdown",
   "metadata": {},
   "source": [
    "---"
   ]
  },
  {
   "cell_type": "markdown",
   "metadata": {},
   "source": [
    "**Ejercicio 4:**\n",
    "\n",
    "Considere un escenario en el cual no hay brillo ni pozo en $(0,0)$, pero hay brisa en $(1,0)$. En este escenario, ¿cuál acción tiene mayor utilidad esperada? ¿Es esto intuitivamente cierto?"
   ]
  },
  {
   "cell_type": "markdown",
   "metadata": {},
   "source": [
    "---"
   ]
  },
  {
   "cell_type": "markdown",
   "metadata": {},
   "source": [
    "### El escenario con brisa y oro completos <a class=\"anchor\" id=\"combinado_todos\">\n",
    "    \n",
    "([Anterior ejemplo](#combinado))\n",
    "\n",
    "Resulta muy ineficiente crear el escenario con todas las variables para brisa, pozo, brillo y oro de todas las rejillas. En efecto, para implementar la función de utilidad requeriríamos una cantidad astronómica de diccionarios (el número exacto es $2^{16}*2^{16}*16*16\\approx 7\\times 10^{16}$). La solución, la cual resulta bastante buena, como veremos a continuación, es crear una red de decisión para cada casilla. Aún así, necesitamos crear una variable para todos los brillos, pero no para todas las brisas y pozos. Para estas últimas sólo necesitamos considerar casillas adyacentes de manera limitada.\n",
    "\n",
    "El siguiente es el código para crear la red de decisión para una casilla dada. Tómese unos minutos para analizarlo, así sea por encima."
   ]
  },
  {
   "cell_type": "code",
   "execution_count": null,
   "metadata": {},
   "outputs": [],
   "source": [
    "W = Wumpus()\n",
    "def adyacentes(c):\n",
    "    return W.adyacentes(c)\n",
    "\n",
    "def crear_red_decision(cas):   \n",
    "    \n",
    "    model = gum.InfluenceDiagram()\n",
    "    \n",
    "    todas_casillas = [(x,y) for x in range(4) for y in range(4)]\n",
    "    total_casillas = len(todas_casillas)\n",
    "    casillas = adyacentes(cas)\n",
    "    num_casillas = len(casillas)\n",
    "    aux = [adyacentes(c) for c in casillas]\n",
    "    aux = [item for sublist in aux for item in sublist]\n",
    "    casillas_adyacentes2 = list(set(aux))\n",
    "    aux = [adyacentes(c) for c in casillas_adyacentes2]\n",
    "    aux = [item for sublist in aux for item in sublist]\n",
    "    casillas_adyacentes3 = list(set(aux))\n",
    "\n",
    "    # Creando variables del oro y brillo\n",
    "    oro = gum.LabelizedVariable('oro','oro',total_casillas)\n",
    "    for i, c in enumerate(todas_casillas):\n",
    "        oro.changeLabel(i,str(c))\n",
    "        brillo_i = gum.LabelizedVariable('brillo'+str(c),'brillo'+str(c),2)\n",
    "        model.addChanceNode(brillo_i)\n",
    "    model.addChanceNode(oro)\n",
    "\n",
    "    # Creando variables de pozo\n",
    "    for c in casillas_adyacentes3:\n",
    "        pozo_i = gum.LabelizedVariable('pozo'+str(c),'pozo'+str(c),2)\n",
    "        model.addChanceNode(pozo_i)\n",
    "\n",
    "    # Creando variables de brisa\n",
    "    for c1 in casillas_adyacentes2:\n",
    "        brisa_i = gum.LabelizedVariable('brisa'+str(c1),'brisa'+str(c1),2)\n",
    "        model.addChanceNode(brisa_i)\n",
    "\n",
    "    # Creando variables de casilla\n",
    "    casilla = gum.LabelizedVariable('Casilla','Casilla a moverse',num_casillas)\n",
    "    for i, c in enumerate(casillas):\n",
    "        casilla.changeLabel(i,str(c))\n",
    "    model.addDecisionNode(casilla)\n",
    "\n",
    "    # Creando variable de utilidad\n",
    "    ut_casilla = gum.LabelizedVariable('UtilityOfCasilla','Valor casilla',1)\n",
    "    model.addUtilityNode(ut_casilla)\n",
    "\n",
    "    # Creando aristas del grafo\n",
    "    for c in todas_casillas:\n",
    "        model.addArc('oro', 'brillo'+str(c))\n",
    "    for c in casillas_adyacentes3:\n",
    "        for c1 in adyacentes(c):\n",
    "            if c1 in casillas_adyacentes2:\n",
    "                model.addArc('pozo'+str(c), 'brisa'+str(c1))\n",
    "    for c in casillas:\n",
    "        model.addArc('pozo'+str(c), 'UtilityOfCasilla')\n",
    "    model.addArc('oro', 'UtilityOfCasilla')\n",
    "    model.addArc('Casilla', 'UtilityOfCasilla')\n",
    "    \n",
    "    # Creando tablas de probabilidad\n",
    "    model.cpt('oro').fillWith([1/total_casillas]*total_casillas)\n",
    "    for c in todas_casillas:\n",
    "        brillo = 'brillo' + str(c)\n",
    "        for c1 in todas_casillas:\n",
    "            model.cpt(brillo)[{'oro': str(c1)}] = oro_a_brillo(c,c1)\n",
    "    \n",
    "    pozos = ['pozo'+str(c) for c in casillas_adyacentes3]\n",
    "    for pozo in pozos:\n",
    "        model.cpt(pozo)[:]=[0.8,0.2]\n",
    "\n",
    "    for c in casillas_adyacentes2:\n",
    "        brisa = 'brisa' + str(c)\n",
    "        pozos_brisa = ['pozo'+str(c1) for c1 in adyacentes(c)]\n",
    "        opciones = list(product(*[[0,1] for p in pozos_brisa]))\n",
    "        dicts_variables = [{pozos_brisa[i]:op[i] for i in range(len(pozos_brisa))} for op in opciones]\n",
    "        for d in dicts_variables:\n",
    "            model.cpt(brisa)[d] = pozos_a_brisa(d)\n",
    "        \n",
    "    # Creando la utilidad\n",
    "    pozos = ['pozo'+str(c) for c in casillas]\n",
    "    casillas = [str(c) for c in adyacentes(cas)]\n",
    "    todas_casillas = [str(c) for c in todas_casillas]\n",
    "    variables = ['Casilla','oro'] + pozos\n",
    "    opciones = list(product(casillas, todas_casillas, *[[0,1] for i in pozos]))\n",
    "    dicts_variables = [{variables[i]:op[i] for i in range(len(variables))} for op in opciones]\n",
    "    for d in dicts_variables:\n",
    "        model.utility('UtilityOfCasilla')[d]=utilidad(d)\n",
    "\n",
    "    return model\n",
    "\n",
    "def pozos_a_brisa(d):\n",
    "    if 1 not in d.values():\n",
    "        return [1,0]\n",
    "    else:\n",
    "        return [0,1]\n",
    "\n",
    "def oro_a_brillo(c1,c2):\n",
    "    if c1 == c2:\n",
    "        return [0,1]\n",
    "    else:\n",
    "        return [1,0]\n",
    "    \n",
    "def utilidad(d):\n",
    "    C = d['Casilla']\n",
    "    if (d['pozo'+str(C)] == 0) and (d['oro'] == C):\n",
    "        return 1\n",
    "    elif (d['pozo'+str(C)] == 0):\n",
    "        return 0\n",
    "    else:\n",
    "        return -1"
   ]
  },
  {
   "cell_type": "markdown",
   "metadata": {},
   "source": [
    "La red que crea esta función es bastante grande. Esto hace que la visualización en el notebook sea problemática, toda vez que las variables se ven muy pequeñas. Resulta mejor guardar la red en una imagen que podamos examinar en cualquier aplicación para visualizar archivos de imágenes. \n",
    "\n",
    "Vamos a crear una red para la casilla $(0,0)$ mediante el código de la siguiente celda:"
   ]
  },
  {
   "cell_type": "code",
   "execution_count": null,
   "metadata": {},
   "outputs": [],
   "source": [
    "model = crear_red_decision((0,0))\n",
    "gnb.showInfluenceDiagram(model,size=\"6\")"
   ]
  },
  {
   "cell_type": "markdown",
   "metadata": {},
   "source": [
    "Supongamos que no hay brillo ni brisa en la casilla $(0,0)$. La inferencia nos dice que las dos casillas adyacentes tienen la misma utilidad:"
   ]
  },
  {
   "cell_type": "code",
   "execution_count": null,
   "metadata": {},
   "outputs": [],
   "source": [
    "evidencia = {'brillo(0, 0)':0, 'brisa(0, 0)':0}\n",
    "ie = gum.InfluenceDiagramInference(model)\n",
    "ie.setEvidence(evidencia)\n",
    "ie.makeInference()\n",
    "ie.posteriorUtility(\"Casilla\")"
   ]
  },
  {
   "cell_type": "markdown",
   "metadata": {},
   "source": [
    "Podemos crear la red con la inferencia anterior y visualizarla:"
   ]
  },
  {
   "cell_type": "code",
   "execution_count": null,
   "metadata": {},
   "outputs": [],
   "source": [
    "gnb.showInference(model,\n",
    "                  evs={'brillo(0, 0)':0, 'brisa(0, 0)':0},\n",
    "                  targets={},\n",
    "                  size=\"30\"\n",
    "                 )"
   ]
  },
  {
   "cell_type": "markdown",
   "metadata": {},
   "source": [
    "**Ejercicio 5:**\n",
    "\n",
    "Suponga que el juego inicia y el agente no percibe nada en la casilla de salida. Luego avanza dos casillas hacia la derecha sin percibir nada. Al avanzar una casilla arriba se encuentra con una brisa. Cree una red de decisión para encontrar la acción que maximiza la utilidad esperada de este escenario. ¿Es esta acción intuitivamente aceptable?\n",
    "\n",
    "La respuesta debe ser la siguiente:\n",
    "\n",
    "<img src=\"./imagenes/respuesta-ok.png\" width=\"150\">"
   ]
  },
  {
   "cell_type": "markdown",
   "metadata": {},
   "source": [
    "---"
   ]
  },
  {
   "cell_type": "markdown",
   "metadata": {},
   "source": [
    "# Agente basado en utilidad  <a class=\"anchor\" id=\"utility-based\">\n",
    "\n",
    "([Volver al inicio](#inicio))\n",
    "\n",
    "Ya tenemos todas las herramientas para crear un programa de agente basado en utilidad. Solo necesitamos dos cosas: una función auxiliar que empaquete la toma de decisiones y, luego, adaptar el programa de agente que ya teníamos para incluir esta nueva forma de crear planes de acciones.\n",
    "    \n",
    "Comenzamos con la función auxiliar de toma de decisiones:"
   ]
  },
  {
   "cell_type": "code",
   "execution_count": null,
   "metadata": {},
   "outputs": [],
   "source": [
    "def tomar_decision(casilla, evs, tabla=False, imagen=False):\n",
    "    # Creamos la red de decision para la casilla dada\n",
    "    model = crear_red_decision(casilla)\n",
    "    # Guardamos solo la evidencia que cae en las variables de la red de decisión\n",
    "    evid = {v:evs[v] for v in evs.keys() if v in model.names()}\n",
    "    # Hacemos la inferencia\n",
    "    ie = gum.InfluenceDiagramInference(model)\n",
    "    ie.setEvidence(evid)\n",
    "    ie.makeInference()\n",
    "    casillas = [c for c in adyacentes(casilla)]\n",
    "    valores = ie.posteriorUtility(\"Casilla\")\n",
    "    if tabla:\n",
    "        print(valores)\n",
    "    # Escogemos la acción con mayor utilidad esperada\n",
    "    decision = maximo_aleatorio(valores.tolist())\n",
    "    if tabla:\n",
    "        print('Decisión ->', casillas[decision])\n",
    "    if imagen:\n",
    "        gnb.showInference(model,evs=evid,targets={},size=\"30\")\n",
    "    return casillas[decision]\n"
   ]
  },
  {
   "cell_type": "markdown",
   "metadata": {},
   "source": [
    "Comprobamos su funcionamiento con una decisión sencilla:"
   ]
  },
  {
   "cell_type": "code",
   "execution_count": null,
   "metadata": {},
   "outputs": [],
   "source": [
    "evidencia = {'pozo(0, 0)':0, 'brisa(1, 0)':1, 'brillo(0, 0)':0}\n",
    "tomar_decision((1,0), evidencia, tabla=True, imagen=False)"
   ]
  },
  {
   "cell_type": "markdown",
   "metadata": {},
   "source": [
    "Ahora adaptamos el programa de agente que teníamos para que la toma de decisiones se haga maximizando la utilidad esperada. Este programa considera las siguientes reglas:\n",
    "\n",
    "* Si ve el oro, lo toma y traza una ruta hasta la salida.\n",
    "* Si está en la salida y ya tiene el oro, sale.\n",
    "* En otro caso, escoge la acción que maximiza la utilidad esperada dada una lista de evidencias."
   ]
  },
  {
   "cell_type": "code",
   "execution_count": null,
   "metadata": {},
   "outputs": [],
   "source": [
    "def programa_utility_based(self, DEB=False):\n",
    "       \n",
    "    # Encuentra la casilla actual\n",
    "    casilla_actual = self.loc\n",
    "#    print('agente en:', casilla_actual, self.oro)\n",
    "    direccion = self.direccion\n",
    "    percepcion = self.perceptos\n",
    "    casillas_seguras = self.seguras\n",
    "    evidencia = self.evidencia\n",
    "    oro = self.oro\n",
    "    \n",
    "    # Si tiene el oro y está en la casilla de salida, salir\n",
    "    if oro and (casilla_actual == (0,0)):\n",
    "        self.acciones = ['salir']\n",
    "    # Si ve el oro, lo toma y planea un camino hasta la salida\n",
    "    if 'brillo' in percepcion:\n",
    "#        print(\"¡Veo el oro!\")\n",
    "        self.oro = True\n",
    "        self.acciones = ['agarrar']\n",
    "        R = Rejilla(casilla_actual, (0,0), casillas_seguras)\n",
    "        camino = best_first_search(R)\n",
    "        camino = [casilla_actual] + solucion(camino)\n",
    "        acs = acciones_camino(camino, direccion)\n",
    "        if DEB:\n",
    "            print(f'desde {casilla_actual} hasta {casilla_ir}')\n",
    "            print(f'sigue el camino {acs}')\n",
    "        self.acciones += acs\n",
    "    else:\n",
    "        # Escoje la casilla de mayor utilidad\n",
    "        casilla_ir = tomar_decision(casilla_actual, evidencia, tabla=DEB)\n",
    "        camino = [casilla_actual, casilla_ir]\n",
    "        acs = acciones_camino(camino, direccion)\n",
    "        if DEB:\n",
    "            print(f'desde {casilla_actual} hasta {casilla_ir}')\n",
    "            print(f'sigue el camino {acs}')\n",
    "        self.acciones += acs\n",
    "\n",
    "setattr(Agente, \"programa\", programa_utility_based)"
   ]
  },
  {
   "cell_type": "markdown",
   "metadata": {},
   "source": [
    "Observe que como argumento de este programa estamos usando un diccionario de evidencia y una lista de casillas seguras. Esta información se va guardando en cada iteración del agente. Veámos un ejemplo de cómo funciona este programa en un caso concreto:"
   ]
  },
  {
   "cell_type": "code",
   "execution_count": null,
   "metadata": {
    "scrolled": false
   },
   "outputs": [],
   "source": [
    "from time import sleep\n",
    "from IPython.display import clear_output\n",
    "\n",
    "W = Wumpus(wumpus=(3,0), oro=(2,3), pozos=[(3,0), (0,2)])\n",
    "agente = Agente()\n",
    "evidencia = {'pozo(0, 0)':0}\n",
    "casillas_seguras = []\n",
    "setattr(Agente, \"evidencia\", evidencia)\n",
    "setattr(Agente, \"seguras\", casillas_seguras)\n",
    "formulas = agente.fluentes_mapa_mental()\n",
    "formulas += [f'en(0,0)_1', 'mirando_e_1', 'segura(0,0)']\n",
    "agente.base = LPQuery(formulas)\n",
    "agente.perceptos = W.para_sentidos()\n",
    "c = agente.interp_percepto(mundo='wumpus')\n",
    "agente.base.TELL(c)\n",
    "max_turnos = 50\n",
    "W.pintar_todo()\n",
    "plt.show()\n",
    "\n",
    "for t in range(max_turnos):\n",
    "#    vis(agente)\n",
    "    casilla_actual = agente.loc\n",
    "    if casilla_actual not in casillas_seguras:\n",
    "        casillas_seguras.append(agente.loc)\n",
    "    agente.perceptos = W.para_sentidos()\n",
    "    if 'brillo' not in agente.perceptos:\n",
    "        agente.evidencia['brillo'+str(casilla_actual)] = 0\n",
    "    if 'brisa' in agente.perceptos:\n",
    "        agente.evidencia['brisa'+str(casilla_actual)] = 1\n",
    "    else:\n",
    "        agente.evidencia['brisa'+str(casilla_actual)] = 0        \n",
    "#    print(agente.evidencia)\n",
    "    a = agente.reaccionar(DEB=False)\n",
    "#    print(a)\n",
    "    formula_accion = f'{a}_{agente.turno-1}'\n",
    "    agente.base.TELL(formula_accion)\n",
    "    W.transicion(a)\n",
    "    if not W.juego_activo:\n",
    "        clear_output(wait=True)\n",
    "        print(W.mensaje)\n",
    "        break\n",
    "    clear_output(wait=True)\n",
    "    agente.estimar_estado(W)\n",
    "    W.pintar_todo()\n",
    "    plt.show()\n",
    "    sleep(.5) "
   ]
  },
  {
   "cell_type": "markdown",
   "metadata": {},
   "source": [
    "Al héroe le va bastante bien buscando el oro en este escenario y, una vez encontrado, saliendo de la caverna de manera segura.\n",
    "\n",
    "Ahora corra el siguiente escenario:"
   ]
  },
  {
   "cell_type": "code",
   "execution_count": null,
   "metadata": {},
   "outputs": [],
   "source": [
    "from time import sleep\n",
    "from IPython.display import clear_output\n",
    "\n",
    "W = Wumpus(wumpus=(0,2), oro=(3,3), pozos=[(2,0), (3,2)])\n",
    "agente = Agente()\n",
    "evidencia = {'pozo(0, 0)':0}\n",
    "casillas_seguras = []\n",
    "setattr(Agente, \"evidencia\", evidencia)\n",
    "setattr(Agente, \"seguras\", casillas_seguras)\n",
    "formulas = agente.fluentes_mapa_mental()\n",
    "formulas += [f'en(0,0)_1', 'mirando_e_1', 'segura(0,0)']\n",
    "agente.base = LPQuery(formulas)\n",
    "agente.perceptos = W.para_sentidos()\n",
    "c = agente.interp_percepto(mundo='wumpus')\n",
    "agente.base.TELL(c)\n",
    "max_turnos = 50\n",
    "W.pintar_todo()\n",
    "plt.show()\n",
    "\n",
    "for t in range(max_turnos):\n",
    "#    vis(agente)\n",
    "    casilla_actual = agente.loc\n",
    "    if casilla_actual not in casillas_seguras:\n",
    "        casillas_seguras.append(agente.loc)\n",
    "    agente.perceptos = W.para_sentidos()\n",
    "    if 'brillo' not in agente.perceptos:\n",
    "        agente.evidencia['brillo'+str(casilla_actual)] = 0\n",
    "    if 'brisa' in agente.perceptos:\n",
    "        agente.evidencia['brisa'+str(casilla_actual)] = 1\n",
    "    else:\n",
    "        agente.evidencia['brisa'+str(casilla_actual)] = 0        \n",
    "#    print(agente.evidencia)\n",
    "    a = agente.reaccionar(DEB=False)\n",
    "#    print(a)\n",
    "    formula_accion = f'{a}_{agente.turno-1}'\n",
    "    agente.base.TELL(formula_accion)\n",
    "    W.transicion(a)\n",
    "    if not W.juego_activo:\n",
    "        clear_output(wait=True)\n",
    "        print(W.mensaje)\n",
    "        break\n",
    "    clear_output(wait=True)\n",
    "    agente.estimar_estado(W)\n",
    "    W.pintar_todo()\n",
    "    plt.show()\n",
    "    sleep(.5) "
   ]
  },
  {
   "cell_type": "markdown",
   "metadata": {},
   "source": [
    "**Ejercicio 6:**\n",
    "\n",
    "Modifique la función `crear_red_decision` para incluir las variables de hedor y Wumpus, para que el héroe sea capaz de superar el escenario anterior."
   ]
  },
  {
   "cell_type": "markdown",
   "metadata": {},
   "source": [
    "En este notebook usted aprendió:\n",
    "\n",
    "* Asociar las acciones racionales con la maximización de la utilidad esperada.\n",
    "* Implementar redes de decisión mediante el paquete `pyAgrum`.\n",
    "* Implementar un programa de agente basado en la utilidad."
   ]
  }
 ],
 "metadata": {
  "kernelspec": {
   "display_name": "Python 3",
   "language": "python",
   "name": "python3"
  },
  "language_info": {
   "codemirror_mode": {
    "name": "ipython",
    "version": 3
   },
   "file_extension": ".py",
   "mimetype": "text/x-python",
   "name": "python",
   "nbconvert_exporter": "python",
   "pygments_lexer": "ipython3",
   "version": "3.9.12"
  }
 },
 "nbformat": 4,
 "nbformat_minor": 4
}

{
 "cells": [
  {
   "cell_type": "markdown",
   "metadata": {},
   "source": [
    "# **Torres de Hanoi**\n",
    "Carlos Garavito, Emmanuel Moreno"
   ]
  },
  {
   "cell_type": "markdown",
   "metadata": {},
   "source": [
    "## Descripción del problema\n",
    "\n",
    "El problema o juego de las Torres de Hannoi consiste (en nuestro ambiente) en llevar todos los discos hacia la tercera columna de tal manera que queden ordenados de mayor a menor a radio. Las demás reglas y condiciones se explican en el reporte."
   ]
  },
  {
   "cell_type": "markdown",
   "metadata": {},
   "source": [
    "La representación computacional que se usará del problema, corresponde a una matriz de tres columnas, en donde cada vector columna representa una barra y sus valores, corresponderán al diámetro del disco. Así una matriz de la forma\n",
    "\n",
    "$$\n",
    "\\begin{bmatrix}\n",
    "1 & 0 & 0\\\\\n",
    "2 & 0 & 0\\\\\n",
    "3 & 0 & 0\n",
    "\\end{bmatrix},  \n",
    "$$\n",
    "\n",
    "representa el estado del problema tal que en la primera columna se encuentra ubicados tres discos, ordenados de mayor a menor diámetro, mientras que las otras dos columnas están vacias. "
   ]
  },
  {
   "cell_type": "markdown",
   "metadata": {},
   "source": [
    "## Solución para tres discos ($n=3$)"
   ]
  },
  {
   "cell_type": "markdown",
   "metadata": {},
   "source": [
    "Para la implementación de la solución, se hace uso del ambiente recibido por parte del profesor, cargado en el paquete `ambiente.py`. Además, se hace uso del paquete que contiene los algorítmos de búsqueda que se han visto en clase, los cuales están ubicados en el archivo `searcgAlg`."
   ]
  },
  {
   "cell_type": "code",
   "execution_count": 1,
   "metadata": {},
   "outputs": [],
   "source": [
    "from ambiente import * \n",
    "from random import choice\n",
    "from searchAlg import *"
   ]
  },
  {
   "cell_type": "markdown",
   "metadata": {},
   "source": [
    "Así, definiendo el problema con tres discos, se tiene:"
   ]
  },
  {
   "cell_type": "code",
   "execution_count": 2,
   "metadata": {},
   "outputs": [
    {
     "data": {
      "text/plain": [
       "array([[1., 4., 4.],\n",
       "       [2., 4., 4.],\n",
       "       [3., 4., 4.]])"
      ]
     },
     "execution_count": 2,
     "metadata": {},
     "output_type": "execute_result"
    }
   ],
   "source": [
    "prob_n3 = Hannoi(num_disc=3)\n",
    "s = prob_n3.estado_inicial\n",
    "s"
   ]
  },
  {
   "cell_type": "markdown",
   "metadata": {},
   "source": [
    "### Implementación de algorítmos de búsqueda"
   ]
  },
  {
   "cell_type": "markdown",
   "metadata": {},
   "source": [
    "#### breadth first search"
   ]
  },
  {
   "cell_type": "markdown",
   "metadata": {},
   "source": [
    "Implementando el algoritmo `breadth_first_search` y mostrando los estados del problema de forma matricial, se tiene: "
   ]
  },
  {
   "cell_type": "code",
   "execution_count": 6,
   "metadata": {},
   "outputs": [
    {
     "data": {
      "text/plain": [
       "[array([[1., 4., 4.],\n",
       "        [2., 4., 4.],\n",
       "        [3., 4., 4.]]),\n",
       " array([[4., 4., 4.],\n",
       "        [2., 4., 4.],\n",
       "        [3., 4., 1.]]),\n",
       " array([[4., 4., 4.],\n",
       "        [4., 4., 4.],\n",
       "        [3., 2., 1.]]),\n",
       " array([[4., 4., 4.],\n",
       "        [4., 1., 4.],\n",
       "        [3., 2., 4.]]),\n",
       " array([[4., 4., 4.],\n",
       "        [4., 1., 4.],\n",
       "        [4., 2., 3.]]),\n",
       " array([[4., 4., 4.],\n",
       "        [4., 4., 4.],\n",
       "        [1., 2., 3.]]),\n",
       " array([[4., 4., 4.],\n",
       "        [4., 4., 2.],\n",
       "        [1., 4., 3.]]),\n",
       " array([[4., 4., 1.],\n",
       "        [4., 4., 2.],\n",
       "        [4., 4., 3.]])]"
      ]
     },
     "execution_count": 6,
     "metadata": {},
     "output_type": "execute_result"
    }
   ],
   "source": [
    "my_camino2(breadth_first_search(prob_n3))"
   ]
  },
  {
   "cell_type": "markdown",
   "metadata": {},
   "source": [
    "Se se quiere visualizar una animación de la solución, se puede ejecutar la siguiente celda de código:"
   ]
  },
  {
   "cell_type": "code",
   "execution_count": 7,
   "metadata": {},
   "outputs": [
    {
     "data": {
      "image/png": "[encoded data removed]",
      "text/plain": [
       "<Figure size 432x288 with 1 Axes>"
      ]
     },
     "metadata": {
      "needs_background": "light"
     },
     "output_type": "display_data"
    }
   ],
   "source": [
    "prob_n3.pintar_camino(my_camino2(breadth_first_search(prob_n3)))"
   ]
  },
  {
   "cell_type": "markdown",
   "metadata": {},
   "source": [
    "La cantidad de pasos requeridos para encontrar la solución del problema de tres discos con el algoritmo `breath_first_search` es de: "
   ]
  },
  {
   "cell_type": "code",
   "execution_count": 29,
   "metadata": {},
   "outputs": [
    {
     "name": "stdout",
     "output_type": "stream",
     "text": [
      "Cantidad de pasos requeridos para encontrar la solución con breath_first_search: 7\n"
     ]
    }
   ],
   "source": [
    "print(f\"Cantidad de pasos requeridos para encontrar la solución con breath_first_search: {len(my_camino2(breadth_first_search(prob_n3))) -1 }\")"
   ]
  },
  {
   "cell_type": "markdown",
   "metadata": {},
   "source": [
    "#### Depth first search"
   ]
  },
  {
   "cell_type": "code",
   "execution_count": 12,
   "metadata": {},
   "outputs": [
    {
     "data": {
      "text/plain": [
       "[array([[1., 4., 4.],\n",
       "        [2., 4., 4.],\n",
       "        [3., 4., 4.]]),\n",
       " array([[4., 4., 4.],\n",
       "        [2., 4., 4.],\n",
       "        [3., 4., 1.]]),\n",
       " array([[4., 4., 4.],\n",
       "        [2., 4., 4.],\n",
       "        [3., 1., 4.]]),\n",
       " array([[4., 4., 4.],\n",
       "        [4., 4., 4.],\n",
       "        [3., 1., 2.]]),\n",
       " array([[4., 4., 4.],\n",
       "        [4., 4., 1.],\n",
       "        [3., 4., 2.]]),\n",
       " array([[4., 4., 4.],\n",
       "        [1., 4., 4.],\n",
       "        [3., 4., 2.]]),\n",
       " array([[4., 4., 4.],\n",
       "        [1., 4., 4.],\n",
       "        [3., 2., 4.]]),\n",
       " array([[4., 4., 4.],\n",
       "        [4., 4., 4.],\n",
       "        [3., 2., 1.]]),\n",
       " array([[4., 4., 4.],\n",
       "        [4., 1., 4.],\n",
       "        [3., 2., 4.]]),\n",
       " array([[4., 4., 4.],\n",
       "        [4., 1., 4.],\n",
       "        [4., 2., 3.]]),\n",
       " array([[4., 4., 4.],\n",
       "        [4., 4., 1.],\n",
       "        [4., 2., 3.]]),\n",
       " array([[4., 4., 4.],\n",
       "        [4., 4., 4.],\n",
       "        [1., 2., 3.]]),\n",
       " array([[4., 4., 4.],\n",
       "        [4., 4., 2.],\n",
       "        [1., 4., 3.]]),\n",
       " array([[4., 4., 1.],\n",
       "        [4., 4., 2.],\n",
       "        [4., 4., 3.]])]"
      ]
     },
     "execution_count": 12,
     "metadata": {},
     "output_type": "execute_result"
    }
   ],
   "source": [
    "my_camino2(depth_first_search(prob_n3))"
   ]
  },
  {
   "cell_type": "code",
   "execution_count": 36,
   "metadata": {},
   "outputs": [
    {
     "data": {
      "image/png": "[encoded data removed]",
      "text/plain": [
       "<Figure size 432x288 with 1 Axes>"
      ]
     },
     "metadata": {
      "needs_background": "light"
     },
     "output_type": "display_data"
    }
   ],
   "source": [
    "prob_n3.pintar_camino(my_camino2(depth_first_search(prob_n3)))"
   ]
  },
  {
   "cell_type": "code",
   "execution_count": 37,
   "metadata": {},
   "outputs": [
    {
     "name": "stdout",
     "output_type": "stream",
     "text": [
      "Cantidad de pasos requeridos para encontrar la solución con breath_first_search: 13\n"
     ]
    }
   ],
   "source": [
    "print(f\"Cantidad de pasos requeridos para encontrar la solución con depth_first_search: {len(my_camino2(depth_first_search(prob_n3))) - 1}\")"
   ]
  },
  {
   "cell_type": "markdown",
   "metadata": {},
   "source": [
    "#### Depth limited search"
   ]
  },
  {
   "cell_type": "markdown",
   "metadata": {},
   "source": [
    "Este algoritmo depende de la profundidad permitida de exploración. Entre más profundidad de exploración permitida, más cantidad de pasos tomará el algorítmo en encontrar la solución. Para este caso particular, se encontró que la profundidad mínima para encontrar la solución es de $7$. "
   ]
  },
  {
   "cell_type": "code",
   "execution_count": 19,
   "metadata": {},
   "outputs": [
    {
     "data": {
      "text/plain": [
       "[array([[1., 4., 4.],\n",
       "        [2., 4., 4.],\n",
       "        [3., 4., 4.]]),\n",
       " array([[4., 4., 4.],\n",
       "        [2., 4., 4.],\n",
       "        [3., 4., 1.]]),\n",
       " array([[4., 4., 4.],\n",
       "        [4., 4., 4.],\n",
       "        [3., 2., 1.]]),\n",
       " array([[4., 4., 4.],\n",
       "        [4., 1., 4.],\n",
       "        [3., 2., 4.]]),\n",
       " array([[4., 4., 4.],\n",
       "        [4., 1., 4.],\n",
       "        [4., 2., 3.]]),\n",
       " array([[4., 4., 4.],\n",
       "        [4., 4., 4.],\n",
       "        [1., 2., 3.]]),\n",
       " array([[4., 4., 4.],\n",
       "        [4., 4., 2.],\n",
       "        [1., 4., 3.]]),\n",
       " array([[4., 4., 1.],\n",
       "        [4., 4., 2.],\n",
       "        [4., 4., 3.]])]"
      ]
     },
     "execution_count": 19,
     "metadata": {},
     "output_type": "execute_result"
    }
   ],
   "source": [
    "my_camino2(depth_limited_search(prob_n3, 7))"
   ]
  },
  {
   "cell_type": "code",
   "execution_count": 7,
   "metadata": {},
   "outputs": [
    {
     "data": {
      "image/png": "[encoded data removed]",
      "text/plain": [
       "<Figure size 432x288 with 1 Axes>"
      ]
     },
     "metadata": {
      "needs_background": "light"
     },
     "output_type": "display_data"
    }
   ],
   "source": [
    "prob_n3.pintar_camino(my_camino2(depth_limited_search(prob_n3, 7)))"
   ]
  },
  {
   "cell_type": "code",
   "execution_count": 31,
   "metadata": {},
   "outputs": [
    {
     "name": "stdout",
     "output_type": "stream",
     "text": [
      "Cantidad de pasos requeridos para encontrar la solución con breath_first_search: 7\n"
     ]
    }
   ],
   "source": [
    "print(f\"Cantidad de pasos requeridos para encontrar la solución con depth_limited_search: {len(my_camino2(depth_limited_search(prob_n3, 7))) - 1}\")"
   ]
  },
  {
   "cell_type": "markdown",
   "metadata": {},
   "source": [
    "#### Itereative deeping search"
   ]
  },
  {
   "cell_type": "code",
   "execution_count": 21,
   "metadata": {},
   "outputs": [
    {
     "data": {
      "text/plain": [
       "[array([[1., 4., 4.],\n",
       "        [2., 4., 4.],\n",
       "        [3., 4., 4.]]),\n",
       " array([[4., 4., 4.],\n",
       "        [2., 4., 4.],\n",
       "        [3., 4., 1.]]),\n",
       " array([[4., 4., 4.],\n",
       "        [4., 4., 4.],\n",
       "        [3., 2., 1.]]),\n",
       " array([[4., 4., 4.],\n",
       "        [4., 1., 4.],\n",
       "        [3., 2., 4.]]),\n",
       " array([[4., 4., 4.],\n",
       "        [4., 1., 4.],\n",
       "        [4., 2., 3.]]),\n",
       " array([[4., 4., 4.],\n",
       "        [4., 4., 4.],\n",
       "        [1., 2., 3.]]),\n",
       " array([[4., 4., 4.],\n",
       "        [4., 4., 2.],\n",
       "        [1., 4., 3.]]),\n",
       " array([[4., 4., 1.],\n",
       "        [4., 4., 2.],\n",
       "        [4., 4., 3.]])]"
      ]
     },
     "execution_count": 21,
     "metadata": {},
     "output_type": "execute_result"
    }
   ],
   "source": [
    "my_camino2(iterative_deepening_search(prob_n3, 100))"
   ]
  },
  {
   "cell_type": "code",
   "execution_count": 24,
   "metadata": {},
   "outputs": [
    {
     "data": {
      "image/png": "[encoded data removed]",
      "text/plain": [
       "<Figure size 432x288 with 1 Axes>"
      ]
     },
     "metadata": {
      "needs_background": "light"
     },
     "output_type": "display_data"
    }
   ],
   "source": [
    "prob_n3.pintar_camino(my_camino2(iterative_deepening_search(prob_n3, 100)))"
   ]
  },
  {
   "cell_type": "code",
   "execution_count": 32,
   "metadata": {},
   "outputs": [
    {
     "name": "stdout",
     "output_type": "stream",
     "text": [
      "Cantidad de pasos requeridos para encontrar la solución con breath_first_search: 7\n"
     ]
    }
   ],
   "source": [
    "print(f\"Cantidad de pasos requeridos para encontrar la solución con iterative_deepening_search: {len(my_camino2(iterative_deepening_search(prob_n3, 100))) - 1}\")"
   ]
  },
  {
   "cell_type": "markdown",
   "metadata": {},
   "source": [
    "#### Best first search"
   ]
  },
  {
   "cell_type": "markdown",
   "metadata": {},
   "source": [
    "Para la implementación de este algorítmo de búsqueda se hace necesario definir una función de costo. Esto es, el costo que define a cada acción que se toma en la solución del problema. En este caso, por facilidad, se define la funicón de costo uniforme que atribuye el mismo costo a todas las acciones dentro del problema. "
   ]
  },
  {
   "cell_type": "code",
   "execution_count": 25,
   "metadata": {},
   "outputs": [],
   "source": [
    "def costo_uniforme(self, estado, accion):\n",
    "    return 1"
   ]
  },
  {
   "cell_type": "code",
   "execution_count": 26,
   "metadata": {},
   "outputs": [
    {
     "data": {
      "text/plain": [
       "[array([[1., 4., 4.],\n",
       "        [2., 4., 4.],\n",
       "        [3., 4., 4.]]),\n",
       " array([[4., 4., 4.],\n",
       "        [2., 4., 4.],\n",
       "        [3., 4., 1.]]),\n",
       " array([[4., 4., 4.],\n",
       "        [4., 4., 4.],\n",
       "        [3., 2., 1.]]),\n",
       " array([[4., 4., 4.],\n",
       "        [4., 1., 4.],\n",
       "        [3., 2., 4.]]),\n",
       " array([[4., 4., 4.],\n",
       "        [4., 1., 4.],\n",
       "        [4., 2., 3.]]),\n",
       " array([[4., 4., 4.],\n",
       "        [4., 4., 4.],\n",
       "        [1., 2., 3.]]),\n",
       " array([[4., 4., 4.],\n",
       "        [4., 4., 2.],\n",
       "        [1., 4., 3.]]),\n",
       " array([[4., 4., 1.],\n",
       "        [4., 4., 2.],\n",
       "        [4., 4., 3.]])]"
      ]
     },
     "execution_count": 26,
     "metadata": {},
     "output_type": "execute_result"
    }
   ],
   "source": [
    "my_camino2(best_first_search(prob_n3, costo_uniforme))"
   ]
  },
  {
   "cell_type": "code",
   "execution_count": 27,
   "metadata": {},
   "outputs": [
    {
     "data": {
      "image/png": "[encoded data removed]",
      "text/plain": [
       "<Figure size 432x288 with 1 Axes>"
      ]
     },
     "metadata": {
      "needs_background": "light"
     },
     "output_type": "display_data"
    }
   ],
   "source": [
    "prob_n3.pintar_camino(my_camino2(best_first_search(prob_n3, costo_uniforme)))"
   ]
  },
  {
   "cell_type": "code",
   "execution_count": 33,
   "metadata": {},
   "outputs": [
    {
     "name": "stdout",
     "output_type": "stream",
     "text": [
      "Cantidad de pasos requeridos para encontrar la solución con breath_first_search: 7\n"
     ]
    }
   ],
   "source": [
    "print(f\"Cantidad de pasos requeridos para encontrar la solución con best_first_search: {len(my_camino2(best_first_search(prob_n3, costo_uniforme))) - 1}\")"
   ]
  },
  {
   "cell_type": "markdown",
   "metadata": {},
   "source": [
    "### Comparación de tiempos de solución de los algorítmos de búsqueda"
   ]
  },
  {
   "cell_type": "code",
   "execution_count": 34,
   "metadata": {},
   "outputs": [
    {
     "name": "stdout",
     "output_type": "stream",
     "text": [
      "              sum_sq     df            F         PR(>F)\n",
      "C(Función)  0.002275    4.0  1305.848791  1.380433e-112\n",
      "Residual    0.000063  145.0          NaN            NaN\n"
     ]
    },
    {
     "data": {
      "image/png": "[encoded data removed]",
      "text/plain": [
       "<Figure size 1080x216 with 1 Axes>"
      ]
     },
     "metadata": {
      "needs_background": "light"
     },
     "output_type": "display_data"
    }
   ],
   "source": [
    "import warnings\n",
    "warnings.filterwarnings('ignore')\n",
    "\n",
    "funs = [breadth_first_search,\n",
    "        depth_first_search,\n",
    "        lambda x: depth_limited_search(x, 7),\n",
    "        lambda x: iterative_deepening_search(x, 100),\n",
    "        lambda x: best_first_search(x, costo_uniforme)\n",
    "]\n",
    "nombres = ['Breadth_first', 'Depth_first', \n",
    "           'Depth_limited', 'Iterative_deepening', 'best_first']\n",
    "compara_funciones(funs=funs, arg=prob_n3, nombres=nombres)"
   ]
  },
  {
   "cell_type": "markdown",
   "metadata": {},
   "source": [
    "#### Comparando `depth_first_search` y `best_first_search`"
   ]
  },
  {
   "cell_type": "code",
   "execution_count": 35,
   "metadata": {},
   "outputs": [
    {
     "name": "stdout",
     "output_type": "stream",
     "text": [
      "              sum_sq    df          F        PR(>F)\n",
      "C(Función)  0.000014   1.0  55.078491  5.736155e-10\n",
      "Residual    0.000015  58.0        NaN           NaN\n"
     ]
    },
    {
     "data": {
      "image/png": "[encoded data removed]",
      "text/plain": [
       "<Figure size 432x216 with 1 Axes>"
      ]
     },
     "metadata": {
      "needs_background": "light"
     },
     "output_type": "display_data"
    }
   ],
   "source": [
    "import warnings\n",
    "warnings.filterwarnings('ignore')\n",
    "\n",
    "funs = [depth_first_search,\n",
    "        lambda x: best_first_search(x, costo_uniforme)\n",
    "]\n",
    "nombres = ['Depth_first', \n",
    "            'best_first']\n",
    "compara_funciones(funs=funs, arg=prob_n3, nombres=nombres)"
   ]
  },
  {
   "cell_type": "markdown",
   "metadata": {},
   "source": [
    "Se puede ver, que para el caso $n=3$, el mejor algoritmo es el de `depth_first_search`. "
   ]
  },
  {
   "cell_type": "markdown",
   "metadata": {},
   "source": [
    "## Solución para $n>3$"
   ]
  },
  {
   "cell_type": "markdown",
   "metadata": {},
   "source": [
    "#### $n = 4$"
   ]
  },
  {
   "cell_type": "code",
   "execution_count": 53,
   "metadata": {},
   "outputs": [
    {
     "name": "stdout",
     "output_type": "stream",
     "text": [
      "               sum_sq     df            F         PR(>F)\n",
      "C(Función)  56.445578    4.0  9843.776716  1.970516e-175\n",
      "Residual     0.207863  145.0          NaN            NaN\n"
     ]
    },
    {
     "data": {
      "image/png": "[encoded data removed]",
      "text/plain": [
       "<Figure size 1080x216 with 1 Axes>"
      ]
     },
     "metadata": {
      "needs_background": "light"
     },
     "output_type": "display_data"
    }
   ],
   "source": [
    "prob_n4 = Hannoi(num_disc=4)\n",
    "\n",
    "\n",
    "funs = [breadth_first_search,\n",
    "        depth_first_search,\n",
    "        lambda x: depth_limited_search(x, 15), \n",
    "        lambda x: iterative_deepening_search(x, 100),\n",
    "        lambda x: best_first_search(x, costo_uniforme)\n",
    "]\n",
    "nombres = ['Breadth_first', 'Depth_first', \n",
    "           'Depth_limited', 'Iterative_deepening', 'best_first']\n",
    "compara_funciones(funs=funs, arg=prob_n4, nombres=nombres)    "
   ]
  },
  {
   "cell_type": "code",
   "execution_count": 54,
   "metadata": {},
   "outputs": [
    {
     "name": "stdout",
     "output_type": "stream",
     "text": [
      "              sum_sq    df           F        PR(>F)\n",
      "C(Función)  0.005220   2.0  356.351544  1.235054e-42\n",
      "Residual    0.000637  87.0         NaN           NaN\n"
     ]
    },
    {
     "data": {
      "image/png": "[encoded data removed]",
      "text/plain": [
       "<Figure size 648x216 with 1 Axes>"
      ]
     },
     "metadata": {
      "needs_background": "light"
     },
     "output_type": "display_data"
    }
   ],
   "source": [
    "prob_n4 = Hannoi(num_disc=4)\n",
    "\n",
    "\n",
    "funs = [breadth_first_search,\n",
    "        depth_first_search,\n",
    "        lambda x: best_first_search(x, costo_uniforme)\n",
    "]\n",
    "nombres = ['Breadth_first', 'Depth_first', \n",
    "           'best_first']\n",
    "compara_funciones(funs=funs, arg=prob_n4, nombres=nombres)    "
   ]
  },
  {
   "cell_type": "markdown",
   "metadata": {},
   "source": [
    "Se puede ver, que para el caso $n=4$, el mejor algoritmo es también el de `depth_first_search`. "
   ]
  },
  {
   "cell_type": "markdown",
   "metadata": {},
   "source": [
    "### $n=5$"
   ]
  },
  {
   "cell_type": "code",
   "execution_count": 58,
   "metadata": {},
   "outputs": [
    {
     "data": {
      "text/plain": [
       "'cutoff'"
      ]
     },
     "execution_count": 58,
     "metadata": {},
     "output_type": "execute_result"
    }
   ],
   "source": [
    "prob_n5 = Hannoi(num_disc=5)\n",
    "depth_limited_search(prob_n5, 30)"
   ]
  },
  {
   "cell_type": "code",
   "execution_count": 187,
   "metadata": {},
   "outputs": [
    {
     "ename": "KeyboardInterrupt",
     "evalue": "",
     "output_type": "error",
     "traceback": [
      "\u001b[1;31m---------------------------------------------------------------------------\u001b[0m",
      "\u001b[1;31mKeyboardInterrupt\u001b[0m                         Traceback (most recent call last)",
      "\u001b[1;32m<ipython-input-187-ab18e60c5676>\u001b[0m in \u001b[0;36m<module>\u001b[1;34m\u001b[0m\n\u001b[0;32m      9\u001b[0m nombres = ['Breadth_first', 'Depth_first', \n\u001b[0;32m     10\u001b[0m            'Depth_limited', 'Iterative_deepening', 'best_first']\n\u001b[1;32m---> 11\u001b[1;33m \u001b[0mcompara_funciones\u001b[0m\u001b[1;33m(\u001b[0m\u001b[0mfuns\u001b[0m\u001b[1;33m=\u001b[0m\u001b[0mfuns\u001b[0m\u001b[1;33m,\u001b[0m \u001b[0marg\u001b[0m\u001b[1;33m=\u001b[0m\u001b[0mprob_n5\u001b[0m\u001b[1;33m,\u001b[0m \u001b[0mnombres\u001b[0m\u001b[1;33m=\u001b[0m\u001b[0mnombres\u001b[0m\u001b[1;33m)\u001b[0m\u001b[1;33m\u001b[0m\u001b[1;33m\u001b[0m\u001b[0m\n\u001b[0m",
      "\u001b[1;32mc:\\Users\\USUARIO\\Google Drive\\Education\\urosario\\github\\macc\\AI\\Miniproyecto - torres de hanoi\\searchAlg.py\u001b[0m in \u001b[0;36mcompara_funciones\u001b[1;34m(funs, arg, nombres, N)\u001b[0m\n\u001b[0;32m    123\u001b[0m     \u001b[1;32mfor\u001b[0m \u001b[0mi\u001b[0m\u001b[1;33m,\u001b[0m \u001b[0mfun\u001b[0m \u001b[1;32min\u001b[0m \u001b[0menumerate\u001b[0m\u001b[1;33m(\u001b[0m\u001b[0mfuns\u001b[0m\u001b[1;33m)\u001b[0m\u001b[1;33m:\u001b[0m\u001b[1;33m\u001b[0m\u001b[1;33m\u001b[0m\u001b[0m\n\u001b[0;32m    124\u001b[0m         \u001b[0mnms\u001b[0m \u001b[1;33m+=\u001b[0m \u001b[1;33m[\u001b[0m\u001b[0mnombres\u001b[0m\u001b[1;33m[\u001b[0m\u001b[0mi\u001b[0m\u001b[1;33m]\u001b[0m \u001b[1;32mfor\u001b[0m \u001b[0mx\u001b[0m \u001b[1;32min\u001b[0m \u001b[0mrange\u001b[0m\u001b[1;33m(\u001b[0m\u001b[0mN\u001b[0m\u001b[1;33m)\u001b[0m\u001b[1;33m]\u001b[0m\u001b[1;33m\u001b[0m\u001b[1;33m\u001b[0m\u001b[0m\n\u001b[1;32m--> 125\u001b[1;33m         \u001b[0mts\u001b[0m \u001b[1;33m+=\u001b[0m \u001b[0mobtiene_tiempos\u001b[0m\u001b[1;33m(\u001b[0m\u001b[0mfun\u001b[0m\u001b[1;33m,\u001b[0m \u001b[1;33m[\u001b[0m\u001b[0marg\u001b[0m\u001b[1;33m]\u001b[0m\u001b[1;33m,\u001b[0m \u001b[0mN\u001b[0m\u001b[1;33m)\u001b[0m\u001b[1;33m\u001b[0m\u001b[1;33m\u001b[0m\u001b[0m\n\u001b[0m\u001b[0;32m    126\u001b[0m     \u001b[0mdata\u001b[0m \u001b[1;33m=\u001b[0m \u001b[0mpd\u001b[0m\u001b[1;33m.\u001b[0m\u001b[0mDataFrame\u001b[0m\u001b[1;33m(\u001b[0m\u001b[1;33m{\u001b[0m\u001b[1;34m'Función'\u001b[0m\u001b[1;33m:\u001b[0m\u001b[0mnms\u001b[0m\u001b[1;33m,\u001b[0m \u001b[1;34m'Tiempo'\u001b[0m\u001b[1;33m:\u001b[0m\u001b[0mts\u001b[0m\u001b[1;33m}\u001b[0m\u001b[1;33m)\u001b[0m\u001b[1;33m\u001b[0m\u001b[1;33m\u001b[0m\u001b[0m\n\u001b[0;32m    127\u001b[0m     \u001b[1;31m# Graficando\u001b[0m\u001b[1;33m\u001b[0m\u001b[1;33m\u001b[0m\u001b[1;33m\u001b[0m\u001b[0m\n",
      "\u001b[1;32mc:\\Users\\USUARIO\\Google Drive\\Education\\urosario\\github\\macc\\AI\\Miniproyecto - torres de hanoi\\searchAlg.py\u001b[0m in \u001b[0;36mobtiene_tiempos\u001b[1;34m(fun, args, num_it)\u001b[0m\n\u001b[0;32m    113\u001b[0m     \u001b[1;32mfor\u001b[0m \u001b[0mi\u001b[0m \u001b[1;32min\u001b[0m \u001b[0mrange\u001b[0m\u001b[1;33m(\u001b[0m\u001b[0mnum_it\u001b[0m\u001b[1;33m)\u001b[0m\u001b[1;33m:\u001b[0m\u001b[1;33m\u001b[0m\u001b[1;33m\u001b[0m\u001b[0m\n\u001b[0;32m    114\u001b[0m         \u001b[0marranca\u001b[0m \u001b[1;33m=\u001b[0m \u001b[0mtime\u001b[0m\u001b[1;33m(\u001b[0m\u001b[1;33m)\u001b[0m\u001b[1;33m\u001b[0m\u001b[1;33m\u001b[0m\u001b[0m\n\u001b[1;32m--> 115\u001b[1;33m         \u001b[0mx\u001b[0m \u001b[1;33m=\u001b[0m \u001b[0mfun\u001b[0m\u001b[1;33m(\u001b[0m\u001b[1;33m*\u001b[0m\u001b[0margs\u001b[0m\u001b[1;33m)\u001b[0m\u001b[1;33m\u001b[0m\u001b[1;33m\u001b[0m\u001b[0m\n\u001b[0m\u001b[0;32m    116\u001b[0m         \u001b[0mpara\u001b[0m \u001b[1;33m=\u001b[0m \u001b[0mtime\u001b[0m\u001b[1;33m(\u001b[0m\u001b[1;33m)\u001b[0m\u001b[1;33m\u001b[0m\u001b[1;33m\u001b[0m\u001b[0m\n\u001b[0;32m    117\u001b[0m         \u001b[0mtiempos_fun\u001b[0m\u001b[1;33m.\u001b[0m\u001b[0mappend\u001b[0m\u001b[1;33m(\u001b[0m\u001b[0mpara\u001b[0m \u001b[1;33m-\u001b[0m \u001b[0marranca\u001b[0m\u001b[1;33m)\u001b[0m\u001b[1;33m\u001b[0m\u001b[1;33m\u001b[0m\u001b[0m\n",
      "\u001b[1;32m<ipython-input-187-ab18e60c5676>\u001b[0m in \u001b[0;36m<lambda>\u001b[1;34m(x)\u001b[0m\n\u001b[0;32m      4\u001b[0m         \u001b[0mdepth_first_search\u001b[0m\u001b[1;33m,\u001b[0m\u001b[1;33m\u001b[0m\u001b[1;33m\u001b[0m\u001b[0m\n\u001b[0;32m      5\u001b[0m         \u001b[1;31m#lambda x: depth_limited_search(x, 100), Toma mucho tiempo de ejecucion\u001b[0m\u001b[1;33m\u001b[0m\u001b[1;33m\u001b[0m\u001b[1;33m\u001b[0m\u001b[0m\n\u001b[1;32m----> 6\u001b[1;33m         \u001b[1;32mlambda\u001b[0m \u001b[0mx\u001b[0m\u001b[1;33m:\u001b[0m \u001b[0miterative_deepening_search\u001b[0m\u001b[1;33m(\u001b[0m\u001b[0mx\u001b[0m\u001b[1;33m,\u001b[0m \u001b[1;36m100\u001b[0m\u001b[1;33m)\u001b[0m\u001b[1;33m,\u001b[0m\u001b[1;33m\u001b[0m\u001b[1;33m\u001b[0m\u001b[0m\n\u001b[0m\u001b[0;32m      7\u001b[0m         \u001b[1;32mlambda\u001b[0m \u001b[0mx\u001b[0m\u001b[1;33m:\u001b[0m \u001b[0mbest_first_search\u001b[0m\u001b[1;33m(\u001b[0m\u001b[0mx\u001b[0m\u001b[1;33m,\u001b[0m \u001b[0mcosto_uniforme\u001b[0m\u001b[1;33m)\u001b[0m\u001b[1;33m\u001b[0m\u001b[1;33m\u001b[0m\u001b[0m\n\u001b[0;32m      8\u001b[0m ]\n",
      "\u001b[1;32mc:\\Users\\USUARIO\\Google Drive\\Education\\urosario\\github\\macc\\AI\\Miniproyecto - torres de hanoi\\searchAlg.py\u001b[0m in \u001b[0;36miterative_deepening_search\u001b[1;34m(prob, l_max)\u001b[0m\n\u001b[0;32m     76\u001b[0m     \u001b[1;32mfor\u001b[0m \u001b[0mdepth\u001b[0m \u001b[1;32min\u001b[0m \u001b[0mrange\u001b[0m\u001b[1;33m(\u001b[0m\u001b[1;36m0\u001b[0m\u001b[1;33m,\u001b[0m \u001b[0ml_max\u001b[0m\u001b[1;33m)\u001b[0m\u001b[1;33m:\u001b[0m\u001b[1;33m\u001b[0m\u001b[1;33m\u001b[0m\u001b[0m\n\u001b[0;32m     77\u001b[0m         \u001b[1;31m#print(\"depth: \", depth)\u001b[0m\u001b[1;33m\u001b[0m\u001b[1;33m\u001b[0m\u001b[1;33m\u001b[0m\u001b[0m\n\u001b[1;32m---> 78\u001b[1;33m         \u001b[0mresultado\u001b[0m \u001b[1;33m=\u001b[0m \u001b[0mdepth_limited_search\u001b[0m\u001b[1;33m(\u001b[0m\u001b[0mprob\u001b[0m\u001b[1;33m,\u001b[0m \u001b[0mdepth\u001b[0m\u001b[1;33m)\u001b[0m\u001b[1;33m\u001b[0m\u001b[1;33m\u001b[0m\u001b[0m\n\u001b[0m\u001b[0;32m     79\u001b[0m \u001b[1;33m\u001b[0m\u001b[0m\n\u001b[0;32m     80\u001b[0m         \u001b[1;32mif\u001b[0m \u001b[0mresultado\u001b[0m \u001b[1;33m!=\u001b[0m \u001b[1;34m\"cutoff\"\u001b[0m\u001b[1;33m:\u001b[0m\u001b[1;33m\u001b[0m\u001b[1;33m\u001b[0m\u001b[0m\n",
      "\u001b[1;32mc:\\Users\\USUARIO\\Google Drive\\Education\\urosario\\github\\macc\\AI\\Miniproyecto - torres de hanoi\\searchAlg.py\u001b[0m in \u001b[0;36mdepth_limited_search\u001b[1;34m(prob, l)\u001b[0m\n\u001b[0;32m     53\u001b[0m         \u001b[0mnodo\u001b[0m \u001b[1;33m=\u001b[0m \u001b[0mfrontera\u001b[0m\u001b[1;33m.\u001b[0m\u001b[0mpop\u001b[0m\u001b[1;33m(\u001b[0m\u001b[1;33m)\u001b[0m\u001b[1;33m\u001b[0m\u001b[1;33m\u001b[0m\u001b[0m\n\u001b[0;32m     54\u001b[0m \u001b[1;33m\u001b[0m\u001b[0m\n\u001b[1;32m---> 55\u001b[1;33m         \u001b[1;32mif\u001b[0m \u001b[0mprob\u001b[0m\u001b[1;33m.\u001b[0m\u001b[0mtest_objetivo\u001b[0m\u001b[1;33m(\u001b[0m\u001b[0mnodo\u001b[0m\u001b[1;33m.\u001b[0m\u001b[0mestado\u001b[0m\u001b[1;33m)\u001b[0m\u001b[1;33m:\u001b[0m\u001b[1;33m\u001b[0m\u001b[1;33m\u001b[0m\u001b[0m\n\u001b[0m\u001b[0;32m     56\u001b[0m             \u001b[1;32mreturn\u001b[0m \u001b[0mnodo\u001b[0m\u001b[1;33m\u001b[0m\u001b[1;33m\u001b[0m\u001b[0m\n\u001b[0;32m     57\u001b[0m \u001b[1;33m\u001b[0m\u001b[0m\n",
      "\u001b[1;32mc:\\Users\\USUARIO\\Google Drive\\Education\\urosario\\github\\macc\\AI\\Miniproyecto - torres de hanoi\\ambiente.py\u001b[0m in \u001b[0;36mtest_objetivo\u001b[1;34m(self, estado)\u001b[0m\n\u001b[0;32m    129\u001b[0m         \u001b[1;31m# Output: Verdadero Falso\u001b[0m\u001b[1;33m\u001b[0m\u001b[1;33m\u001b[0m\u001b[1;33m\u001b[0m\u001b[0m\n\u001b[0;32m    130\u001b[0m         \u001b[1;31m# El objetivo es pasar todos los discos a la última columna\u001b[0m\u001b[1;33m\u001b[0m\u001b[1;33m\u001b[0m\u001b[1;33m\u001b[0m\u001b[0m\n\u001b[1;32m--> 131\u001b[1;33m         \u001b[1;32mif\u001b[0m \u001b[0msum\u001b[0m\u001b[1;33m(\u001b[0m\u001b[0msum\u001b[0m \u001b[1;33m(\u001b[0m\u001b[0mestado\u001b[0m \u001b[1;33m==\u001b[0m \u001b[0mself\u001b[0m\u001b[1;33m.\u001b[0m\u001b[0mestado_objetivo\u001b[0m\u001b[1;33m)\u001b[0m\u001b[1;33m)\u001b[0m \u001b[1;33m==\u001b[0m \u001b[1;36m3\u001b[0m\u001b[1;33m*\u001b[0m\u001b[0mself\u001b[0m\u001b[1;33m.\u001b[0m\u001b[0mnum_disc\u001b[0m\u001b[1;33m:\u001b[0m\u001b[1;33m\u001b[0m\u001b[1;33m\u001b[0m\u001b[0m\n\u001b[0m\u001b[0;32m    132\u001b[0m             \u001b[1;32mreturn\u001b[0m \u001b[1;32mTrue\u001b[0m\u001b[1;33m\u001b[0m\u001b[1;33m\u001b[0m\u001b[0m\n\u001b[0;32m    133\u001b[0m         \u001b[1;32melse\u001b[0m\u001b[1;33m:\u001b[0m\u001b[1;33m\u001b[0m\u001b[1;33m\u001b[0m\u001b[0m\n",
      "\u001b[1;31mKeyboardInterrupt\u001b[0m: "
     ]
    }
   ],
   "source": [
    "prob_n5 = Hannoi(num_disc=5)\n",
    "\n",
    "funs = [breadth_first_search,\n",
    "        depth_first_search,\n",
    "        #lambda x: depth_limited_search(x, 100), Toma mucho tiempo de ejecucion\n",
    "        lambda x: iterative_deepening_search(x, 100),\n",
    "        lambda x: best_first_search(x, costo_uniforme)\n",
    "]\n",
    "nombres = ['Breadth_first', 'Depth_first', \n",
    "           'Depth_limited', 'Iterative_deepening', 'best_first']\n",
    "compara_funciones(funs=funs, arg=prob_n5, nombres=nombres)    "
   ]
  },
  {
   "cell_type": "markdown",
   "metadata": {},
   "source": [
    "## Solución para $n \\leq 64$"
   ]
  },
  {
   "cell_type": "code",
   "execution_count": 162,
   "metadata": {},
   "outputs": [],
   "source": [
    "# crea un objeto para cada problema a vealuar.\n",
    "problemas = {}\n",
    "for i in range(3,11):\n",
    "    problemas[f\"prob_{i}\"] = Hannoi(num_disc=i)"
   ]
  },
  {
   "cell_type": "code",
   "execution_count": 163,
   "metadata": {},
   "outputs": [
    {
     "name": "stdout",
     "output_type": "stream",
     "text": [
      "problema: prob_3\n",
      "problema: prob_4\n",
      "problema: prob_5\n",
      "problema: prob_6\n",
      "problema: prob_7\n",
      "problema: prob_8\n",
      "problema: prob_9\n",
      "problema: prob_10\n",
      "problema: prob_11\n",
      "problema: prob_12\n"
     ]
    }
   ],
   "source": [
    "from time import perf_counter\n",
    "import numpy as np\n",
    "\n",
    "def obtiene_tiempos(prob, num_it=5):\n",
    "    tiempos_prob = []\n",
    "    for i in range(num_it):\n",
    "        arranca = perf_counter()\n",
    "        x = prob\n",
    "        para = perf_counter()\n",
    "        tiempos_prob.append(para - arranca)\n",
    "    #print(tiempos_prob)\n",
    "    return tiempos_prob\n",
    "\n",
    "tiempos_problemas = {}\n",
    "for prob_nombre, prob_obj in problemas.items(): \n",
    "    print(f\"problema: {prob_nombre}\")\n",
    "    tiempos_prob = []\n",
    "    for i in range(num_it):\n",
    "        arranca = perf_counter()\n",
    "        x = prob\n",
    "        para = perf_counter()\n",
    "        tiempos_prob.append(para - arranca)\n",
    "    tiempos_problemas[prob_nombre] = obtiene_tiempos(depth_first_search(prob_obj))\n"
   ]
  },
  {
   "cell_type": "code",
   "execution_count": 171,
   "metadata": {},
   "outputs": [],
   "source": [
    "tiempos_promedio = {}\n",
    "for prob_nombre, prob_tiempos in tiempos_problemas.items():\n",
    "    tiempos_promedio[prob_nombre] = np.mean(prob_tiempos)"
   ]
  },
  {
   "cell_type": "code",
   "execution_count": 186,
   "metadata": {},
   "outputs": [
    {
     "data": {
      "image/png": "[encoded data removed]",
      "text/plain": [
       "<Figure size 432x288 with 1 Axes>"
      ]
     },
     "metadata": {
      "needs_background": "light"
     },
     "output_type": "display_data"
    }
   ],
   "source": [
    "import matplotlib.pylab as plt\n",
    "\n",
    "\n",
    "myList = tiempos_promedio.items()\n",
    "#myList = sorted(myList) \n",
    "x, y = zip(*myList) \n",
    "\n",
    "plt.plot(x, y , 'o-')\n",
    "plt.xticks(rotation=90)\n",
    "plt.xlabel('problema')\n",
    "plt.ylabel('tiempo [seg.]')\n",
    "plt.title('Tiempos de solución depth_first_search')\n",
    "plt.show()\n"
   ]
  },
  {
   "cell_type": "code",
   "execution_count": 206,
   "metadata": {},
   "outputs": [
    {
     "name": "stdout",
     "output_type": "stream",
     "text": [
      "discos 3 - tiempo: 0.002888999995775521\n",
      "discos 4 - tiempo: 0.0060892999899806455\n",
      "discos 5 - tiempo: 0.01645710000593681\n",
      "discos 6 - tiempo: 0.05268880000221543\n",
      "discos 7 - tiempo: 0.1951835000072606\n",
      "discos 8 - tiempo: 0.7825876999995671\n",
      "discos 9 - tiempo: 5.963308199992753\n",
      "discos 10 - tiempo: 75.98788720001176\n",
      "discos 11 - tiempo: 495.3743533000088\n"
     ]
    }
   ],
   "source": [
    "dict_test_mean = {}\n",
    "for i in range(3, 12):\n",
    "    prob = Hannoi(num_disc= i)\n",
    "    arranca = perf_counter()\n",
    "    depth_first_search(prob)\n",
    "    para = perf_counter()\n",
    "    dict_test_mean[f\"discos: {i}\"] = para - arranca\n",
    "    #print(f\"discos {i} - tiempo: {para - arranca}\")"
   ]
  },
  {
   "cell_type": "code",
   "execution_count": 213,
   "metadata": {},
   "outputs": [
    {
     "data": {
      "image/png": "[encoded data removed]",
      "text/plain": [
       "<Figure size 432x288 with 1 Axes>"
      ]
     },
     "metadata": {
      "needs_background": "light"
     },
     "output_type": "display_data"
    }
   ],
   "source": [
    "import matplotlib.pylab as plt\n",
    "\n",
    "\n",
    "myList = dict_test_mean.items()\n",
    "#myList = sorted(myList) \n",
    "x, y = zip(*myList) \n",
    "\n",
    "plt.plot(x, y , 'o-')\n",
    "plt.xticks(rotation=90)\n",
    "plt.xlabel('problema')\n",
    "plt.ylabel('tiempo [seg.]')\n",
    "plt.title('Tiempos de solución depth_first_search')\n",
    "plt.show()\n"
   ]
  },
  {
   "cell_type": "code",
   "execution_count": null,
   "metadata": {},
   "outputs": [],
   "source": [
    "dict_test_mean = {}\n",
    "for i in range(3, 15):\n",
    "    prob = Hannoi(num_disc= i)\n",
    "    arranca = perf_counter()\n",
    "    depth_first_search(prob)\n",
    "    para = perf_counter()\n",
    "    dict_test_mean[f\"discos: {i}\"] = para - arranca\n",
    "    print(f\"discos {i} - tiempo: {para - arranca}\")"
   ]
  }
 ],
 "metadata": {
  "interpreter": {
   "hash": "cb4ba80c77914fefcae4b6ab97441bcca38110318b73796501620219806422b4"
  },
  "kernelspec": {
   "display_name": "Python 3.8.8 ('base')",
   "language": "python",
   "name": "python3"
  },
  "language_info": {
   "codemirror_mode": {
    "name": "ipython",
    "version": 3
   },
   "file_extension": ".py",
   "mimetype": "text/x-python",
   "name": "python",
   "nbconvert_exporter": "python",
   "pygments_lexer": "ipython3",
   "version": "3.8.8"
  },
  "orig_nbformat": 4
 },
 "nbformat": 4,
 "nbformat_minor": 2
}

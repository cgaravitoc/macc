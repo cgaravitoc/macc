{
 "cells": [
  {
   "cell_type": "markdown",
   "metadata": {},
   "source": [
    "# **Torres de Hanoi**\n",
    "Carlos Garavito, Emmanuel Moreno"
   ]
  },
  {
   "cell_type": "markdown",
   "metadata": {},
   "source": [
    "## Descripción del problema\n",
    "\n",
    "El problema o juego de las Torres de Hannoi consiste (en nuestro ambiente) en llevar todos los discos hacia la tercera columna de tal manera que queden ordenados de mayor a menor a radio. Las demás reglas y condiciones se explican en el reporte."
   ]
  },
  {
   "cell_type": "markdown",
   "metadata": {},
   "source": [
    "La representación computacional que se usará del problema, corresponde a una matriz de tres columnas, en donde cada vector columna representa una barra y sus valores, corresponderán al diámetro del disco. Así una matriz de la forma\n",
    "\n",
    "$$\n",
    "\\begin{bmatrix}\n",
    "1 & 0 & 0\\\\\n",
    "2 & 0 & 0\\\\\n",
    "3 & 0 & 0\n",
    "\\end{bmatrix},  \n",
    "$$\n",
    "\n",
    "representa el estado del problema tal que en la primera columna se encuentra ubicados tres discos, ordenados de mayor a menor diámetro, mientras que las otras dos columnas están vacias. "
   ]
  },
  {
   "cell_type": "markdown",
   "metadata": {},
   "source": [
    "## Solución para tres discos ($n=3$)"
   ]
  },
  {
   "cell_type": "markdown",
   "metadata": {},
   "source": [
    "Para la implementación de la solución, se hace uso del ambiente recibido por parte del profesor, cargado en el paquete `ambiente.py`. Además, se hace uso del paquete que contiene los algorítmos de búsqueda que se han visto en clase, los cuales están ubicados en el archivo `searcgAlg`."
   ]
  },
  {
   "cell_type": "code",
   "execution_count": 1,
   "metadata": {},
   "outputs": [],
   "source": [
    "from ambiente import * \n",
    "from random import choice\n",
    "from searchAlg import *"
   ]
  },
  {
   "cell_type": "markdown",
   "metadata": {},
   "source": [
    "Así, definiendo el problema con tres discos, se tiene:"
   ]
  },
  {
   "cell_type": "code",
   "execution_count": 2,
   "metadata": {},
   "outputs": [
    {
     "data": {
      "text/plain": [
       "array([[1., 4., 4.],\n",
       "       [2., 4., 4.],\n",
       "       [3., 4., 4.]])"
      ]
     },
     "execution_count": 2,
     "metadata": {},
     "output_type": "execute_result"
    }
   ],
   "source": [
    "prob_n3 = Hannoi(num_disc=3)\n",
    "s = prob_n3.estado_inicial\n",
    "s"
   ]
  },
  {
   "cell_type": "markdown",
   "metadata": {},
   "source": [
    "### Implementación de algorítmos de búsqueda"
   ]
  },
  {
   "cell_type": "markdown",
   "metadata": {},
   "source": [
    "#### breadth first search"
   ]
  },
  {
   "cell_type": "markdown",
   "metadata": {},
   "source": [
    "Implementando el algoritmo `breadth_first_search` y mostrando los estados del problema de forma matricial, se tiene: "
   ]
  },
  {
   "cell_type": "code",
   "execution_count": 6,
   "metadata": {},
   "outputs": [
    {
     "data": {
      "text/plain": [
       "[array([[1., 4., 4.],\n",
       "        [2., 4., 4.],\n",
       "        [3., 4., 4.]]),\n",
       " array([[4., 4., 4.],\n",
       "        [2., 4., 4.],\n",
       "        [3., 4., 1.]]),\n",
       " array([[4., 4., 4.],\n",
       "        [4., 4., 4.],\n",
       "        [3., 2., 1.]]),\n",
       " array([[4., 4., 4.],\n",
       "        [4., 1., 4.],\n",
       "        [3., 2., 4.]]),\n",
       " array([[4., 4., 4.],\n",
       "        [4., 1., 4.],\n",
       "        [4., 2., 3.]]),\n",
       " array([[4., 4., 4.],\n",
       "        [4., 4., 4.],\n",
       "        [1., 2., 3.]]),\n",
       " array([[4., 4., 4.],\n",
       "        [4., 4., 2.],\n",
       "        [1., 4., 3.]]),\n",
       " array([[4., 4., 1.],\n",
       "        [4., 4., 2.],\n",
       "        [4., 4., 3.]])]"
      ]
     },
     "execution_count": 6,
     "metadata": {},
     "output_type": "execute_result"
    }
   ],
   "source": [
    "my_camino2(breadth_first_search(prob_n3))"
   ]
  },
  {
   "cell_type": "markdown",
   "metadata": {},
   "source": [
    "Se se quiere visualizar una animación de la solución, se puede ejecutar la siguiente celda de código:"
   ]
  },
  {
   "cell_type": "code",
   "execution_count": 7,
   "metadata": {},
   "outputs": [
    {
     "data": {
      "image/png": "[encoded data removed]",
      "text/plain": [
       "<Figure size 432x288 with 1 Axes>"
      ]
     },
     "metadata": {
      "needs_background": "light"
     },
     "output_type": "display_data"
    }
   ],
   "source": [
    "prob_n3.pintar_camino(my_camino2(breadth_first_search(prob_n3)))"
   ]
  },
  {
   "cell_type": "markdown",
   "metadata": {},
   "source": [
    "La cantidad de pasos requeridos para encontrar la solución del problema de tres discos con el algoritmo `breath_first_search` es de: "
   ]
  },
  {
   "cell_type": "code",
   "execution_count": 29,
   "metadata": {},
   "outputs": [
    {
     "name": "stdout",
     "output_type": "stream",
     "text": [
      "Cantidad de pasos requeridos para encontrar la solución con breath_first_search: 7\n"
     ]
    }
   ],
   "source": [
    "print(f\"Cantidad de pasos requeridos para encontrar la solución con breath_first_search: {len(my_camino2(breadth_first_search(prob_n3))) -1 }\")"
   ]
  },
  {
   "cell_type": "markdown",
   "metadata": {},
   "source": [
    "#### Depth first search"
   ]
  },
  {
   "cell_type": "code",
   "execution_count": 12,
   "metadata": {},
   "outputs": [
    {
     "data": {
      "text/plain": [
       "[array([[1., 4., 4.],\n",
       "        [2., 4., 4.],\n",
       "        [3., 4., 4.]]),\n",
       " array([[4., 4., 4.],\n",
       "        [2., 4., 4.],\n",
       "        [3., 4., 1.]]),\n",
       " array([[4., 4., 4.],\n",
       "        [2., 4., 4.],\n",
       "        [3., 1., 4.]]),\n",
       " array([[4., 4., 4.],\n",
       "        [4., 4., 4.],\n",
       "        [3., 1., 2.]]),\n",
       " array([[4., 4., 4.],\n",
       "        [4., 4., 1.],\n",
       "        [3., 4., 2.]]),\n",
       " array([[4., 4., 4.],\n",
       "        [1., 4., 4.],\n",
       "        [3., 4., 2.]]),\n",
       " array([[4., 4., 4.],\n",
       "        [1., 4., 4.],\n",
       "        [3., 2., 4.]]),\n",
       " array([[4., 4., 4.],\n",
       "        [4., 4., 4.],\n",
       "        [3., 2., 1.]]),\n",
       " array([[4., 4., 4.],\n",
       "        [4., 1., 4.],\n",
       "        [3., 2., 4.]]),\n",
       " array([[4., 4., 4.],\n",
       "        [4., 1., 4.],\n",
       "        [4., 2., 3.]]),\n",
       " array([[4., 4., 4.],\n",
       "        [4., 4., 1.],\n",
       "        [4., 2., 3.]]),\n",
       " array([[4., 4., 4.],\n",
       "        [4., 4., 4.],\n",
       "        [1., 2., 3.]]),\n",
       " array([[4., 4., 4.],\n",
       "        [4., 4., 2.],\n",
       "        [1., 4., 3.]]),\n",
       " array([[4., 4., 1.],\n",
       "        [4., 4., 2.],\n",
       "        [4., 4., 3.]])]"
      ]
     },
     "execution_count": 12,
     "metadata": {},
     "output_type": "execute_result"
    }
   ],
   "source": [
    "my_camino2(depth_first_search(prob_n3))"
   ]
  },
  {
   "cell_type": "code",
   "execution_count": 36,
   "metadata": {},
   "outputs": [
    {
     "data": {
      "image/png": "[encoded data removed]",
      "text/plain": [
       "<Figure size 432x288 with 1 Axes>"
      ]
     },
     "metadata": {
      "needs_background": "light"
     },
     "output_type": "display_data"
    }
   ],
   "source": [
    "prob_n3.pintar_camino(my_camino2(depth_first_search(prob_n3)))"
   ]
  },
  {
   "cell_type": "code",
   "execution_count": 37,
   "metadata": {},
   "outputs": [
    {
     "name": "stdout",
     "output_type": "stream",
     "text": [
      "Cantidad de pasos requeridos para encontrar la solución con breath_first_search: 13\n"
     ]
    }
   ],
   "source": [
    "print(f\"Cantidad de pasos requeridos para encontrar la solución con depth_first_search: {len(my_camino2(depth_first_search(prob_n3))) - 1}\")"
   ]
  },
  {
   "cell_type": "markdown",
   "metadata": {},
   "source": [
    "#### Depth limited search"
   ]
  },
  {
   "cell_type": "markdown",
   "metadata": {},
   "source": [
    "Este algoritmo depende de la profundidad permitida de exploración. Entre más profundidad de exploración permitida, más cantidad de pasos tomará el algorítmo en encontrar la solución. Para este caso particular, se encontró que la profundidad mínima para encontrar la solución es de $7$. "
   ]
  },
  {
   "cell_type": "code",
   "execution_count": 19,
   "metadata": {},
   "outputs": [
    {
     "data": {
      "text/plain": [
       "[array([[1., 4., 4.],\n",
       "        [2., 4., 4.],\n",
       "        [3., 4., 4.]]),\n",
       " array([[4., 4., 4.],\n",
       "        [2., 4., 4.],\n",
       "        [3., 4., 1.]]),\n",
       " array([[4., 4., 4.],\n",
       "        [4., 4., 4.],\n",
       "        [3., 2., 1.]]),\n",
       " array([[4., 4., 4.],\n",
       "        [4., 1., 4.],\n",
       "        [3., 2., 4.]]),\n",
       " array([[4., 4., 4.],\n",
       "        [4., 1., 4.],\n",
       "        [4., 2., 3.]]),\n",
       " array([[4., 4., 4.],\n",
       "        [4., 4., 4.],\n",
       "        [1., 2., 3.]]),\n",
       " array([[4., 4., 4.],\n",
       "        [4., 4., 2.],\n",
       "        [1., 4., 3.]]),\n",
       " array([[4., 4., 1.],\n",
       "        [4., 4., 2.],\n",
       "        [4., 4., 3.]])]"
      ]
     },
     "execution_count": 19,
     "metadata": {},
     "output_type": "execute_result"
    }
   ],
   "source": [
    "my_camino2(depth_limited_search(prob_n3, 7))"
   ]
  },
  {
   "cell_type": "code",
   "execution_count": 7,
   "metadata": {},
   "outputs": [
    {
     "data": {
      "image/png": "[encoded data removed]",
      "text/plain": [
       "<Figure size 432x288 with 1 Axes>"
      ]
     },
     "metadata": {
      "needs_background": "light"
     },
     "output_type": "display_data"
    }
   ],
   "source": [
    "prob_n3.pintar_camino(my_camino2(depth_limited_search(prob_n3, 7)))"
   ]
  },
  {
   "cell_type": "code",
   "execution_count": 31,
   "metadata": {},
   "outputs": [
    {
     "name": "stdout",
     "output_type": "stream",
     "text": [
      "Cantidad de pasos requeridos para encontrar la solución con breath_first_search: 7\n"
     ]
    }
   ],
   "source": [
    "print(f\"Cantidad de pasos requeridos para encontrar la solución con depth_limited_search: {len(my_camino2(depth_limited_search(prob_n3, 7))) - 1}\")"
   ]
  },
  {
   "cell_type": "markdown",
   "metadata": {},
   "source": [
    "#### Itereative deeping search"
   ]
  },
  {
   "cell_type": "code",
   "execution_count": 21,
   "metadata": {},
   "outputs": [
    {
     "data": {
      "text/plain": [
       "[array([[1., 4., 4.],\n",
       "        [2., 4., 4.],\n",
       "        [3., 4., 4.]]),\n",
       " array([[4., 4., 4.],\n",
       "        [2., 4., 4.],\n",
       "        [3., 4., 1.]]),\n",
       " array([[4., 4., 4.],\n",
       "        [4., 4., 4.],\n",
       "        [3., 2., 1.]]),\n",
       " array([[4., 4., 4.],\n",
       "        [4., 1., 4.],\n",
       "        [3., 2., 4.]]),\n",
       " array([[4., 4., 4.],\n",
       "        [4., 1., 4.],\n",
       "        [4., 2., 3.]]),\n",
       " array([[4., 4., 4.],\n",
       "        [4., 4., 4.],\n",
       "        [1., 2., 3.]]),\n",
       " array([[4., 4., 4.],\n",
       "        [4., 4., 2.],\n",
       "        [1., 4., 3.]]),\n",
       " array([[4., 4., 1.],\n",
       "        [4., 4., 2.],\n",
       "        [4., 4., 3.]])]"
      ]
     },
     "execution_count": 21,
     "metadata": {},
     "output_type": "execute_result"
    }
   ],
   "source": [
    "my_camino2(iterative_deepening_search(prob_n3, 100))"
   ]
  },
  {
   "cell_type": "code",
   "execution_count": 24,
   "metadata": {},
   "outputs": [
    {
     "data": {
      "image/png": "[encoded data removed]",
      "text/plain": [
       "<Figure size 432x288 with 1 Axes>"
      ]
     },
     "metadata": {
      "needs_background": "light"
     },
     "output_type": "display_data"
    }
   ],
   "source": [
    "prob_n3.pintar_camino(my_camino2(iterative_deepening_search(prob_n3, 100)))"
   ]
  },
  {
   "cell_type": "code",
   "execution_count": 32,
   "metadata": {},
   "outputs": [
    {
     "name": "stdout",
     "output_type": "stream",
     "text": [
      "Cantidad de pasos requeridos para encontrar la solución con breath_first_search: 7\n"
     ]
    }
   ],
   "source": [
    "print(f\"Cantidad de pasos requeridos para encontrar la solución con iterative_deepening_search: {len(my_camino2(iterative_deepening_search(prob_n3, 100))) - 1}\")"
   ]
  },
  {
   "cell_type": "markdown",
   "metadata": {},
   "source": [
    "#### Best first search"
   ]
  },
  {
   "cell_type": "markdown",
   "metadata": {},
   "source": [
    "Para la implementación de este algorítmo de búsqueda se hace necesario definir una función de costo. Esto es, el costo que define a cada acción que se toma en la solución del problema. En este caso, por facilidad, se define la funicón de costo uniforme que atribuye el mismo costo a todas las acciones dentro del problema. "
   ]
  },
  {
   "cell_type": "code",
   "execution_count": 25,
   "metadata": {},
   "outputs": [],
   "source": [
    "def costo_uniforme(self, estado, accion):\n",
    "    return 1"
   ]
  },
  {
   "cell_type": "code",
   "execution_count": 26,
   "metadata": {},
   "outputs": [
    {
     "data": {
      "text/plain": [
       "[array([[1., 4., 4.],\n",
       "        [2., 4., 4.],\n",
       "        [3., 4., 4.]]),\n",
       " array([[4., 4., 4.],\n",
       "        [2., 4., 4.],\n",
       "        [3., 4., 1.]]),\n",
       " array([[4., 4., 4.],\n",
       "        [4., 4., 4.],\n",
       "        [3., 2., 1.]]),\n",
       " array([[4., 4., 4.],\n",
       "        [4., 1., 4.],\n",
       "        [3., 2., 4.]]),\n",
       " array([[4., 4., 4.],\n",
       "        [4., 1., 4.],\n",
       "        [4., 2., 3.]]),\n",
       " array([[4., 4., 4.],\n",
       "        [4., 4., 4.],\n",
       "        [1., 2., 3.]]),\n",
       " array([[4., 4., 4.],\n",
       "        [4., 4., 2.],\n",
       "        [1., 4., 3.]]),\n",
       " array([[4., 4., 1.],\n",
       "        [4., 4., 2.],\n",
       "        [4., 4., 3.]])]"
      ]
     },
     "execution_count": 26,
     "metadata": {},
     "output_type": "execute_result"
    }
   ],
   "source": [
    "my_camino2(best_first_search(prob_n3, costo_uniforme))"
   ]
  },
  {
   "cell_type": "code",
   "execution_count": 27,
   "metadata": {},
   "outputs": [
    {
     "data": {
      "image/png": "[encoded data removed]",
      "text/plain": [
       "<Figure size 432x288 with 1 Axes>"
      ]
     },
     "metadata": {
      "needs_background": "light"
     },
     "output_type": "display_data"
    }
   ],
   "source": [
    "prob_n3.pintar_camino(my_camino2(best_first_search(prob_n3, costo_uniforme)))"
   ]
  },
  {
   "cell_type": "code",
   "execution_count": 33,
   "metadata": {},
   "outputs": [
    {
     "name": "stdout",
     "output_type": "stream",
     "text": [
      "Cantidad de pasos requeridos para encontrar la solución con breath_first_search: 7\n"
     ]
    }
   ],
   "source": [
    "print(f\"Cantidad de pasos requeridos para encontrar la solución con best_first_search: {len(my_camino2(best_first_search(prob_n3, costo_uniforme))) - 1}\")"
   ]
  },
  {
   "cell_type": "markdown",
   "metadata": {},
   "source": [
    "### Comparación de tiempos de solución de los algorítmos de búsqueda"
   ]
  },
  {
   "cell_type": "code",
   "execution_count": 34,
   "metadata": {},
   "outputs": [
    {
     "name": "stdout",
     "output_type": "stream",
     "text": [
      "              sum_sq     df            F         PR(>F)\n",
      "C(Función)  0.002275    4.0  1305.848791  1.380433e-112\n",
      "Residual    0.000063  145.0          NaN            NaN\n"
     ]
    },
    {
     "data": {
      "image/png": "[encoded data removed]",
      "text/plain": [
       "<Figure size 1080x216 with 1 Axes>"
      ]
     },
     "metadata": {
      "needs_background": "light"
     },
     "output_type": "display_data"
    }
   ],
   "source": [
    "import warnings\n",
    "warnings.filterwarnings('ignore')\n",
    "\n",
    "funs = [breadth_first_search,\n",
    "        depth_first_search,\n",
    "        lambda x: depth_limited_search(x, 7),\n",
    "        lambda x: iterative_deepening_search(x, 100),\n",
    "        lambda x: best_first_search(x, costo_uniforme)\n",
    "]\n",
    "nombres = ['Breadth_first', 'Depth_first', \n",
    "           'Depth_limited', 'Iterative_deepening', 'best_first']\n",
    "compara_funciones(funs=funs, arg=prob_n3, nombres=nombres)"
   ]
  },
  {
   "cell_type": "markdown",
   "metadata": {},
   "source": [
    "#### Comparando `depth_first_search` y `best_first_search`"
   ]
  },
  {
   "cell_type": "code",
   "execution_count": 35,
   "metadata": {},
   "outputs": [
    {
     "name": "stdout",
     "output_type": "stream",
     "text": [
      "              sum_sq    df          F        PR(>F)\n",
      "C(Función)  0.000014   1.0  55.078491  5.736155e-10\n",
      "Residual    0.000015  58.0        NaN           NaN\n"
     ]
    },
    {
     "data": {
      "image/png": "[encoded data removed]",
      "text/plain": [
       "<Figure size 432x216 with 1 Axes>"
      ]
     },
     "metadata": {
      "needs_background": "light"
     },
     "output_type": "display_data"
    }
   ],
   "source": [
    "import warnings\n",
    "warnings.filterwarnings('ignore')\n",
    "\n",
    "funs = [depth_first_search,\n",
    "        lambda x: best_first_search(x, costo_uniforme)\n",
    "]\n",
    "nombres = ['Depth_first', \n",
    "            'best_first']\n",
    "compara_funciones(funs=funs, arg=prob_n3, nombres=nombres)"
   ]
  },
  {
   "cell_type": "markdown",
   "metadata": {},
   "source": [
    "Se puede ver, que para el caso $n=3$, el mejor algoritmo es el de `depth_first_search`. "
   ]
  },
  {
   "cell_type": "markdown",
   "metadata": {},
   "source": [
    "## Solución para $n>3$"
   ]
  },
  {
   "cell_type": "markdown",
   "metadata": {},
   "source": [
    "#### $n = 4$"
   ]
  },
  {
   "cell_type": "code",
   "execution_count": 53,
   "metadata": {},
   "outputs": [
    {
     "name": "stdout",
     "output_type": "stream",
     "text": [
      "               sum_sq     df            F         PR(>F)\n",
      "C(Función)  56.445578    4.0  9843.776716  1.970516e-175\n",
      "Residual     0.207863  145.0          NaN            NaN\n"
     ]
    },
    {
     "data": {
      "image/png": "[encoded data removed]",
      "text/plain": [
       "<Figure size 1080x216 with 1 Axes>"
      ]
     },
     "metadata": {
      "needs_background": "light"
     },
     "output_type": "display_data"
    }
   ],
   "source": [
    "prob_n4 = Hannoi(num_disc=4)\n",
    "\n",
    "\n",
    "funs = [breadth_first_search,\n",
    "        depth_first_search,\n",
    "        lambda x: depth_limited_search(x, 15), \n",
    "        lambda x: iterative_deepening_search(x, 100),\n",
    "        lambda x: best_first_search(x, costo_uniforme)\n",
    "]\n",
    "nombres = ['Breadth_first', 'Depth_first', \n",
    "           'Depth_limited', 'Iterative_deepening', 'best_first']\n",
    "compara_funciones(funs=funs, arg=prob_n4, nombres=nombres)    "
   ]
  },
  {
   "cell_type": "code",
   "execution_count": 54,
   "metadata": {},
   "outputs": [
    {
     "name": "stdout",
     "output_type": "stream",
     "text": [
      "              sum_sq    df           F        PR(>F)\n",
      "C(Función)  0.005220   2.0  356.351544  1.235054e-42\n",
      "Residual    0.000637  87.0         NaN           NaN\n"
     ]
    },
    {
     "data": {
      "image/png": "[encoded data removed]",
      "text/plain": [
       "<Figure size 648x216 with 1 Axes>"
      ]
     },
     "metadata": {
      "needs_background": "light"
     },
     "output_type": "display_data"
    }
   ],
   "source": [
    "prob_n4 = Hannoi(num_disc=4)\n",
    "\n",
    "funs = [breadth_first_search,\n",
    "        depth_first_search,\n",
    "        lambda x: best_first_search(x, costo_uniforme)\n",
    "]\n",
    "nombres = ['Breadth_first', 'Depth_first', \n",
    "           'best_first']\n",
    "compara_funciones(funs=funs, arg=prob_n4, nombres=nombres)    "
   ]
  },
  {
   "cell_type": "markdown",
   "metadata": {},
   "source": [
    "Se puede ver, que para el caso $n=4$, el mejor algoritmo es también el de `depth_first_search`. "
   ]
  },
  {
   "cell_type": "markdown",
   "metadata": {},
   "source": [
    "### $n=5$"
   ]
  },
  {
   "cell_type": "code",
   "execution_count": 331,
   "metadata": {},
   "outputs": [],
   "source": [
    "prob_n5 = Hannoi(num_disc=5)\n",
    "\n",
    "funs = [breadth_first_search,\n",
    "        depth_first_search,\n",
    "        #lambda x: depth_limited_search(x, 100), Toma mucho tiempo de ejecucion\n",
    "        lambda x: iterative_deepening_search(x, 100),\n",
    "        lambda x: best_first_search(x, costo_uniforme)\n",
    "]\n",
    "nombres = ['Breadth_first', 'Depth_first', \n",
    "           'Depth_limited', 'Iterative_deepening', 'best_first']\n",
    "#compara_funciones(funs=funs, arg=prob_n5, nombres=nombres, N = 3)    "
   ]
  },
  {
   "cell_type": "markdown",
   "metadata": {},
   "source": [
    "## Solución para $n \\leq 64$"
   ]
  },
  {
   "cell_type": "code",
   "execution_count": 213,
   "metadata": {},
   "outputs": [
    {
     "data": {
      "image/png": "[encoded data removed]",
      "text/plain": [
       "<Figure size 432x288 with 1 Axes>"
      ]
     },
     "metadata": {
      "needs_background": "light"
     },
     "output_type": "display_data"
    }
   ],
   "source": [
    "import matplotlib.pylab as plt\n",
    "from time import perf_counter\n",
    "import numpy as np\n",
    "\n",
    "dict_tiempos_sol = {}\n",
    "for i in range(3, 12):\n",
    "    prob = Hannoi(num_disc= i)\n",
    "    arranca = perf_counter()\n",
    "    depth_first_search(prob)\n",
    "    para = perf_counter()\n",
    "    dict_tiempos_sol[f\"discos: {i}\"] = para - arranca\n",
    "    print(f\"discos {i} - tiempo: {para - arranca}\")\n",
    "\n",
    "myList = dict_tiempos_sol.items()\n",
    "x, y = zip(*myList) \n",
    "\n",
    "plt.plot(x, y , 'o-')\n",
    "plt.xticks(rotation=90)\n",
    "plt.xlabel('problema')\n",
    "plt.ylabel('tiempo [seg.]')\n",
    "plt.title('Tiempos de solución depth_first_search')\n",
    "plt.show()\n"
   ]
  },
  {
   "cell_type": "markdown",
   "metadata": {},
   "source": [
    "Haciendo una visualización de los casos hasta 8 discos:"
   ]
  },
  {
   "cell_type": "code",
   "execution_count": 330,
   "metadata": {},
   "outputs": [
    {
     "data": {
      "image/png": "[encoded data removed]",
      "text/plain": [
       "<Figure size 432x288 with 1 Axes>"
      ]
     },
     "metadata": {
      "needs_background": "light"
     },
     "output_type": "display_data"
    }
   ],
   "source": [
    "plt.plot(x[:6], y[:6] , 'o-')\n",
    "plt.xticks(rotation=90)\n",
    "plt.xlabel('problema')\n",
    "plt.ylabel('tiempo [seg.]')\n",
    "plt.title('Tiempos de solución depth_first_search')\n",
    "plt.show()"
   ]
  },
  {
   "cell_type": "markdown",
   "metadata": {},
   "source": [
    "## Regresión para estimar el tiempo que tardaría la solución para 64 discos"
   ]
  },
  {
   "cell_type": "markdown",
   "metadata": {},
   "source": [
    "### Regresión log"
   ]
  },
  {
   "cell_type": "code",
   "execution_count": 392,
   "metadata": {},
   "outputs": [
    {
     "data": {
      "image/png": "[encoded data removed]",
      "text/plain": [
       "<Figure size 432x288 with 1 Axes>"
      ]
     },
     "metadata": {
      "needs_background": "light"
     },
     "output_type": "display_data"
    }
   ],
   "source": [
    "myList = dict_test_mean.items()\n",
    "x, y = zip(*myList) \n",
    "\n",
    "x_reg = np.arange(3,12)\n",
    "y_reg = np.array(y)\n",
    "\n",
    "log_x_reg = np.log(x_reg)\n",
    "log_y_reg = np.log(y_reg)\n",
    "\n",
    "mymodel = np.polyfit(x_reg, log_y_reg, 1)\n",
    "\n",
    "y = np.exp(mymodel[1]) * np.exp(mymodel[0]*x_reg)\n",
    "plt.scatter(x_reg, y_reg)\n",
    "plt.plot(x_reg, y)\n",
    "plt.show() \n"
   ]
  },
  {
   "cell_type": "code",
   "execution_count": 395,
   "metadata": {},
   "outputs": [
    {
     "name": "stdout",
     "output_type": "stream",
     "text": [
      "El tiempo estimado para 64 discos es: 1.496172307072678e+37 segundos; equivalente a 4.8102247526770776e+29 años de cómputo contínuo.\n"
     ]
    }
   ],
   "source": [
    "t_exp = np.exp(mymodel[1]) * np.exp(mymodel[0]*64)\n",
    "print(f\"El tiempo estimado para 64 discos es: {round(t_exp,2)} segundos; equivalente a {round(t_exp * (1/(60 * 60 * 24 * 30 * 12)), 2)} años de cómputo contínuo.\")"
   ]
  },
  {
   "cell_type": "markdown",
   "metadata": {},
   "source": [
    "### Regresión polinomial"
   ]
  },
  {
   "cell_type": "code",
   "execution_count": 399,
   "metadata": {},
   "outputs": [
    {
     "data": {
      "image/png": "[encoded data removed]",
      "text/plain": [
       "<Figure size 432x288 with 1 Axes>"
      ]
     },
     "metadata": {
      "needs_background": "light"
     },
     "output_type": "display_data"
    }
   ],
   "source": [
    "myList = dict_test_mean.items()\n",
    "x, y = zip(*myList) \n",
    "\n",
    "x_reg = np.arange(3,12)\n",
    "y_reg = np.array(y)\n",
    "\n",
    "log_x_reg = np.log(x_reg)\n",
    "log_y_reg = np.log(y_reg)\n",
    "\n",
    "\n",
    "mymodel = np.poly1d(np.polyfit(x_reg, y_reg, 3))\n",
    "\n",
    "myline = np.linspace(3, 12, 100)\n",
    "\n",
    "plt.scatter(x_reg, y_reg)\n",
    "plt.plot(myline, mymodel(myline))\n",
    "plt.show() \n",
    "\n"
   ]
  },
  {
   "cell_type": "code",
   "execution_count": 400,
   "metadata": {},
   "outputs": [
    {
     "name": "stdout",
     "output_type": "stream",
     "text": [
      "0.919369059413909\n"
     ]
    }
   ],
   "source": [
    "from sklearn.metrics import r2_score\n",
    "print(r2_score(y_reg, mymodel(x_reg)))"
   ]
  },
  {
   "cell_type": "markdown",
   "metadata": {},
   "source": [
    "Con una precisión del $91%$ para una gresión polinomial de orden 3, es posible afirmar que el tiempo estimado para 64 discos es:"
   ]
  },
  {
   "cell_type": "code",
   "execution_count": 401,
   "metadata": {},
   "outputs": [
    {
     "name": "stdout",
     "output_type": "stream",
     "text": [
      "El tiempo estimado para 64 discos es: 1034020.76 segundos; equivalente a 11.97 días de cómputo contínuo.\n"
     ]
    }
   ],
   "source": [
    "print(f\"El tiempo estimado para 64 discos es: {round(mymodel(64),2)} segundos; equivalente a {round(mymodel(64) * (1/(60 * 60 * 24)), 2)} días de cómputo contínuo.\")"
   ]
  },
  {
   "cell_type": "code",
   "execution_count": null,
   "metadata": {},
   "outputs": [],
   "source": []
  }
 ],
 "metadata": {
  "interpreter": {
   "hash": "cb4ba80c77914fefcae4b6ab97441bcca38110318b73796501620219806422b4"
  },
  "kernelspec": {
   "display_name": "Python 3.8.8 ('base')",
   "language": "python",
   "name": "python3"
  },
  "language_info": {
   "codemirror_mode": {
    "name": "ipython",
    "version": 3
   },
   "file_extension": ".py",
   "mimetype": "text/x-python",
   "name": "python",
   "nbconvert_exporter": "python",
   "pygments_lexer": "ipython3",
   "version": "3.8.8"
  },
  "orig_nbformat": 4
 },
 "nbformat": 4,
 "nbformat_minor": 2
}

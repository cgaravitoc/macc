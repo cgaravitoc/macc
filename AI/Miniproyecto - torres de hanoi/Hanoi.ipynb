{
 "cells": [
  {
   "cell_type": "markdown",
   "metadata": {},
   "source": [
    "# **Torres de Hanoi**\n",
    "Carlos Garavito, Emmanuel Moreno"
   ]
  },
  {
   "cell_type": "markdown",
   "metadata": {},
   "source": [
    "## Descripción del problema\n",
    "\n",
    "El problema o juego de las Torres de Hannoi consiste (en nuestro ambiente) en llevar todos los discos hacia la tercera columna de tal manera que queden ordenados de mayor a menor a radio. Las demás reglas y condiciones se explican en el reporte."
   ]
  },
  {
   "cell_type": "markdown",
   "metadata": {},
   "source": [
    "La representación computacional que se usará del problema, corresponde a una matriz de tres columnas, en donde cada vector columna representa una barra y sus valores, corresponderán al diámetro del disco. Así una matriz de la forma\n",
    "\n",
    "$$\n",
    "\\begin{bmatrix}\n",
    "1 & 0 & 0\\\\\n",
    "2 & 0 & 0\\\\\n",
    "3 & 0 & 0\n",
    "\\end{bmatrix},  \n",
    "$$\n",
    "\n",
    "representa el estado del problema tal que en la primera columna se encuentra ubicados tres discos, ordenados de mayor a menor diámetro, mientras que las otras dos columnas están vacias. \n",
    "\n",
    "Sin embargo, en nuestro caso particular, la notación que se usará consistirá en reeplazar los ceros por valores $n+1$, tal que la misma matriz mostrada anteriormente, para $n = 3$ se visualiza como: \n",
    "\n",
    "$$\n",
    "\\begin{bmatrix}\n",
    "1 & 4 & 4\\\\\n",
    "2 & 4 & 4\\\\\n",
    "3 & 4 & 4\n",
    "\\end{bmatrix}.\n",
    "$$"
   ]
  },
  {
   "cell_type": "markdown",
   "metadata": {},
   "source": [
    "## Solución para tres discos ($n=3$)"
   ]
  },
  {
   "cell_type": "markdown",
   "metadata": {},
   "source": [
    "Para la implementación de la solución, se hace uso del ambiente recibido por parte del profesor, cargado en el paquete `ambiente.py`. Además, se hace uso del paquete que contiene los algorítmos de búsqueda que se han visto en clase, los cuales están ubicados en el archivo `searcgAlg`."
   ]
  },
  {
   "cell_type": "code",
   "execution_count": 449,
   "metadata": {},
   "outputs": [],
   "source": [
    "from ambiente import * \n",
    "from random import choice\n",
    "from searchAlg import *"
   ]
  },
  {
   "cell_type": "markdown",
   "metadata": {},
   "source": [
    "Así, definiendo el problema con tres discos, se tiene:"
   ]
  },
  {
   "cell_type": "code",
   "execution_count": 450,
   "metadata": {},
   "outputs": [
    {
     "data": {
      "text/plain": [
       "array([[1., 4., 4.],\n",
       "       [2., 4., 4.],\n",
       "       [3., 4., 4.]])"
      ]
     },
     "execution_count": 450,
     "metadata": {},
     "output_type": "execute_result"
    }
   ],
   "source": [
    "prob_n3 = Hannoi(num_disc=3)\n",
    "s = prob_n3.estado_inicial\n",
    "s"
   ]
  },
  {
   "cell_type": "markdown",
   "metadata": {},
   "source": [
    "### Implementación de algorítmos de búsqueda"
   ]
  },
  {
   "cell_type": "markdown",
   "metadata": {},
   "source": [
    "#### breadth first search"
   ]
  },
  {
   "cell_type": "markdown",
   "metadata": {},
   "source": [
    "Implementando el algoritmo `breadth_first_search` y mostrando los estados del problema de forma matricial, se tiene: "
   ]
  },
  {
   "cell_type": "code",
   "execution_count": 451,
   "metadata": {},
   "outputs": [
    {
     "data": {
      "text/plain": [
       "[array([[1., 4., 4.],\n",
       "        [2., 4., 4.],\n",
       "        [3., 4., 4.]]),\n",
       " array([[4., 4., 4.],\n",
       "        [2., 4., 4.],\n",
       "        [3., 4., 1.]]),\n",
       " array([[4., 4., 4.],\n",
       "        [4., 4., 4.],\n",
       "        [3., 2., 1.]]),\n",
       " array([[4., 4., 4.],\n",
       "        [4., 1., 4.],\n",
       "        [3., 2., 4.]]),\n",
       " array([[4., 4., 4.],\n",
       "        [4., 1., 4.],\n",
       "        [4., 2., 3.]]),\n",
       " array([[4., 4., 4.],\n",
       "        [4., 4., 4.],\n",
       "        [1., 2., 3.]]),\n",
       " array([[4., 4., 4.],\n",
       "        [4., 4., 2.],\n",
       "        [1., 4., 3.]]),\n",
       " array([[4., 4., 1.],\n",
       "        [4., 4., 2.],\n",
       "        [4., 4., 3.]])]"
      ]
     },
     "execution_count": 451,
     "metadata": {},
     "output_type": "execute_result"
    }
   ],
   "source": [
    "my_camino2(breadth_first_search(prob_n3))"
   ]
  },
  {
   "cell_type": "markdown",
   "metadata": {},
   "source": [
    "Se se quiere visualizar una animación de la solución, se puede ejecutar la siguiente celda de código:"
   ]
  },
  {
   "cell_type": "code",
   "execution_count": 454,
   "metadata": {},
   "outputs": [
    {
     "data": {
      "image/png": "[encoded data removed]",
      "text/plain": [
       "<Figure size 432x288 with 1 Axes>"
      ]
     },
     "metadata": {
      "needs_background": "light"
     },
     "output_type": "display_data"
    }
   ],
   "source": [
    "prob_n3.pintar_camino(my_camino2(breadth_first_search(prob_n3)))"
   ]
  },
  {
   "cell_type": "markdown",
   "metadata": {},
   "source": [
    "La cantidad de pasos requeridos para encontrar la solución del problema de tres discos con el algoritmo `breath_first_search` es de: "
   ]
  },
  {
   "cell_type": "code",
   "execution_count": 455,
   "metadata": {},
   "outputs": [
    {
     "name": "stdout",
     "output_type": "stream",
     "text": [
      "Cantidad de pasos requeridos para encontrar la solución con breath_first_search: 7\n"
     ]
    }
   ],
   "source": [
    "print(f\"Cantidad de pasos requeridos para encontrar la solución con breath_first_search: {len(my_camino2(breadth_first_search(prob_n3))) -1 }\")"
   ]
  },
  {
   "cell_type": "markdown",
   "metadata": {},
   "source": [
    "#### Depth first search"
   ]
  },
  {
   "cell_type": "code",
   "execution_count": 456,
   "metadata": {},
   "outputs": [
    {
     "data": {
      "text/plain": [
       "[array([[1., 4., 4.],\n",
       "        [2., 4., 4.],\n",
       "        [3., 4., 4.]]),\n",
       " array([[4., 4., 4.],\n",
       "        [2., 4., 4.],\n",
       "        [3., 4., 1.]]),\n",
       " array([[4., 4., 4.],\n",
       "        [2., 4., 4.],\n",
       "        [3., 1., 4.]]),\n",
       " array([[4., 4., 4.],\n",
       "        [4., 4., 4.],\n",
       "        [3., 1., 2.]]),\n",
       " array([[4., 4., 4.],\n",
       "        [4., 4., 1.],\n",
       "        [3., 4., 2.]]),\n",
       " array([[4., 4., 4.],\n",
       "        [1., 4., 4.],\n",
       "        [3., 4., 2.]]),\n",
       " array([[4., 4., 4.],\n",
       "        [1., 4., 4.],\n",
       "        [3., 2., 4.]]),\n",
       " array([[4., 4., 4.],\n",
       "        [4., 4., 4.],\n",
       "        [3., 2., 1.]]),\n",
       " array([[4., 4., 4.],\n",
       "        [4., 1., 4.],\n",
       "        [3., 2., 4.]]),\n",
       " array([[4., 4., 4.],\n",
       "        [4., 1., 4.],\n",
       "        [4., 2., 3.]]),\n",
       " array([[4., 4., 4.],\n",
       "        [4., 4., 1.],\n",
       "        [4., 2., 3.]]),\n",
       " array([[4., 4., 4.],\n",
       "        [4., 4., 4.],\n",
       "        [1., 2., 3.]]),\n",
       " array([[4., 4., 4.],\n",
       "        [4., 4., 2.],\n",
       "        [1., 4., 3.]]),\n",
       " array([[4., 4., 1.],\n",
       "        [4., 4., 2.],\n",
       "        [4., 4., 3.]])]"
      ]
     },
     "execution_count": 456,
     "metadata": {},
     "output_type": "execute_result"
    }
   ],
   "source": [
    "my_camino2(depth_first_search(prob_n3))"
   ]
  },
  {
   "cell_type": "code",
   "execution_count": 457,
   "metadata": {},
   "outputs": [
    {
     "data": {
      "image/png": "[encoded data removed]",
      "text/plain": [
       "<Figure size 432x288 with 1 Axes>"
      ]
     },
     "metadata": {
      "needs_background": "light"
     },
     "output_type": "display_data"
    }
   ],
   "source": [
    "prob_n3.pintar_camino(my_camino2(depth_first_search(prob_n3)))"
   ]
  },
  {
   "cell_type": "code",
   "execution_count": 458,
   "metadata": {},
   "outputs": [
    {
     "name": "stdout",
     "output_type": "stream",
     "text": [
      "Cantidad de pasos requeridos para encontrar la solución con depth_first_search: 13\n"
     ]
    }
   ],
   "source": [
    "print(f\"Cantidad de pasos requeridos para encontrar la solución con depth_first_search: {len(my_camino2(depth_first_search(prob_n3))) - 1}\")"
   ]
  },
  {
   "cell_type": "markdown",
   "metadata": {},
   "source": [
    "#### Depth limited search"
   ]
  },
  {
   "cell_type": "markdown",
   "metadata": {},
   "source": [
    "Este algoritmo depende de la profundidad permitida de exploración. Entre más profundidad de exploración permitida, más cantidad de pasos tomará el algorítmo en encontrar la solución. Para este caso particular, se encontró que la profundidad mínima para encontrar la solución es de $7$. "
   ]
  },
  {
   "cell_type": "code",
   "execution_count": 459,
   "metadata": {},
   "outputs": [
    {
     "data": {
      "text/plain": [
       "[array([[1., 4., 4.],\n",
       "        [2., 4., 4.],\n",
       "        [3., 4., 4.]]),\n",
       " array([[4., 4., 4.],\n",
       "        [2., 4., 4.],\n",
       "        [3., 4., 1.]]),\n",
       " array([[4., 4., 4.],\n",
       "        [4., 4., 4.],\n",
       "        [3., 2., 1.]]),\n",
       " array([[4., 4., 4.],\n",
       "        [4., 1., 4.],\n",
       "        [3., 2., 4.]]),\n",
       " array([[4., 4., 4.],\n",
       "        [4., 1., 4.],\n",
       "        [4., 2., 3.]]),\n",
       " array([[4., 4., 4.],\n",
       "        [4., 4., 4.],\n",
       "        [1., 2., 3.]]),\n",
       " array([[4., 4., 4.],\n",
       "        [4., 4., 2.],\n",
       "        [1., 4., 3.]]),\n",
       " array([[4., 4., 1.],\n",
       "        [4., 4., 2.],\n",
       "        [4., 4., 3.]])]"
      ]
     },
     "execution_count": 459,
     "metadata": {},
     "output_type": "execute_result"
    }
   ],
   "source": [
    "my_camino2(depth_limited_search(prob_n3, 7))"
   ]
  },
  {
   "cell_type": "code",
   "execution_count": 460,
   "metadata": {},
   "outputs": [
    {
     "data": {
      "image/png": "[encoded data removed]",
      "text/plain": [
       "<Figure size 432x288 with 1 Axes>"
      ]
     },
     "metadata": {
      "needs_background": "light"
     },
     "output_type": "display_data"
    }
   ],
   "source": [
    "prob_n3.pintar_camino(my_camino2(depth_limited_search(prob_n3, 7)))"
   ]
  },
  {
   "cell_type": "code",
   "execution_count": null,
   "metadata": {},
   "outputs": [],
   "source": [
    "print(f\"Cantidad de pasos requeridos para encontrar la solución con depth_limited_search: {len(my_camino2(depth_limited_search(prob_n3, 7))) - 1}\")"
   ]
  },
  {
   "cell_type": "markdown",
   "metadata": {},
   "source": [
    "#### Itereative deeping search"
   ]
  },
  {
   "cell_type": "code",
   "execution_count": 461,
   "metadata": {},
   "outputs": [
    {
     "data": {
      "text/plain": [
       "[array([[1., 4., 4.],\n",
       "        [2., 4., 4.],\n",
       "        [3., 4., 4.]]),\n",
       " array([[4., 4., 4.],\n",
       "        [2., 4., 4.],\n",
       "        [3., 4., 1.]]),\n",
       " array([[4., 4., 4.],\n",
       "        [4., 4., 4.],\n",
       "        [3., 2., 1.]]),\n",
       " array([[4., 4., 4.],\n",
       "        [4., 1., 4.],\n",
       "        [3., 2., 4.]]),\n",
       " array([[4., 4., 4.],\n",
       "        [4., 1., 4.],\n",
       "        [4., 2., 3.]]),\n",
       " array([[4., 4., 4.],\n",
       "        [4., 4., 4.],\n",
       "        [1., 2., 3.]]),\n",
       " array([[4., 4., 4.],\n",
       "        [4., 4., 2.],\n",
       "        [1., 4., 3.]]),\n",
       " array([[4., 4., 1.],\n",
       "        [4., 4., 2.],\n",
       "        [4., 4., 3.]])]"
      ]
     },
     "execution_count": 461,
     "metadata": {},
     "output_type": "execute_result"
    }
   ],
   "source": [
    "my_camino2(iterative_deepening_search(prob_n3, 100))"
   ]
  },
  {
   "cell_type": "code",
   "execution_count": 462,
   "metadata": {},
   "outputs": [
    {
     "data": {
      "image/png": "[encoded data removed]",
      "text/plain": [
       "<Figure size 432x288 with 1 Axes>"
      ]
     },
     "metadata": {
      "needs_background": "light"
     },
     "output_type": "display_data"
    }
   ],
   "source": [
    "prob_n3.pintar_camino(my_camino2(iterative_deepening_search(prob_n3, 100)))"
   ]
  },
  {
   "cell_type": "code",
   "execution_count": 463,
   "metadata": {},
   "outputs": [
    {
     "name": "stdout",
     "output_type": "stream",
     "text": [
      "Cantidad de pasos requeridos para encontrar la solución con iterative_deepening_search: 7\n"
     ]
    }
   ],
   "source": [
    "print(f\"Cantidad de pasos requeridos para encontrar la solución con iterative_deepening_search: {len(my_camino2(iterative_deepening_search(prob_n3, 100))) - 1}\")"
   ]
  },
  {
   "cell_type": "markdown",
   "metadata": {},
   "source": [
    "#### Best first search"
   ]
  },
  {
   "cell_type": "markdown",
   "metadata": {},
   "source": [
    "Para la implementación de este algorítmo de búsqueda se hace necesario definir una función de costo. Esto es, el costo que define a cada acción que se toma en la solución del problema. En este caso, por facilidad, se define la funicón de costo uniforme que atribuye el mismo costo a todas las acciones dentro del problema. "
   ]
  },
  {
   "cell_type": "code",
   "execution_count": 464,
   "metadata": {},
   "outputs": [],
   "source": [
    "def costo_uniforme(self, estado, accion):\n",
    "    return 1"
   ]
  },
  {
   "cell_type": "code",
   "execution_count": 465,
   "metadata": {},
   "outputs": [
    {
     "data": {
      "text/plain": [
       "[array([[1., 4., 4.],\n",
       "        [2., 4., 4.],\n",
       "        [3., 4., 4.]]),\n",
       " array([[4., 4., 4.],\n",
       "        [2., 4., 4.],\n",
       "        [3., 4., 1.]]),\n",
       " array([[4., 4., 4.],\n",
       "        [4., 4., 4.],\n",
       "        [3., 2., 1.]]),\n",
       " array([[4., 4., 4.],\n",
       "        [4., 1., 4.],\n",
       "        [3., 2., 4.]]),\n",
       " array([[4., 4., 4.],\n",
       "        [4., 1., 4.],\n",
       "        [4., 2., 3.]]),\n",
       " array([[4., 4., 4.],\n",
       "        [4., 4., 4.],\n",
       "        [1., 2., 3.]]),\n",
       " array([[4., 4., 4.],\n",
       "        [4., 4., 2.],\n",
       "        [1., 4., 3.]]),\n",
       " array([[4., 4., 1.],\n",
       "        [4., 4., 2.],\n",
       "        [4., 4., 3.]])]"
      ]
     },
     "execution_count": 465,
     "metadata": {},
     "output_type": "execute_result"
    }
   ],
   "source": [
    "my_camino2(best_first_search(prob_n3, costo_uniforme))"
   ]
  },
  {
   "cell_type": "code",
   "execution_count": 466,
   "metadata": {},
   "outputs": [
    {
     "data": {
      "image/png": "[encoded data removed]",
      "text/plain": [
       "<Figure size 432x288 with 1 Axes>"
      ]
     },
     "metadata": {
      "needs_background": "light"
     },
     "output_type": "display_data"
    }
   ],
   "source": [
    "prob_n3.pintar_camino(my_camino2(best_first_search(prob_n3, costo_uniforme)))"
   ]
  },
  {
   "cell_type": "code",
   "execution_count": 467,
   "metadata": {},
   "outputs": [
    {
     "name": "stdout",
     "output_type": "stream",
     "text": [
      "Cantidad de pasos requeridos para encontrar la solución con best_first_search: 7\n"
     ]
    }
   ],
   "source": [
    "print(f\"Cantidad de pasos requeridos para encontrar la solución con best_first_search: {len(my_camino2(best_first_search(prob_n3, costo_uniforme))) - 1}\")"
   ]
  },
  {
   "cell_type": "markdown",
   "metadata": {},
   "source": [
    "### Comparación de tiempos de solución de los algorítmos de búsqueda"
   ]
  },
  {
   "cell_type": "code",
   "execution_count": 468,
   "metadata": {},
   "outputs": [
    {
     "name": "stdout",
     "output_type": "stream",
     "text": [
      "              sum_sq     df            F         PR(>F)\n",
      "C(Función)  0.002818    4.0  1276.569622  6.827450e-112\n",
      "Residual    0.000080  145.0          NaN            NaN\n"
     ]
    },
    {
     "data": {
      "image/png": "[encoded data removed]",
      "text/plain": [
       "<Figure size 1080x216 with 1 Axes>"
      ]
     },
     "metadata": {
      "needs_background": "light"
     },
     "output_type": "display_data"
    }
   ],
   "source": [
    "import warnings\n",
    "warnings.filterwarnings('ignore')\n",
    "\n",
    "funs = [breadth_first_search,\n",
    "        depth_first_search,\n",
    "        lambda x: depth_limited_search(x, 7),\n",
    "        lambda x: iterative_deepening_search(x, 100),\n",
    "        lambda x: best_first_search(x, costo_uniforme)\n",
    "]\n",
    "nombres = ['Breadth_first', 'Depth_first', \n",
    "           'Depth_limited', 'Iterative_deepening', 'best_first']\n",
    "compara_funciones(funs=funs, arg=prob_n3, nombres=nombres)"
   ]
  },
  {
   "cell_type": "markdown",
   "metadata": {},
   "source": [
    "#### Comparando `depth_first_search` y `best_first_search`"
   ]
  },
  {
   "cell_type": "code",
   "execution_count": 469,
   "metadata": {},
   "outputs": [
    {
     "name": "stdout",
     "output_type": "stream",
     "text": [
      "              sum_sq    df          F        PR(>F)\n",
      "C(Función)  0.000013   1.0  30.687002  7.718078e-07\n",
      "Residual    0.000025  58.0        NaN           NaN\n"
     ]
    },
    {
     "data": {
      "image/png": "[encoded data removed]",
      "text/plain": [
       "<Figure size 432x216 with 1 Axes>"
      ]
     },
     "metadata": {
      "needs_background": "light"
     },
     "output_type": "display_data"
    }
   ],
   "source": [
    "import warnings\n",
    "warnings.filterwarnings('ignore')\n",
    "\n",
    "funs = [depth_first_search,\n",
    "        lambda x: best_first_search(x, costo_uniforme)\n",
    "]\n",
    "nombres = ['Depth_first', \n",
    "            'best_first']\n",
    "compara_funciones(funs=funs, arg=prob_n3, nombres=nombres)"
   ]
  },
  {
   "cell_type": "markdown",
   "metadata": {},
   "source": [
    "Se puede ver, que para el caso $n=3$, el mejor algoritmo es el de `depth_first_search`. "
   ]
  },
  {
   "cell_type": "markdown",
   "metadata": {},
   "source": [
    "## Solución para $n>3$"
   ]
  },
  {
   "cell_type": "markdown",
   "metadata": {},
   "source": [
    "#### $n = 4$"
   ]
  },
  {
   "cell_type": "code",
   "execution_count": 470,
   "metadata": {},
   "outputs": [
    {
     "name": "stdout",
     "output_type": "stream",
     "text": [
      "               sum_sq     df            F         PR(>F)\n",
      "C(Función)  74.908788    4.0  6443.154975  3.779360e-162\n",
      "Residual     0.421446  145.0          NaN            NaN\n"
     ]
    },
    {
     "data": {
      "image/png": "[encoded data removed]",
      "text/plain": [
       "<Figure size 1080x216 with 1 Axes>"
      ]
     },
     "metadata": {
      "needs_background": "light"
     },
     "output_type": "display_data"
    }
   ],
   "source": [
    "prob_n4 = Hannoi(num_disc=4)\n",
    "\n",
    "\n",
    "funs = [breadth_first_search,\n",
    "        depth_first_search,\n",
    "        lambda x: depth_limited_search(x, 15), \n",
    "        lambda x: iterative_deepening_search(x, 100),\n",
    "        lambda x: best_first_search(x, costo_uniforme)\n",
    "]\n",
    "nombres = ['Breadth_first', 'Depth_first', \n",
    "           'Depth_limited', 'Iterative_deepening', 'best_first']\n",
    "compara_funciones(funs=funs, arg=prob_n4, nombres=nombres)    "
   ]
  },
  {
   "cell_type": "code",
   "execution_count": 471,
   "metadata": {},
   "outputs": [
    {
     "name": "stdout",
     "output_type": "stream",
     "text": [
      "              sum_sq    df            F        PR(>F)\n",
      "C(Función)  0.005888   2.0  1618.253811  1.512279e-69\n",
      "Residual    0.000158  87.0          NaN           NaN\n"
     ]
    },
    {
     "data": {
      "image/png": "[encoded data removed]",
      "text/plain": [
       "<Figure size 648x216 with 1 Axes>"
      ]
     },
     "metadata": {
      "needs_background": "light"
     },
     "output_type": "display_data"
    }
   ],
   "source": [
    "prob_n4 = Hannoi(num_disc=4)\n",
    "\n",
    "funs = [breadth_first_search,\n",
    "        depth_first_search,\n",
    "        lambda x: best_first_search(x, costo_uniforme)\n",
    "]\n",
    "nombres = ['Breadth_first', 'Depth_first', \n",
    "           'best_first']\n",
    "compara_funciones(funs=funs, arg=prob_n4, nombres=nombres)    "
   ]
  },
  {
   "cell_type": "markdown",
   "metadata": {},
   "source": [
    "Se puede ver, que para el caso $n=4$, el mejor algoritmo es también el de `depth_first_search`. "
   ]
  },
  {
   "cell_type": "markdown",
   "metadata": {},
   "source": [
    "## Solución para $n \\leq 64$"
   ]
  },
  {
   "cell_type": "code",
   "execution_count": null,
   "metadata": {},
   "outputs": [],
   "source": [
    "# correr para generar datos\n",
    "\n",
    "import matplotlib.pylab as plt\n",
    "from time import perf_counter\n",
    "import numpy as np\n",
    "\n",
    "dict_tiempos_sol = {}\n",
    "for i in range(3, 13):\n",
    "    prob = Hannoi(num_disc= i)\n",
    "    arranca = perf_counter()\n",
    "    depth_first_search(prob)\n",
    "    para = perf_counter()\n",
    "    dict_tiempos_sol[f\"discos: {i}\"] = para - arranca\n",
    "    print(f\"discos {i} - tiempo: {para - arranca}\")\n",
    "\n",
    "myList = dict_tiempos_sol.items()\n",
    "x, y = zip(*myList) \n",
    "\n",
    "plt.plot(x, y , 'o-')\n",
    "plt.xticks(rotation=90)\n",
    "plt.xlabel('problema')\n",
    "plt.ylabel('tiempo [seg.]')\n",
    "plt.title('Tiempos de solución depth_first_search')\n",
    "plt.show()"
   ]
  },
  {
   "cell_type": "code",
   "execution_count": 472,
   "metadata": {},
   "outputs": [
    {
     "data": {
      "image/png": "[encoded data removed]",
      "text/plain": [
       "<Figure size 432x288 with 1 Axes>"
      ]
     },
     "metadata": {
      "needs_background": "light"
     },
     "output_type": "display_data"
    }
   ],
   "source": [
    "# correr para visualizar resultados obtenidos con google colab\n",
    "\n",
    "import matplotlib.pylab as plt\n",
    "from time import perf_counter\n",
    "import numpy as np\n",
    "\n",
    "dict_tiempos_sol2 = {'discos: 3': 0.004036811999867496,\n",
    " 'discos: 4': 0.007365681999544904,\n",
    " 'discos: 5': 0.01850395400015259,\n",
    " 'discos: 6': 0.05800535599973955,\n",
    " 'discos: 7': 0.21340792299997702,\n",
    " 'discos: 8': 1.129618728999958,\n",
    " 'discos: 9': 6.836087618999954, \n",
    " 'discos: 10': 39.68399612800022,\n",
    " 'discos: 11': 337.80143354400025,\n",
    " 'discos: 12': 4655.877224973}\n",
    "\n",
    "myList2 = dict_tiempos_sol2.items()\n",
    "x, y = zip(*myList2) \n",
    "\n",
    "plt.plot(x, y , 'o-')\n",
    "plt.xticks(rotation=90)\n",
    "plt.xlabel('problema')\n",
    "plt.ylabel('tiempo [seg.]')\n",
    "plt.title('Tiempos de solución depth_first_search')\n",
    "plt.show()"
   ]
  },
  {
   "cell_type": "markdown",
   "metadata": {},
   "source": [
    "## Regresión para estimar el tiempo que tardaría la solución para 64 discos"
   ]
  },
  {
   "cell_type": "markdown",
   "metadata": {},
   "source": [
    "Usando una regresión polinomial, se tiene: "
   ]
  },
  {
   "cell_type": "code",
   "execution_count": 473,
   "metadata": {},
   "outputs": [
    {
     "data": {
      "image/png": "[encoded data removed]",
      "text/plain": [
       "<Figure size 432x288 with 1 Axes>"
      ]
     },
     "metadata": {
      "needs_background": "light"
     },
     "output_type": "display_data"
    }
   ],
   "source": [
    "myList = dict_tiempos_sol2.items() # cambiar a dict_tiempos_sol, para correr con datos generados de forma local\n",
    "x, y = zip(*myList) \n",
    "\n",
    "x_reg = np.arange(3,13)\n",
    "y_reg = np.array(y)\n",
    "\n",
    "log_x_reg = np.log(x_reg)\n",
    "log_y_reg = np.log(y_reg)\n",
    "\n",
    "\n",
    "mymodel = np.poly1d(np.polyfit(x_reg, y_reg, 10))\n",
    "\n",
    "myline = np.linspace(3, 12, 100)\n",
    "\n",
    "plt.scatter(x_reg, y_reg)\n",
    "plt.xlabel(\"Cantidad de discos\")\n",
    "plt.ylabel(\"tiempo [seg.]\")\n",
    "plt.title(\"Tiempos de solución \\n en función de la cantidad de discos\")\n",
    "plt.plot(myline, mymodel(myline), 'r--')\n",
    "plt.show() \n",
    "\n"
   ]
  },
  {
   "cell_type": "code",
   "execution_count": 490,
   "metadata": {},
   "outputs": [
    {
     "name": "stdout",
     "output_type": "stream",
     "text": [
      "El tiempo estimado para encontrar la solución para 64 discos es de 2,376,435,928,853 minutos; equivalente a 4,584,174 años de cómputo contínuo.\n"
     ]
    }
   ],
   "source": [
    "my_n = 64 # cantidad de discos\n",
    "print(f\"El tiempo estimado para encontrar la solución para {my_n} discos es de {round(mymodel(my_n) * (1/(60))):,} minutos; equivalente a {round(mymodel(my_n) * (1/(60 * 60 * 24 * 30 * 12))):,} años de cómputo contínuo.\")"
   ]
  }
 ],
 "metadata": {
  "interpreter": {
   "hash": "cb4ba80c77914fefcae4b6ab97441bcca38110318b73796501620219806422b4"
  },
  "kernelspec": {
   "display_name": "Python 3.8.8 ('base')",
   "language": "python",
   "name": "python3"
  },
  "language_info": {
   "codemirror_mode": {
    "name": "ipython",
    "version": 3
   },
   "file_extension": ".py",
   "mimetype": "text/x-python",
   "name": "python",
   "nbconvert_exporter": "python",
   "pygments_lexer": "ipython3",
   "version": "3.8.8"
  },
  "orig_nbformat": 4
 },
 "nbformat": 4,
 "nbformat_minor": 2
}

{
 "cells": [
  {
   "cell_type": "code",
   "execution_count": 1,
   "metadata": {},
   "outputs": [],
   "source": [
    "from AmbientesMP import *\n",
    "from random import choice"
   ]
  },
  {
   "cell_type": "markdown",
   "metadata": {},
   "source": [
    "## El vendedor viajero"
   ]
  },
  {
   "cell_type": "code",
   "execution_count": null,
   "metadata": {},
   "outputs": [],
   "source": [
    "prob = Vendedor('Chapinero')\n",
    "s = prob.estado_inicial\n",
    "prob.pintar_estado(s)"
   ]
  },
  {
   "cell_type": "code",
   "execution_count": null,
   "metadata": {},
   "outputs": [],
   "source": [
    "acciones = prob.acciones_aplicables(s)\n",
    "a = choice(acciones)\n",
    "s1 = prob.transicion(s, a)\n",
    "acciones = prob.acciones_aplicables(s1)\n",
    "a1 = choice(acciones)\n",
    "s2 = prob.transicion(s1, a1)\n",
    "prob.pintar_camino([s,s1,s2])"
   ]
  },
  {
   "cell_type": "code",
   "execution_count": null,
   "metadata": {},
   "outputs": [],
   "source": [
    "prob.test_objetivo(s2)"
   ]
  },
  {
   "cell_type": "markdown",
   "metadata": {},
   "source": [
    "## Los europeos y los indígenas"
   ]
  },
  {
   "cell_type": "code",
   "execution_count": null,
   "metadata": {},
   "outputs": [],
   "source": [
    "prob = IndigenasEuropeos()\n",
    "s = prob.estado_inicial\n",
    "prob.pintar_estado(s)"
   ]
  },
  {
   "cell_type": "code",
   "execution_count": null,
   "metadata": {},
   "outputs": [],
   "source": [
    "acciones = prob.acciones_aplicables(s)\n",
    "a = choice(acciones)\n",
    "s1 = prob.transicion(s, a)\n",
    "acciones = prob.acciones_aplicables(s1)\n",
    "a1 = choice(acciones)\n",
    "s2 = prob.transicion(s1, a1)\n",
    "prob.pintar_camino([s,s1,s2],[a,a1])"
   ]
  },
  {
   "cell_type": "code",
   "execution_count": null,
   "metadata": {},
   "outputs": [],
   "source": [
    "prob.test_objetivo(s2)"
   ]
  },
  {
   "cell_type": "markdown",
   "metadata": {},
   "source": [
    "## Las torres de Hanoi"
   ]
  },
  {
   "cell_type": "code",
   "execution_count": null,
   "metadata": {},
   "outputs": [],
   "source": [
    "prob = Hannoi()\n",
    "s = prob.estado_inicial\n",
    "prob.pintar_estado(s)"
   ]
  },
  {
   "cell_type": "code",
   "execution_count": null,
   "metadata": {},
   "outputs": [],
   "source": [
    "def pintar_camino(self, camino):\n",
    "    # Input: lista con el camino de los estados\n",
    "    # Output: plot con la forma de resolver las torres\n",
    "    for estado in camino:\n",
    "        self.pintar_estado(estado)\n",
    "        sleep(1)\n",
    "        clear_output(wait=True)\n",
    "    \n",
    "setattr(Hannoi, 'pintar_camino', pintar_camino)"
   ]
  },
  {
   "cell_type": "code",
   "execution_count": null,
   "metadata": {},
   "outputs": [],
   "source": [
    "acciones = prob.acciones_aplicables(s)\n",
    "a = choice(acciones)\n",
    "s1 = prob.transicion(s, a)\n",
    "acciones = prob.acciones_aplicables(s1)\n",
    "a1 = choice(acciones)\n",
    "s2 = prob.transicion(s1, a1)\n",
    "prob.pintar_camino([s,s1,s2])"
   ]
  },
  {
   "cell_type": "code",
   "execution_count": null,
   "metadata": {},
   "outputs": [],
   "source": [
    "prob.test_objetivo(s2)"
   ]
  },
  {
   "cell_type": "markdown",
   "metadata": {},
   "source": [
    "## Criptoaritmética"
   ]
  },
  {
   "cell_type": "code",
   "execution_count": null,
   "metadata": {},
   "outputs": [],
   "source": [
    "prob = CriptoAritmetica(['send','more','money'])\n",
    "s = prob.estado_inicial\n",
    "prob.pintar_estado(s)"
   ]
  },
  {
   "cell_type": "code",
   "execution_count": null,
   "metadata": {},
   "outputs": [],
   "source": [
    "acciones = prob.acciones_aplicables(s)\n",
    "a = choice(acciones)\n",
    "s1 = prob.transicion(s, a)\n",
    "acciones = prob.acciones_aplicables(s1)\n",
    "a1 = choice(acciones)\n",
    "s2 = prob.transicion(s1, a1)\n",
    "prob.pintar_camino([s,s1,s2])"
   ]
  },
  {
   "cell_type": "code",
   "execution_count": null,
   "metadata": {},
   "outputs": [],
   "source": [
    "prob.test_objetivo(s2)"
   ]
  },
  {
   "cell_type": "markdown",
   "metadata": {},
   "source": [
    "##  El mundo de los bloques"
   ]
  },
  {
   "cell_type": "code",
   "execution_count": null,
   "metadata": {},
   "outputs": [],
   "source": [
    "prob = BlockWorld()\n",
    "s = prob.estado_inicial\n",
    "prob.pintar_estado(s)"
   ]
  },
  {
   "cell_type": "code",
   "execution_count": null,
   "metadata": {},
   "outputs": [],
   "source": [
    "acciones = prob.acciones_aplicables(s)\n",
    "print(acciones)\n",
    "a = choice(acciones)\n",
    "s1 = prob.transicion(s, a)\n",
    "acciones = prob.acciones_aplicables(s1)\n",
    "a1 = choice(acciones)\n",
    "s2 = prob.transicion(s1, a1)\n",
    "prob.pintar_camino([s,s1,s2])"
   ]
  },
  {
   "cell_type": "code",
   "execution_count": null,
   "metadata": {},
   "outputs": [],
   "source": [
    "prob.test_objetivo(s2)"
   ]
  },
  {
   "cell_type": "markdown",
   "metadata": {},
   "source": [
    "## El camino del caballo"
   ]
  },
  {
   "cell_type": "code",
   "execution_count": null,
   "metadata": {},
   "outputs": [],
   "source": [
    "prob = nsquare_horses()\n",
    "s = prob.estado_inicial\n",
    "prob.pintar_estado(s)"
   ]
  },
  {
   "cell_type": "code",
   "execution_count": null,
   "metadata": {},
   "outputs": [],
   "source": [
    "acciones = prob.acciones_aplicables(s)\n",
    "a = choice(acciones)\n",
    "s1 = prob.transicion(s, a)\n",
    "acciones = prob.acciones_aplicables(s1)\n",
    "a1 = choice(acciones)\n",
    "s2 = prob.transicion(s1, a1)\n",
    "prob.pintar_camino([s,s1,s2])"
   ]
  },
  {
   "cell_type": "code",
   "execution_count": null,
   "metadata": {},
   "outputs": [],
   "source": [
    "prob.test_objetivo(s2)"
   ]
  },
  {
   "cell_type": "markdown",
   "metadata": {},
   "source": [
    "## Parser"
   ]
  },
  {
   "cell_type": "code",
   "execution_count": 2,
   "metadata": {},
   "outputs": [
    {
     "name": "stdout",
     "output_type": "stream",
     "text": [
      "S\n"
     ]
    }
   ],
   "source": [
    "regla1 = ('S', 'aSb')\n",
    "regla2 = ('S', 'ab')\n",
    "gramatica = [regla1, regla2]\n",
    "w = \"aabb\"\n",
    "prob = Parser(gramatica, w)\n",
    "s = prob.estado_inicial\n",
    "prob.pintar_estado(s)"
   ]
  },
  {
   "cell_type": "code",
   "execution_count": 3,
   "metadata": {},
   "outputs": [
    {
     "data": {
      "text/plain": [
       "{0: ('S', [])}"
      ]
     },
     "execution_count": 3,
     "metadata": {},
     "output_type": "execute_result"
    }
   ],
   "source": [
    "s"
   ]
  },
  {
   "cell_type": "code",
   "execution_count": 4,
   "metadata": {},
   "outputs": [
    {
     "name": "stdout",
     "output_type": "stream",
     "text": [
      "transicion (0, 'ab')\n"
     ]
    },
    {
     "ename": "IndexError",
     "evalue": "list index out of range",
     "output_type": "error",
     "traceback": [
      "\u001b[0;31m---------------------------------------------------------------------------\u001b[0m",
      "\u001b[0;31mIndexError\u001b[0m                                Traceback (most recent call last)",
      "\u001b[0;32m<ipython-input-4-7d646cce434b>\u001b[0m in \u001b[0;36m<module>\u001b[0;34m\u001b[0m\n\u001b[1;32m      3\u001b[0m \u001b[0ms1\u001b[0m \u001b[0;34m=\u001b[0m \u001b[0mprob\u001b[0m\u001b[0;34m.\u001b[0m\u001b[0mtransicion\u001b[0m\u001b[0;34m(\u001b[0m\u001b[0ms\u001b[0m\u001b[0;34m,\u001b[0m \u001b[0ma\u001b[0m\u001b[0;34m)\u001b[0m\u001b[0;34m\u001b[0m\u001b[0;34m\u001b[0m\u001b[0m\n\u001b[1;32m      4\u001b[0m \u001b[0macciones\u001b[0m \u001b[0;34m=\u001b[0m \u001b[0mprob\u001b[0m\u001b[0;34m.\u001b[0m\u001b[0macciones_aplicables\u001b[0m\u001b[0;34m(\u001b[0m\u001b[0ms1\u001b[0m\u001b[0;34m)\u001b[0m\u001b[0;34m\u001b[0m\u001b[0;34m\u001b[0m\u001b[0m\n\u001b[0;32m----> 5\u001b[0;31m \u001b[0ma1\u001b[0m \u001b[0;34m=\u001b[0m \u001b[0mchoice\u001b[0m\u001b[0;34m(\u001b[0m\u001b[0macciones\u001b[0m\u001b[0;34m)\u001b[0m\u001b[0;34m\u001b[0m\u001b[0;34m\u001b[0m\u001b[0m\n\u001b[0m\u001b[1;32m      6\u001b[0m \u001b[0ms2\u001b[0m \u001b[0;34m=\u001b[0m \u001b[0mprob\u001b[0m\u001b[0;34m.\u001b[0m\u001b[0mtransicion\u001b[0m\u001b[0;34m(\u001b[0m\u001b[0ms1\u001b[0m\u001b[0;34m,\u001b[0m \u001b[0ma1\u001b[0m\u001b[0;34m)\u001b[0m\u001b[0;34m\u001b[0m\u001b[0;34m\u001b[0m\u001b[0m\n\u001b[1;32m      7\u001b[0m \u001b[0mprob\u001b[0m\u001b[0;34m.\u001b[0m\u001b[0mpintar_camino\u001b[0m\u001b[0;34m(\u001b[0m\u001b[0;34m[\u001b[0m\u001b[0ms\u001b[0m\u001b[0;34m,\u001b[0m\u001b[0ms1\u001b[0m\u001b[0;34m,\u001b[0m\u001b[0ms2\u001b[0m\u001b[0;34m]\u001b[0m\u001b[0;34m)\u001b[0m\u001b[0;34m\u001b[0m\u001b[0;34m\u001b[0m\u001b[0m\n",
      "\u001b[0;32m/usr/local/Cellar/python@3.9/3.9.7_1/Frameworks/Python.framework/Versions/3.9/lib/python3.9/random.py\u001b[0m in \u001b[0;36mchoice\u001b[0;34m(self, seq)\u001b[0m\n\u001b[1;32m    344\u001b[0m         \u001b[0;34m\"\"\"Choose a random element from a non-empty sequence.\"\"\"\u001b[0m\u001b[0;34m\u001b[0m\u001b[0;34m\u001b[0m\u001b[0m\n\u001b[1;32m    345\u001b[0m         \u001b[0;31m# raises IndexError if seq is empty\u001b[0m\u001b[0;34m\u001b[0m\u001b[0;34m\u001b[0m\u001b[0m\n\u001b[0;32m--> 346\u001b[0;31m         \u001b[0;32mreturn\u001b[0m \u001b[0mseq\u001b[0m\u001b[0;34m[\u001b[0m\u001b[0mself\u001b[0m\u001b[0;34m.\u001b[0m\u001b[0m_randbelow\u001b[0m\u001b[0;34m(\u001b[0m\u001b[0mlen\u001b[0m\u001b[0;34m(\u001b[0m\u001b[0mseq\u001b[0m\u001b[0;34m)\u001b[0m\u001b[0;34m)\u001b[0m\u001b[0;34m]\u001b[0m\u001b[0;34m\u001b[0m\u001b[0;34m\u001b[0m\u001b[0m\n\u001b[0m\u001b[1;32m    347\u001b[0m \u001b[0;34m\u001b[0m\u001b[0m\n\u001b[1;32m    348\u001b[0m     \u001b[0;32mdef\u001b[0m \u001b[0mshuffle\u001b[0m\u001b[0;34m(\u001b[0m\u001b[0mself\u001b[0m\u001b[0;34m,\u001b[0m \u001b[0mx\u001b[0m\u001b[0;34m,\u001b[0m \u001b[0mrandom\u001b[0m\u001b[0;34m=\u001b[0m\u001b[0;32mNone\u001b[0m\u001b[0;34m)\u001b[0m\u001b[0;34m:\u001b[0m\u001b[0;34m\u001b[0m\u001b[0;34m\u001b[0m\u001b[0m\n",
      "\u001b[0;31mIndexError\u001b[0m: list index out of range"
     ]
    }
   ],
   "source": [
    "acciones = prob.acciones_aplicables(s)\n",
    "a = choice(acciones)\n",
    "s1 = prob.transicion(s, a)\n",
    "acciones = prob.acciones_aplicables(s1)\n",
    "a1 = choice(acciones)\n",
    "s2 = prob.transicion(s1, a1)\n",
    "prob.pintar_camino([s,s1,s2])"
   ]
  },
  {
   "cell_type": "code",
   "execution_count": null,
   "metadata": {},
   "outputs": [],
   "source": [
    "prob.test_objetivo(s2)"
   ]
  },
  {
   "cell_type": "code",
   "execution_count": null,
   "metadata": {},
   "outputs": [],
   "source": [
    "prob.pintar_estado(s1)"
   ]
  },
  {
   "cell_type": "code",
   "execution_count": null,
   "metadata": {},
   "outputs": [],
   "source": [
    "arb = arbol(0, s)\n",
    "#arb.pretty_print()\n",
    "type(arb)"
   ]
  },
  {
   "cell_type": "code",
   "execution_count": null,
   "metadata": {},
   "outputs": [],
   "source": [
    "acciones = prob.acciones_aplicables(s)\n",
    "a = choice(acciones)\n",
    "s1 = prob.transicion(s, a)"
   ]
  },
  {
   "cell_type": "code",
   "execution_count": 9,
   "metadata": {},
   "outputs": [
    {
     "data": {
      "text/plain": [
       "{0: ('S', [])}"
      ]
     },
     "execution_count": 9,
     "metadata": {},
     "output_type": "execute_result"
    }
   ],
   "source": [
    "s"
   ]
  },
  {
   "cell_type": "code",
   "execution_count": 12,
   "metadata": {},
   "outputs": [],
   "source": [
    "class Parser:\n",
    "    '''\n",
    "    @Autor: Samuel Pérez\n",
    "    '''\n",
    "    def __init__(self, gramatica=None, w=None):\n",
    "        if gramatica is None:\n",
    "            raise RuntimeError('¡Se necesita una gramática!')\n",
    "        self.gramatica = gramatica\n",
    "        self.estado_inicial = {0:(gramatica[0][0], [])}\n",
    "        self.w = w\n",
    "        self.ulti = []\n",
    "\n",
    "    def pintar_estado(self, estado):\n",
    "        arb = arbol(0, estado)\n",
    "        if type(arb) == str:\n",
    "            print(arb)\n",
    "        else:\n",
    "            arb.pretty_print()\n",
    "\n",
    "    def pintar_camino(self, camino):\n",
    "        # Input: lista con el camino de los estados\n",
    "        # Output: plot con la forma de resolver las torres\n",
    "        for estado in camino:\n",
    "            clear_output(wait=True)\n",
    "            self.pintar_estado(estado)\n",
    "            plt.show()\n",
    "            sleep(.5)\n",
    "\n",
    "    def reescritura_nodo(self, u_esta, estado):\n",
    "        simbolo = estado[u_esta][0]\n",
    "        nonterminal = set([a_tuple[0] for a_tuple in self.gramatica])\n",
    "        if simbolo not in nonterminal:\n",
    "            return []\n",
    "        reescritura = [a_tuple[1] for a_tuple in self.gramatica if a_tuple[0] == simbolo]\n",
    "\n",
    "        return reescritura\n",
    "\n",
    "    def acciones_aplicables(self, estado):\n",
    "        acciones = []\n",
    "        if not self.ulti:\n",
    "            u_esta = 0\n",
    "            reescritura = self.reescritura_nodo(u_esta, estado)\n",
    "            print(reescritura)\n",
    "            for sim in reescritura:\n",
    "                acciones.append((u_esta, sim))\n",
    "        else:\n",
    "            for u_esta in self.ulti:\n",
    "                reescritura = self.reescritura_nodo(u_esta, estado)\n",
    "                for sim in reescritura:\n",
    "                    acciones.append((u_esta, sim))\n",
    "        return acciones\n",
    "\n",
    "    def transicion(self, estado, accion):\n",
    "        print(\"transicion\", accion)\n",
    "        es_accion = copy.deepcopy(estado)\n",
    "        es_accion[accion[0]][1].clear()\n",
    "        for sim in list(accion[1]):\n",
    "            keys_estados = list(es_accion.keys())\n",
    "            new_est = keys_estados[-1] + 1\n",
    "            es_accion[accion[0]][1].append(new_est)\n",
    "            es_accion[new_est] = (sim, [])\n",
    "        keys_estados = list(estado.copy().keys())\n",
    "        u_esta = keys_estados[-1]\n",
    "        self.ulti = es_accion[u_esta][1]\n",
    "        return es_accion\n",
    "\n",
    "    def constructor(self, estado, ind, nonterminal, list_final):\n",
    "        simb = estado[ind][0]\n",
    "\n",
    "        if simb not in nonterminal:\n",
    "            list_final.append(simb)\n",
    "            return list_final\n",
    "        else:\n",
    "            list_temp = []\n",
    "            for i in estado[ind][1]:\n",
    "               list_temp = self.constructor(estado, i, nonterminal, list_final)\n",
    "            return list_temp\n",
    "\n",
    "    def test_objetivo(self, estado):\n",
    "        print(estado)\n",
    "        nonterminal = set([a_tuple[0] for a_tuple in self.gramatica])\n",
    "        list_final = []\n",
    "        construct = self.constructor(estado, 0, nonterminal, list_final)\n",
    "        print(construct)\n",
    "        print(self.w)\n",
    "        w_l = list(self.w)\n",
    "        return construct == w_l\n",
    "\n",
    "    def costo(self, estado, accion):\n",
    "        return 1\n"
   ]
  },
  {
   "cell_type": "code",
   "execution_count": null,
   "metadata": {},
   "outputs": [],
   "source": []
  }
 ],
 "metadata": {
  "kernelspec": {
   "display_name": "Python 3",
   "language": "python",
   "name": "python3"
  },
  "language_info": {
   "codemirror_mode": {
    "name": "ipython",
    "version": 3
   },
   "file_extension": ".py",
   "mimetype": "text/x-python",
   "name": "python",
   "nbconvert_exporter": "python",
   "pygments_lexer": "ipython3",
   "version": "3.9.7"
  }
 },
 "nbformat": 4,
 "nbformat_minor": 4
}

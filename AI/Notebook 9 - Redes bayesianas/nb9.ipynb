{
 "cells": [
  {
   "cell_type": "markdown",
   "metadata": {},
   "source": [
    "<table>\n",
    "    <tr>\n",
    "        <td><img src=\"./imagenes/Macc.png\" width=\"400\"/></td>\n",
    "        <td>&nbsp;</td>\n",
    "        <td>\n",
    "            <h1 style=\"color:blue;text-align:left\">Inteligencia Artificial</h1></td>\n",
    "        <td>\n",
    "            <table><tr>\n",
    "            <tp><p style=\"font-size:150%;text-align:center\">Notebook 10</p></tp>\n",
    "            <tp><p style=\"font-size:150%;text-align:center\">Redes Bayesianas</p></tp>\n",
    "            </tr></table>\n",
    "        </td>\n",
    "    </tr>\n",
    "</table>\n",
    "\n",
    "---\n"
   ]
  },
  {
   "cell_type": "markdown",
   "metadata": {},
   "source": [
    "# Objetivo\n",
    "\n",
    "En este notebook estudiaremos una herramienta muy útil para representar situaciones de incertidumbre, como las que aparecen, por ejemplo, en el mundo del Wumpus, aunque el rango de aplicaciones es muy amplio. Esta herramienta se llama las **redes bayesianas** y está basada, como su nombre lo indica, en la regla de Bayes.\n",
    "\n",
    "\n",
    "Adaptado de Russell & Norvig (2016), caps. 13 y 14.\n"
   ]
  },
  {
   "cell_type": "markdown",
   "metadata": {},
   "source": [
    "# Secciones\n",
    "\n",
    "* [Implementación de la estructura de una red bayesiana.](#estructura)\n",
    "* [Inferencia probabilística y consultas basadas en evidencia.](#inferencia)\n",
    "* [Ejemplos más interesantes.](#ejemplos)\n"
   ]
  },
  {
   "cell_type": "markdown",
   "metadata": {},
   "source": [
    "# Estructura de una red bayesiana  <a class=\"anchor\" id=\"estructura\">\n",
    "\n",
    "Una **red bayesiana** está basada en un grafo dirigido acíclico, en donde cada vértice está etiquetado con una tabla de probabilidad condicional en función de su ascendencia. Para la implementación aquí realizada, usaremos el paquete [`pyAgrum`](https://pyagrum.readthedocs.io/en/0.22.2/). "
   ]
  },
  {
   "cell_type": "code",
   "execution_count": null,
   "metadata": {},
   "outputs": [],
   "source": [
    "import pyAgrum as gum\n",
    "import pyAgrum.lib.notebook as gnb\n",
    "gum.config['notebook','potential_visible_digits']=2"
   ]
  },
  {
   "cell_type": "markdown",
   "metadata": {},
   "source": [
    "Usaremos como ejemplo el razonamiento sobre los pozos en el mundo del Wumpus discutido en las diapositivas. Lo primero que debemos hacer es crear un objeto de clase `BayesNet`. En este ejemplo inicializaremos este objeto mediante el método `fastBN`, el cual permite incluir el grafo subyacente, toda vez que este es bastante sencillo:"
   ]
  },
  {
   "cell_type": "code",
   "execution_count": null,
   "metadata": {},
   "outputs": [],
   "source": [
    "bn=gum.fastBN('Pozo(2,0)->Brisa(1,0)<-Pozo(1,1)')\n",
    "bn"
   ]
  },
  {
   "cell_type": "markdown",
   "metadata": {},
   "source": [
    "Debemos ahora incluir las probabilidades de los pozos y la probabilidad condicional de la brisa. Esto se realiza de la siguiente manera:"
   ]
  },
  {
   "cell_type": "code",
   "execution_count": null,
   "metadata": {},
   "outputs": [],
   "source": [
    "bn.cpt('Pozo(2,0)').fillWith([0.8,0.2])\n",
    "bn.cpt('Pozo(1,1)').fillWith([0.8,0.2])\n",
    "bn.cpt('Brisa(1,0)')[{'Pozo(2,0)': 1, 'Pozo(1,1)': 1}] = [0, 1]\n",
    "bn.cpt('Brisa(1,0)')[{'Pozo(2,0)': 1, 'Pozo(1,1)': 0}] = [0, 1]\n",
    "bn.cpt('Brisa(1,0)')[{'Pozo(2,0)': 0, 'Pozo(1,1)': 1}] = [0, 1]\n",
    "bn.cpt('Brisa(1,0)')[{'Pozo(2,0)': 0, 'Pozo(1,1)': 0}] = [1, 0]"
   ]
  },
  {
   "cell_type": "markdown",
   "metadata": {},
   "source": [
    "Y se visualiza bonito de la siguiente manera:"
   ]
  },
  {
   "cell_type": "code",
   "execution_count": null,
   "metadata": {
    "scrolled": false
   },
   "outputs": [],
   "source": [
    "gnb.sideBySide(bn.cpt('Pozo(2,0)'),\n",
    "               gnb.getBN(bn),\n",
    "               bn.cpt('Pozo(1,1)'))\n",
    "gnb.sideBySide(bn.cpt('Brisa(1,0)'),captions=['$P(Brisa_{(1,0)}|Pozo_{(2,0)},Pozo_{(1,1)})$'])"
   ]
  },
  {
   "cell_type": "markdown",
   "metadata": {},
   "source": [
    "# Consultas <a class=\"anchor\" id=\"inferencia\">\n",
    "\n",
    "Con esta red bayesiana podemos resolver consultas sobre cualquier cálculo de probabilidades en este escenario. Las consultas consisten en saber cuál es la probabilidad de que una variable (o variables) tomen un valor (o valores) determinados.\n",
    "\n",
    "Para realizar una consulta, es necesario crear un objeto de consulta mediante el método `LazyPropagation`:"
   ]
  },
  {
   "cell_type": "code",
   "execution_count": null,
   "metadata": {},
   "outputs": [],
   "source": [
    "ie=gum.LazyPropagation(bn)"
   ]
  },
  {
   "cell_type": "markdown",
   "metadata": {},
   "source": [
    "Consideraremos dos tipos de consultas. El primero es cuando no hay evidencia disponible. En este caso, la respuesta a la consulta es simplemente la probabilidad **marginal** de que las variables tomen los valores respectivos. \n",
    "\n",
    "Por ejemplo, podemos consultar la probabilidad de que haya un pozo en $(2,0)$ de la siguiente manera:"
   ]
  },
  {
   "cell_type": "code",
   "execution_count": null,
   "metadata": {
    "scrolled": false
   },
   "outputs": [],
   "source": [
    "ie.makeInference()\n",
    "ie.posterior('Pozo(2,0)')"
   ]
  },
  {
   "cell_type": "markdown",
   "metadata": {},
   "source": [
    "El segundo tipo es cuando hay evidencia disponible $E$ (que viene dada en forma de un diccionario `{variable:valor}`). Aquí, la respuesta a la consulta es la probabilidad **condicional** de que las variables tomen los valores respectivos dada la evidencia. La evidencia se guardará mediante el método `setEvidence`. Por ejemplo, suponga que la evidencia es que hay brisa en $(1,0)$. La evidencia en este caso se guarda de la siguiente manera:"
   ]
  },
  {
   "cell_type": "code",
   "execution_count": null,
   "metadata": {
    "scrolled": true
   },
   "outputs": [],
   "source": [
    "ie.setEvidence({'Brisa(1,0)':1})"
   ]
  },
  {
   "cell_type": "markdown",
   "metadata": {},
   "source": [
    "Y volvemos a hacer la consulta:"
   ]
  },
  {
   "cell_type": "code",
   "execution_count": null,
   "metadata": {},
   "outputs": [],
   "source": [
    "ie.makeInference()\n",
    "ie.posterior('Pozo(2,0)')"
   ]
  },
  {
   "cell_type": "markdown",
   "metadata": {},
   "source": [
    "La librería pyAgrum es muy flexible y viene con métodos muy interesantes para visualización. Por ejemplo, podemos visualizar lado a lado las probabilidades a priori y a posteriori de $Pozo_{(2,0)}$:"
   ]
  },
  {
   "cell_type": "code",
   "execution_count": null,
   "metadata": {},
   "outputs": [],
   "source": [
    "print(\"Probabilidad a priori:\")\n",
    "gnb.showInference(bn,evs={})\n",
    "print(\"Probabilidad a posteriori:\")\n",
    "gnb.showInference(bn,evs={'Brisa(1,0)':1})"
   ]
  },
  {
   "cell_type": "markdown",
   "metadata": {},
   "source": [
    "# Ejemplos <a class=\"anchor\" id=\"ejemplos\">\n",
    "    \n",
    "### Más Wumpus\n",
    "    \n",
    "Vamos a resolver ahora el ejemplo del mundo del Wumpus con el que terminamos las diapositivas de clase:\n",
    "    \n",
    "<img src=\"./imagenes/pozos.png\" width=\"450\">\n",
    "    \n",
    "Para poder hacer este cálculo, debemos crear la red bayesiana respectiva, representada en el siguiente diagrama:\n",
    "    \n",
    "<img src=\"./imagenes/rb1.png\" width=\"600\">   \n",
    "    \n",
    "Para ilustrar otros métodos de creación de redes bayesianas en PyAgrum, vamos a utilizar la misma red que ya teníamos, y le vamos a añadir los nodos, aristas y probabilidades que hacen falta.\n",
    "    \n"
   ]
  },
  {
   "cell_type": "code",
   "execution_count": null,
   "metadata": {},
   "outputs": [],
   "source": [
    "variables = ['Pozo(0,2)', 'Brisa(0,1)']\n",
    "for var in variables:\n",
    "    bn.add(var, 2) # <= aquí el 2 es el número de posibles valores\n",
    "\n",
    "bn"
   ]
  },
  {
   "cell_type": "markdown",
   "metadata": {},
   "source": [
    "Añadimos las aristas:"
   ]
  },
  {
   "cell_type": "code",
   "execution_count": null,
   "metadata": {},
   "outputs": [],
   "source": [
    "bn.addArc('Pozo(1,1)','Brisa(0,1)')\n",
    "bn.addArc('Pozo(0,2)','Brisa(0,1)')\n",
    "bn"
   ]
  },
  {
   "cell_type": "markdown",
   "metadata": {},
   "source": [
    "Y añadimos las probabilidades:"
   ]
  },
  {
   "cell_type": "code",
   "execution_count": null,
   "metadata": {},
   "outputs": [],
   "source": [
    "bn.cpt('Pozo(0,2)').fillWith([0.8,0.2])\n",
    "bn.cpt('Brisa(0,1)')[{'Pozo(1,1)': 1, 'Pozo(0,2)': 1}] = [0, 1]\n",
    "bn.cpt('Brisa(0,1)')[{'Pozo(1,1)': 1, 'Pozo(0,2)': 0}] = [0, 1]\n",
    "bn.cpt('Brisa(0,1)')[{'Pozo(1,1)': 0, 'Pozo(0,2)': 1}] = [0, 1]\n",
    "bn.cpt('Brisa(0,1)')[{'Pozo(1,1)': 0, 'Pozo(0,2)': 0}] = [1, 0]"
   ]
  },
  {
   "cell_type": "code",
   "execution_count": null,
   "metadata": {},
   "outputs": [],
   "source": [
    "gnb.sideBySide(bn.cpt('Pozo(0,2)'), bn.cpt('Pozo(1,1)'), bn.cpt('Pozo(2,0)')),\n",
    "gnb.sideBySide(gnb.getBN(bn)),\n",
    "gnb.sideBySide(bn.cpt('Brisa(0,1)'),\n",
    "               gnb.sideBySide(captions=['']),\n",
    "               bn.cpt('Brisa(1,0)'),\n",
    "               captions=['$P(Brisa_{(0,1)}|Pozo_{(0,2)},Pozo_{(1,1)})$', '', '$P(Brisa_{(1,0)}|Pozo_{(2,0)},Pozo_{(1,1)})$'])\n"
   ]
  },
  {
   "cell_type": "code",
   "execution_count": null,
   "metadata": {},
   "outputs": [],
   "source": [
    "ie=gum.LazyPropagation(bn)\n",
    "ie.setEvidence({'Brisa(1,0)':1, 'Brisa(0,1)':1})\n",
    "ie.makeInference()\n",
    "ie.posterior('Pozo(1,1)')"
   ]
  },
  {
   "cell_type": "code",
   "execution_count": null,
   "metadata": {},
   "outputs": [],
   "source": [
    "print(\"Probabilidad a priori:\")\n",
    "gnb.showInference(bn,evs={})\n",
    "print(\"Probabilidad a posteriori incluyendo Brisa(1,0):\")\n",
    "gnb.showInference(bn,evs={'Brisa(1,0)':1})\n",
    "print(\"Nueva probabilidad a posteriori incluyendo Brisa(1,0)' y 'Brisa(0,1)\")\n",
    "gnb.showInference(bn,evs={'Brisa(1,0)':1, 'Brisa(0,1)':1})"
   ]
  },
  {
   "cell_type": "markdown",
   "metadata": {},
   "source": [
    "Aquí se pueden observar cosas muy interesantes. Por ejemplo, note que la probabilidad de $Pozo_{(2,0)}$ comienza en su valor original de 0.2. Al incluir la evidencia $Brisa_{(1,0)}$ la probabilidad de $Pozo_{(2,0)}$ aumenta a 0.56, pero luego disminuye a 0,31 cuando incluimos la evidencia de $Brisa_{(0,1)}$."
   ]
  },
  {
   "cell_type": "markdown",
   "metadata": {},
   "source": [
    "**Ejercicio 1:**\n",
    "\n",
    "Suponga que, después de todo, en la casilla $(0,1)$ no había un pozo. ¿Cuál es la probabilidad a posteriori de $Pozo_{(2,0)}$? Es decir, hay que encontrar:\n",
    "\n",
    "$$P(Pozo_{(2,0)}|Brisa_{(1,0)},\\neg Brisa_{(0,1)})$$\n",
    "\n",
    "Utilice el método `chgEvidence(variable,valor)` para cambiar la evidencia.\n",
    "\n",
    "La respuesta debe ser:\n",
    "\n",
    "<img src=\"./imagenes/posterior.png\" width=\"100\"> "
   ]
  },
  {
   "cell_type": "markdown",
   "metadata": {},
   "source": [
    "---"
   ]
  },
  {
   "cell_type": "markdown",
   "metadata": {},
   "source": [
    "### Regar el jardín\n",
    "\n",
    "Considere la siguiente situación. Para tener un bonito jardín, es necesario que este esté húmedo la mayor parte del tiempo. La rutina diaria de María es chequear el clima. Si está nublado, usualmente no prende el roceador automático del jardín. Si no está nublado, a veces sí y a veces no lo prende. Si el roceador está funcionando o si llueve, el jardín estará mojado. Estas relaciones se ven reflejadas en la siguiente red bayesiana:\n",
    "\n",
    "<img src=\"./imagenes/jardin.png\" width=\"650\">\n",
    "\n",
    "Para hacer inferencias probabilisticas sobre esta situación, creamos el objeto `BayesNet`. Vamos a inicializar el grafo dirigido acíclico de manera rápida mediante la siguiente celda:"
   ]
  },
  {
   "cell_type": "code",
   "execution_count": null,
   "metadata": {},
   "outputs": [],
   "source": [
    "bn=gum.fastBN(\"Nublado->Roceador->JardinMojado<-Lluvia<-Nublado\")\n",
    "bn"
   ]
  },
  {
   "cell_type": "markdown",
   "metadata": {},
   "source": [
    "**Ejercicio 2:**\n",
    "\n",
    "Asigne las probabilidades de cada uno de los nodos y dibuje la red correspondiente:"
   ]
  },
  {
   "cell_type": "code",
   "execution_count": null,
   "metadata": {},
   "outputs": [],
   "source": [
    "# AQUI PROBABILIDADES PARA LA VARIABLE Nublado\n",
    "\n",
    "# AQUI PROBABILIDADES PARA LA VARIABLE Roceador\n",
    "\n",
    "# AQUI PROBABILIDADES PARA LA VARIABLE Lluvia\n",
    "\n",
    "# AQUI PROBABILIDADES PARA LA VARIABLE JardinMojado"
   ]
  },
  {
   "cell_type": "markdown",
   "metadata": {},
   "source": [
    "Al correr la celda de código a continuación, se debe obtener lo siguiente:\n",
    "\n",
    "<img src=\"./imagenes/jardin1.png\" width=\"600\">"
   ]
  },
  {
   "cell_type": "code",
   "execution_count": null,
   "metadata": {},
   "outputs": [],
   "source": [
    "gnb.sideBySide(bn.cpt('Nublado'))\n",
    "gnb.sideBySide(\n",
    "  gnb.getSideBySide(bn.cpt('Roceador')),\n",
    "  gnb.getBN(bn,size=\"3!\"),\n",
    "  gnb.getSideBySide(bn.cpt('Lluvia')))\n",
    "gnb.sideBySide(bn.cpt('JardinMojado'))"
   ]
  },
  {
   "cell_type": "markdown",
   "metadata": {},
   "source": [
    "---"
   ]
  },
  {
   "cell_type": "markdown",
   "metadata": {},
   "source": [
    "**Ejercicio 3:**\n",
    "\n",
    "Utilice un objeto `LazyPropagation` y los métodos `makeInference`, `posterior` y `setEvidence` para responder las siguientes preguntas sobre la situación del jardín:\n",
    "\n",
    "* ¿Cuál es la probabilidad de que el jardín esté mojado? $P(JardinMojado)$\n",
    "* Dado que está nublado, ¿cuál es la probabilidad de que el jardín esté mojado? $P(JardinMojado|Nublado)$\n",
    "* Dado que el jardín está mojado, cuál es la probabilidad de que el roceador esté encendido? $P(Roceador|JardinMojado)$\n",
    "\n",
    "Observe que al correr la celda a continuación se debe obtener la siguiente respuesta:\n",
    "\n",
    "<img src=\"./imagenes/jardin2.png\" width=\"600\">"
   ]
  },
  {
   "cell_type": "code",
   "execution_count": null,
   "metadata": {},
   "outputs": [],
   "source": [
    "print('Probabilidad de que el jardín esté mojado:')\n",
    "gnb.showInference(bn,evs={},targets={'JardinMojado'})\n",
    "print('Probabilidad de que el jardín esté mojado dado que está nublado:')\n",
    "gnb.showInference(bn,evs={'Nublado':1},targets={'JardinMojado'})\n",
    "print('Probabilidad de que el roceador esté encendido dado que el jardín está mojado:')\n",
    "gnb.showInference(bn,evs={'JardinMojado':1},targets={'Roceador'})"
   ]
  },
  {
   "cell_type": "markdown",
   "metadata": {},
   "source": [
    "Las probabilidades solicitadas son:\n",
    "\n",
    "* $P(JardinMojado)=0.65$\n",
    "* $P(JardinMojado|Nublado)=0.75$\n",
    "* $P(Roceador|JardinMojado)=0.43$"
   ]
  },
  {
   "cell_type": "markdown",
   "metadata": {},
   "source": [
    "---"
   ]
  },
  {
   "cell_type": "markdown",
   "metadata": {},
   "source": [
    "### Alarma antirobos\n",
    "\n",
    "Usted ha instalado un sistema de alarma para su casa, el cual es muy confiable para detectar robos, pero en ciertas ocasiones también responde a terremotos leves. Usted tiene dos vecinos, Juan y María, que han prometido llamarlo a su trabajo cuando escuchen la alarma. Juan casi siempre llama cuando escucha la alarma, pero a veces confunde el sonido del teléfono con la alarma y hará la llamada. Por otro lado, María escucha música a todo volumen y por eso algunas veces no escucha la alarma. Las probabilidades y dependencias de esta situación se pueden representar mediante la siguiente red bayesiana:\n",
    "\n",
    "<img src=\"./imagenes/alarma.png\" width=\"600\">"
   ]
  },
  {
   "cell_type": "markdown",
   "metadata": {},
   "source": [
    "**Ejercicio 4:**\n",
    "\n",
    "Implemente la red bayesiana correspondiente a esta situación y dibuje la red."
   ]
  },
  {
   "cell_type": "markdown",
   "metadata": {},
   "source": [
    "---"
   ]
  },
  {
   "cell_type": "markdown",
   "metadata": {},
   "source": [
    "**Ejercicio 5:**\n",
    "    \n",
    "Utilice la red bayesiana para determinar las siguientes probabilidades\n",
    "\n",
    "* Probabilidad de que suene la alarma.\n",
    "* Probabilidad de que haya un robo dado que Juan y María llaman."
   ]
  },
  {
   "cell_type": "markdown",
   "metadata": {},
   "source": [
    "Las probabilidades son las siguientes:\n",
    "\n",
    "* $P(Alarma)=0.003$\n",
    "* $P(Robo|JuanLlama, MariaLlama)=0.176$"
   ]
  },
  {
   "cell_type": "markdown",
   "metadata": {},
   "source": [
    "---"
   ]
  },
  {
   "cell_type": "markdown",
   "metadata": {},
   "source": [
    "En este notebook usted aprendió:\n",
    "\n",
    "* Implementar redes bayesianas mediante el paquete `pyAgrum`.\n",
    "* Realizar inferencias sobre probabilidades con o sin evidencia adicional mediante redes bayesianas."
   ]
  }
 ],
 "metadata": {
  "kernelspec": {
   "display_name": "Python 3",
   "language": "python",
   "name": "python3"
  },
  "language_info": {
   "codemirror_mode": {
    "name": "ipython",
    "version": 3
   },
   "file_extension": ".py",
   "mimetype": "text/x-python",
   "name": "python",
   "nbconvert_exporter": "python",
   "pygments_lexer": "ipython3",
   "version": "3.9.12"
  }
 },
 "nbformat": 4,
 "nbformat_minor": 4
}

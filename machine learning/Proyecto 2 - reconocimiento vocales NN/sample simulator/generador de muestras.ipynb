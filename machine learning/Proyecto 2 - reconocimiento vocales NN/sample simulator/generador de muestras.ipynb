{
 "cells": [
  {
   "cell_type": "markdown",
   "metadata": {},
   "source": [
    "# Generador de muestras de audio"
   ]
  },
  {
   "cell_type": "markdown",
   "metadata": {},
   "source": [
    "Para complementar el universo de muestas tomadas, se simulan otras muestras mediante la libreria `gTTs`. \n",
    "\n",
    "NOTA IMPORTANTE: se recomienda instalar el paquete `librosa` desde `conda`. Con `pip` presenta problemas de versión con otras librerias. "
   ]
  },
  {
   "cell_type": "code",
   "execution_count": 1,
   "metadata": {},
   "outputs": [],
   "source": [
    "from gtts import gTTS\n",
    "import os\n",
    "import time\n",
    "import matplotlib.pyplot as plt\n",
    "import librosa\n",
    "import numpy as np\n",
    "import math\n",
    "import soundfile\n",
    "import parselmouth\n",
    "from parselmouth.praat import call\n",
    "\n",
    "\n",
    "CURRENT_DIR = os.getcwd()\n",
    "GENEREATED_SAMPLES = os.path.join(CURRENT_DIR, os.pardir, \"database\", \"simulated\")\n"
   ]
  },
  {
   "cell_type": "code",
   "execution_count": 15,
   "metadata": {},
   "outputs": [
    {
     "name": "stderr",
     "output_type": "stream",
     "text": [
      "/home/cgaravitoc/miniconda3/envs/py47/lib/python3.7/site-packages/librosa/util/decorators.py:88: UserWarning: PySoundFile failed. Trying audioread instead.\n",
      "  return f(*args, **kwargs)\n"
     ]
    }
   ],
   "source": [
    "dict_lang = {\"es\": \"com\", \"es\":\"es\", \"es\": \"com.mx\", \"pt\":\"com.br\", \"fr\" : \"ca\"}\n",
    "list_vowels = ['a', 'e', 'i', 'o', 'u']\n",
    "\n",
    "# gtts to generate the audio\n",
    "tts = gTTS('esto es un texto de prueba', lang='es', tld='com', slow=True)\n",
    "tts.save(os.path.join(GENEREATED_SAMPLES, 'a_sim', 'simulated.wav'))\n",
    "\n",
    "# librosa to add noise\n",
    "signal, sr = librosa.load(os.path.join(GENEREATED_SAMPLES, 'a_sim', 'simulated.wav'), sr = 16000)\n",
    "noise=np.random.normal(0, 0.01, signal.shape[0])\n",
    "signal_noise = signal+noise\n",
    "soundfile.write(os.path.join(GENEREATED_SAMPLES, 'a_sim', 'simulated.wav'),signal_noise,16000)\n",
    "\n",
    "# parselmouth to modify the pitch of the voice\n",
    "signal = parselmouth.Sound(os.path.join(GENEREATED_SAMPLES, 'a_sim', 'simulated.wav'))\n",
    "manipulation = call(signal, \"To Manipulation\", 0.01, 75, 600)\n",
    "pitch_tier = call(manipulation, \"Extract pitch tier\")\n",
    "call(pitch_tier, \"Formula\", f\"self*{0.50}\") # from 0.30 to 1.50\n",
    "call([pitch_tier, manipulation], \"Replace pitch tier\")\n",
    "sound_octave_up = call(manipulation, \"Get resynthesis (overlap-add)\")\n",
    "sound_octave_up.save(os.path.join(GENEREATED_SAMPLES, 'a_sim', 'simulated.wav'), \"WAV\")\n"
   ]
  },
  {
   "cell_type": "code",
   "execution_count": 3,
   "metadata": {},
   "outputs": [
    {
     "ename": "SyntaxError",
     "evalue": "invalid syntax (3199000363.py, line 18)",
     "output_type": "error",
     "traceback": [
      "\u001b[0;36m  File \u001b[0;32m\"/tmp/ipykernel_601/3199000363.py\"\u001b[0;36m, line \u001b[0;32m18\u001b[0m\n\u001b[0;31m    noise = np.random.normal(0, 0.01, signal.shape[0])\u001b[0m\n\u001b[0m        ^\u001b[0m\n\u001b[0;31mSyntaxError\u001b[0m\u001b[0;31m:\u001b[0m invalid syntax\n"
     ]
    }
   ],
   "source": [
    "\n",
    "qty_samples = 2\n",
    "\n",
    "def generate_sample(qty_samples): \n",
    "    dict_lang = {\"es\": \"com\", \"es\":\"es\", \"es\": \"com.mx\", \"pt\":\"com.br\", \"fr\" : \"ca\"}\n",
    "    list_vowels = ['a', 'e', 'i', 'o', 'u']\n",
    "\n",
    "    for i in range(qty_samples):\n",
    "        for vowel in list_vowels:\n",
    "            i = 0\n",
    "            for lang, accent in dict_lang:\n",
    "                i += 1\n",
    "                # gtts to generate the audio\n",
    "                tts = gTTS(f'{vowel}', lang=lang, tld=accent, slow=True)\n",
    "                tts.save(os.path.join(GENEREATED_SAMPLES, f'{vowel}_sim', f'{vowel}_sim_{i}.wav'))\n",
    "\n",
    "                # librosa to add noise\n",
    "                signal, sr = librosa.load(os.path.join(GENEREATED_SAMPLES, f'{vowel}_sim', f'{vowel}_sim_{i}.wav', sr = 16000)\n",
    "                noise = np.random.normal(0, 0.01, signal.shape[0])\n",
    "                signal_noise = signal + noise\n",
    "                soundfile.write(os.path.join(GENEREATED_SAMPLES, f'{vowel}_sim', f'{vowel}_sim_{i}.wav'), signal_noise, 16000)\n",
    "\n",
    "                # parselmouth to modify the pitch of the voice\n",
    "                signal = parselmouth.Sound(os.path.join(GENEREATED_SAMPLES, f'{vowel}_sim', f'{vowel}_sim_{i}.wav'))\n",
    "                manipulation = call(signal, \"To Manipulation\", 0.01, 75, 600)\n",
    "                pitch_tier = call(manipulation, \"Extract pitch tier\")\n",
    "                for pitch in [0.30, 0.50, 1.00, 1.50]:\n",
    "                    call(pitch_tier, \"Formula\", f\"self*{pitch}\") # from 0.30 to 1.50\n",
    "                    call([pitch_tier, manipulation], \"Replace pitch tier\")\n",
    "                    sound_octave_up = call(manipulation, \"Get resynthesis (overlap-add)\")\n",
    "                    sound_octave_up.save(os.path.join(GENEREATED_SAMPLES, f'{vowel}_sim', f'{vowel}_sim_{i}.wav'), \"WAV\")\n"
   ]
  },
  {
   "cell_type": "code",
   "execution_count": null,
   "metadata": {},
   "outputs": [],
   "source": []
  }
 ],
 "metadata": {
  "interpreter": {
   "hash": "cb4ba80c77914fefcae4b6ab97441bcca38110318b73796501620219806422b4"
  },
  "kernelspec": {
   "display_name": "Python 3.8.8 ('base')",
   "language": "python",
   "name": "python3"
  },
  "language_info": {
   "codemirror_mode": {
    "name": "ipython",
    "version": 3
   },
   "file_extension": ".py",
   "mimetype": "text/x-python",
   "name": "python",
   "nbconvert_exporter": "python",
   "pygments_lexer": "ipython3",
   "version": "3.7.12"
  },
  "orig_nbformat": 4
 },
 "nbformat": 4,
 "nbformat_minor": 2
}

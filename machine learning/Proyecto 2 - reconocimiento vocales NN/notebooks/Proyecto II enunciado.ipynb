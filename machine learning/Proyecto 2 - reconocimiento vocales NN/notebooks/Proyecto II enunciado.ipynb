{
 "cells": [
  {
   "cell_type": "markdown",
   "metadata": {},
   "source": [
    "# Proyecto II\n",
    "\n",
    "El objetivo es generar una red neuronal que pueda reconocer que vocal ha pronunciado una persona.\n",
    "\n",
    "Para la realización de este proyecto deben:\n",
    "\n",
    "1. Crear una base de datos con señales de personas diciendo las diferentes vocales. Tenga en cuenta las sigueintes consideraciones:\n",
    "    * Una red aprende con base en la información que le proporcionemos, asi que al crear la base de datos tenga en cuenta todas las posibilidades de como se pueden mencionar esas vocales. Además la base de datos debe contener diferentes muestras de diferentes personas, incluyendo niños, niñas, mujeres y hombres. El objetivo es generalizar, no memorizar patrones, para esto debemos darle suficiente información a la red.\n",
    "    * Una señal de voz puede tener entre 8000 y 40000 mmuestras por segundo de grabación. Esto es bastante para ser utilizado como entrada en la red. recuerde que entre mayor dimensionalidad en los datos de entrada, mayor será la complejidad de la red necesaria. Para disminuir la complejidad pueden usar la densidad espectral de potencia (PSD) utilizando un número fijo de bins frecuenciales. La PSD representa la distribucion en frecuencia de la potencia de la señal.   \n",
    "2. Definir las arquitecturas de red que debe probar.\n",
    "3. Escoger la red que mejor se desempeñe.\n",
    "4. Evaluar el rendimiento de la red.\n",
    "\n",
    "Tenga en cuenta que todo el procedimiento debe ser lo mas amigable para probar. Es decir se debe poder probar con cualquier señal, se ingresa la señal de voz y el programa debería indicar que vocal se pronunció.\n",
    "\n",
    "Deben contestar las siguientes preguntas:\n",
    "\n",
    "1. ¿Qué puede concluir del comportamiento de la red y los datos proporcionados?\n",
    "2. ¿Qué criterio utilizó para seleccionar la arquitectura de la red?\n",
    "3. ¿Tiene la red el comportamiento esperado?, si no es así, ¿A qué cree que se debe esto?\n",
    "4. ¿Qué le mejoraria al modelo que usted diseño?, ¿Cómo implementaría esas mejoras?\n",
    "\n",
    "## Qué se debe entregar:\n",
    "\n",
    "1. La base de datos generada.\n",
    "2. Un notebook de Jupyter donde presentan todo el pipeline para el entrenamiento de la red. Cada parte debe ser explicada.\n",
    "3. El notebook debe incluir una función que permita ingresar una muestra de entrada y se proporcione la salida, sin mas pasos intermedios. Por lo tanto en esta función se debe tener en cuenta el acondicionamiento de los datos, antes de ser introducidos en la red neuronal par arealizar las predicciones.\n",
    "4. El notebook debe incluir las respuestas a las preguntas planteadas."
   ]
  },
  {
   "cell_type": "code",
   "execution_count": null,
   "metadata": {},
   "outputs": [],
   "source": []
  }
 ],
 "metadata": {
  "kernelspec": {
   "display_name": "Python 3",
   "language": "python",
   "name": "python3"
  },
  "language_info": {
   "codemirror_mode": {
    "name": "ipython",
    "version": 3
   },
   "file_extension": ".py",
   "mimetype": "text/x-python",
   "name": "python",
   "nbconvert_exporter": "python",
   "pygments_lexer": "ipython3",
   "version": "3.6.4"
  }
 },
 "nbformat": 4,
 "nbformat_minor": 2
}

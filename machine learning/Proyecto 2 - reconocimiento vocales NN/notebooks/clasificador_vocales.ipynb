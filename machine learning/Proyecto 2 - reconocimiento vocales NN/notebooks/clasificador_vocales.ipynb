{
 "cells": [
  {
   "cell_type": "markdown",
   "metadata": {},
   "source": [
    "# **Clasificador de sonidos de vocales con redes neuronales**\n",
    "<dl>\n",
    "    <dt>Machine learning I, </dt>\n",
    "    <dt>Maestría MACC, </dt>\n",
    "    <dt>Universidad del Rosario.</dt>\n",
    "</dl>\n",
    "\n",
    "**Integrantes**\n",
    "<dl>\n",
    "    <dd>Juan Sebastían Cortés, </dd>\n",
    "    <dd>Juan Sebastían Barrera, </dd>\n",
    "    <dd>Carlos Garavito.</dd>\n",
    "</dl>\n",
    "\n",
    "\n",
    "\n"
   ]
  },
  {
   "cell_type": "markdown",
   "metadata": {},
   "source": [
    "## Caracterización de las muestras de audio\n",
    "***"
   ]
  },
  {
   "cell_type": "markdown",
   "metadata": {},
   "source": [
    "Sound is represented in the form of an audio signal having parameters such as frequency, bandwidth, decibel, etc. A typical audio signal can be expressed as a function of Amplitude and Time. A typical audio processing process involves the extraction of acoustics features relevant to the task at hand, followed by decision-making schemes that involve detection, classification, and knowledge fusion. Thankfully we have some useful python libraries which make this task easier.\n",
    "\n",
    "![alt text](https://miro.medium.com/max/540/0*slh208x5lzN0NloD.png)"
   ]
  },
  {
   "cell_type": "markdown",
   "metadata": {},
   "source": [
    "Every audio signal consists of many features. However, we must extract the characteristics that are relevant to the problem we are trying to solve. The process of extracting features to use them for analysis is called feature extraction. Let us study a few of the features in detail.\n",
    "\n",
    "The spectral features (frequency-based features), which are obtained by converting the time-based signal into the frequency domain using the Fourier Transform, like fundamental frequency, frequency components, spectral centroid, spectral flux, spectral density, spectral roll-off, etc."
   ]
  },
  {
   "cell_type": "markdown",
   "metadata": {},
   "source": [
    "Si apreciamos los dos formantes al unísono, tenemos entonces la caracterización acústica de las 5 vocales fonológicas del español, tal como se muestra en la imagen siguiente (esquema de F1 y F2). [[1](#referencias)]\n",
    "\n",
    "\n",
    "![alt text](http://domingo-roman.net/imagenes/vocales/castellano/f1-f2-esquema-soto-ruiz.gif)"
   ]
  },
  {
   "cell_type": "code",
   "execution_count": null,
   "metadata": {},
   "outputs": [],
   "source": [
    "# importa librerias y define rutas\n",
    "import os \n",
    "import glob\n",
    "import librosa\n",
    "import soundfile \n",
    "import matplotlib.pyplot as plt\n",
    "import librosa.display\n",
    "import sklearn\n",
    "\n",
    "CURRENT_PATH = os.getcwd()\n",
    "SAMPLES_PATH = os.path.join(CURRENT_PATH, os.path.pardir, 'database')\n",
    "MODELS_PATH = os.path.join(CURRENT_PATH, os.path.pardir, 'models')"
   ]
  },
  {
   "cell_type": "code",
   "execution_count": null,
   "metadata": {},
   "outputs": [],
   "source": [
    "# Cargando una muestra de audio\n",
    "\n",
    "audio_path = os.path.join(SAMPLES_PATH, 'a', 'a_(56).wav')\n",
    "audio, sr = librosa.load(audio_path, sr = 16000)\n",
    "\n",
    "plt.figure(figsize=(14, 5))\n",
    "librosa.display.waveshow(audio, sr=sr) # cambiar waveplot por waveshow, para librosa>=0.9"
   ]
  },
  {
   "cell_type": "markdown",
   "metadata": {},
   "source": [
    "### Espectrograma"
   ]
  },
  {
   "cell_type": "markdown",
   "metadata": {},
   "source": [
    "A spectrogram is a visual way of representing the signal strength, or “loudness”, of a signal over time at various frequencies present in a particular waveform. Not only can one see whether there is more or less energy at, for example, 2 Hz vs 10 Hz, but one can also see how energy levels vary over time.\n",
    "\n",
    "A spectrogram is usually depicted as a heat map, i.e., as an image with the intensity shown by varying the color or brightness."
   ]
  },
  {
   "cell_type": "code",
   "execution_count": null,
   "metadata": {},
   "outputs": [],
   "source": [
    "X = librosa.stft(audio)\n",
    "Xdb = librosa.amplitude_to_db(abs(X))\n",
    "plt.figure(figsize=(14, 5))\n",
    "librosa.display.specshow(Xdb, sr=sr, x_axis='time', y_axis='hz')\n",
    "plt.colorbar()"
   ]
  },
  {
   "cell_type": "markdown",
   "metadata": {},
   "source": [
    "### RMS"
   ]
  },
  {
   "cell_type": "markdown",
   "metadata": {},
   "source": [
    "### Spectral centroid"
   ]
  },
  {
   "cell_type": "markdown",
   "metadata": {},
   "source": [
    "The spectral centroid indicates at which frequency the energy of a spectrum is centered upon or in other words It indicates where the ” center of mass” for a sound is located. This is like a weighted mean:\n",
    "\n",
    "![alt text](https://miro.medium.com/max/355/1*DkT47WzLrjigT_KVhDoMuQ.png)\n",
    "\n",
    "where S(k) is the spectral magnitude at frequency bin k, f(k) is the frequency at bin k."
   ]
  },
  {
   "cell_type": "code",
   "execution_count": null,
   "metadata": {},
   "outputs": [],
   "source": [
    "spectral_centroids = librosa.feature.spectral_centroid(audio, sr=sr)[0]\n",
    "spectral_centroids.shape\n",
    "\n",
    "plt.figure(figsize=(12, 4))\n",
    "frames = range(len(spectral_centroids))\n",
    "t = librosa.frames_to_time(frames)\n",
    "\n",
    "def normalize(audio, axis=0):\n",
    "    return sklearn.preprocessing.minmax_scale(audio, axis=axis)\n",
    "\n",
    "librosa.display.waveshow(audio, sr=sr, alpha=0.4) # cambiar waveplot por waveshow\n",
    "plt.plot(t, normalize(spectral_centroids), color='b')"
   ]
  },
  {
   "cell_type": "markdown",
   "metadata": {},
   "source": [
    "### Spectral bandwith"
   ]
  },
  {
   "cell_type": "markdown",
   "metadata": {},
   "source": [
    "The spectral bandwidth is defined as the width of the band of light at one-half the peak maximum (or full width at half maximum [FWHM]) and is represented by the two vertical red lines and λSB on the wavelength axis.\n",
    "\n",
    "![alt text](https://miro.medium.com/max/515/1*oUtYY0-j6iEc78Dew3d0uA.png)\n"
   ]
  },
  {
   "cell_type": "code",
   "execution_count": null,
   "metadata": {},
   "outputs": [],
   "source": [
    "spectral_bandwidth_2 = librosa.feature.spectral_bandwidth(audio+0.01, sr=sr)[0]\n",
    "spectral_bandwidth_3 = librosa.feature.spectral_bandwidth(audio+0.01, sr=sr, p=3)[0]\n",
    "spectral_bandwidth_4 = librosa.feature.spectral_bandwidth(audio+0.01, sr=sr, p=4)[0]\n",
    "plt.figure(figsize=(15, 9))\n",
    "\n",
    "librosa.display.waveshow(audio, sr=sr, alpha=0.4)\n",
    "plt.plot(t, normalize(spectral_bandwidth_2), color='r')\n",
    "plt.plot(t, normalize(spectral_bandwidth_3), color='g')\n",
    "plt.plot(t, normalize(spectral_bandwidth_4), color='y')\n",
    "plt.legend(('p = 2', 'p = 3', 'p = 4'))"
   ]
  },
  {
   "cell_type": "markdown",
   "metadata": {},
   "source": [
    "### Rolloff"
   ]
  },
  {
   "cell_type": "markdown",
   "metadata": {},
   "source": [
    "It is a measure of the shape of the signal. It represents the frequency at which high frequencies decline to 0. To obtain it, we have to calculate the fraction of bins in the power spectrum where 85% of its power is at lower frequencies."
   ]
  },
  {
   "cell_type": "code",
   "execution_count": null,
   "metadata": {},
   "outputs": [],
   "source": [
    "spectral_rolloff = librosa.feature.spectral_rolloff(audio+0.01, sr=sr)[0]\n",
    "plt.figure(figsize=(12, 4))\n",
    "\n",
    "librosa.display.waveshow(audio, sr=sr, alpha=0.4) # waveshow\n",
    "plt.plot(t, normalize(spectral_rolloff), color='r')"
   ]
  },
  {
   "cell_type": "markdown",
   "metadata": {},
   "source": [
    "### Zero cross rate\n",
    "\n",
    "A very simple way for measuring the smoothness of a signal is to calculate the number of zero-crossing within a segment of that signal. A voice signal oscillates slowly — for example, a 100 Hz signal will cross zero 100 per second — whereas an unvoiced fricative can have 3000 zero crossings per second.\n",
    "\n",
    "![alt text](https://miro.medium.com/max/887/1*E_XSqizmLNksjknrD8oV2w.png)\n",
    "\n",
    "It usually has higher values for highly percussive sounds like those in metal and rock. Now let us visualize it and see how we calculate zero crossing rate."
   ]
  },
  {
   "cell_type": "code",
   "execution_count": null,
   "metadata": {},
   "outputs": [],
   "source": [
    "#Plot the signal:\n",
    "plt.figure(figsize=(14, 5))\n",
    "librosa.display.waveshow(audio, sr=sr)\n"
   ]
  },
  {
   "cell_type": "code",
   "execution_count": null,
   "metadata": {},
   "outputs": [],
   "source": [
    "# Zooming in\n",
    "n0 = 9000\n",
    "n1 = 9100\n",
    "plt.figure(figsize=(14, 5))\n",
    "plt.plot(audio[n0:n1])\n",
    "plt.grid()"
   ]
  },
  {
   "cell_type": "code",
   "execution_count": null,
   "metadata": {},
   "outputs": [],
   "source": [
    "zero_crossings = librosa.zero_crossings(audio[n0:n1], pad=False)\n",
    "print(sum(zero_crossings))"
   ]
  },
  {
   "cell_type": "markdown",
   "metadata": {},
   "source": [
    "### Mel frequencies"
   ]
  },
  {
   "cell_type": "markdown",
   "metadata": {},
   "source": [
    "The Mel frequency cepstral coefficients (MFCCs) of a signal are a small set of features (usually about 10–20) which concisely describe the overall shape of a spectral envelope. It models the characteristics of the human voice."
   ]
  },
  {
   "cell_type": "code",
   "execution_count": null,
   "metadata": {},
   "outputs": [],
   "source": [
    "mfccs = librosa.feature.mfcc(audio, sr=sr)\n",
    "print(mfccs.shape)\n",
    "\n",
    "plt.figure(figsize=(15, 7))\n",
    "librosa.display.specshow(mfccs, sr=sr, x_axis='time')\n",
    "plt.colorbar()"
   ]
  },
  {
   "cell_type": "markdown",
   "metadata": {},
   "source": [
    "## Entrenamiento de la red\n",
    "***"
   ]
  },
  {
   "cell_type": "markdown",
   "metadata": {},
   "source": [
    "### Obteniendo caracteristicas de las muestras de audio"
   ]
  },
  {
   "cell_type": "code",
   "execution_count": 4,
   "metadata": {},
   "outputs": [],
   "source": [
    "CURRENT_PATH = os.getcwd()\n",
    "SAMPLES_PATH = os.path.join(CURRENT_PATH, os.path.pardir, 'database')\n",
    "CSV_PATH = os.path.join(CURRENT_PATH, os.path.pardir, 'csv')\n",
    "MODELS_PATH = os.path.join(CURRENT_PATH, os.path.pardir, 'models')\n",
    "NEWSAMPLES_PATH = os.path.join(CURRENT_PATH, os.path.pardir, 'new_samples')\n",
    "PYTHON_PATH = os.path.join(CURRENT_PATH, os.path.pardir, 'python')"
   ]
  },
  {
   "cell_type": "code",
   "execution_count": 5,
   "metadata": {},
   "outputs": [],
   "source": [
    "import librosa\n",
    "import pandas as pd\n",
    "import numpy as np\n",
    "import matplotlib.pyplot as plt\n",
    "import os\n",
    "from PIL import Image\n",
    "import pathlib\n",
    "import csv\n",
    "from sklearn.model_selection import train_test_split\n",
    "from sklearn.preprocessing import LabelEncoder, StandardScaler\n",
    "import keras\n",
    "from keras import layers\n",
    "from keras import layers\n",
    "import keras\n",
    "from keras.models import Sequential\n",
    "import h5py\n",
    "from keras.models import model_from_json\n",
    "import os \n",
    "import glob\n",
    "import librosa\n",
    "import soundfile \n",
    "import csv\n",
    "\n",
    "import sys\n",
    "sys.path.insert(1, PYTHON_PATH)\n",
    "\n",
    "import transform2wav as t2wav\n",
    "import vowel_classifier as vc\n",
    "\n",
    "import warnings\n",
    "warnings.filterwarnings('ignore')"
   ]
  },
  {
   "cell_type": "markdown",
   "metadata": {},
   "source": [
    "Se capturan las caracteristicas de las muestras y se guardan un documento `.csv`:"
   ]
  },
  {
   "cell_type": "code",
   "execution_count": 3,
   "metadata": {},
   "outputs": [],
   "source": [
    "header = 'filename chroma_stft rmse spectral_centroid spectral_bandwidth rolloff zero_crossing_rate'\n",
    "\n",
    "for i in range(1, 20): # origianlly is (1,21)\n",
    "    header += f' mfcc{i}'\n",
    "\n",
    "header += ' label'\n",
    "header = header.split()\n",
    "\n",
    "file = open(os.path.join(CSV_PATH, 'dataset.csv'), 'w', newline='')\n",
    "with file:\n",
    "    writer = csv.writer(file)\n",
    "    writer.writerow(header)\n",
    "\n",
    "vowels = 'a e i o u'.split()\n",
    "\n",
    "for vowel in vowels:\n",
    "    for filename in os.listdir(os.path.join(SAMPLES_PATH, f'{vowel}'))[1:]:\n",
    "        vowel_sample = os.path.join(SAMPLES_PATH, f'{vowel}', filename) \n",
    "        if filename == 'desktop.ini': # omite desktop.ini\n",
    "            break\n",
    "        y, sr = librosa.load(vowel_sample, mono=True, duration=30)\n",
    "\n",
    "        rms = librosa.feature.rms(y=y) # The latest librosa replaced rmse with rms, \n",
    "        spec_cent = librosa.feature.spectral_centroid(y=y, sr=sr)\n",
    "        spec_bw = librosa.feature.spectral_bandwidth(y=y, sr=sr)\n",
    "        rolloff = librosa.feature.spectral_rolloff(y=y, sr=sr)\n",
    "        zcr = librosa.feature.zero_crossing_rate(y)\n",
    "        mfcc = librosa.feature.mfcc(y=y, sr=sr)\n",
    "        \n",
    "        to_append = f'{filename} {np.mean(rms)} {np.mean(spec_cent)} {np.mean(spec_bw)} {np.mean(rolloff)} {np.mean(zcr)}'    \n",
    "        \n",
    "        for e in mfcc:\n",
    "            to_append += f' {np.mean(e)}'\n",
    "        \n",
    "        to_append += f' {vowel}'\n",
    "        file = open(os.path.join(CSV_PATH, 'dataset.csv'), 'a', newline='')\n",
    "        \n",
    "        with file:\n",
    "            writer = csv.writer(file)\n",
    "            writer.writerow(to_append.split())"
   ]
  },
  {
   "cell_type": "markdown",
   "metadata": {},
   "source": [
    "### Dividiendo el conjunto de datos en `train`, `test` y `validation`"
   ]
  },
  {
   "cell_type": "code",
   "execution_count": 8,
   "metadata": {},
   "outputs": [
    {
     "data": {
      "text/html": [
       "<div>\n",
       "<style scoped>\n",
       "    .dataframe tbody tr th:only-of-type {\n",
       "        vertical-align: middle;\n",
       "    }\n",
       "\n",
       "    .dataframe tbody tr th {\n",
       "        vertical-align: top;\n",
       "    }\n",
       "\n",
       "    .dataframe thead th {\n",
       "        text-align: right;\n",
       "    }\n",
       "</style>\n",
       "<table border=\"1\" class=\"dataframe\">\n",
       "  <thead>\n",
       "    <tr style=\"text-align: right;\">\n",
       "      <th></th>\n",
       "      <th>chroma_stft</th>\n",
       "      <th>rmse</th>\n",
       "      <th>spectral_centroid</th>\n",
       "      <th>spectral_bandwidth</th>\n",
       "      <th>rolloff</th>\n",
       "      <th>zero_crossing_rate</th>\n",
       "      <th>mfcc1</th>\n",
       "      <th>mfcc2</th>\n",
       "      <th>mfcc3</th>\n",
       "      <th>mfcc4</th>\n",
       "      <th>...</th>\n",
       "      <th>mfcc11</th>\n",
       "      <th>mfcc12</th>\n",
       "      <th>mfcc13</th>\n",
       "      <th>mfcc14</th>\n",
       "      <th>mfcc15</th>\n",
       "      <th>mfcc16</th>\n",
       "      <th>mfcc17</th>\n",
       "      <th>mfcc18</th>\n",
       "      <th>mfcc19</th>\n",
       "      <th>label</th>\n",
       "    </tr>\n",
       "  </thead>\n",
       "  <tbody>\n",
       "    <tr>\n",
       "      <th>0</th>\n",
       "      <td>0.078352</td>\n",
       "      <td>1349.064787</td>\n",
       "      <td>1579.104290</td>\n",
       "      <td>2411.718750</td>\n",
       "      <td>0.061951</td>\n",
       "      <td>-196.142258</td>\n",
       "      <td>155.342072</td>\n",
       "      <td>-32.792675</td>\n",
       "      <td>9.183998</td>\n",
       "      <td>-6.563315</td>\n",
       "      <td>...</td>\n",
       "      <td>-0.049949</td>\n",
       "      <td>-13.237475</td>\n",
       "      <td>-4.148360</td>\n",
       "      <td>-5.552077</td>\n",
       "      <td>-2.548403</td>\n",
       "      <td>-6.649182</td>\n",
       "      <td>-3.227248</td>\n",
       "      <td>-6.036036</td>\n",
       "      <td>-0.574568</td>\n",
       "      <td>a</td>\n",
       "    </tr>\n",
       "    <tr>\n",
       "      <th>1</th>\n",
       "      <td>0.069475</td>\n",
       "      <td>1335.681013</td>\n",
       "      <td>1605.150355</td>\n",
       "      <td>2349.729226</td>\n",
       "      <td>0.058579</td>\n",
       "      <td>-226.859665</td>\n",
       "      <td>156.504669</td>\n",
       "      <td>-21.692404</td>\n",
       "      <td>4.813828</td>\n",
       "      <td>-20.601521</td>\n",
       "      <td>...</td>\n",
       "      <td>3.229920</td>\n",
       "      <td>-8.176623</td>\n",
       "      <td>-6.780771</td>\n",
       "      <td>-7.901219</td>\n",
       "      <td>-3.167109</td>\n",
       "      <td>-8.719459</td>\n",
       "      <td>-2.223617</td>\n",
       "      <td>-6.005474</td>\n",
       "      <td>-1.976870</td>\n",
       "      <td>a</td>\n",
       "    </tr>\n",
       "    <tr>\n",
       "      <th>2</th>\n",
       "      <td>0.180722</td>\n",
       "      <td>1230.516329</td>\n",
       "      <td>1298.630581</td>\n",
       "      <td>2052.114258</td>\n",
       "      <td>0.065283</td>\n",
       "      <td>-175.464615</td>\n",
       "      <td>165.534500</td>\n",
       "      <td>-52.409454</td>\n",
       "      <td>-10.623739</td>\n",
       "      <td>-7.834209</td>\n",
       "      <td>...</td>\n",
       "      <td>15.754293</td>\n",
       "      <td>-3.265908</td>\n",
       "      <td>-29.651281</td>\n",
       "      <td>-6.224324</td>\n",
       "      <td>0.542435</td>\n",
       "      <td>-4.551761</td>\n",
       "      <td>0.672431</td>\n",
       "      <td>0.564469</td>\n",
       "      <td>4.498198</td>\n",
       "      <td>a</td>\n",
       "    </tr>\n",
       "    <tr>\n",
       "      <th>3</th>\n",
       "      <td>0.164562</td>\n",
       "      <td>1119.214923</td>\n",
       "      <td>1177.865307</td>\n",
       "      <td>1484.607873</td>\n",
       "      <td>0.060955</td>\n",
       "      <td>-187.022491</td>\n",
       "      <td>182.391541</td>\n",
       "      <td>-34.986664</td>\n",
       "      <td>-21.803410</td>\n",
       "      <td>-33.389511</td>\n",
       "      <td>...</td>\n",
       "      <td>-1.105423</td>\n",
       "      <td>1.977387</td>\n",
       "      <td>-26.593988</td>\n",
       "      <td>-14.305027</td>\n",
       "      <td>-2.595483</td>\n",
       "      <td>-30.414909</td>\n",
       "      <td>3.246894</td>\n",
       "      <td>0.130621</td>\n",
       "      <td>-8.242084</td>\n",
       "      <td>a</td>\n",
       "    </tr>\n",
       "    <tr>\n",
       "      <th>4</th>\n",
       "      <td>0.127101</td>\n",
       "      <td>1354.373164</td>\n",
       "      <td>1533.664553</td>\n",
       "      <td>2565.692729</td>\n",
       "      <td>0.064758</td>\n",
       "      <td>-186.175797</td>\n",
       "      <td>162.802048</td>\n",
       "      <td>-37.374710</td>\n",
       "      <td>11.754867</td>\n",
       "      <td>-20.215420</td>\n",
       "      <td>...</td>\n",
       "      <td>-0.065242</td>\n",
       "      <td>-5.120680</td>\n",
       "      <td>-18.042542</td>\n",
       "      <td>-8.207775</td>\n",
       "      <td>4.094570</td>\n",
       "      <td>-9.554463</td>\n",
       "      <td>-1.939124</td>\n",
       "      <td>-1.285419</td>\n",
       "      <td>-3.731362</td>\n",
       "      <td>a</td>\n",
       "    </tr>\n",
       "  </tbody>\n",
       "</table>\n",
       "<p>5 rows × 26 columns</p>\n",
       "</div>"
      ],
      "text/plain": [
       "   chroma_stft         rmse  spectral_centroid  spectral_bandwidth   rolloff  \\\n",
       "0     0.078352  1349.064787        1579.104290         2411.718750  0.061951   \n",
       "1     0.069475  1335.681013        1605.150355         2349.729226  0.058579   \n",
       "2     0.180722  1230.516329        1298.630581         2052.114258  0.065283   \n",
       "3     0.164562  1119.214923        1177.865307         1484.607873  0.060955   \n",
       "4     0.127101  1354.373164        1533.664553         2565.692729  0.064758   \n",
       "\n",
       "   zero_crossing_rate       mfcc1      mfcc2      mfcc3      mfcc4  ...  \\\n",
       "0         -196.142258  155.342072 -32.792675   9.183998  -6.563315  ...   \n",
       "1         -226.859665  156.504669 -21.692404   4.813828 -20.601521  ...   \n",
       "2         -175.464615  165.534500 -52.409454 -10.623739  -7.834209  ...   \n",
       "3         -187.022491  182.391541 -34.986664 -21.803410 -33.389511  ...   \n",
       "4         -186.175797  162.802048 -37.374710  11.754867 -20.215420  ...   \n",
       "\n",
       "      mfcc11     mfcc12     mfcc13     mfcc14    mfcc15     mfcc16    mfcc17  \\\n",
       "0  -0.049949 -13.237475  -4.148360  -5.552077 -2.548403  -6.649182 -3.227248   \n",
       "1   3.229920  -8.176623  -6.780771  -7.901219 -3.167109  -8.719459 -2.223617   \n",
       "2  15.754293  -3.265908 -29.651281  -6.224324  0.542435  -4.551761  0.672431   \n",
       "3  -1.105423   1.977387 -26.593988 -14.305027 -2.595483 -30.414909  3.246894   \n",
       "4  -0.065242  -5.120680 -18.042542  -8.207775  4.094570  -9.554463 -1.939124   \n",
       "\n",
       "     mfcc18    mfcc19  label  \n",
       "0 -6.036036 -0.574568      a  \n",
       "1 -6.005474 -1.976870      a  \n",
       "2  0.564469  4.498198      a  \n",
       "3  0.130621 -8.242084      a  \n",
       "4 -1.285419 -3.731362      a  \n",
       "\n",
       "[5 rows x 26 columns]"
      ]
     },
     "execution_count": 8,
     "metadata": {},
     "output_type": "execute_result"
    }
   ],
   "source": [
    "data = pd.read_csv(os.path.join(CSV_PATH, 'dataset.csv'))\n",
    "data = data.drop(['filename'],axis=1)\n",
    "\n",
    "encoder = LabelEncoder()\n",
    "vowel = data.iloc[:, -1]\n",
    "y = encoder.fit_transform(vowel)\n",
    "np.save(os.path.join(MODELS_PATH, 'y_encoder.npy'), y)\n",
    "\n",
    "scaler = StandardScaler()\n",
    "X = scaler.fit_transform(np.array(data.iloc[:, :-1], dtype = float))\n",
    "\n",
    "# partición train y test\n",
    "X_train, X_test, y_train, y_test = train_test_split(X, y, test_size=0.3)\n",
    "\n",
    "# partición test y validation\n",
    "X_test, X_val, y_test, y_val = train_test_split(X_test, y_test, test_size=0.5)\n",
    "\n",
    "data.head()\n"
   ]
  },
  {
   "cell_type": "code",
   "execution_count": 10,
   "metadata": {},
   "outputs": [
    {
     "data": {
      "text/plain": [
       "array(['a', 'a', 'a', ..., 'u', 'u', 'u'], dtype=object)"
      ]
     },
     "execution_count": 10,
     "metadata": {},
     "output_type": "execute_result"
    }
   ],
   "source": [
    "\n",
    "encoder.inverse_transform(y)"
   ]
  },
  {
   "cell_type": "markdown",
   "metadata": {},
   "source": [
    "### Construyendo la red neuronal"
   ]
  },
  {
   "cell_type": "code",
   "execution_count": 5,
   "metadata": {},
   "outputs": [
    {
     "name": "stdout",
     "output_type": "stream",
     "text": [
      "Epoch 1/100\n",
      "8/8 [==============================] - 1s 5ms/step - loss: 2.0858 - accuracy: 0.2199\n",
      "Epoch 2/100\n",
      "8/8 [==============================] - 0s 4ms/step - loss: 1.3987 - accuracy: 0.5264\n",
      "Epoch 3/100\n",
      "8/8 [==============================] - 0s 5ms/step - loss: 0.8389 - accuracy: 0.7949\n",
      "Epoch 4/100\n",
      "8/8 [==============================] - 0s 10ms/step - loss: 0.5008 - accuracy: 0.8594\n",
      "Epoch 5/100\n",
      "8/8 [==============================] - 0s 6ms/step - loss: 0.3625 - accuracy: 0.8795\n",
      "Epoch 6/100\n",
      "8/8 [==============================] - 0s 4ms/step - loss: 0.3014 - accuracy: 0.8985\n",
      "Epoch 7/100\n",
      "8/8 [==============================] - 0s 4ms/step - loss: 0.2674 - accuracy: 0.9101\n",
      "Epoch 8/100\n",
      "8/8 [==============================] - 0s 5ms/step - loss: 0.2472 - accuracy: 0.9101\n",
      "Epoch 9/100\n",
      "8/8 [==============================] - 0s 4ms/step - loss: 0.2205 - accuracy: 0.9260\n",
      "Epoch 10/100\n",
      "8/8 [==============================] - 0s 4ms/step - loss: 0.2042 - accuracy: 0.9334\n",
      "Epoch 11/100\n",
      "8/8 [==============================] - 0s 4ms/step - loss: 0.1938 - accuracy: 0.9302\n",
      "Epoch 12/100\n",
      "8/8 [==============================] - 0s 4ms/step - loss: 0.1753 - accuracy: 0.9503\n",
      "Epoch 13/100\n",
      "8/8 [==============================] - 0s 4ms/step - loss: 0.1589 - accuracy: 0.9556\n",
      "Epoch 14/100\n",
      "8/8 [==============================] - 0s 5ms/step - loss: 0.1508 - accuracy: 0.9524\n",
      "Epoch 15/100\n",
      "8/8 [==============================] - 0s 4ms/step - loss: 0.1444 - accuracy: 0.9609\n",
      "Epoch 16/100\n",
      "8/8 [==============================] - 0s 6ms/step - loss: 0.1375 - accuracy: 0.9598\n",
      "Epoch 17/100\n",
      "8/8 [==============================] - 0s 6ms/step - loss: 0.1306 - accuracy: 0.9567\n",
      "Epoch 18/100\n",
      "8/8 [==============================] - 0s 4ms/step - loss: 0.1148 - accuracy: 0.9746\n",
      "Epoch 19/100\n",
      "8/8 [==============================] - 0s 5ms/step - loss: 0.1101 - accuracy: 0.9715\n",
      "Epoch 20/100\n",
      "8/8 [==============================] - 0s 4ms/step - loss: 0.1002 - accuracy: 0.9746\n",
      "Epoch 21/100\n",
      "8/8 [==============================] - 0s 4ms/step - loss: 0.0935 - accuracy: 0.9757\n",
      "Epoch 22/100\n",
      "8/8 [==============================] - 0s 5ms/step - loss: 0.0887 - accuracy: 0.9767\n",
      "Epoch 23/100\n",
      "8/8 [==============================] - 0s 4ms/step - loss: 0.0817 - accuracy: 0.9810\n",
      "Epoch 24/100\n",
      "8/8 [==============================] - 0s 4ms/step - loss: 0.0763 - accuracy: 0.9831\n",
      "Epoch 25/100\n",
      "8/8 [==============================] - 0s 4ms/step - loss: 0.0744 - accuracy: 0.9789\n",
      "Epoch 26/100\n",
      "8/8 [==============================] - 0s 4ms/step - loss: 0.0647 - accuracy: 0.9873\n",
      "Epoch 27/100\n",
      "8/8 [==============================] - 0s 5ms/step - loss: 0.0663 - accuracy: 0.9789\n",
      "Epoch 28/100\n",
      "8/8 [==============================] - 0s 4ms/step - loss: 0.0648 - accuracy: 0.9831\n",
      "Epoch 29/100\n",
      "8/8 [==============================] - 0s 5ms/step - loss: 0.0649 - accuracy: 0.9789\n",
      "Epoch 30/100\n",
      "8/8 [==============================] - 0s 4ms/step - loss: 0.0565 - accuracy: 0.9852\n",
      "Epoch 31/100\n",
      "8/8 [==============================] - 0s 5ms/step - loss: 0.0509 - accuracy: 0.9905\n",
      "Epoch 32/100\n",
      "8/8 [==============================] - 0s 4ms/step - loss: 0.0547 - accuracy: 0.9810\n",
      "Epoch 33/100\n",
      "8/8 [==============================] - 0s 4ms/step - loss: 0.0448 - accuracy: 0.9873\n",
      "Epoch 34/100\n",
      "8/8 [==============================] - 0s 5ms/step - loss: 0.0374 - accuracy: 0.9947\n",
      "Epoch 35/100\n",
      "8/8 [==============================] - 0s 4ms/step - loss: 0.0346 - accuracy: 0.9979\n",
      "Epoch 36/100\n",
      "8/8 [==============================] - 0s 5ms/step - loss: 0.0359 - accuracy: 0.9947\n",
      "Epoch 37/100\n",
      "8/8 [==============================] - 0s 4ms/step - loss: 0.0362 - accuracy: 0.9915\n",
      "Epoch 38/100\n",
      "8/8 [==============================] - 0s 3ms/step - loss: 0.0281 - accuracy: 0.9968\n",
      "Epoch 39/100\n",
      "8/8 [==============================] - 0s 7ms/step - loss: 0.0303 - accuracy: 0.9958\n",
      "Epoch 40/100\n",
      "8/8 [==============================] - 0s 4ms/step - loss: 0.0274 - accuracy: 0.9979\n",
      "Epoch 41/100\n",
      "8/8 [==============================] - 0s 4ms/step - loss: 0.0258 - accuracy: 0.9968\n",
      "Epoch 42/100\n",
      "8/8 [==============================] - 0s 4ms/step - loss: 0.0253 - accuracy: 0.9979\n",
      "Epoch 43/100\n",
      "8/8 [==============================] - 0s 4ms/step - loss: 0.0335 - accuracy: 0.9894\n",
      "Epoch 44/100\n",
      "8/8 [==============================] - 0s 4ms/step - loss: 0.0289 - accuracy: 0.9894\n",
      "Epoch 45/100\n",
      "8/8 [==============================] - 0s 4ms/step - loss: 0.0201 - accuracy: 0.9979\n",
      "Epoch 46/100\n",
      "8/8 [==============================] - 0s 5ms/step - loss: 0.0181 - accuracy: 0.9989\n",
      "Epoch 47/100\n",
      "8/8 [==============================] - 0s 8ms/step - loss: 0.0165 - accuracy: 0.9989\n",
      "Epoch 48/100\n",
      "8/8 [==============================] - 0s 6ms/step - loss: 0.0153 - accuracy: 1.0000\n",
      "Epoch 49/100\n",
      "8/8 [==============================] - 0s 4ms/step - loss: 0.0139 - accuracy: 1.0000\n",
      "Epoch 50/100\n",
      "8/8 [==============================] - 0s 5ms/step - loss: 0.0146 - accuracy: 0.9989\n",
      "Epoch 51/100\n",
      "8/8 [==============================] - 0s 5ms/step - loss: 0.0140 - accuracy: 0.9979\n",
      "Epoch 52/100\n",
      "8/8 [==============================] - 0s 5ms/step - loss: 0.0139 - accuracy: 0.9979\n",
      "Epoch 53/100\n",
      "8/8 [==============================] - 0s 4ms/step - loss: 0.0123 - accuracy: 0.9989\n",
      "Epoch 54/100\n",
      "8/8 [==============================] - 0s 4ms/step - loss: 0.0114 - accuracy: 0.9989\n",
      "Epoch 55/100\n",
      "8/8 [==============================] - 0s 4ms/step - loss: 0.0115 - accuracy: 0.9989\n",
      "Epoch 56/100\n",
      "8/8 [==============================] - 0s 4ms/step - loss: 0.0114 - accuracy: 0.9989\n",
      "Epoch 57/100\n",
      "8/8 [==============================] - 0s 6ms/step - loss: 0.0090 - accuracy: 1.0000\n",
      "Epoch 58/100\n",
      "8/8 [==============================] - 0s 12ms/step - loss: 0.0112 - accuracy: 0.9968\n",
      "Epoch 59/100\n",
      "8/8 [==============================] - 0s 5ms/step - loss: 0.0124 - accuracy: 0.9979\n",
      "Epoch 60/100\n",
      "8/8 [==============================] - 0s 5ms/step - loss: 0.0107 - accuracy: 0.9979\n",
      "Epoch 61/100\n",
      "8/8 [==============================] - 0s 6ms/step - loss: 0.0086 - accuracy: 0.9989\n",
      "Epoch 62/100\n",
      "8/8 [==============================] - 0s 4ms/step - loss: 0.0071 - accuracy: 1.0000\n",
      "Epoch 63/100\n",
      "8/8 [==============================] - 0s 4ms/step - loss: 0.0069 - accuracy: 1.0000\n",
      "Epoch 64/100\n",
      "8/8 [==============================] - 0s 4ms/step - loss: 0.0070 - accuracy: 1.0000\n",
      "Epoch 65/100\n",
      "8/8 [==============================] - 0s 4ms/step - loss: 0.0072 - accuracy: 0.9989\n",
      "Epoch 66/100\n",
      "8/8 [==============================] - 0s 6ms/step - loss: 0.0066 - accuracy: 1.0000\n",
      "Epoch 67/100\n",
      "8/8 [==============================] - 0s 5ms/step - loss: 0.0079 - accuracy: 0.9979\n",
      "Epoch 68/100\n",
      "8/8 [==============================] - 0s 4ms/step - loss: 0.0051 - accuracy: 1.0000\n",
      "Epoch 69/100\n",
      "8/8 [==============================] - 0s 5ms/step - loss: 0.0057 - accuracy: 1.0000\n",
      "Epoch 70/100\n",
      "8/8 [==============================] - 0s 4ms/step - loss: 0.0068 - accuracy: 0.9989\n",
      "Epoch 71/100\n",
      "8/8 [==============================] - 0s 4ms/step - loss: 0.0071 - accuracy: 0.9989\n",
      "Epoch 72/100\n",
      "8/8 [==============================] - 0s 5ms/step - loss: 0.0094 - accuracy: 0.9979\n",
      "Epoch 73/100\n",
      "8/8 [==============================] - 0s 6ms/step - loss: 0.0132 - accuracy: 0.9958\n",
      "Epoch 74/100\n",
      "8/8 [==============================] - 0s 4ms/step - loss: 0.0185 - accuracy: 0.9926\n",
      "Epoch 75/100\n",
      "8/8 [==============================] - 0s 4ms/step - loss: 0.0137 - accuracy: 0.9968\n",
      "Epoch 76/100\n",
      "8/8 [==============================] - 0s 4ms/step - loss: 0.0140 - accuracy: 0.9979\n",
      "Epoch 77/100\n",
      "8/8 [==============================] - 0s 5ms/step - loss: 0.0073 - accuracy: 1.0000\n",
      "Epoch 78/100\n",
      "8/8 [==============================] - 0s 6ms/step - loss: 0.0076 - accuracy: 0.9989\n",
      "Epoch 79/100\n",
      "8/8 [==============================] - 0s 5ms/step - loss: 0.0044 - accuracy: 1.0000\n",
      "Epoch 80/100\n",
      "8/8 [==============================] - 0s 5ms/step - loss: 0.0045 - accuracy: 1.0000\n",
      "Epoch 81/100\n",
      "8/8 [==============================] - 0s 7ms/step - loss: 0.0041 - accuracy: 1.0000\n",
      "Epoch 82/100\n",
      "8/8 [==============================] - 0s 5ms/step - loss: 0.0038 - accuracy: 1.0000\n",
      "Epoch 83/100\n",
      "8/8 [==============================] - 0s 6ms/step - loss: 0.0033 - accuracy: 1.0000\n",
      "Epoch 84/100\n",
      "8/8 [==============================] - 0s 4ms/step - loss: 0.0032 - accuracy: 1.0000\n",
      "Epoch 85/100\n",
      "8/8 [==============================] - 0s 4ms/step - loss: 0.0028 - accuracy: 1.0000\n",
      "Epoch 86/100\n",
      "8/8 [==============================] - 0s 4ms/step - loss: 0.0030 - accuracy: 1.0000\n",
      "Epoch 87/100\n",
      "8/8 [==============================] - 0s 5ms/step - loss: 0.0027 - accuracy: 1.0000\n",
      "Epoch 88/100\n",
      "8/8 [==============================] - 0s 5ms/step - loss: 0.0028 - accuracy: 1.0000\n",
      "Epoch 89/100\n",
      "8/8 [==============================] - 0s 6ms/step - loss: 0.0037 - accuracy: 0.9989\n",
      "Epoch 90/100\n",
      "8/8 [==============================] - 0s 4ms/step - loss: 0.0032 - accuracy: 1.0000\n",
      "Epoch 91/100\n",
      "8/8 [==============================] - 0s 5ms/step - loss: 0.0026 - accuracy: 1.0000\n",
      "Epoch 92/100\n",
      "8/8 [==============================] - 0s 6ms/step - loss: 0.0023 - accuracy: 1.0000\n",
      "Epoch 93/100\n",
      "8/8 [==============================] - 0s 9ms/step - loss: 0.0023 - accuracy: 1.0000\n",
      "Epoch 94/100\n",
      "8/8 [==============================] - 0s 5ms/step - loss: 0.0028 - accuracy: 1.0000\n",
      "Epoch 95/100\n",
      "8/8 [==============================] - 0s 9ms/step - loss: 0.0038 - accuracy: 0.9989\n",
      "Epoch 96/100\n",
      "8/8 [==============================] - 0s 6ms/step - loss: 0.0029 - accuracy: 1.0000\n",
      "Epoch 97/100\n",
      "8/8 [==============================] - 0s 6ms/step - loss: 0.0063 - accuracy: 0.9968\n",
      "Epoch 98/100\n",
      "8/8 [==============================] - 0s 5ms/step - loss: 0.0029 - accuracy: 0.9989\n",
      "Epoch 99/100\n",
      "8/8 [==============================] - 0s 4ms/step - loss: 0.0021 - accuracy: 1.0000\n",
      "Epoch 100/100\n",
      "8/8 [==============================] - 0s 4ms/step - loss: 0.0022 - accuracy: 1.0000\n"
     ]
    }
   ],
   "source": [
    "model = Sequential()\n",
    "model.add(layers.Dense(256, activation='relu', input_shape=(X_train.shape[1],)))\n",
    "model.add(layers.Dense(128, activation='relu'))\n",
    "model.add(layers.Dense(64, activation='relu'))\n",
    "model.add(layers.Dense(10, activation='softmax'))\n",
    "model.compile(optimizer='adam',   \n",
    "              loss='sparse_categorical_crossentropy',\n",
    "              metrics=['accuracy'])\n",
    "\n",
    "classifier = model.fit(X_train,\n",
    "                    y_train,\n",
    "                    epochs=100,\n",
    "                    batch_size=128)\n",
    "\n",
    "predict_x = classifier.model.predict(X_test) \n",
    "classes_x = np.argmax(predict_x,axis=1)\n",
    "\n",
    "np.save(os.path.join(MODELS_PATH, 'classes.npy'), classes_x)"
   ]
  },
  {
   "cell_type": "markdown",
   "metadata": {},
   "source": [
    "#### Evaluando la red con los datos de prueba"
   ]
  },
  {
   "cell_type": "code",
   "execution_count": 7,
   "metadata": {},
   "outputs": [
    {
     "name": "stdout",
     "output_type": "stream",
     "text": [
      "accuracy: 88.18%\n"
     ]
    }
   ],
   "source": [
    "pred_str = encoder.inverse_transform(classes_x)\n",
    "test_str = encoder.inverse_transform(y_test)\n",
    "\n",
    "score = classifier.model.evaluate(X_test, y_test, verbose=0)\n",
    "\n",
    "print(\"%s: %.2f%%\" % (classifier.model.metrics_names[1], score[1]*100))"
   ]
  },
  {
   "cell_type": "markdown",
   "metadata": {},
   "source": [
    "#### Evaluando la red con los datos de validación"
   ]
  },
  {
   "cell_type": "code",
   "execution_count": null,
   "metadata": {},
   "outputs": [],
   "source": [
    "predict_x=classifier.model.predict(X_val) \n",
    "classes_x=np.argmax(predict_x,axis=1)\n",
    "pred_str = str(encoder.inverse_transform(classes_x))\n",
    "test_str = encoder.inverse_transform(y_val)\n",
    "score = classifier.model.evaluate(X_val, y_val, verbose=0)\n",
    "\n",
    "print(\"%s: %.2f%%\" % (classifier.model.metrics_names[1], score[1]*100))"
   ]
  },
  {
   "cell_type": "markdown",
   "metadata": {},
   "source": [
    "### Guardando el modelo generado"
   ]
  },
  {
   "cell_type": "code",
   "execution_count": null,
   "metadata": {},
   "outputs": [],
   "source": [
    "# serialize model to JSON\n",
    "model_json = classifier.model.to_json()\n",
    "\n",
    "with open(os.path.join(MODELS_PATH, 'model.json'), \"w\") as json_file:\n",
    "    json_file.write(model_json)\n",
    "    \n",
    "# serialize weights to HDF5\n",
    "model.save_weights(os.path.join(MODELS_PATH, \"model.h5\"))\n",
    "print(\"Saved model to disk\")"
   ]
  },
  {
   "cell_type": "markdown",
   "metadata": {},
   "source": [
    "## Probando la red con nuevas muestras"
   ]
  },
  {
   "cell_type": "markdown",
   "metadata": {},
   "source": [
    "### Cargando el modelo generado"
   ]
  },
  {
   "cell_type": "code",
   "execution_count": 3,
   "metadata": {},
   "outputs": [
    {
     "name": "stdout",
     "output_type": "stream",
     "text": [
      "Loaded model from disk\n"
     ]
    }
   ],
   "source": [
    "# load json and create model\n",
    "json_file = open(os.path.join(MODELS_PATH, 'model.json'), 'r')\n",
    "loaded_model_json = json_file.read()\n",
    "json_file.close()\n",
    "loaded_model = model_from_json(loaded_model_json)\n",
    "# load weights into new model\n",
    "loaded_model.load_weights(os.path.join(MODELS_PATH, \"model.h5\"))\n",
    "print(\"Loaded model from disk\")"
   ]
  },
  {
   "cell_type": "markdown",
   "metadata": {},
   "source": [
    "### Evaluando nuevas muestras de audio con el modelo generado"
   ]
  },
  {
   "cell_type": "markdown",
   "metadata": {},
   "source": [
    "Se recomienda guardar las nuevas muestras en la carpeta `new_samples`. Los formatos de audio pueden ser `.ogg`, `.m4a` o `.wav`. "
   ]
  },
  {
   "cell_type": "code",
   "execution_count": 4,
   "metadata": {},
   "outputs": [],
   "source": [
    "import sys\n",
    "sys.path.insert(1, PYTHON_PATH)\n",
    "\n",
    "import transform2wav as t2wav\n",
    "import vowel_classifier as vc"
   ]
  },
  {
   "cell_type": "code",
   "execution_count": 5,
   "metadata": {},
   "outputs": [
    {
     "name": "stdout",
     "output_type": "stream",
     "text": [
      "[]\n",
      "[]\n"
     ]
    }
   ],
   "source": [
    "# transforma todas las muestras de audio en formato .wav\n",
    "t2wav.transform2wav()"
   ]
  },
  {
   "cell_type": "code",
   "execution_count": 5,
   "metadata": {},
   "outputs": [
    {
     "ename": "NameError",
     "evalue": "name 'scaler' is not defined",
     "output_type": "error",
     "traceback": [
      "\u001b[1;31m---------------------------------------------------------------------------\u001b[0m",
      "\u001b[1;31mNameError\u001b[0m                                 Traceback (most recent call last)",
      "\u001b[1;32m~\\AppData\\Local\\Temp\\ipykernel_4704\\1159105009.py\u001b[0m in \u001b[0;36m<module>\u001b[1;34m\u001b[0m\n\u001b[0;32m      2\u001b[0m \u001b[0mmy_classifier\u001b[0m\u001b[1;33m.\u001b[0m\u001b[0mcsv_creator\u001b[0m\u001b[1;33m(\u001b[0m\u001b[1;34m\"dataset_NEW\"\u001b[0m\u001b[1;33m)\u001b[0m\u001b[1;33m\u001b[0m\u001b[1;33m\u001b[0m\u001b[0m\n\u001b[0;32m      3\u001b[0m \u001b[1;33m\u001b[0m\u001b[0m\n\u001b[1;32m----> 4\u001b[1;33m \u001b[0mX_new\u001b[0m\u001b[1;33m,\u001b[0m \u001b[0mnew_data\u001b[0m \u001b[1;33m=\u001b[0m \u001b[0mmy_classifier\u001b[0m\u001b[1;33m.\u001b[0m\u001b[0mread_myData\u001b[0m\u001b[1;33m(\u001b[0m\u001b[0mscaler\u001b[0m\u001b[1;33m)\u001b[0m\u001b[1;33m\u001b[0m\u001b[1;33m\u001b[0m\u001b[0m\n\u001b[0m\u001b[0;32m      5\u001b[0m \u001b[0mmy_prediction\u001b[0m \u001b[1;33m=\u001b[0m \u001b[0mmy_classifier\u001b[0m\u001b[1;33m.\u001b[0m\u001b[0mmy_prediction\u001b[0m\u001b[1;33m(\u001b[0m\u001b[0mloaded_model\u001b[0m\u001b[1;33m,\u001b[0m \u001b[0mX_new\u001b[0m\u001b[1;33m,\u001b[0m \u001b[0mnew_data\u001b[0m\u001b[1;33m)\u001b[0m\u001b[1;33m\u001b[0m\u001b[1;33m\u001b[0m\u001b[0m\n\u001b[0;32m      6\u001b[0m \u001b[0mmy_prediction\u001b[0m\u001b[1;33m\u001b[0m\u001b[1;33m\u001b[0m\u001b[0m\n",
      "\u001b[1;31mNameError\u001b[0m: name 'scaler' is not defined"
     ]
    }
   ],
   "source": [
    "\n",
    "my_classifier = vc.my_vowelClassifier(CSV_PATH, NEWSAMPLES_PATH, MODELS_PATH)\n",
    "my_classifier.csv_creator(\"dataset_NEW\")\n",
    "\n",
    "X_new, new_data = my_classifier.read_myData(CSV_PATH)\n",
    "my_prediction = my_classifier.my_prediction(loaded_model, X_new, new_data)\n",
    "my_prediction"
   ]
  },
  {
   "cell_type": "markdown",
   "metadata": {},
   "source": [
    "***"
   ]
  },
  {
   "cell_type": "code",
   "execution_count": null,
   "metadata": {},
   "outputs": [],
   "source": [
    "# crea datos de trabajo\n",
    "\n",
    "header = 'filename chroma_stft rmse spectral_centroid spectral_bandwidth rolloff zero_crossing_rate'\n",
    "\n",
    "for i in range(1, 20): # origianlly is (1,21)\n",
    "    header += f' mfcc{i}'\n",
    "\n",
    "header += ' label'\n",
    "header = header.split()\n",
    "\n",
    "file = open(os.path.join(CSV_PATH, 'dataset_NEW.csv'), 'w', newline='')\n",
    "with file:\n",
    "    writer = csv.writer(file)\n",
    "    writer.writerow(header)\n",
    "\n",
    "for filename in os.listdir(os.path.join(NEWSAMPLES_PATH)):\n",
    "    sample = os.path.join(NEWSAMPLES_PATH, filename) \n",
    "    if filename == 'desktop.ini': # omite desktop.ini\n",
    "        break\n",
    "    y, sr = librosa.load(sample, mono=True, duration=30)\n",
    "\n",
    "    rms = librosa.feature.rms(y=y) # The latest librosa replaced rmse with rms, \n",
    "    spec_cent = librosa.feature.spectral_centroid(y=y, sr=sr)\n",
    "    spec_bw = librosa.feature.spectral_bandwidth(y=y, sr=sr)\n",
    "    rolloff = librosa.feature.spectral_rolloff(y=y, sr=sr)\n",
    "    zcr = librosa.feature.zero_crossing_rate(y)\n",
    "    mfcc = librosa.feature.mfcc(y=y, sr=sr)\n",
    "    \n",
    "    to_append = f'{filename} {np.mean(rms)} {np.mean(spec_cent)} {np.mean(spec_bw)} {np.mean(rolloff)} {np.mean(zcr)}'    \n",
    "    \n",
    "    for e in mfcc:\n",
    "        to_append += f' {np.mean(e)}'\n",
    "    \n",
    "    to_append += f' {filename}'\n",
    "    file = open(os.path.join(CSV_PATH, 'dataset_NEW.csv'), 'a', newline='')\n",
    "    \n",
    "    with file:\n",
    "        writer = csv.writer(file)\n",
    "        writer.writerow(to_append.split())"
   ]
  },
  {
   "cell_type": "code",
   "execution_count": null,
   "metadata": {},
   "outputs": [],
   "source": [
    "# lee datos de trabajo\n",
    "\n",
    "import pandas as pd\n",
    "from sklearn.preprocessing import LabelEncoder, StandardScaler\n",
    "\n",
    "new_data = pd.read_csv(os.path.join(CSV_PATH, 'dataset_NEW.csv'))\n",
    "new_data = new_data.drop(['filename'],axis=1)\n",
    "X_new = scaler.fit_transform(np.array(new_data.iloc[:, :-1], dtype = float))\n",
    "\n",
    "new_data.head()"
   ]
  },
  {
   "cell_type": "code",
   "execution_count": null,
   "metadata": {},
   "outputs": [],
   "source": [
    "# genera prediccion\n",
    "predict_x=loaded_model.predict(X_new) \n",
    "\n",
    "new_sample = new_data.iloc[:, -1]\n",
    "pred_str = encoder.inverse_transform(classes_x)\n",
    "pd.DataFrame(zip(new_sample, pred_str), columns=[\"new_sample\", \"prediction\"])"
   ]
  },
  {
   "cell_type": "markdown",
   "metadata": {},
   "source": [
    "## Preguntas"
   ]
  },
  {
   "cell_type": "markdown",
   "metadata": {},
   "source": [
    "1. ¿Qué puede concluir del comportamiento de la red y los datos proporcionados?\n",
    "> Se oserva que...\n",
    "\n",
    "2. ¿Qué criterio utilizó para seleccionar la arquitectura de la red?\n",
    "> ...\n",
    "3. ¿Tiene la red el comportamiento esperado?, si no es así, ¿A qué cree que se debe esto?\n",
    "> ...\n",
    "\n",
    "4. ¿Qué le mejoraria al modelo que usted diseño?, ¿Cómo implementaría esas mejoras?\n",
    "> ..."
   ]
  },
  {
   "cell_type": "markdown",
   "metadata": {},
   "source": [
    "# Referencias"
   ]
  },
  {
   "cell_type": "markdown",
   "metadata": {},
   "source": [
    "[1] [Caracterización acústica de las vocales del español](http://domingo-roman.net/vocales_esp_caract_acustica.html)\n",
    "\n",
    "[2] [Audio Data Analysis Using Deep Learning with Python (Part 1)](https://www.kdnuggets.com/2020/02/audio-data-analysis-deep-learning-python-part-1.html)"
   ]
  }
 ],
 "metadata": {
  "interpreter": {
   "hash": "77d24201b52f90ad0484bc834e122a113a96909b1a5871605504051bb4665e51"
  },
  "kernelspec": {
   "display_name": "Python 3.7.13 ('audio_gen')",
   "language": "python",
   "name": "python3"
  },
  "language_info": {
   "codemirror_mode": {
    "name": "ipython",
    "version": 3
   },
   "file_extension": ".py",
   "mimetype": "text/x-python",
   "name": "python",
   "nbconvert_exporter": "python",
   "pygments_lexer": "ipython3",
   "version": "3.7.13"
  },
  "orig_nbformat": 4
 },
 "nbformat": 4,
 "nbformat_minor": 2
}

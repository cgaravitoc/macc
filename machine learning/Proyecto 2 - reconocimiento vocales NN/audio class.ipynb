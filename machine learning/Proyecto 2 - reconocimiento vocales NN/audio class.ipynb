{
 "cells": [
  {
   "cell_type": "markdown",
   "metadata": {},
   "source": [
    "# Reconocimiento de vocales"
   ]
  },
  {
   "cell_type": "code",
   "execution_count": null,
   "metadata": {},
   "outputs": [],
   "source": [
    "# transform all formats to .wav\n",
    "\n",
    "import os \n",
    "import glob\n",
    "import librosa\n",
    "import soundfile\n",
    "\n",
    "CURRENT_PATH = os.getcwd()\n",
    "SAMPLES_PATH = os.path.join(CURRENT_PATH, 'database')\n",
    "\n",
    "import warnings\n",
    "warnings.filterwarnings(\"ignore\")\n",
    "\n",
    "for format in ['ogg', 'm4a']:\n",
    "    for vowel in ['a', 'e', 'i', 'o', 'u'][0]:\n",
    "        # absolute path to search all text files inside a specific folder\n",
    "        path = os.path.join(SAMPLES_PATH, f'{vowel}', f'*.{format}')\n",
    "        #print(path)\n",
    "        files = glob.glob(path)\n",
    "        #print(files)\n",
    "        i = 1\n",
    "        for file in files:\n",
    "          print(\"in for cycle for change format\")\n",
    "          audio, sr = librosa.load(str(file), sr = 16000)\n",
    "          #soundfile.write(\"test file.wav\", audio ,16000)\n",
    "          soundfile.write(os.path.join(SAMPLES_PATH, f'{vowel}', f'{vowel}t_({i}).wav'), audio ,16000)\n",
    "          i+=1            \n",
    "\n",
    "          if os.path.exists(file):\n",
    "            print(f\"file {file} deleted!\")\n",
    "            os.remove(file)\n",
    "\n",
    "\n",
    "            "
   ]
  },
  {
   "cell_type": "markdown",
   "metadata": {},
   "source": [
    "# Referencias\n",
    "\n",
    "[Sound Visualization](https://maelfabien.github.io/machinelearning/Speech10/#)\n",
    "\n",
    "[Vibration Analysis: FFT, PSD, and Spectrogram Basics](https://blog.endaq.com/vibration-analysis-fft-psd-and-spectrogram)\n",
    "\n",
    "[The Power Spectrum](https://mark-kramer.github.io/Case-Studies-Python/03.html)\n",
    "\n",
    "[Formate](https://es.wikipedia.org/wiki/Formante)\n",
    "\n",
    "[Las características acústicas de los elementos segmentales](http://liceu.uab.es/~joaquim/phonetics/fon_anal_acus/caract_acust.html): Acá hay una imagen de los espectrogramas de las vocales, en donde se identifican los formantes. \n",
    "\n",
    "[Audio Deep Learning Made Simple: Sound Classification, Step-by-Step](https://towardsdatascience.com/audio-deep-learning-made-simple-sound-classification-step-by-step-cebc936bbe5)\n",
    "\n",
    "[Introduction to Audio Classification](https://www.analyticsvidhya.com/blog/2021/06/introduction-to-audio-classification/)\n",
    "\n",
    "[Audio Data Analysis Using Deep Learning with Python (Part 1)](https://www.kdnuggets.com/2020/02/audio-data-analysis-deep-learning-python-part-1.html)"
   ]
  }
 ],
 "metadata": {
  "interpreter": {
   "hash": "cb4ba80c77914fefcae4b6ab97441bcca38110318b73796501620219806422b4"
  },
  "kernelspec": {
   "display_name": "Python 3.8.8 ('base')",
   "language": "python",
   "name": "python3"
  },
  "language_info": {
   "codemirror_mode": {
    "name": "ipython",
    "version": 3
   },
   "file_extension": ".py",
   "mimetype": "text/x-python",
   "name": "python",
   "nbconvert_exporter": "python",
   "pygments_lexer": "ipython3",
   "version": "3.9.7"
  },
  "orig_nbformat": 4
 },
 "nbformat": 4,
 "nbformat_minor": 2
}

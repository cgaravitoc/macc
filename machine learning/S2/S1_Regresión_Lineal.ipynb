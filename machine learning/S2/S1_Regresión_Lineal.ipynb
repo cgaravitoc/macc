{
 "cells": [
  {
   "cell_type": "markdown",
   "metadata": {},
   "source": [
    "# S1: Regresión Lineal III"
   ]
  },
  {
   "cell_type": "markdown",
   "metadata": {},
   "source": [
    "## Introducción\n",
    "\n",
    "Un modelo de regressión es un modelo que describe la relacion entre dos, o más, variables. Especificamente como una(s) de esta(s) variables, denominadas **variables independientes**, influyen en las variaciones de otra variable, denominada **variable dependiente**.\n",
    "\n",
    "Supongamos queremos encontrar un modelo de regresion que nos permita estimar cual es el precio por metro cuadrado de una vivienda usando como variable observable la edad de la misma. Para poder construir este modelo necesitamos de un conjunto de datos historicos que relacionen el precio de la vivienda e indiquen su área. Para este ejemplo utilizaremos la base de datos \n",
    "*Residential Building Data Set*, la cual puede ser encontrada en el UCI repository en este [link](https://archive.ics.uci.edu/ml/datasets/Real+estate+valuation+data+set). Empecemos por cargar y observar los datos."
   ]
  },
  {
   "cell_type": "code",
   "execution_count": 5,
   "metadata": {},
   "outputs": [],
   "source": [
    "import numpy as np\n",
    "import pandas as pd\n",
    "import matplotlib.pyplot as plt\n",
    "from numpy.linalg import pinv\n",
    "\n",
    "%matplotlib inline"
   ]
  },
  {
   "cell_type": "code",
   "execution_count": null,
   "metadata": {},
   "outputs": [],
   "source": [
    "# !pip install openpyxl"
   ]
  },
  {
   "cell_type": "code",
   "execution_count": 9,
   "metadata": {},
   "outputs": [
    {
     "data": {
      "text/plain": [
       "(414, 8)"
      ]
     },
     "execution_count": 9,
     "metadata": {},
     "output_type": "execute_result"
    }
   ],
   "source": [
    "# Cargando el archivo de excel con los datos\n",
    "data = pd.read_excel('Real estate valuation data set.xlsx')\n",
    "data.shape"
   ]
  },
  {
   "cell_type": "code",
   "execution_count": 3,
   "metadata": {},
   "outputs": [
    {
     "data": {
      "text/html": [
       "<div>\n",
       "<style scoped>\n",
       "    .dataframe tbody tr th:only-of-type {\n",
       "        vertical-align: middle;\n",
       "    }\n",
       "\n",
       "    .dataframe tbody tr th {\n",
       "        vertical-align: top;\n",
       "    }\n",
       "\n",
       "    .dataframe thead th {\n",
       "        text-align: right;\n",
       "    }\n",
       "</style>\n",
       "<table border=\"1\" class=\"dataframe\">\n",
       "  <thead>\n",
       "    <tr style=\"text-align: right;\">\n",
       "      <th></th>\n",
       "      <th>No</th>\n",
       "      <th>X1 transaction date</th>\n",
       "      <th>X2 house age</th>\n",
       "      <th>X3 distance to the nearest MRT station</th>\n",
       "      <th>X4 number of convenience stores</th>\n",
       "      <th>X5 latitude</th>\n",
       "      <th>X6 longitude</th>\n",
       "      <th>Y house price of unit area</th>\n",
       "    </tr>\n",
       "  </thead>\n",
       "  <tbody>\n",
       "    <tr>\n",
       "      <th>0</th>\n",
       "      <td>1</td>\n",
       "      <td>2012.916667</td>\n",
       "      <td>32.0</td>\n",
       "      <td>84.87882</td>\n",
       "      <td>10</td>\n",
       "      <td>24.98298</td>\n",
       "      <td>121.54024</td>\n",
       "      <td>37.9</td>\n",
       "    </tr>\n",
       "    <tr>\n",
       "      <th>1</th>\n",
       "      <td>2</td>\n",
       "      <td>2012.916667</td>\n",
       "      <td>19.5</td>\n",
       "      <td>306.59470</td>\n",
       "      <td>9</td>\n",
       "      <td>24.98034</td>\n",
       "      <td>121.53951</td>\n",
       "      <td>42.2</td>\n",
       "    </tr>\n",
       "    <tr>\n",
       "      <th>2</th>\n",
       "      <td>3</td>\n",
       "      <td>2013.583333</td>\n",
       "      <td>13.3</td>\n",
       "      <td>561.98450</td>\n",
       "      <td>5</td>\n",
       "      <td>24.98746</td>\n",
       "      <td>121.54391</td>\n",
       "      <td>47.3</td>\n",
       "    </tr>\n",
       "    <tr>\n",
       "      <th>3</th>\n",
       "      <td>4</td>\n",
       "      <td>2013.500000</td>\n",
       "      <td>13.3</td>\n",
       "      <td>561.98450</td>\n",
       "      <td>5</td>\n",
       "      <td>24.98746</td>\n",
       "      <td>121.54391</td>\n",
       "      <td>54.8</td>\n",
       "    </tr>\n",
       "    <tr>\n",
       "      <th>4</th>\n",
       "      <td>5</td>\n",
       "      <td>2012.833333</td>\n",
       "      <td>5.0</td>\n",
       "      <td>390.56840</td>\n",
       "      <td>5</td>\n",
       "      <td>24.97937</td>\n",
       "      <td>121.54245</td>\n",
       "      <td>43.1</td>\n",
       "    </tr>\n",
       "    <tr>\n",
       "      <th>5</th>\n",
       "      <td>6</td>\n",
       "      <td>2012.666667</td>\n",
       "      <td>7.1</td>\n",
       "      <td>2175.03000</td>\n",
       "      <td>3</td>\n",
       "      <td>24.96305</td>\n",
       "      <td>121.51254</td>\n",
       "      <td>32.1</td>\n",
       "    </tr>\n",
       "    <tr>\n",
       "      <th>6</th>\n",
       "      <td>7</td>\n",
       "      <td>2012.666667</td>\n",
       "      <td>34.5</td>\n",
       "      <td>623.47310</td>\n",
       "      <td>7</td>\n",
       "      <td>24.97933</td>\n",
       "      <td>121.53642</td>\n",
       "      <td>40.3</td>\n",
       "    </tr>\n",
       "    <tr>\n",
       "      <th>7</th>\n",
       "      <td>8</td>\n",
       "      <td>2013.416667</td>\n",
       "      <td>20.3</td>\n",
       "      <td>287.60250</td>\n",
       "      <td>6</td>\n",
       "      <td>24.98042</td>\n",
       "      <td>121.54228</td>\n",
       "      <td>46.7</td>\n",
       "    </tr>\n",
       "    <tr>\n",
       "      <th>8</th>\n",
       "      <td>9</td>\n",
       "      <td>2013.500000</td>\n",
       "      <td>31.7</td>\n",
       "      <td>5512.03800</td>\n",
       "      <td>1</td>\n",
       "      <td>24.95095</td>\n",
       "      <td>121.48458</td>\n",
       "      <td>18.8</td>\n",
       "    </tr>\n",
       "    <tr>\n",
       "      <th>9</th>\n",
       "      <td>10</td>\n",
       "      <td>2013.416667</td>\n",
       "      <td>17.9</td>\n",
       "      <td>1783.18000</td>\n",
       "      <td>3</td>\n",
       "      <td>24.96731</td>\n",
       "      <td>121.51486</td>\n",
       "      <td>22.1</td>\n",
       "    </tr>\n",
       "  </tbody>\n",
       "</table>\n",
       "</div>"
      ],
      "text/plain": [
       "   No  X1 transaction date  X2 house age  \\\n",
       "0   1          2012.916667          32.0   \n",
       "1   2          2012.916667          19.5   \n",
       "2   3          2013.583333          13.3   \n",
       "3   4          2013.500000          13.3   \n",
       "4   5          2012.833333           5.0   \n",
       "5   6          2012.666667           7.1   \n",
       "6   7          2012.666667          34.5   \n",
       "7   8          2013.416667          20.3   \n",
       "8   9          2013.500000          31.7   \n",
       "9  10          2013.416667          17.9   \n",
       "\n",
       "   X3 distance to the nearest MRT station  X4 number of convenience stores  \\\n",
       "0                                84.87882                               10   \n",
       "1                               306.59470                                9   \n",
       "2                               561.98450                                5   \n",
       "3                               561.98450                                5   \n",
       "4                               390.56840                                5   \n",
       "5                              2175.03000                                3   \n",
       "6                               623.47310                                7   \n",
       "7                               287.60250                                6   \n",
       "8                              5512.03800                                1   \n",
       "9                              1783.18000                                3   \n",
       "\n",
       "   X5 latitude  X6 longitude  Y house price of unit area  \n",
       "0     24.98298     121.54024                        37.9  \n",
       "1     24.98034     121.53951                        42.2  \n",
       "2     24.98746     121.54391                        47.3  \n",
       "3     24.98746     121.54391                        54.8  \n",
       "4     24.97937     121.54245                        43.1  \n",
       "5     24.96305     121.51254                        32.1  \n",
       "6     24.97933     121.53642                        40.3  \n",
       "7     24.98042     121.54228                        46.7  \n",
       "8     24.95095     121.48458                        18.8  \n",
       "9     24.96731     121.51486                        22.1  "
      ]
     },
     "execution_count": 3,
     "metadata": {},
     "output_type": "execute_result"
    }
   ],
   "source": [
    "# Observando los datos\n",
    "data.head(10)"
   ]
  },
  {
   "cell_type": "code",
   "execution_count": 4,
   "metadata": {
    "scrolled": true
   },
   "outputs": [
    {
     "data": {
      "image/png": "[encoded data removed]",
      "text/plain": [
       "<Figure size 432x288 with 1 Axes>"
      ]
     },
     "metadata": {
      "needs_background": "light"
     },
     "output_type": "display_data"
    }
   ],
   "source": [
    "# Graficando las variables de interes\n",
    "plt.scatter(data['X2 house age'], data['Y house price of unit area'])\n",
    "plt.xlabel('Age [years]')\n",
    "plt.ylabel('Price [dollars/$m^2$]')\n",
    "plt.show()"
   ]
  },
  {
   "cell_type": "markdown",
   "metadata": {},
   "source": [
    "## Regresión Lineal Simple\n",
    "\n",
    "Vamos a suponer que el modelo que queremos encontrar es un modelo lineal de la forma $ h_\\theta(x) = \\theta_0+\\theta_1x$. Donde $x$ representa la variable independiente, que en este caso sería la antiguedad de la vivienda, y $h_\\theta(x)$ es el modelo (o hipótesis) que depende de los paramétros $\\theta:\\{\\theta_0,\\theta_1\\}$. Este modelo se puede interpretar como una función que mapea los datos de entrada $x$ a valores en $y$. En este caso $y$ es la variable dependiente, y representa el precio por $\\text{m}^2$ de la vivienda. El problema ahora radica en encontrar los valores  de los parámetros $\\theta$ que de acuerdo a una métrica dada son capaces de realizar predicciones acertadas.\n",
    "\n",
    "Antes de continuar definamos cierta nomenclatura para poder guiarnos a lo largo de la clase:\n",
    "\n",
    "1. los escalares seran representados por medio de variables tal como $x$ y $y$\n",
    "2. El número de observaciones que se tienen se denominara $m$\n",
    "3. $(x^{(i)},y^{(i)})$ representa la $i$-ésima observación."
   ]
  },
  {
   "cell_type": "markdown",
   "metadata": {},
   "source": [
    "## Función de Costo\n",
    "\n",
    "La idea general para solucionar el problema de regresión planteado en la sección anterior, es: encontrar los parámetros $\\theta$ tal que $h_\\theta(x)$ produce valores cercanos a $y$ para el conjunto de entrenamiento $(x,y)$."
   ]
  },
  {
   "cell_type": "markdown",
   "metadata": {
    "solution": "shown",
    "solution_first": true
   },
   "source": [
    "**Pregunta:** Dado un valor de entrada $x$, ¿Cómo puedo medir que tan cercano de $y$ son los valores que obtengo con $h_\\theta(x)$?"
   ]
  },
  {
   "cell_type": "markdown",
   "metadata": {
    "solution": "hidden"
   },
   "source": [
    "**Solución:** Existen muchas formas de medir esta distancia, se puede usar la distancia euclídiana, u otro tipo de métrica que me permita medir distancias. Sin embargo, una de las más utilizadas es el *error cuadratico medio (Mean Least Squares)*."
   ]
  },
  {
   "cell_type": "markdown",
   "metadata": {
    "solution": "hidden"
   },
   "source": [
    "### Error Cuadrático Medio\n",
    "\n",
    "En nuestro problema de regresión el error cuadrático medio se define cómo:\n",
    "\n",
    "$$e_{LS}(\\theta)=\\frac{1}{m}\\sum_{i=1}^{m}[h_\\theta(x^{(i)})-y^{(i)}]^2.$$"
   ]
  },
  {
   "cell_type": "markdown",
   "metadata": {},
   "source": []
  },
  {
   "cell_type": "markdown",
   "metadata": {},
   "source": [
    "Una **función de costo** es una función que me indica cual es el costo que incurre el modelo por seleccionar un conjunto de parametros $\\theta$. La función de costo para nuestro problema de regresión será el error cuadrático medio. Tradicionalmente la función de costo se expresa con la letra $J$. De esta forma, el problema de regresión se enfoca en encontrar el conjunto de parametros $\\theta$ que minimiza la función de costo, o en otras palabras se debe solucionar:\n",
    "\n",
    "$$ \\min_{\\theta_0,\\theta_1}J(\\theta_0,\\theta_1) $$\n",
    "\n",
    "$$ \\begin{equation}\n",
    "   \\begin{split}\n",
    "      s.t.  \\quad & J(\\theta) = \\frac{1}{m}\\sum_{i=1}^{m}\\left[h_\\theta(x^{(i)})-y^{(i)}\\right]^2,\\\\\n",
    "            \\quad & h_\\theta(x) = \\theta_0+\\theta_1x\n",
    "   \\end{split}\n",
    "   \\end{equation}$$"
   ]
  },
  {
   "cell_type": "markdown",
   "metadata": {},
   "source": [
    "### ¿Cómo luce la función de costo con múltiple variables?\n",
    "\n",
    "En este caso nuestra función de costo es convexa, lo cual implica que podemos encontrar un mínimo global, la forma de está función de costo es un paraboloide, como se muestra en la siguiente figura.\n",
    "\n",
    "![title](img/Cost_Contour.png)\n",
    "\n",
    "Ahora tratemos de ubicar cual es el valor de la funcion de costo para diferentes parámetros, así mismo como la salida del modelo.\n",
    "\n",
    "![title](img/Cost_Contour_Test.png)"
   ]
  },
  {
   "cell_type": "markdown",
   "metadata": {
    "solution": "hidden",
    "solution_first": true
   },
   "source": [
    "**Pregunta:** <font color='green'> Suponga que para diferentes combinaciones de parámetros ${\\theta_0, \\theta_1}$ al ubicar el costo estos se encuentran sobre el mismo contorno, ¿Qué podemos concluir? </font>"
   ]
  },
  {
   "cell_type": "markdown",
   "metadata": {
    "solution": "hidden"
   },
   "source": [
    "**Solución:** Si esto sucede, esto significa que para todas estas combinaciones de parámetros el error de predicción del modelo es el mismo. Es decir, esas combinaciones de parámetros producen el mismo costo."
   ]
  },
  {
   "cell_type": "markdown",
   "metadata": {},
   "source": [
    "## Aprendizaje de los Parámetros\n",
    "\n",
    "En esta sección estudiaremos dos formas para poder _\"aprender\"_ cuales son los parámetros óptimos de nuestro modelo de regresión lineal. El pimer método es _algebraico_ y el segundo método es un algoritmo de búsqueda utilizando técnicas de optimización.\n",
    "\n",
    "### Soluciones de Forma Canónica\n",
    "\n",
    "El probrema de regresión lineal planteado en este ejercicio posee una solución canónica. Esto se debe a la forma de la superficie del error (Función de costo). Antes de continuar, para poder entender la relación entre el problema y el álgebra lineal, extendamos un poco la notación que hemos usado hasta el momento:\n",
    "\n",
    "1. Todos los vectores que trabajaremos son vectores columna y se representaran por letras minúsculas en negrita.\n",
    "2. El vector $\\mathbf{x}=[x^{(1)},\\ldots,x^{(m)}]^T$ es un vector que contiene todas las $m$ observaciones de la variable independiente. Este vector esta embebido en un espacio $m$-dimensional, es decir $\\mathbf{x}\\in\\mathbb{R}^m$.\n",
    "2. El vector $\\mathbf{y}=[y^{(1)},\\ldots,y^{(m)}]^T$ es un vector que contiene todas las observaciones de la variable dependiente, y $\\mathbf{y}\\in\\mathbb{R}^m$.\n",
    "3. El vector $\\mathbf{1}_m$ es un vector columna con $m$ elementos, y todos sus elementos son unos, y $\\mathbf{1}_m\\in\\mathbb{R}^m$\n",
    "4. Las matrices se representan por medio de letras mayusculas en negrita.\n"
   ]
  },
  {
   "cell_type": "markdown",
   "metadata": {
    "solution": "hidden",
    "solution_first": true
   },
   "source": [
    "Con la notación que hemos definido ahora podemos tratar de convertir todas nuestras ecuaciones en forma matricial.\n",
    "\n",
    "**Pregunta:**  <font color='green'> Nuestro modelo esta definido por $h_\\theta(x^{(i)}) = x^{(i)}*\\theta_1+\\theta_0$. este modelo produce por cada valor de $x$ un valor de salida. Utilizando vectores, es posible escribir esta ecuación de tal forma que se pueda encontrar la salida del modelo para varios valores $x$ en una sola operación. Plantee como quedaria este modelo utilizando producto de matrices y vectores. </font>"
   ]
  },
  {
   "cell_type": "markdown",
   "metadata": {
    "solution": "hidden"
   },
   "source": [
    "**Solución:** El modelo en forma matricial queda expresado como $\\mathbf{h_\\theta}=[\\mathbf{x}\\:\\mathbf{1}]\\boldsymbol{\\theta}$, donde $\\boldsymbol{\\theta}=[\\theta_1 \\quad \\theta_0]^{T}$, $\\theta\\in\\mathbb{R}^2$. Simplificando un poco más el modelo se puede definir $\\mathbf{A} = [\\mathbf{x} \\: \\mathbf{1}]$ como la matriz de regresores, las dimensiones de esta matrix son $m\\times2$, es decir $\\mathbf{A}\\in\\mathbb{R}^{m\\times2}$. De esta forma el modelo se simplifica a $\\mathbf{h_\\theta}=\\mathbf{A}\\boldsymbol{\\theta}$."
   ]
  },
  {
   "cell_type": "markdown",
   "metadata": {},
   "source": [
    "Nota:\n",
    "En la notación usada, la matriz de regresores $\\mathbf{A} = [\\mathbf{x}\\:\\mathbf{1}] $, es una matriz construida por los vectores columna. Esto es, con $m =2$,\n",
    "\n",
    "$$ \n",
    "\\mathbf{A} = [\\mathbf{x}\\:\\mathbf{1}] = \n",
    "\\begin{pmatrix}\n",
    "x^{(1)} & 1 \\\\\n",
    "x^{(2)} & 1\n",
    "\\end{pmatrix} .$$\n"
   ]
  },
  {
   "cell_type": "markdown",
   "metadata": {
    "solution": "shown",
    "solution_first": true
   },
   "source": [
    "**Pregunta:**  <font color='green'>¿Como se define la función de costo de forma matricial?</font>"
   ]
  },
  {
   "cell_type": "markdown",
   "metadata": {
    "solution": "shown"
   },
   "source": [
    "**Solución:** antes de definir la funcion de costo, definamos el error de estimación $\\mathbf{e}=\\mathbf{A}\\boldsymbol{\\theta}-\\mathbf{y}$, donde $\\mathbf{e}\\in\\mathbb{R}^m$. De esta forma la función de costo estaría dada por $J(\\boldsymbol{\\theta}) = \\frac{1}{m}\\mathbf{e}^\\text{T}\\mathbf{e}$, donde $e^{T}$ representa la transpuesta."
   ]
  },
  {
   "cell_type": "markdown",
   "metadata": {},
   "source": [
    "#### Entendiendo la función de costo\n",
    "\n",
    "El objetivo de la función de costo del error cuadratico medio es minimizar la magnitud del error de aproximación. Ese error esta dado por las distancias calculadas entre la predicción del modelo y las observaciones. En la siguiente gráfica se presenta de forma más intuitiva este error.\n",
    "\n",
    "![title](img/Error_Regresion.png)"
   ]
  },
  {
   "cell_type": "markdown",
   "metadata": {},
   "source": [
    "Si consideramos que el error esta embebido en un espacio $m$-dimensional, entonces cada uno de los $m$ puntos de la función de error representa el valor que debe tomar en cada una de las coordenadas de ese espacio. Por lo tanto, si quiero calcular la magnitud del error, utilizo el producto punto, ya que $||\\mathbf{e}||^2=\\mathbf{e}^\\text{T}\\mathbf{e}$."
   ]
  },
  {
   "cell_type": "markdown",
   "metadata": {},
   "source": [
    "Por otro lado, si despejamos la variable independiente de la ecuación del error obtenemos la siguiente expresion $\\mathbf{y} = \\mathbf{A}\\boldsymbol{\\theta}+\\mathbf{e}$. Esta ecuación nos indica que el vector $\\mathbf{y}$ se obtiene de la suma de dos vectores, uno que se encuentra embebido en el espacio de columnas de la matrix de regresores y que se calcula como $\\mathbf{A}\\boldsymbol{\\theta}$, y otro que es el vector del error $\\mathbf{e}$. Debido a que queremos minimizar el error tenemos que encontrar los parámetros $\\theta$ que produzcan el error de menor magnitud posible. El vector del error de magnitud más pequeña que se puede encontrar y que conecte al vector $\\mathbf{A}\\boldsymbol{\\theta}$ con el vector $\\mathbf{y}$, es el vector que es perpendicular al espacio de columnas de $\\mathbf{A}$. Es decir, al utilizar como función de costo el error cuadratico medio (la magnitud del vector de error) lo que estamos haciendo es encontrar la combinacion de parámetros $\\mathbf{\\theta}$ que producen la proyección ortogonal de $\\mathbf{y}$ sobre el espacio de columnas de $\\mathbf{A}$."
   ]
  },
  {
   "cell_type": "markdown",
   "metadata": {},
   "source": [
    "Nota: \n",
    "- ¿qué es el espacio de columnas?\n",
    "- porque multiplicar en ambos lados de la ecuación por $\\mathbf{x}^{T}$?"
   ]
  },
  {
   "cell_type": "markdown",
   "metadata": {},
   "source": [
    "<!-- ![title](img/Proyection.png) -->\n",
    "<img src=\"img/Proyection.png\" width=\"500\">"
   ]
  },
  {
   "cell_type": "markdown",
   "metadata": {
    "solution": "hidden",
    "solution_first": true
   },
   "source": [
    "#### Minimizando la función de costo\n",
    "\n",
    "Ahora procedamos a minimizar la función de costo y encontrar la solución canónica a nuestro problema de regresión.\n",
    "\n",
    "**Pregunta:** \n",
    "<font color='green'>\n",
    "si mi función de costo esta dada por $J(\\boldsymbol{\\theta})=\\frac{1}{m}\\mathbf{e}^\\text{T}\\mathbf{e}$, con $\\mathbf{e}=\\mathbf{y}-\\mathbf{A}\\boldsymbol{\\theta}$ ¿Cuál es el valor de $\\theta$ que minimiza esa función de costo?\n",
    "</font>"
   ]
  },
  {
   "cell_type": "markdown",
   "metadata": {
    "solution": "hidden"
   },
   "source": [
    "**Solución:** La solución debe dar $\\boldsymbol{\\hat\\theta}=\\left(\\mathbf{A}^\\text{T}\\mathbf{A}\\right)^{-1}\\mathbf{A}^\\text{T}\\mathbf{y}$. En la práctica, para evitar errores númericos, debido al mal acondicionamiento de matrices (cercanas a matrices singulares) se utiliza la pseudo-inversa, en lugar de la inversa. La pseudo inversa de la matrix $\\mathbf{A}$ se define como $\\mathbf{A}^+$. De esa forma, la solución esta dada por $\\boldsymbol{\\hat\\theta}=\\left(\\mathbf{A}^\\text{T}\\mathbf{A}\\right)^{+}\\mathbf{A}^\\text{T}\\mathbf{y}$."
   ]
  },
  {
   "cell_type": "markdown",
   "metadata": {},
   "source": [
    "Nota: [Sobre la pseudo inversa](https://ocw.uc3m.es/matematicas/algebra-lineal/teoria/algebra_teoria_14.pdf) "
   ]
  },
  {
   "cell_type": "markdown",
   "metadata": {},
   "source": [
    "#### Regresión en la práctica\n",
    "\n",
    "Ahora vamos a aplicar está solución a nuestro ejemplo base."
   ]
  },
  {
   "cell_type": "code",
   "execution_count": 6,
   "metadata": {},
   "outputs": [
    {
     "name": "stdout",
     "output_type": "stream",
     "text": [
      "[[-0.25148842]\n",
      " [42.43469705]]\n"
     ]
    }
   ],
   "source": [
    "ones = np.ones((len(data),1))\n",
    "x = data[['X2 house age']].values\n",
    "y = data[['Y house price of unit area']].values\n",
    "A = np.hstack((x,ones))\n",
    "\n",
    "theta = ( pinv(A.T @ A) @ A.T ) @ y\n",
    "print(theta)"
   ]
  },
  {
   "cell_type": "markdown",
   "metadata": {},
   "source": [
    "Graficando los resultados del modelo"
   ]
  },
  {
   "cell_type": "code",
   "execution_count": 7,
   "metadata": {},
   "outputs": [],
   "source": [
    "h = A @ theta"
   ]
  },
  {
   "cell_type": "code",
   "execution_count": 9,
   "metadata": {},
   "outputs": [
    {
     "data": {
      "image/png": "[encoded data removed]",
      "text/plain": [
       "<Figure size 432x288 with 1 Axes>"
      ]
     },
     "metadata": {
      "needs_background": "light"
     },
     "output_type": "display_data"
    }
   ],
   "source": [
    "# Graficando las variables de interes\n",
    "plt.scatter(data['X2 house age'], data['Y house price of unit area'])\n",
    "plt.xlabel('Age [years]')\n",
    "plt.ylabel('Price [dollars/$m^2$]')\n",
    "plt.plot(x,h,'r')"
   ]
  },
  {
   "cell_type": "markdown",
   "metadata": {},
   "source": [
    "FUNCIONA!!!"
   ]
  },
  {
   "cell_type": "markdown",
   "metadata": {},
   "source": [
    "**Pregunta:** $\\color{green}{\\text{¿Qué problemas presenta la solución canonica?}}$"
   ]
  },
  {
   "cell_type": "markdown",
   "metadata": {},
   "source": [
    "**Solución:** Existen dos grandes restricciones:\n",
    "\n",
    "1. La solución canónica requiere calcular la inversa de una matrix cuadrada de dimensión $n\\times n$, con $n$ el número de columnas de la matrix de regresores, lo cual es una operación del orden $\\mathcal{O}(n^3)$. Por lo tanto, cuando se tienen muchos regresores, este problema tardaría mucho tiempo en resolverse y requeriria muchos recursos computacionales (memoria). Los sistemas de computo actuales pueden resolver inversas de matrices del orden $10.000 \\times 10.000$ en un tiempo razonable. Sin embargo, si esto aumenta, el problema se vuelve cada vez más difícil de solucionar con los recursos computacionales actuales.\n",
    "\n",
    "2. Esta solución canónica solamente funciona para encontrar el mínimo de la función de costo de error cuadrático medio y funciones afines. Por lo cual, sería interesante encontrar un método que permita encontrar los parámetros de una función de costo, independiente de la forma de esta función."
   ]
  },
  {
   "cell_type": "markdown",
   "metadata": {},
   "source": [
    "### Gradiente Descendiente\n",
    "\n",
    "Debido a las limitaciones que puede tener la solución canónica del problema de regresión lineal, surge la necesidad de crear un algoritmo que se pueda utilizar independientemente si se tienen muchos regresores, o si la superficie de la función de costo no es convexa. El algoritmo más sencillo y popular que hace esta tarea es **gradiente descendiente**.\n",
    "\n",
    "La idea general de los algortimos de optimización es la siguiente:\n",
    "1. Inicializar los parámetros $\\{\\theta_0,\\theta_1\\}$\n",
    "2. Continuar cambiando los parametros para reducir la función de costo $J(\\theta_0,\\theta_1)$ hasta que converja a un valor mínimo (se llega a un valor mínimo o se estabiliza la reducción en la función de costo).\n",
    "\n",
    "**Nota:** Este procedimiento aplica también para funciones de costo que dependan de muchas más variables.\n",
    "\n",
    "![item](img/Grad_Desc.jpeg)\n",
    "\n",
    "Es importante observar que, dependiendo de la forma de la superficie de la función de costo, es posible que al inicializar el algoritmo con parámetros iniciales diferentes la función converja a otro mínimo local."
   ]
  },
  {
   "cell_type": "markdown",
   "metadata": {
    "solution": "hidden",
    "solution_first": true
   },
   "source": [
    "**Pregunta:** $\\color{green}{\\text{¿En qué dirección debo desplazar los parámetros para lograr que la función de costo disminuya?}}$ \n",
    "$\\color{green}{\\text{en otras palabras ¿Cómo debo cambiar los parámetros para que la función de costo disminuya?}}$"
   ]
  },
  {
   "cell_type": "markdown",
   "metadata": {
    "solution": "hidden"
   },
   "source": [
    "**Solución:** En la dirección contraria al gradiente de la función de costo. \n",
    "\n",
    "![item](img/Grad_Desc_LC.png)"
   ]
  },
  {
   "cell_type": "markdown",
   "metadata": {
    "solution": "hidden"
   },
   "source": [
    "Como se puede observar, la idea es actualizar los pesos en dirección contraria al gradiente de la función. Esto se expresa de la siguiente forma:\n",
    "\n",
    "$$\\theta_j := \\theta_j-\\alpha \\frac{\\partial}{\\partial\\theta_j}J(\\boldsymbol{\\theta}) $$\n",
    "\n",
    "Donde $\\boldsymbol{\\theta} = [\\theta_0 \\: \\theta_1]$, $\\alpha$ se denomina la tasa de aprendizaje (o la constante de aprendizaje) y siempre $\\alpha>0$, y el simbolo $:=$ representa una asignación.\n",
    "\n",
    "\n",
    "Es importante tener en cuenta que al realizar este procedimiento, las asignaciones se hagan todas de una sola vez, o que primero que calculen todos los valores de actualización y después se haga la asignación. Esto sucede porque la función de costo depende de todos los parámetros, y si actualizamos uno de ellos y lo usamos para actualizar el siguiente, entonces nos estamos moviendo en la superficie de la función de costos y ya el valor del gradiente no es el mismo.\n",
    "\n",
    "Nota: algunas veces se suele emplear la letra $\\eta$ para representar la tasa de aprendizaje."
   ]
  },
  {
   "cell_type": "markdown",
   "metadata": {},
   "source": [
    "#### Intuición alrededor del Gradiente Descendiente\n",
    "\n",
    "Supongamos que se tiene una función de costo que depende de una sola variable $\\theta_1$. Entonces la ecuación de actualización del parámetro esta dada por:\n",
    "\n",
    "$$\\theta_1 := \\theta_1-\\alpha\\frac{d}{d\\theta_1}J(\\theta_1)$$"
   ]
  },
  {
   "cell_type": "markdown",
   "metadata": {
    "solution": "hidden",
    "solution_first": true
   },
   "source": [
    "**Pregunta:** <font color='green'> ¿Supongamos que nuestra funcion de costo es una parabola, ¿Explique como funciona gradient descent si al inicializar $\\theta_1$ nos ubicamos a la izquierda o a la derecha del minimo. </font>"
   ]
  },
  {
   "cell_type": "markdown",
   "metadata": {
    "solution": "hidden"
   },
   "source": [
    "**Solución:** Independientemente de donde este ubicado el parámetro inicial siempre se actualizará en la dirección donde el minimo esta ubicado.\n",
    "\n",
    "![title](img/GD_izq.png)\n",
    "![title](img/GD_der.png)"
   ]
  },
  {
   "cell_type": "markdown",
   "metadata": {
    "solution": "hidden",
    "solution_first": true
   },
   "source": [
    "**Preguntas:** <font color='green'> ¿Cúal es el efecto de la taza de aprendizaje en el algortimo?¿Qué sucede si es muy grande o si es muy pequeña?¿Cómo se define muy grande o muy pequeño?</font>"
   ]
  },
  {
   "cell_type": "markdown",
   "metadata": {
    "solution": "hidden"
   },
   "source": [
    "**Solución:** La gráfica de abajo explica la primera y la segunda pregunta. Con respecto a la tercer pregunta, depende de los datos, ela varianza de los datos de entrada influencia la derivada y está a su vez afecta el paso de actualización. Note que aunque la taza de aprendizaje se deje fija, si su valor es el adecuado el algoritmo va a converger al mínimo.\n",
    "\n",
    "![title](img/LearningRateEffect.png)"
   ]
  },
  {
   "cell_type": "markdown",
   "metadata": {
    "solution": "hidden",
    "solution_first": true
   },
   "source": [
    "**Pregunta:**  <font color='green'> la siguiente figura muestra la evolución de la función de costo a medida que se actualizan los valores de los parámettros. Explique por qué se le relaciona a cada curva la condición determinada de la taza de aprendizaje.</font>\n",
    "\n",
    "<div class=\"alert alert-block alert-info\">\n",
    "<b>Nota:</b> La abcisa de la figura representa las epocas y no el parámetro que cambia, esta es una gráfica de la función de costo <i>vs</i> epoca. Una epoca se refiere a una actalización completa de todos los paramétros del modelo.\n",
    "</div>\n",
    "\n",
    "![item](img/Cost_Ephocs.png)\n"
   ]
  },
  {
   "cell_type": "markdown",
   "metadata": {
    "solution": "hidden"
   },
   "source": [
    "**Solución:** Revisar lo que sucede en las gráficas de la pregunta anterior."
   ]
  },
  {
   "cell_type": "markdown",
   "metadata": {
    "solution": "hidden",
    "solution_first": true
   },
   "source": [
    "**Pregunta** <font color='green'> ¿qué pasa si el parámetro se inicializa en un mínimo de la función de costo?</font>"
   ]
  },
  {
   "cell_type": "markdown",
   "metadata": {
    "solution": "hidden"
   },
   "source": [
    "**Solución:** El valor del parámetro no cambia, ya ha llegado al mínimo."
   ]
  },
  {
   "cell_type": "markdown",
   "metadata": {},
   "source": [
    "#### Ecuaciones del Gradiente Descendiente para la Regresión Lineal\n",
    "\n",
    "Para calcular las ecuaciones del gradiente descendiente debemos saber cual es el valor del gradiente de la función de costo. El gradiente de la función de costo se puede establecer por la derivada parcial de la función respecto a cada parámetro:\n",
    "\n",
    "$$\\frac{\\partial}{\\partial\\theta_j}J(\\theta_0,\\theta_1) = \\frac{\\partial}{\\partial\\theta_j}\\frac{1}{2m}\\sum_{i=1}^{m}\\left[h_\\theta(x^{(i)})-y^{(i)}\\right]^2,$$\n",
    "\n",
    "el número 2 que se inserta ayuda a simplificar una constante que aparece más adelante. Teniendo en cuenta que $h_\\theta(x^{(i)}) = \\theta_0+\\theta_1x^{(i)}$, entonces las respectivas derivadas son:\n",
    "\n",
    "$$ \\begin{equation}\n",
    "   \\begin{split}\n",
    "      \\theta_0 &= \\theta_0-\\alpha\\frac{1}{m}\\sum_{i=1}^{m}\\left[h_\\theta(x^{(i)})-y^{(i)}\\right]\\\\\n",
    "      \\theta_1 &= \\theta_1-\\alpha\\frac{1}{m}\\sum_{i=1}^{m}\\left[h_\\theta(x^{(i)})-y^{(i)}\\right]x^{(i)}\n",
    "   \\end{split}\n",
    "   \\end{equation}$$"
   ]
  },
  {
   "cell_type": "markdown",
   "metadata": {},
   "source": [
    "De la actualización se puede observar lo siguiente:\n",
    "1. La actualización para $\\theta_0$ trata de hacer que el error tenga media cero, entonces corrige por el offset que ocasiona este parámetro.\n",
    "2. La actualización para $\\theta_1$ trata de corregir la pendiente, de tal forma que el valor medio de corrección por la pendiente sea cero.\n",
    "\n",
    "<div class=\"alert alert-block alert-info\">\n",
    "<b>Nota:</b> Este algoritmo de gradiente descendiente se conoce como <b>BATCH</b> Gradient Descent, esto significa que usa todo el conjunto de datos de entrenamiento para realizar la actualización. Algunos algoritmos usan sólo un subconjunto de los datos de entrenamiento para su actualización, esos son versiones modificadas del gradient descent.\n",
    "</div>"
   ]
  },
  {
   "cell_type": "markdown",
   "metadata": {},
   "source": [
    "## Regresión Lineal Multivariable\n",
    "\n",
    "En esta sección trataremos el caso cuando tenemos varios regresores (variables independientes). Para poder continuar adicionaremos algunas definiciones a la nomenclatura:\n",
    "\n",
    "1. m es el número de observaciones (ejemplos de entrenamiento)\n",
    "2. n es el número de características (regresores)\n",
    "3. $x_j^{(i)}$ es el valor de la característica (regresor) $j$ en la $i$-ésima observación.\n",
    "4. $\\mathbf{x}^{(i)}$ es el vector de características (regresores) de la $i-$ésima observación, y $\\mathbf{x} \\in \\mathbb{R}^n$.\n",
    "5. $\\boldsymbol{\\theta}$ es un vector columna con $n+1$, $\\boldsymbol{\\theta} \\in \\mathbb{R}^{n+1}$. (El $+1$ proviene del vector de unos que acompaña a $\\theta_0$).\n",
    "\n",
    "Ahora nuestro modelo contiene $n$ regresores y es de la forma:\n",
    "\n",
    "$$h_\\theta(x)= \\theta_0+\\theta_1x_1+\\ldots+\\theta_nx_n.$$\n",
    "\n",
    "Lo cual se puede representar de forma vectorial como:\n",
    "\n",
    "$$\\mathbf{h_\\theta(x)}= \\mathbf{\\theta}^{T}[1; \\mathbf{x}].$$"
   ]
  },
  {
   "cell_type": "markdown",
   "metadata": {},
   "source": [
    "Nota:\n",
    "\n",
    "$$h_\\theta(x)= \\theta_0+\\theta_1x_1+\\ldots+\\theta_nx_n =   \\mathbf{\\theta}^{T}[1 \\quad \\mathbf{x}]^{T}.$$"
   ]
  },
  {
   "cell_type": "markdown",
   "metadata": {},
   "source": [
    "### Solución canónica para Regresión Lineal Multivariable\n",
    "\n",
    "La solución para la regresión lineal múltivariable tiene la misma forma que la solución encontrada anteriormente. La única diferencia es que la matrix de regresores ahora esta formada por $\\mathbf{A} = [\\mathbf1_m \\: \\mathbf{X}]$, donde $\\mathbf{X} = [\\mathbf{x}^{(1)}\\: \\ldots\\: \\mathbf{x}^{(m)}]^\\text{T}$.\n",
    "\n",
    "De esta forma la solución sigue estando dada por:\n",
    "$$\\boldsymbol{\\hat\\theta}=\\left(\\mathbf{A}^\\text{T}\\mathbf{A}\\right)^{+}\\mathbf{A}^\\text{T}\\mathbf{y}.$$\n",
    "\n",
    "Con $\\boldsymbol{\\hat\\theta} \\in \\mathbb{R}^{n+1}$."
   ]
  },
  {
   "cell_type": "markdown",
   "metadata": {
    "solution": "hidden",
    "solution_first": true
   },
   "source": [
    "**Pregunta:** $\\color{green}{\\text{¿Qué sucede si hay multicolinearidad?}}$\n",
    "\n",
    "**Nota:** Multicolinearidad significa que dos o mas columnas de la matrix de regresores son linealmente dependientes."
   ]
  },
  {
   "cell_type": "markdown",
   "metadata": {
    "solution": "hidden"
   },
   "source": [
    "**Solución:** Si esto sucede, entonces, la matriz de  Gram (calculada como $A^\\text{T}A$) tiene deficiencia de rango, y por lo tanto no es invertible. Esto también sucede si se tienen muchas variable de entrada y pocas observaciones $m < n$."
   ]
  },
  {
   "cell_type": "markdown",
   "metadata": {},
   "source": [
    "### Gradiente Descendiente para Regresión Lineal multivariable\n",
    "\n",
    "Siguiendo el mismo análisis anterior, las ecuaciones de actualización par alos parámetros utilizando gradiente descendiente son:\n",
    "\n",
    "$$ \\begin{equation}\n",
    "   \\begin{split}\n",
    "      \\theta_0 &= \\theta_0-\\alpha\\frac{1}{m}\\sum_{i=1}^{m}\\left[h_\\theta(x^{(i)})-y^{(i)}\\right]x_0^{(i)}\\\\\n",
    "      \\theta_1 &= \\theta_1-\\alpha\\frac{1}{m}\\sum_{i=1}^{m}\\left[h_\\theta(x^{(i)})-y^{(i)}\\right]x_1^{(i)}\\\\\n",
    "      &  \\vdots\\\\\n",
    "      \\theta_n &= \\theta_n-\\alpha\\frac{1}{m}\\sum_{i=1}^{m}\\left[h_\\theta(x^{(i)})-y^{(i)}\\right]x_n^{(i)}\\\\\n",
    "   \\end{split}\n",
    "   \\end{equation}$$\n",
    "   \n",
    "Donde $x_0^{(i)}= 1$ para todo $i$."
   ]
  },
  {
   "cell_type": "markdown",
   "metadata": {
    "solution": "hidden"
   },
   "source": [
    "## $\\color{orange}{\\text{TAREA}}$\n",
    "\n",
    "**Punto 1.** Para la siguiente clase realicé una implementación en python del algoritmo del gradiente descendiente. Esta implementación debe solucionar el problema de regresión que se trabajo en clase. Se debe tener en cuenta lo siguiente:\n",
    "\n",
    "1. Debe realizar la implementación en un notebook de jupyter.\n",
    "2. La implementación debe ser interactiva. Es decir, que el usuario deberia poder modificar la tasa de aprendizaje por medio de un elemento de interacción, para esto estudie la libreria _ipywidgets_.\n",
    "3. Se debe hacer una gráfica de la función de costo a medida que se actualizan los parámetros, de tal forma que se pueda observar como cambia la función de costo a medida que los parámetros varían.\n",
    "4. Realicé la implementación para que funcione también para regresión múltiple.\n",
    "\n",
    "**Punto 2.** Implemente la regresion lineal multivariable para encontrar un modelo para estimar el precio de una casa utilizando como regresores las variables $X_2, X_3,$ y $X_4$. ¿Cómo puede evaluar si el modelo multivariable tiene mejores resultados que el modelo univariable?"
   ]
  },
  {
   "cell_type": "markdown",
   "metadata": {},
   "source": [
    "### Comparación entre gradiente descendiente y la solución canonica\n",
    "\n",
    "\n",
    "|Gradiente Descendiente | Solución canónica |\n",
    "| --- | --- |\n",
    "| Debe definir $\\alpha$ | No hay necesidad de $\\alpha$|\n",
    "| Necesita muchas iteraciones | Soluciona en una sola iteración|\n",
    "| $\\mathcal{O}(kn^2)$ | $\\mathcal{O}(n^3)$|\n",
    "| Trabaja bien para valores de $n$ grandes | Trabaja lentamente (o no se puede calcular) para $n$ grande|"
   ]
  },
  {
   "cell_type": "markdown",
   "metadata": {
    "solution": "hidden",
    "solution_first": true
   },
   "source": [
    "## Más allá de la Regresión Lineal\n",
    "\n",
    "El modelo lineal que utilizamos en el caso de regresión lineal multivariable se peude extender para regresiones no lineales. El modelo esta expresado por:\n",
    "\n",
    "$$h_\\theta(x)= \\theta_0+\\theta_1x_1+\\ldots+\\theta_nx_n.$$\n",
    "\n",
    "**Pregunta:** ¿Cómo se puede hacer esto?"
   ]
  },
  {
   "cell_type": "markdown",
   "metadata": {
    "solution": "hidden"
   },
   "source": [
    "**Solución:** EL modelo debe ser lineal en los parámetros $\\theta$, por lo tanto se pueden modificar los regresores como se desee, por ejemplo se podria utilizar un modelo de la forma:\n",
    "\n",
    "$$h_\\theta(x)= \\theta_0+\\theta_1x_1+\\theta_2x_1^2.$$\n",
    "\n",
    "Este modelo ajustaria las mediciones $y$ a una parabola cuya variable de entrada es $x_1$. Este modelo no es un modelo lineal con respecto a la variable de entrada $x_1$, pero es lineal con respecto a los parametros $\\theta$. De esa forma se puede colocar cualquier tipo de transformación no lineal a los regresores para obtener un modelo deseado."
   ]
  },
  {
   "cell_type": "markdown",
   "metadata": {
    "solution": "hidden",
    "solution_first": true
   },
   "source": [
    "**Pregunta:** ¿Qué significa que un modelo sea lineal?"
   ]
  },
  {
   "cell_type": "markdown",
   "metadata": {
    "solution": "hidden"
   },
   "source": [
    "**Solución:** Un modelo e slineal si cumple dos principios, el de superposición y el de homogeneidad, de form aresumida si:\n",
    "\n",
    "$$h(a\\theta_1+b\\theta_2) = ah(\\theta_1)+bh(\\theta_2).$$"
   ]
  },
  {
   "cell_type": "markdown",
   "metadata": {},
   "source": [
    "## Normalización\n",
    "\n",
    "Cuando se utiliza gradiente descendiente es importante tener en cuenta la normalización de los regresores. Esto se debe, a que las variaciones de algunas columnas de la matrix de regresores pueden absorber las variaciones de otras columnas. Al normalizar se garantiza que las variaciones sean similares en todas las columnas, de esta forma la función de costo que se obtiene se acerca más a un paraboloide circular. Es importante observar que la columna de unos no se debe normalizar, ya que ésta es un valor constante. Normalizarla puede hacer que se convierta en una columna de ceros, o que no este definida, lo cual trae problemas al realizar al regresión. \n",
    "\n",
    "Como ejemplo consideremos el siguiente caso, inicialmente se tiene una variable $x$ que varia entre cero y 10, al realizar una grafica de la función de costo obtenemos la siguiente figura:\n",
    "\n",
    "![item](img/Cost_not_Normalized.png)\n",
    "\n",
    "Sin embargo, si al normalizar graficamos la función de costo obtenemos:\n",
    "\n",
    "![item](img/Cost_Normalized.png)\n",
    "\n",
    "Se puede observar que al normalizar la función de costo se asemeja más a un paraboloide circular."
   ]
  },
  {
   "cell_type": "markdown",
   "metadata": {
    "solution": "hidden",
    "solution_first": true
   },
   "source": [
    "**Pregunta:** $\\color{green}{\\text{¿Qué puede decir del efecto de la normalización sobre la función de costo?}}$"
   ]
  },
  {
   "cell_type": "markdown",
   "metadata": {
    "solution": "hidden"
   },
   "source": [
    "**Solución:** Se puede ver que la dirección de mayor variación es menos sensible a los cambios en los parámetros. Esto es debido a que los cambios serán muy pequeños en relación a la magnitud del vector. Imaginen que $\\boldsymbol\\theta$ esta embebido en un espacio $\\mathbb{R}^{n+1}$, por lo tanto actualizar estos parámetros implica mover ese vector en este espacio, si hay una dirección que no es muy relevante (porque su magnitud es muy pequeña comparada con la del vector), entonces cualquier desplazamiento por pequeño que sea puede tener un efecto grande en esta dirección. También si se observa desde el punto de vista del gradiente descendiente, unas derivadas van a ser más eficientes que otras a la hora de realizar las actualizaciones. En sí si no se normaliza el algoritmo aun convege, solo que al normalizar se converge más rápido."
   ]
  },
  {
   "cell_type": "markdown",
   "metadata": {},
   "source": [
    "### ¿Cómo se utiliza la regresión si he normalizado?\n",
    "\n",
    "Si se han normalizado los regresores se debe tener cuidado a la hora de producir resultados de nuestra regresión. Esto debido a que al normalizar no estamos usando los regresores tal como se midieron, por esta razón al evaluar el modelo los nuevos datos de entrada deben ser escalados de la misma forma, para garantizar que la salida es consistente. Tal como se explica en el diagrama de bloques, primero se debe realizar el entrenamiento:\n",
    "\n",
    "![item](img/Entrenamiento.png)\n",
    "\n",
    "Una vez se ha encontrado el conjunto de parámetros óptimo se procede a realizar la implementación del modelo:\n",
    "\n",
    "![item](img/Prueba.png)\n"
   ]
  },
  {
   "cell_type": "markdown",
   "metadata": {},
   "source": [
    "## Regularización\n",
    "\n",
    "Supongamos se tiene un conjunto de datos que siguen el modelo $h(x) = 2+x+2x^2$. Este es un modelo de segundo orden, las observaciones (mediciones) que tomamos estan contaminadas por una señal aleatoria, por lo cual estas mediciones no coinciden exactamente con el valor del modelo. Un ejemplo de como lucen estos datos se encuentra en el siguiente codigo:"
   ]
  },
  {
   "cell_type": "code",
   "execution_count": 30,
   "metadata": {},
   "outputs": [],
   "source": [
    "import random\n",
    "\n",
    "# Creando un vector de numeros entre -1 y 1\n",
    "x = np.linspace(-1,1,num=100)\n",
    "x = x[:,np.newaxis] # volviendo el vector a columna\n",
    "noise = np.random.uniform(-0.5,0.5, (100,1)) #vector de ruido\n",
    "# creando el vector de mediciones, segun el modelo especificado\n",
    "y = 2+x+2*x**2+noise"
   ]
  },
  {
   "cell_type": "code",
   "execution_count": 31,
   "metadata": {
    "scrolled": false
   },
   "outputs": [
    {
     "data": {
      "text/plain": [
       "Text(0, 0.5, 'y variable [a.u.]')"
      ]
     },
     "execution_count": 31,
     "metadata": {},
     "output_type": "execute_result"
    },
    {
     "data": {
      "image/png": "[encoded data removed]",
      "text/plain": [
       "<Figure size 432x288 with 1 Axes>"
      ]
     },
     "metadata": {
      "needs_background": "light"
     },
     "output_type": "display_data"
    }
   ],
   "source": [
    "#graficando los datos\n",
    "plt.scatter(x,y)\n",
    "plt.xlabel('x variable [a.u.]')\n",
    "plt.ylabel('y variable [a.u.]')"
   ]
  },
  {
   "cell_type": "code",
   "execution_count": 32,
   "metadata": {},
   "outputs": [],
   "source": [
    "# no correr!\n",
    "# estos regresores no son del ejemplo! corresponden a los datos de la vivienda del inicio del notebook.\n",
    "# ones = np.ones((len(data),1))\n",
    "# x = data[['X2 house age']].values\n",
    "# y = data[['Y house price of unit area']].values\n",
    "# A = np.hstack((x,ones))\n",
    "# theta = ( pinv(A.T @ A) @ A.T ) @ y \n",
    "\n",
    "# el modelo correcto es\n",
    "ones = np.ones((len(x),1))\n",
    "A = np.hstack((x,ones)) \n",
    "theta = ( pinv(A.T @ A) @ A.T ) @ y # estos regresores no son del ejemplo! corresponden a los datos de la vivienda del inicio del notebook.\n",
    "\n"
   ]
  },
  {
   "cell_type": "code",
   "execution_count": 33,
   "metadata": {},
   "outputs": [
    {
     "data": {
      "image/png": "[encoded data removed]",
      "text/plain": [
       "<Figure size 432x288 with 1 Axes>"
      ]
     },
     "metadata": {
      "needs_background": "light"
     },
     "output_type": "display_data"
    }
   ],
   "source": [
    "# Encontrando la salida\n",
    "h_1 = A @ theta\n",
    "\n",
    "# Graficando las variables de interes\n",
    "plt.scatter(x, y)\n",
    "plt.xlabel('x variable [a.u.]')\n",
    "plt.ylabel('y variable [a.u.]')\n",
    "plt.plot(x,h_1,'r');"
   ]
  },
  {
   "cell_type": "markdown",
   "metadata": {
    "solution": "hidden",
    "solution_first": true
   },
   "source": [
    "**Pregunta:** $\\color{green}{\\text{¿Qué tal se ajusta el modelo a los datos?}}$"
   ]
  },
  {
   "cell_type": "markdown",
   "metadata": {
    "solution": "hidden"
   },
   "source": [
    "**Solución:** El modelo puede ser mucho mejor, en estos casos se dice que el modelo no es capaz de ajustarse a los datos, y que el modelo esta sub-ajustado (**Underfitting**)"
   ]
  },
  {
   "cell_type": "markdown",
   "metadata": {
    "solution": "hidden"
   },
   "source": [
    "**Pregunta:** $\\color{green}{\\text{Realice un ajuste utilizando ahora un polinomio de segundo orden, ¿mejora?}}$"
   ]
  },
  {
   "cell_type": "markdown",
   "metadata": {},
   "source": [
    "**Solución:** Las ecuaciones serían estas:"
   ]
  },
  {
   "cell_type": "code",
   "execution_count": 34,
   "metadata": {},
   "outputs": [
    {
     "name": "stdout",
     "output_type": "stream",
     "text": [
      "[[1.95468299]\n",
      " [0.92550044]\n",
      " [2.00727119]]\n"
     ]
    }
   ],
   "source": [
    "ones = np.ones((len(x),1))\n",
    "A = np.column_stack((x**2,x,ones))\n",
    "theta_2 =( pinv(A.T @ A) @ A.T ) @ y\n",
    "print(theta_2)"
   ]
  },
  {
   "cell_type": "code",
   "execution_count": 35,
   "metadata": {},
   "outputs": [
    {
     "data": {
      "image/png": "[encoded data removed]",
      "text/plain": [
       "<Figure size 432x288 with 1 Axes>"
      ]
     },
     "metadata": {
      "needs_background": "light"
     },
     "output_type": "display_data"
    }
   ],
   "source": [
    "# Encontrando la salida\n",
    "h_2 = A @ theta_2 \n",
    "\n",
    "# Graficando las variables de interes\n",
    "plt.scatter(x, y)\n",
    "plt.xlabel('x variable [a.u.]')\n",
    "plt.ylabel('y variable [a.u.]')\n",
    "plt.plot(x,h_2,'r');"
   ]
  },
  {
   "cell_type": "markdown",
   "metadata": {},
   "source": [
    "Este ajuste es mucho mejor. Este es el ajuste adecuado."
   ]
  },
  {
   "cell_type": "markdown",
   "metadata": {},
   "source": [
    "**Pregunta:** $\\color{green}{\\text{Qué sucede si quiero hacer el ajuste usando un polinomio de orden 10, ¿Mejorarian los resultados?}}$"
   ]
  },
  {
   "cell_type": "markdown",
   "metadata": {},
   "source": [
    "**Solución** El ajuste quedaría así:"
   ]
  },
  {
   "cell_type": "code",
   "execution_count": 36,
   "metadata": {
    "scrolled": true
   },
   "outputs": [
    {
     "name": "stdout",
     "output_type": "stream",
     "text": [
      "[[-3.85593200e+01]\n",
      " [-1.59413751e+01]\n",
      " [ 9.86660482e+01]\n",
      " [ 3.70265539e+01]\n",
      " [-8.65998724e+01]\n",
      " [-2.96898730e+01]\n",
      " [ 3.01337594e+01]\n",
      " [ 9.33340518e+00]\n",
      " [-1.60261683e+00]\n",
      " [ 5.98841749e-02]\n",
      " [ 2.07871366e+00]]\n"
     ]
    }
   ],
   "source": [
    "ones = np.ones((len(x),1))\n",
    "A = np.hstack((x**10, x**9, x**8, x**7, x**6, x**5,x**4,x**3,x**2,x,ones))\n",
    "theta_10 = ( pinv(A.T @ A) @ A.T ) @ y\n",
    "print(theta_10)"
   ]
  },
  {
   "cell_type": "code",
   "execution_count": 37,
   "metadata": {},
   "outputs": [
    {
     "data": {
      "image/png": "[encoded data removed]",
      "text/plain": [
       "<Figure size 432x288 with 1 Axes>"
      ]
     },
     "metadata": {
      "needs_background": "light"
     },
     "output_type": "display_data"
    }
   ],
   "source": [
    "# Encontrando la salida\n",
    "h_10 = A @ theta_10\n",
    "\n",
    "# Graficando las variables de interes\n",
    "plt.scatter(x, y)\n",
    "plt.xlabel('x variable [a.u.]')\n",
    "plt.ylabel('y variable [a.u.]')\n",
    "plt.plot(x,h_10,'r');"
   ]
  },
  {
   "cell_type": "markdown",
   "metadata": {},
   "source": [
    "Calculemos el error para los diferentes modelos"
   ]
  },
  {
   "cell_type": "code",
   "execution_count": 39,
   "metadata": {
    "scrolled": false
   },
   "outputs": [
    {
     "name": "stdout",
     "output_type": "stream",
     "text": [
      "Error Cuadratico Medio del modelo lineal : [[0.43454856]]\n",
      "Error Cuadratico Medio del modelo Cuadratico : [[0.08116839]]\n",
      "Error Cuadratico Medio del modelo de orden 10 : [[0.07145662]]\n"
     ]
    }
   ],
   "source": [
    "e_1 = (h_1-y).T @ (h_1-y)/len(x)\n",
    "e_2 = (h_2-y).T @ (h_2-y)/len(x)\n",
    "e_10 = (h_10-y).T @ (h_10-y)/len(x)\n",
    "print(\"Error Cuadratico Medio del modelo lineal :\",e_1)\n",
    "print(\"Error Cuadratico Medio del modelo Cuadratico :\",e_2)\n",
    "print(\"Error Cuadratico Medio del modelo de orden 10 :\",e_10)"
   ]
  },
  {
   "cell_type": "markdown",
   "metadata": {
    "solution": "hidden",
    "solution_first": true
   },
   "source": [
    "**Pregunta:** $\\color{green}{\\text{Tanto el modelo de orden 10 como el modelo del orden 2 producen un error bajo, ¿Qué modelo es mejor?}}$"
   ]
  },
  {
   "cell_type": "markdown",
   "metadata": {
    "solution": "hidden"
   },
   "source": [
    "**Solución:** El mejor modelo es el de orden 2, debido a varias razones:\n",
    "1. El modelo de menor orden es menos complejo, se debe elegir siempre el modelo de menor complejidad\n",
    "2. El modelo de orden 10 probablemente esta sobre ajustado. Es decir esta en **overfitting**, aprende muy bien de los datos de de entrenamiento pero no **generaliza**. Es decir no aprendió la estructura interna de los datos."
   ]
  },
  {
   "cell_type": "markdown",
   "metadata": {},
   "source": [
    "Para revisar el overfitting extendamos la variación de los datos en $x$ de -2 a 2. Veamos que sucede con el modelo de orden 2 y con el modelo de orden 10."
   ]
  },
  {
   "cell_type": "code",
   "execution_count": 41,
   "metadata": {
    "scrolled": false
   },
   "outputs": [
    {
     "data": {
      "image/png": "[encoded data removed]",
      "text/plain": [
       "<Figure size 432x288 with 1 Axes>"
      ]
     },
     "metadata": {
      "needs_background": "light"
     },
     "output_type": "display_data"
    }
   ],
   "source": [
    "x_test = np.linspace(-2,2,num=100)\n",
    "x_test = x_test[:,np.newaxis] # volviendo el vector a columna\n",
    "\n",
    "A_test = np.hstack((x_test**2,x_test,ones))\n",
    "h_2_test = A_test@theta_2\n",
    "\n",
    "# Graficando las variables de interes\n",
    "plt.scatter(x, y)\n",
    "plt.xlabel('x variable [a.u.]')\n",
    "plt.ylabel('y variable [a.u.]')\n",
    "plt.plot(x_test,h_2_test,'r');"
   ]
  },
  {
   "cell_type": "code",
   "execution_count": 42,
   "metadata": {
    "scrolled": true
   },
   "outputs": [
    {
     "data": {
      "image/png": "[encoded data removed]",
      "text/plain": [
       "<Figure size 432x288 with 1 Axes>"
      ]
     },
     "metadata": {
      "needs_background": "light"
     },
     "output_type": "display_data"
    }
   ],
   "source": [
    "A_10_test = np.hstack( (x_test**10, x_test**9, x_test**8, x_test**7, x_test**6,\n",
    "                        x_test**5,x_test**4,x_test**3,x_test**2,x_test,ones) )\n",
    "h_10_test = A_10_test@theta_10\n",
    "\n",
    "# Graficando las variables de interée\n",
    "plt.scatter(x, y)\n",
    "plt.xlabel('x variable [a.u.]')\n",
    "plt.ylabel('y variable [a.u.]')\n",
    "plt.plot(x_test,h_10_test,'r');"
   ]
  },
  {
   "cell_type": "markdown",
   "metadata": {
    "solution": "hidden",
    "solution_first": true
   },
   "source": [
    "**Pregunta:** $\\color{green}{\\text{¿Qué modelo es mejor?}}$"
   ]
  },
  {
   "cell_type": "markdown",
   "metadata": {
    "solution": "hidden"
   },
   "source": [
    "**Solución:** El mejor modelo es el de orden 2, ya que este logro generalizar."
   ]
  },
  {
   "cell_type": "markdown",
   "metadata": {
    "solution": "hidden",
    "solution_first": true
   },
   "source": [
    "**Pregunta:** $\\color{green}{\\text{¿Cómo puedo controlar el overfitting durante el entrenamiento?}}$"
   ]
  },
  {
   "cell_type": "markdown",
   "metadata": {
    "solution": "hidden"
   },
   "source": [
    "**Solución:** Existen varias formas de controlar el overfitting:\n",
    "1. Reducir el número de características (regresores) que se tienen en el modelo. (Reducir la complejidad)\n",
    "    * Selección manual de cuales mantener (requiere experiencia y conocimiento del campo)\n",
    "    * Selección automatica (Model selection, se vera posteriormente)\n",
    "2. Usar Regularización\n",
    "    * Mantiene todos los regresores, pero reduce la magnitud de los parametros $\\theta$\n",
    "    * Trabaja muy bien cuando todos los regresores de una u otra forma contribuyen a explicar la salida."
   ]
  },
  {
   "cell_type": "markdown",
   "metadata": {},
   "source": [
    "### Planteamiento Matemático para la Regularización\n",
    "\n",
    "Para poder obtener una solución con unos parámetros que tengan una magnitud adecuada (pequeña) se puede modificar la función de costo de la siguiente forma:\n",
    "\n",
    "$$J(\\theta) = \\frac{1}{m}\\left[\\sum_{i=1}^{m}\\left[\\mathbf{h}_{\\theta}(\\mathbf{x})-\\mathbf{y}\\right]^2 + \\gamma ||\\boldsymbol\\theta||^2\\right].$$\n",
    "\n",
    "**Note:** Esta funcion es similar a esta otra función de costo:\n",
    "\n",
    "$$J(\\theta) = \\frac{1}{m}\\left[\\sum_{i=1}^{m}\\left[h_\\theta(x^{(i)})-y^{(i)}\\right]^2+\\gamma\\sum_{i = 1}^n\\theta_i^2\\right].$$\n",
    "\n",
    "Donde $\\gamma$ es la constante de regularización. Al obligar que los pesos sean pequeños, esto ocasiona que:\n",
    "1. El modelo se más simple.\n",
    "2. Que se reduzca la posibilidad de overfitting\n",
    "\n",
    "**Nota:** Por convención no se penaliza $\\theta_0$, pero en práctica no tiene mucho efecto."
   ]
  },
  {
   "cell_type": "markdown",
   "metadata": {
    "solution": "hidden",
    "solution_first": true
   },
   "source": [
    "**Pregunta:**<font color='green'>¿Qué hace $\\gamma$? ¿Cómo escoger ese valor?</font>"
   ]
  },
  {
   "cell_type": "markdown",
   "metadata": {
    "solution": "hidden"
   },
   "source": [
    "**Solución:** Es un trade-off entre que tanto reduzco el error, frente a que tanto simplifico el modelo."
   ]
  },
  {
   "cell_type": "markdown",
   "metadata": {
    "solution": "hidden",
    "solution_first": true
   },
   "source": [
    "**Pregunta:** <font color='green'>Qué sucede si $\\gamma$ es muy pequeño? ¿Qué sucedes si es muy grande?</font>"
   ]
  },
  {
   "cell_type": "markdown",
   "metadata": {
    "solution": "hidden"
   },
   "source": [
    "**Solución:** Si es muy pequeño el modelo puede quedar en overfitting, si es muy grande puede quedar en underfitting."
   ]
  },
  {
   "cell_type": "markdown",
   "metadata": {
    "solution": "hidden",
    "solution_first": true
   },
   "source": [
    "**Pregunta:**  <font color='green'>si mi función de costo esta dada por $J(\\boldsymbol{\\theta})=\\frac{1}{m}\\left(||\\mathbf{e}||_2^2+\\gamma||\\boldsymbol\\theta||_2^2\\right)$, con $\\mathbf{e}=\\mathbf{y}-\\mathbf{A}\\boldsymbol{\\theta}$ ¿Cuál es el valor de $\\theta$ que minimiza esa función de costo? aquí se esta usando todos los parámetros.</font>"
   ]
  },
  {
   "cell_type": "markdown",
   "metadata": {
    "solution": "hidden"
   },
   "source": [
    "**Solución:** La solución esta dada por $\\boldsymbol{\\hat\\theta}=\\left(\\mathbf{A}^\\text{T}\\mathbf{A}+\\gamma\\mathbf{I}\\right)^{-1}\\mathbf{A}^\\text{T}\\mathbf{y}$. Donde $\\mathbf{I}$ es la matrix identidad. Esta regresión se conoce como la **Regresión de Ridge (Ridge Regressión)**. La cual es un caso especial de la regresión de Tijono (Tikhonov en ingles)."
   ]
  },
  {
   "cell_type": "markdown",
   "metadata": {
    "solution": "hidden",
    "solution_first": true
   },
   "source": [
    "**Pregunta:** ¿Qué se puede decir de esta nueva solución?"
   ]
  },
  {
   "cell_type": "markdown",
   "metadata": {
    "solution": "hidden"
   },
   "source": [
    "**Solución** Se pueden decir varias cosas:\n",
    "    \n",
    "1. La matrix de \"Gram\" es invertible, regularizar relaja el problema y permite la inversión de la matriz.\n",
    "2. Multicolinearidad se puede tratar (esto puede ser no deseado)."
   ]
  },
  {
   "cell_type": "markdown",
   "metadata": {},
   "source": [
    "## $\\color{orange}{\\text{TAREA}}$\n",
    "\n",
    "**Punto 3.** Realice la derivación de las ecuaciones de actualización cuando se usa gradiente descendiente. Recuerde qu eno se actualizará $\\theta_0$ usando la regularización, pero esta si aplicara para todos los demás parámetros. El resultado al que se debe llegar es:\n",
    "\n",
    "$$ \\begin{equation}\n",
    "   \\begin{split}\n",
    "      \\theta_0 &= \\theta_0-\\alpha\\frac{1}{m}\\sum_{i=1}^{m}\\left[h_\\theta(x^{(i)})-y^{(i)}\\right]x_0^{(i)}\\\\\n",
    "      \\theta_1 &= \\theta_1-\\alpha\\left[\\frac{1}{m}\\sum_{i=1}^{m}\\left[h_\\theta(x^{(i)})-y^{(i)}\\right]x_1^{(i)} + \\frac{\\gamma}{m}\\theta_1\\right]\\\\\n",
    "      & \\vdots\\\\\n",
    "      \\theta_n &= \\theta_n-\\alpha\\left[\\frac{1}{m}\\sum_{i=1}^{m}\\left[h_\\theta(x^{(i)})-y^{(i)}\\right]x_n^{(i)} + \\frac{\\gamma}{m}\\theta_n\\right]\\\\\n",
    "   \\end{split}\n",
    "   \\end{equation}$$\n",
    "   \n",
    "Donde $x_0^{(i)}= 1$ para todo $i$. Agrupando los parámetros quedaria:\n",
    "\n",
    "$$\\theta_n =\\theta_n\\left(1-\\alpha\\frac{\\gamma}{m}\\right)-\\alpha\\frac{1}{m}\\sum_{i=1}^{m}\\left(h_\\theta(x^{(i)})-y^{(i)}\\right)x_n^{(i)}$$"
   ]
  },
  {
   "cell_type": "markdown",
   "metadata": {},
   "source": [
    "Basados en la ecuación anterior se puede observar que como $\\alpha, \\gamma$ y $m$ son positivos, entonces $\\left(1-\\alpha\\frac{\\gamma}{m}\\right)<1$ entonces en cada paso que se realiza el parámetro $\\theta_n$ es reducido. El segundo término es exactamente el mismo para el algoritmo de gradiente descendiente. Es por esta razón que al regularizar, se puede observar que en cada actualización los valores de los parámetros se disminuyen."
   ]
  },
  {
   "cell_type": "markdown",
   "metadata": {},
   "source": [
    "$\\boldsymbol{\\hat\\theta}=\\left(\\mathbf{A}^\\text{T}\\mathbf{A}+\\gamma\\mathbf{I}\\right)^{-1}\\mathbf{A}^\\text{T}\\mathbf{y}$"
   ]
  },
  {
   "cell_type": "code",
   "execution_count": 43,
   "metadata": {
    "scrolled": true
   },
   "outputs": [
    {
     "name": "stdout",
     "output_type": "stream",
     "text": [
      "[[ 0.106191  ]\n",
      " [-0.06615806]\n",
      " [ 0.16112001]\n",
      " [-0.02990412]\n",
      " [ 0.26811475]\n",
      " [ 0.04810393]\n",
      " [ 0.50225021]\n",
      " [ 0.24169701]\n",
      " [ 1.0582928 ]\n",
      " [ 0.73237868]\n",
      " [ 2.08476245]]\n"
     ]
    }
   ],
   "source": [
    "### Apliquemoslo a nuestro ejemplo\n",
    "ones = np.ones((len(x),1))\n",
    "gamma = 2.5;\n",
    "A = np.hstack((x**10, x**9, x**8, x**7, x**6, x**5,x**4,x**3,x**2,x,ones))\n",
    "theta_Reg_10 = pinv(A.T@A +gamma*np.eye(11)) @ A.T @ y\n",
    "print(theta_Reg_10)"
   ]
  },
  {
   "cell_type": "code",
   "execution_count": 46,
   "metadata": {},
   "outputs": [
    {
     "data": {
      "image/png": "[encoded data removed]",
      "text/plain": [
       "<Figure size 432x288 with 1 Axes>"
      ]
     },
     "metadata": {
      "needs_background": "light"
     },
     "output_type": "display_data"
    }
   ],
   "source": [
    "x_test = np.linspace(-2,2,num=100)\n",
    "x_test = x_test[:,np.newaxis] # volviendo el vector a columna\n",
    "A_10_test = np.hstack((x_test**10, x_test**9, x_test**8, x_test**7, x_test**6, x_test**5,x_test**4,x_test**3,x_test**2,x_test,ones))\n",
    "h_10_test = A_10_test@theta_Reg_10\n",
    "\n",
    "# Graficando las variables de interes\n",
    "plt.scatter(x, y)\n",
    "plt.xlabel('x variable [a.u.]')\n",
    "plt.ylabel('y variable [a.u.]')\n",
    "plt.plot(x_test,h_10_test,'r');"
   ]
  },
  {
   "cell_type": "markdown",
   "metadata": {},
   "source": [
    "**Mucho mejor!!!**, pero no es perfecto."
   ]
  },
  {
   "cell_type": "markdown",
   "metadata": {
    "solution": "shown",
    "solution_first": true
   },
   "source": [
    "## [Lectura] Un poco mas sobre Tikhonov"
   ]
  },
  {
   "cell_type": "markdown",
   "metadata": {
    "solution": "shown"
   },
   "source": [
    "La forma general de la regularización de Tikhonov es la siguiente:\n",
    "\n",
    "$$\\mathbf{J}(\\mathbf{x}) = ||\\mathbf{A}\\mathbf{x}-\\mathbf{b}||_\\mathbf{P}^2+||\\mathbf{x}-\\bar{\\mathbf{x}}||_\\mathbf{Q}^2$$\n",
    "\n",
    "Donde $P$ y $Q$ son matrices de peso, que determinan que tan relevante o no es una observación, o que definen otro tipo de métrica, de forma general $||\\mathbf{x}||_\\mathbf{Q}^2 =\\mathbf{x}^\\text{T}\\mathbf{Q}\\mathbf{x}$, y $\\bar{\\mathbf{x}}$ es la media de $\\mathbf{x}$. La solución a este problea esta dada por:\n",
    "\n",
    "$$\\hat{\\mathbf{x}}=\\left(\\mathbf{A}^\\text{T}\\mathbf{P}\\mathbf{A}+\\mathbf{Q}\\right)^{-1}\\left(\\mathbf{A}^\\text{T}\\mathbf{P}\\mathbf{b}+\\mathbf{Q}\\bar{\\mathbf{x}}\\right),$$\n",
    "\n",
    "o, asumiendo datos en $\\mathbf{x}$ y $\\mathbf{b}$ centrados:\n",
    "\n",
    "$$\\hat{\\mathbf{x}}=\\bar{\\mathbf{x}}+\\left(\\mathbf{A}^\\text{T}\\mathbf{P}\\mathbf{A}+\\mathbf{Q}\\right)^{-1}\\left(\\mathbf{A}^\\text{T}\\mathbf{P}\\left(\\mathbf{b}-\\mathbf{A}\\bar{\\mathbf{x}}\\right)\\right).$$\n",
    "\n",
    "Es importante que en la práctica tengan en cuenta que muestras y que regresores son relevantes y cuales no lo son, esa información puede incluirse en las matrices $\\mathbf{P}$ y $\\mathbf{Q}$."
   ]
  },
  {
   "cell_type": "markdown",
   "metadata": {},
   "source": [
    "## Otras Formas de Regularización: LASSO (Least  Absolute Shrinkage and Selection Operator)\n",
    "\n",
    "Otra forma de regularizar es penalizando no con la magnitud del vector de parámetros, sino con su valor absoluto. De esta forma, la función de costo es:\n",
    "\n",
    "$$J(\\theta) = \\frac{1}{m}\\left[\\sum_{i=1}^{m}\\left[\\mathbf{h}_{\\theta}(\\mathbf{x})-\\mathbf{y}\\right]^2 + \\gamma ||\\boldsymbol\\theta||\\right].$$\n",
    "\n",
    "**Note:** Esta función es similar a esta otra función de costo:\n",
    "\n",
    "$$J(\\theta) = \\frac{1}{m}\\left[\\sum_{i=1}^{m}\\left[h_\\theta(x^{(i)})-y^{(i)}\\right]^2+\\gamma\\sum_{i = i}^n|\\theta_i|\\right].$$\n"
   ]
  },
  {
   "cell_type": "markdown",
   "metadata": {},
   "source": [
    "Este operador no tiene solución  canónica, su solución se puede buscar utilizando gradiente descendiente. Esta regularización se conoce como *basis pursuit* (*busqueda de bases*), porque como resultado trata de llevar a cero a algunos parámetros, pero lo cual también se dice que es un regressor escaso, y puede servir para la selección de que tipo de características son útiles en el modelo."
   ]
  },
  {
   "cell_type": "markdown",
   "metadata": {},
   "source": [
    "Para poder entender porqué sucede esto, revisemos con las curvas de nivel esta función de costo:\n",
    "\n",
    "![item](img/Regularizacion.png)"
   ]
  },
  {
   "cell_type": "markdown",
   "metadata": {},
   "source": [
    "Aquí se puede ver que la función de costo de LASSO (a la izquierda) tiene una probabilidad más grande de encontrarse con las curvas de nivel del valor absoluto de los parametros en un eje, lo cual hace que la probabilidad de algunos parametros sea cero aumenta. Para Ridge no sucede lo mismo."
   ]
  },
  {
   "cell_type": "markdown",
   "metadata": {},
   "source": [
    "Se puede también cambiar esa metrica y obtener otro tipo de factores de regularización, lo cual genera unas nuevas curvas de nivel para el costo de los parámetros. Tal como se muestra en la figura de abajo.\n",
    "\n",
    "![item](img/Metricas.png)"
   ]
  },
  {
   "cell_type": "markdown",
   "metadata": {},
   "source": [
    "**Nota:** Para terminar, cuando se usa como penalización la magnitud al cuadrado del vector de parámetros, esto se conoce como la **norma-**$\\mathbf{\\text{L}_2}$ , así como se hace en la regresión de Ridge. LASSO por otro lado utiliza la **norma-**$\\mathbf{\\text{L}_1}$."
   ]
  },
  {
   "cell_type": "markdown",
   "metadata": {},
   "source": [
    "## *[Lectura] Principal Component Regression (PCR)\n",
    "\n",
    "Suponga se tiene una regresion de la forma $\\mathbf{y} = \\mathbf{A}\\boldsymbol{\\theta}+\\mathbf{e}$, hemos visto que si $\\mathbf{A}$ esta cerca de ser mal acondicionada, es decir que dos o más de sus columnas estan relacionadas linealmente, esto puede traer problemas a la hora de realizar la regresión. Una forma de solucionar este problema es reduciendo el número de regresores. Sin embargo, a veces es difícil decidir si el regresor se debe o no eliminar. Otra forma de solucionar este problema es tratar de realizar una transformación en la matriz $\\mathbf{A}$ de tal forma que este lejos de ser mal condicionada, la mejor forma sería representarla por medio de una matrix ortogonal. PCR lo que busca es realizar esta transformación para poder reducir los problemas debido al mal acondicionamiento de la matrix. \n",
    "\n",
    "Lo que PCR realiza es una transformación de la matrix $\\mathbf{A}$ sobre las componentes principales de ella, obteniendo asi una base orthogonal para $\\mathbf{A}$. Las componentes principales se obtienen como los eigenvectores de la matrix Gram de $\\mathbf{A}$. Si asumimos que $\\mathbf{A} = \\mathbf{U}\\boldsymbol{\\Lambda}\\mathbf{V}^\\text{T}$ esta descomposición en valores singulares de $\\mathbf{A}$, entonces $\\mathbf{A}^\\text{T}\\mathbf{A} = \\mathbf{V}\\boldsymbol{\\Lambda}^2\\mathbf{V}^\\text{T}$ y las columnas de $\\mathbf{V}$  son las componentes principales, ordenadas de mayor a menor varianza explicada. De esta Forma se puede transforma la matrix $\\mathbf{B} = \\mathbf{A}\\mathbf{V}$. Esta nueva matrix $\\mathbf{B}$ es orthogonal y se encuentra bien condicionada. \n",
    "\n",
    "Una ventaja de PCR es que permite eliminar las direcciones (eigenvectores) que explican poco los datos (es decir cuyo valor singular es pequeño). Esto nos permite tener una representación de bajo rango de la matrix $\\mathbf{A}$ y se puede interpretar como una especie de selección de características. Una vez se tiene esta nueva representación se realiza el siguiente problema de regresión usando mínimos cuadrados ordinarios.\n",
    "\n",
    "$$\\hat{\\mathbf{y}} = \\mathbf{B}\\boldsymbol{\\beta}.$$\n",
    "\n",
    "Si observamos bien esta matrix $\\mathbf{B}=\\mathbf{A}\\mathbf{V}=\\mathbf{U}\\boldsymbol{\\Lambda}\\mathbf{V}^\\text{T}\\mathbf{V} = \\mathbf{U}\\boldsymbol{\\Lambda}$. Por lo tanto, sólo debemos encontrar la descomposición en valores singulares para $\\mathbf{A}$ y como se observa la matrix $\\mathbf{B}$ es orthogonal, y la solución al problema de regresión esta dada por:\n",
    "\n",
    "\n",
    "$$\\hat{\\boldsymbol{\\beta}} = (\\boldsymbol{\\Lambda_L})^{-1}\\mathbf{U}_L^\\text{T}\\mathbf{y},$$\n",
    "\n",
    "donde el subíndice $L$ se refiere a las matrices solamente utilizando los $L$ componentes principales más relevantes. Tomando como punto de partida la regresión.\n",
    "\n",
    "$$\\hat{\\mathbf{y}} = \\mathbf{A}\\mathbf{V}_L\\hat{\\boldsymbol{\\beta}},$$\n",
    "\n",
    "se puede concluir que los valores de los parámetros $\\theta$ estan dados por:\n",
    "\n",
    "$$\\theta = \\mathbf{V}_L\\hat{\\boldsymbol{\\beta}}$$\n",
    "\n",
    "Para PCR los datos en $\\mathbf{y}$ y en $\\mathbf{A}$ deben estar centrados, es decir aquí no se tiene en cuenta el cálculo de la variable $\\theta_0$.\n"
   ]
  },
  {
   "cell_type": "markdown",
   "metadata": {},
   "source": [
    "##  $\\color{orange}{\\text{TAREA}}$\n",
    "\n",
    "**Punto 4.** Utilice los datos del archivo de excel que se proporciono, con ellos realicé:\n",
    "\n",
    "1. Regresión lineal univariable utilizando cada uno de los regresores de entrada $x_1$ hasta $x_4$.\n",
    "2. Una regresión multivariable con regresores $x_1$ hasta $x_4$.\n",
    "3. Una regresión de Ridge con los regresores $x_1$ hasta $x_4$.\n",
    "4. Busque la función que realiza la regresión tipo LASSO en python y haga una regresión con los mismo regresores.\n",
    "5. Para todos los resultados calcule su error cuadratico medio, y realice una gráfica ¿Qué puede concluir?"
   ]
  }
 ],
 "metadata": {
  "kernelspec": {
   "display_name": "Python 3",
   "language": "python",
   "name": "python3"
  },
  "language_info": {
   "codemirror_mode": {
    "name": "ipython",
    "version": 3
   },
   "file_extension": ".py",
   "mimetype": "text/x-python",
   "name": "python",
   "nbconvert_exporter": "python",
   "pygments_lexer": "ipython3",
   "version": "3.9.7"
  },
  "nbTranslate": {
   "displayLangs": [
    "*"
   ],
   "hotkey": "alt-t",
   "langInMainMenu": true,
   "sourceLang": "en",
   "targetLang": "fr",
   "useGoogleTranslate": true
  },
  "varInspector": {
   "cols": {
    "lenName": 16,
    "lenType": 16,
    "lenVar": 40
   },
   "kernels_config": {
    "python": {
     "delete_cmd_postfix": "",
     "delete_cmd_prefix": "del ",
     "library": "var_list.py",
     "varRefreshCmd": "print(var_dic_list())"
    },
    "r": {
     "delete_cmd_postfix": ") ",
     "delete_cmd_prefix": "rm(",
     "library": "var_list.r",
     "varRefreshCmd": "cat(var_dic_list()) "
    }
   },
   "types_to_exclude": [
    "module",
    "function",
    "builtin_function_or_method",
    "instance",
    "_Feature"
   ],
   "window_display": false
  }
 },
 "nbformat": 4,
 "nbformat_minor": 2
}

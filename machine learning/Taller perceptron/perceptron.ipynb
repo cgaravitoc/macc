{
 "cells": [
  {
   "cell_type": "markdown",
   "metadata": {},
   "source": [
    "# Taller Perceptron\n",
    "\n",
    "Carlos Garavito,  \n",
    "Juan Sebastián Cortes. \n",
    "***\n",
    "\n",
    "\n",
    "1. Implementación de un perceptron y su regla de aprendizaje. El perceptron debe aceptar como entrada un vector de longittud arbitraria, i.e. el número de caracteristicas (regresores) puede ser arbitrario.\n",
    "\n",
    "2. Implementación de un adaline con su regla de aprendizaje. El adaline debe aceptar como entrada un vector de longitud arbitraria, i.e. el número de caracteristicas (regresores) puede ser arbitrario.\n",
    "\n",
    "3. Implemente un perceptrón y un adaline que pueda realizar las operaciones logicas AND, OR, XOR y XNOR.\n",
    "\n",
    "4. Al implementar la AND y la OR, si compara los pesos con lso datos de la clase $1$ (cuya salida es $1$, ¿Qué puede concluir?\n",
    "\n",
    "5. Solucione el problema de las flores de iris utilizando un perceptrón y un adaline. Utilice solamente dos clases. Compare las respuestas.\n"
   ]
  },
  {
   "cell_type": "markdown",
   "metadata": {},
   "source": [
    "## Implementación de un perceptron"
   ]
  },
  {
   "cell_type": "markdown",
   "metadata": {},
   "source": [
    "<center><img src=\"images/perceptron.png\" width=\"400\"></center>\n",
    "\n",
    "Se ha visto que el perceptron puede ser descrito como se muestra en la figura, y que matematicamente es de la forma\n",
    "\n",
    "$$z = \\boldsymbol\\omega^{\\text{T}}\\mathbf{x},$$ \n",
    "\n",
    "tal que, \n",
    "\n",
    "$$\n",
    "\\begin{equation}\n",
    "  y = \\varphi(z)=\n",
    "    \\begin{cases}\n",
    "      1 & \\text{if} & z \\geq \\theta,\\\\\n",
    "      -1 & \\text{if} & z < \\theta.\n",
    "    \\end{cases}       \n",
    "\\end{equation}$$\n",
    "\n",
    "Además, se ha definido que la regla de aprendizaje se muestra en dos pasos:\n",
    "\n",
    "1. Inicializar los pesos $\\omega$ a 0 o a números aleatorios pequeños.\n",
    "2. Para cada dato de entrenamiento $\\mathbf{x}^{(i)}$ realizar los siguientes pasos:\n",
    "    * actualizar le valor de la predicción, $\\hat{y}$,\n",
    "    * Actualizar los pesos.\n",
    "\n",
    "Esto es, \n",
    "\n",
    "$$\\boldsymbol\\omega := \\boldsymbol\\omega+\\Delta\\boldsymbol\\omega,$$\n",
    "\n",
    "$$\\Delta\\boldsymbol\\omega = \\eta\\mathbf{X}^{\\text{T}}(\\mathbf{y}-\\hat{\\mathbf{y}}),$$\n",
    "\n",
    "donde $\\omega$ es el vector de pesos; $\\eta$ es la constante de aprendizaje; $\\mathbf{X}$ es una matrix de dimensiones $m\\times N$, donde $m$ es el número de observaciones, y $N$ el número de entradas (regresores, cvaracteristicas, etc).\n",
    "\n",
    "Así, en python se tiene:"
   ]
  },
  {
   "cell_type": "code",
   "execution_count": 2,
   "metadata": {},
   "outputs": [],
   "source": [
    "import numpy as np\n",
    "import matplotlib.pyplot as plt"
   ]
  },
  {
   "cell_type": "markdown",
   "metadata": {},
   "source": [
    "Se cargan algunos datos de prueba:"
   ]
  },
  {
   "cell_type": "code",
   "execution_count": 3,
   "metadata": {},
   "outputs": [
    {
     "data": {
      "text/plain": [
       "Text(0.5, 1.0, 'Random Classification Data with 2 classes')"
      ]
     },
     "execution_count": 3,
     "metadata": {},
     "output_type": "execute_result"
    },
    {
     "data": {
      "image/png": "[encoded data removed]",
      "text/plain": [
       "<Figure size 720x576 with 1 Axes>"
      ]
     },
     "metadata": {
      "needs_background": "light"
     },
     "output_type": "display_data"
    }
   ],
   "source": [
    "# datos de ejemplo \n",
    "# tomado de https://towardsdatascience.com/perceptron-algorithm-in-python-f3ac89d2e537\n",
    "\n",
    "from sklearn import datasets\n",
    "\n",
    "X, y = datasets.make_blobs(n_samples=150,n_features=2,\n",
    "                           centers=2,cluster_std=1.05,\n",
    "                           random_state=2)\n",
    "                           \n",
    "#Plotting\n",
    "                           \n",
    "fig = plt.figure(figsize=(10,8))\n",
    "plt.plot(X[:, 0][y == 0], X[:, 1][y == 0], 'r^')\n",
    "plt.plot(X[:, 0][y == 1], X[:, 1][y == 1], 'bs')\n",
    "plt.xlabel(\"feature 1\")\n",
    "plt.ylabel(\"feature 2\")\n",
    "plt.title('Random Classification Data with 2 classes')"
   ]
  },
  {
   "cell_type": "code",
   "execution_count": 17,
   "metadata": {},
   "outputs": [
    {
     "data": {
      "text/plain": [
       "(1, 2)"
      ]
     },
     "execution_count": 17,
     "metadata": {},
     "output_type": "execute_result"
    }
   ],
   "source": [
    "np.zeros([1, X.shape[1]]).shape"
   ]
  },
  {
   "cell_type": "markdown",
   "metadata": {},
   "source": [
    "Se define la clase `my_perceptron`, con los siguientes métodos: \n",
    "\n",
    "* `__init__`: inicializa la clase con valores de $\\eta$ e iteraciones pre definidas, \n",
    "*  `fit`: Ajusta el perceptron a los datos de entrenamiento, \n",
    "* `predict`: calcula el valor de salida en función de los datos que recibe, \n",
    "* `net_input`: define la función de activación. En nuestro caso, una función escalón desde -1 a 1. "
   ]
  },
  {
   "cell_type": "code",
   "execution_count": 11,
   "metadata": {},
   "outputs": [],
   "source": [
    "class my_perceptron: \n",
    "    '''\n",
    "    Clase perceptron basada en las notas de clase de curso de machine learning de la maestria MACC \n",
    "    y el tutorial 'programando un perceptron en python' https://www.llipe.com/2017/04/19/programando-un-clasificador-perceptron-en-python/\n",
    "\n",
    "    Parámetros\n",
    "    ----------\n",
    "    eta: float\n",
    "        Tasa de aprendizaje\n",
    "    \n",
    "    n_iter: int\n",
    "        Número de iteraciones sobre el conjunto de datos\n",
    "\n",
    "    Atributos\n",
    "    ---------\n",
    "    omega: numpy array 1d\n",
    "            Vector de pesos\n",
    "\n",
    "    '''\n",
    "\n",
    "    def __init__(self, eta = 0.1, n_iter = 10):\n",
    "        self.eta = eta\n",
    "        self.n_iter = n_iter\n",
    "\n",
    "    def fit(self, X, y): \n",
    "        '''\n",
    "        Ajusta los datos de entrenamiento\n",
    "\n",
    "        Parámetros\n",
    "        ----------\n",
    "        X: numpy array, shape := [n_samples, n_features]\n",
    "            Matriz de datos, donde n_samples es el número de observaciones y n_features es el número de caracteristicas.\n",
    "        y: numpy array, shape := [n_samples]\n",
    "            Vector de datos objetivo (target) \n",
    "\n",
    "        Returns \n",
    "        -------\n",
    "        Self: objeto\n",
    "        '''\n",
    "\n",
    "        self.omega = np.zeros(X.shape[1])\n",
    "        \n",
    "        for i in range(self.n_iter): \n",
    "            # usamos el producto @ para sacar provecho de los array y no usar for\n",
    "            delta_omega = self.eta * X.T @ (y - self.predict(X)) \n",
    "            self.omega = self.omega + delta_omega\n",
    "            # print(self.omega)\n",
    "        return self\n",
    "\n",
    "    def predict(self, X): \n",
    "        '''\n",
    "        Retorna la clase usando la función escalón.\n",
    "        phi(z) = 1 si z >= theta; -1  si z < theta\n",
    "        '''\n",
    "        phi = np.where(self.net_input(X) >= 0.0, 1, -1)\n",
    "        return phi\n",
    "    \n",
    "    def net_input(self, X): \n",
    "        z = X @ self.omega.T\n",
    "        return z"
   ]
  },
  {
   "cell_type": "code",
   "execution_count": null,
   "metadata": {},
   "outputs": [],
   "source": [
    "# from tutorial\n",
    "import numpy as np\n",
    "\n",
    "class my_perceptron:\n",
    "    \"\"\"Clasificador Perceptron basado en la descripción del libro\n",
    "    \"Python Machine Learning\" de Sebastian Raschka.\n",
    "\n",
    "    Parametros\n",
    "    ----------\n",
    "\n",
    "    eta: float\n",
    "        Tasa de aprendizaje.\n",
    "    n_iter: int\n",
    "        Pasadas sobre el dataset.\n",
    "\n",
    "    Atributos\n",
    "    ---------\n",
    "    w_: array-1d\n",
    "        Pesos actualizados después del ajuste\n",
    "    errors_: list\n",
    "        Cantidad de errores de clasificación en cada pasada\n",
    "\n",
    "    \"\"\"\n",
    "    def __init__(self, eta=0.1, n_iter=10):\n",
    "        self.eta = eta\n",
    "        self.n_iter = n_iter\n",
    "\n",
    "    def fit(self, X, y):\n",
    "        \"\"\"Ajustar datos de entrenamiento\n",
    "\n",
    "        Parámetros\n",
    "        ----------\n",
    "        X:  array like, forma = [n_samples, n_features]\n",
    "            Vectores de entrenamiento donde n_samples es el número de muestras y\n",
    "            n_features es el número de carácteristicas de cada muestra.\n",
    "        y:  array-like, forma = [n_samples].\n",
    "            Valores de destino\n",
    "\n",
    "        Returns\n",
    "        -------\n",
    "        self:   object\n",
    "        \"\"\"\n",
    "        self.w_ = np.zeros(1 + X.shape[1])\n",
    "        self.errors_ = []\n",
    "\n",
    "        for _ in range(self.n_iter):\n",
    "            errors = 0\n",
    "            for xi, target in zip(X, y):\n",
    "                update = self.eta * (target - self.predict(xi))\n",
    "                self.w_[1:] += update * xi\n",
    "                self.w_[0] += update\n",
    "                errors += int(update != 0.0)\n",
    "            self.errors_.append(errors)\n",
    "        return self\n",
    "\n",
    "    def predict(self, X):\n",
    "        \"\"\"Devolver clase usando función escalón de Heaviside.\n",
    "        phi(z) = 1 si z >= theta; -1 en otro caso\n",
    "        \"\"\"\n",
    "        phi = np.where(self.net_input(X) >= 0.0, 1, -1)\n",
    "        return phi\n",
    "\n",
    "    def net_input(self, X):\n",
    "        \"\"\"Calcular el valor z (net input)\"\"\"\n",
    "        # z = w · x + theta\n",
    "        z = np.dot(X, self.w_[1:]) + self.w_[0]\n",
    "        return z"
   ]
  },
  {
   "cell_type": "markdown",
   "metadata": {},
   "source": [
    "Definida la clase, se entrena el perceptron con los datos de ejemplo."
   ]
  },
  {
   "cell_type": "code",
   "execution_count": 14,
   "metadata": {},
   "outputs": [
    {
     "data": {
      "text/plain": [
       "<__main__.my_perceptron at 0x195a75138e0>"
      ]
     },
     "execution_count": 14,
     "metadata": {},
     "output_type": "execute_result"
    }
   ],
   "source": [
    "ones = np.ones((len(X),1))\n",
    "X = np.hstack((X, ones))\n",
    "\n",
    "my_classifier = my_perceptron()\n",
    "my_classifier.fit(X,y)\n"
   ]
  },
  {
   "cell_type": "code",
   "execution_count": 16,
   "metadata": {},
   "outputs": [
    {
     "data": {
      "text/plain": [
       "Text(0.5, 1.0, 'Perceptron Classification Data with 2 classes')"
      ]
     },
     "execution_count": 16,
     "metadata": {},
     "output_type": "execute_result"
    },
    {
     "data": {
      "image/png": "[encoded data removed]",
      "text/plain": [
       "<Figure size 432x288 with 1 Axes>"
      ]
     },
     "metadata": {
      "needs_background": "light"
     },
     "output_type": "display_data"
    }
   ],
   "source": [
    "# plot the perceptron classification\n",
    "y_pred = my_classifier.predict(X)\n",
    "plt.scatter(X[:, 0],X[:, 1], c = y_pred)\n",
    "plt.xlabel(\"feature 1\")\n",
    "plt.ylabel(\"feature 2\")\n",
    "plt.title('Perceptron Classification Data with 2 classes')"
   ]
  },
  {
   "cell_type": "code",
   "execution_count": 10,
   "metadata": {},
   "outputs": [
    {
     "data": {
      "text/plain": [
       "<matplotlib.collections.PathCollection at 0x195a74db9a0>"
      ]
     },
     "execution_count": 10,
     "metadata": {},
     "output_type": "execute_result"
    },
    {
     "data": {
      "image/png": "[encoded data removed]",
      "text/plain": [
       "<Figure size 432x288 with 1 Axes>"
      ]
     },
     "metadata": {
      "needs_background": "light"
     },
     "output_type": "display_data"
    }
   ],
   "source": []
  },
  {
   "cell_type": "markdown",
   "metadata": {},
   "source": [
    "## Implementación adaline"
   ]
  },
  {
   "cell_type": "markdown",
   "metadata": {},
   "source": [
    "Tomando en cuenta que \n",
    "\n",
    "$$\\boldsymbol\\omega:=\\boldsymbol\\omega-\\eta\\nabla\\mathbf{J}(\\boldsymbol\\omega),$$\n",
    "\n",
    "donde se puede definir $-\\eta\\nabla\\mathbf{J}(\\boldsymbol\\omega) = \\Delta\\boldsymbol\\omega $, tal que en forma vectorial resulta\n",
    "\n",
    "$$\\Delta\\boldsymbol\\omega = \\eta\\mathbf{X}^{\\text{T}}(\\mathbf{y}-\\mathbf{X}\\boldsymbol\\omega),$$ \n",
    "\n",
    "y sabiendo que $z = \\boldsymbol\\omega^{\\text{T}}\\mathbf{x}$, y $\\varphi(z) = z$, en python se procede de la siguiente forma:"
   ]
  },
  {
   "cell_type": "code",
   "execution_count": 189,
   "metadata": {},
   "outputs": [],
   "source": [
    "# This class must be corrected! \n",
    "# compare with https://dzone.com/articles/adaline-explained-with-python-example-data-analyti\n",
    "\n",
    "class my_adaline: \n",
    "    '''\n",
    "    Clase perceptron basada en las notas de clase de curso de machine learning de la maestria MACC y el tutorial 'programando un perceptron en python' https://www.llipe.com/2017/04/19/programando-un-clasificador-perceptron-en-python/\n",
    "\n",
    "    Parámetros\n",
    "    ----------\n",
    "    eta: float\n",
    "        Tasa de aprendizaje\n",
    "    \n",
    "    n_iter: int\n",
    "        Número de iteraciones sobre el conjunto de datos\n",
    "\n",
    "    Atributos\n",
    "    ---------\n",
    "    omega: numpy array 1d\n",
    "            Vector de pesos\n",
    "\n",
    "    '''\n",
    "\n",
    "    def __init__(self, eta = 0.1, n_iter = 10):\n",
    "        self.eta = eta\n",
    "        self.n_iter = n_iter\n",
    "\n",
    "    def fit(self, X, y): \n",
    "        '''\n",
    "        Ajusta los datos de entrenamiento\n",
    "\n",
    "        Parámetros\n",
    "        ----------\n",
    "        X: numpy array, shape := [n_samples, n_features]\n",
    "            Matriz de datos, donde n_samples es el número de observaciones y n_features es el número de caracteristicas.\n",
    "        y: numpy array, shape := [n_samples]\n",
    "            Vector de datos objetivo (target) \n",
    "\n",
    "        Returns \n",
    "        -------\n",
    "        Self: objeto\n",
    "        '''\n",
    "\n",
    "        self.omega = np.zeros(X.shape[1])\n",
    "        \n",
    "        for i in range(self.n_iter): \n",
    "            # usamos el producto @ para sacar provecho de los array y no usar 'for'\n",
    "            delta_omega = self.eta * X.T @ (y - X @ self.omega)\n",
    "            self.omega = self.omega + delta_omega\n",
    "            # print(self.omega)\n",
    "        return self\n",
    "\n",
    "    def predict(self, X): \n",
    "        '''\n",
    "        Retorna la clase usando la función escalón.\n",
    "        phi(z) = 1 si z >= theta; -1  si z < theta\n",
    "        '''\n",
    "        phi = np.where(self.activation_function(self.net_input(X)) >= 0, 1, -1)\n",
    "        return phi\n",
    "    \n",
    "    def net_input(self, X):\n",
    "        z = z = X @ self.omega.T\n",
    "    \n",
    "        return z\n",
    "\n",
    "    def activation_function(self, X):\n",
    "        return X\n",
    "\n"
   ]
  },
  {
   "cell_type": "code",
   "execution_count": 188,
   "metadata": {},
   "outputs": [
    {
     "name": "stdout",
     "output_type": "stream",
     "text": [
      "El vector de omega encontrado es: [-9.86939950e+26 -5.10035532e+26 -1.66426628e+26]\n"
     ]
    }
   ],
   "source": [
    "my_2ndclassifier = my_adaline()\n",
    "my_2ndclassifier.fit(X,y)\n",
    "\n",
    "print(f\"El vector de omega encontrado es: {my_2ndclassifier.omega}\")"
   ]
  },
  {
   "cell_type": "markdown",
   "metadata": {},
   "source": [
    "## Implementación perceptrón y adaline: AND, OR, XOR, XNOR"
   ]
  },
  {
   "cell_type": "markdown",
   "metadata": {},
   "source": [
    "Definiendo las tablas de verdad de las compuertas, mediante arreglos"
   ]
  },
  {
   "cell_type": "markdown",
   "metadata": {},
   "source": [
    "### Solución con perceptron"
   ]
  },
  {
   "cell_type": "markdown",
   "metadata": {},
   "source": [
    "#### AND"
   ]
  },
  {
   "cell_type": "code",
   "execution_count": 11,
   "metadata": {},
   "outputs": [
    {
     "data": {
      "text/plain": [
       "array([-1, -1, -1,  1])"
      ]
     },
     "execution_count": 11,
     "metadata": {},
     "output_type": "execute_result"
    }
   ],
   "source": [
    "# AND peceptron\n",
    "X_and = np.array([\n",
    "    [0,0],\n",
    "    [0,1],\n",
    "    [1,0],\n",
    "    [1,1]\n",
    "])\n",
    "\n",
    "y_and = np.array([\n",
    "    0,\n",
    "    0,\n",
    "    0,\n",
    "    1])\n",
    "\n",
    "ones = np.ones((len(X_and),1))\n",
    "X_and = np.hstack((X_and, ones))\n",
    "\n",
    "my_andclassifier = my_perceptron(eta=0.01, n_iter=100)\n",
    "my_andclassifier.fit(X_and, y_and)\n",
    "my_andclassifier.predict(X_and)"
   ]
  },
  {
   "cell_type": "markdown",
   "metadata": {},
   "source": [
    "#### OR"
   ]
  },
  {
   "cell_type": "code",
   "execution_count": 384,
   "metadata": {},
   "outputs": [
    {
     "data": {
      "text/plain": [
       "array([-1,  1,  1,  1])"
      ]
     },
     "execution_count": 384,
     "metadata": {},
     "output_type": "execute_result"
    }
   ],
   "source": [
    "# OR peceptron\n",
    "X_or = np.array([\n",
    "    [0,0],\n",
    "    [0,1],\n",
    "    [1,0],\n",
    "    [1,1]\n",
    "])\n",
    "\n",
    "y_or = np.array([\n",
    "    0,\n",
    "    1,\n",
    "    1,\n",
    "    1])\n",
    "    \n",
    "ones = np.ones((len(X_or),1))\n",
    "X_or = np.hstack((X_or, ones))\n",
    "\n",
    "my_andclassifier = my_perceptron(eta=0.01, n_iter=100)\n",
    "my_andclassifier.fit(X_or, y_or)\n",
    "my_andclassifier.predict(X_or)"
   ]
  },
  {
   "cell_type": "markdown",
   "metadata": {},
   "source": [
    "#### XOR"
   ]
  },
  {
   "cell_type": "code",
   "execution_count": 409,
   "metadata": {},
   "outputs": [
    {
     "data": {
      "text/plain": [
       "array([-1, -1, -1, -1])"
      ]
     },
     "execution_count": 409,
     "metadata": {},
     "output_type": "execute_result"
    }
   ],
   "source": [
    "# XOR peceptron\n",
    "X_xor = np.array([\n",
    "    [0,0],\n",
    "    [0,1],\n",
    "    [1,0],\n",
    "    [1,1]\n",
    "])\n",
    "y_xor =  np.array([\n",
    "    0,\n",
    "    1,\n",
    "    1,\n",
    "    0])\n",
    "\n",
    "ones = np.ones((len(X_xor),1))\n",
    "X_xor = np.hstack((X_xor, ones))\n",
    "\n",
    "my_andclassifier = my_perceptron(eta=0.01, n_iter=100)\n",
    "my_andclassifier.fit(X_xor, y_xor)\n",
    "my_andclassifier.predict(X_xor)"
   ]
  },
  {
   "cell_type": "markdown",
   "metadata": {},
   "source": [
    "#### XNOR"
   ]
  },
  {
   "cell_type": "code",
   "execution_count": 408,
   "metadata": {},
   "outputs": [
    {
     "data": {
      "text/plain": [
       "array([-1, -1, -1, -1])"
      ]
     },
     "execution_count": 408,
     "metadata": {},
     "output_type": "execute_result"
    }
   ],
   "source": [
    "# XNOR peceptron\n",
    "X_xnor = np.array([\n",
    "    [0,0],\n",
    "    [0,1],\n",
    "    [1,0],\n",
    "    [1,1]\n",
    "])\n",
    "\n",
    "y_xnor = np.array([\n",
    "    1,\n",
    "    0,\n",
    "    0,\n",
    "    1])\n",
    "\n",
    "ones = np.ones((len(X_xnor),1))\n",
    "X_xnor = np.hstack((X_xnor, ones))\n",
    "\n",
    "my_andclassifier = my_perceptron(eta=0.01, n_iter=100)\n",
    "my_andclassifier.fit(X_xnor, y_xnor)\n",
    "my_andclassifier.predict(X_xnor)"
   ]
  },
  {
   "cell_type": "markdown",
   "metadata": {},
   "source": [
    "### Solucion con adaline"
   ]
  },
  {
   "cell_type": "markdown",
   "metadata": {},
   "source": [
    "#### AND"
   ]
  },
  {
   "cell_type": "code",
   "execution_count": 190,
   "metadata": {},
   "outputs": [
    {
     "data": {
      "text/plain": [
       "array([-1,  1,  1,  1])"
      ]
     },
     "execution_count": 190,
     "metadata": {},
     "output_type": "execute_result"
    }
   ],
   "source": [
    "# AND adaline\n",
    "X_and = np.array([\n",
    "    [0,0],\n",
    "    [0,1],\n",
    "    [1,0],\n",
    "    [1,1]\n",
    "])\n",
    "\n",
    "y_and = np.array([\n",
    "    0,\n",
    "    0,\n",
    "    0,\n",
    "    1])\n",
    "\n",
    "ones = np.ones((len(X_and),1))\n",
    "X_and = np.hstack((X_and, ones))\n",
    "\n",
    "my_andclassifier = my_adaline(eta=0.1, n_iter=100)\n",
    "my_andclassifier.fit(X_and, y_and)\n",
    "my_andclassifier.predict(X_and)"
   ]
  },
  {
   "cell_type": "markdown",
   "metadata": {},
   "source": [
    "#### OR"
   ]
  },
  {
   "cell_type": "code",
   "execution_count": 172,
   "metadata": {},
   "outputs": [
    {
     "data": {
      "text/plain": [
       "array([1, 1, 1, 1])"
      ]
     },
     "execution_count": 172,
     "metadata": {},
     "output_type": "execute_result"
    }
   ],
   "source": [
    "# OR adaline\n",
    "X_or = np.array([\n",
    "    [0,0],\n",
    "    [0,1],\n",
    "    [1,0],\n",
    "    [1,1]\n",
    "])\n",
    "\n",
    "y_or = np.array([\n",
    "    0,\n",
    "    1,\n",
    "    1,\n",
    "    1])\n",
    "    \n",
    "ones = np.ones((len(X_or),1))\n",
    "X_or = np.hstack((X_or, ones))\n",
    "\n",
    "my_andclassifier = my_adaline(eta=0.01, n_iter=100)\n",
    "my_andclassifier.fit(X_or, y_or)\n",
    "my_andclassifier.predict(X_or)"
   ]
  },
  {
   "cell_type": "markdown",
   "metadata": {},
   "source": [
    "#### XOR"
   ]
  },
  {
   "cell_type": "code",
   "execution_count": 425,
   "metadata": {},
   "outputs": [
    {
     "data": {
      "text/plain": [
       "array([0.42520267, 0.76237983, 0.76237983, 1.099557  ])"
      ]
     },
     "execution_count": 425,
     "metadata": {},
     "output_type": "execute_result"
    }
   ],
   "source": [
    "# XOR adaline\n",
    "X_xor = np.array([\n",
    "    [0,0],\n",
    "    [0,1],\n",
    "    [1,0],\n",
    "    [1,1]\n",
    "])\n",
    "y_xor =  np.array([\n",
    "    0,\n",
    "    1,\n",
    "    1,\n",
    "    0])\n",
    "    \n",
    "ones = np.ones((len(X_or),1))\n",
    "X_or = np.hstack((X_or, ones))\n",
    "\n",
    "my_andclassifier = my_adaline(eta=0.01, n_iter=100)\n",
    "my_andclassifier.fit(X_or, y_or)\n",
    "my_andclassifier.predict(X_or)"
   ]
  },
  {
   "cell_type": "markdown",
   "metadata": {},
   "source": [
    "#### XNOR"
   ]
  },
  {
   "cell_type": "code",
   "execution_count": 430,
   "metadata": {},
   "outputs": [
    {
     "data": {
      "text/plain": [
       "array([0.38959124, 0.48209111, 0.48209111, 0.57459099])"
      ]
     },
     "execution_count": 430,
     "metadata": {},
     "output_type": "execute_result"
    }
   ],
   "source": [
    "# XNOR adaline\n",
    "X_xnor = np.array([\n",
    "    [0,0],\n",
    "    [0,1],\n",
    "    [1,0],\n",
    "    [1,1]\n",
    "])\n",
    "\n",
    "y_xnor = np.array([\n",
    "    1,\n",
    "    0,\n",
    "    0,\n",
    "    1])\n",
    "\n",
    "ones = np.ones((len(X_xnor),1))\n",
    "X_xnor = np.hstack((X_xnor, ones))\n",
    "\n",
    "my_andclassifier = my_adaline(eta=0.01, n_iter=100)\n",
    "my_andclassifier.fit(X_xnor, y_xnor)\n",
    "my_andclassifier.predict(X_xnor)"
   ]
  },
  {
   "cell_type": "markdown",
   "metadata": {},
   "source": [
    "## Al implementar la AND y la OR, si compara los pesos con los datos de la clase $1$ (cuya salida es $1$), ¿Qué puede concluir?"
   ]
  },
  {
   "cell_type": "markdown",
   "metadata": {},
   "source": [
    "### AND"
   ]
  },
  {
   "cell_type": "code",
   "execution_count": 431,
   "metadata": {},
   "outputs": [
    {
     "name": "stdout",
     "output_type": "stream",
     "text": [
      "Pesos and-perceptron [ 0.02  0.02 -0.02]; pesos and-adaline [ 0.5   0.5  -0.25]\n"
     ]
    }
   ],
   "source": [
    "# AND\n",
    "X_and = np.array([\n",
    "    [0,0],\n",
    "    [0,1],\n",
    "    [1,0],\n",
    "    [1,1]\n",
    "])\n",
    "\n",
    "y_and = np.array([\n",
    "    0,\n",
    "    0,\n",
    "    0,\n",
    "    1])\n",
    "\n",
    "ones = np.ones((len(X_and),1))\n",
    "X_and = np.hstack((X_and, ones))\n",
    "\n",
    "my_classifier = my_perceptron(eta=0.01, n_iter=100)\n",
    "my_classifier.fit(X_and, y_and)\n",
    "\n",
    "my_classifier2nd = my_adaline(eta=0.01, n_iter=100000)\n",
    "my_classifier2nd.fit(X_and, y_and)\n",
    "\n",
    "print(f\"Pesos and-perceptron {my_classifier.omega}; pesos and-adaline {my_classifier2nd.omega}\")"
   ]
  },
  {
   "cell_type": "markdown",
   "metadata": {},
   "source": [
    "### OR"
   ]
  },
  {
   "cell_type": "code",
   "execution_count": 83,
   "metadata": {},
   "outputs": [
    {
     "name": "stdout",
     "output_type": "stream",
     "text": [
      "Pesos and-perceptron [ 4.00000000e-02  4.00000000e-02 -3.46944695e-18]; pesos and-adaline [0.38959124 0.38959124 0.37979537]\n"
     ]
    }
   ],
   "source": [
    "# OR\n",
    "X_or = np.array([\n",
    "    [0,0],\n",
    "    [0,1],\n",
    "    [1,0],\n",
    "    [1,1]\n",
    "])\n",
    "\n",
    "y_or = np.array([\n",
    "    0,\n",
    "    1,\n",
    "    1,\n",
    "    1])\n",
    "ones = np.ones((len(X_or),1))\n",
    "X_or = np.hstack((X_or, ones))\n",
    "\n",
    "my_classifier = my_perceptron(eta=0.01, n_iter=100)\n",
    "my_classifier.fit(X_or, y_or)\n",
    "\n",
    "my_classifier2nd = my_adaline(eta=0.01, n_iter=100)\n",
    "my_classifier2nd.fit(X_or, y_or)\n",
    "\n",
    "print(f\"Pesos and-perceptron {my_classifier.omega}; pesos and-adaline {my_classifier2nd.omega}\")"
   ]
  },
  {
   "cell_type": "markdown",
   "metadata": {},
   "source": [
    "Se puede ver que los pesos del perceptron comparados con adaline, en ambos casos, son considerablemene más pequeños. "
   ]
  },
  {
   "cell_type": "markdown",
   "metadata": {},
   "source": [
    "## Solución Iris con perceptron y adaline"
   ]
  },
  {
   "cell_type": "code",
   "execution_count": 77,
   "metadata": {},
   "outputs": [],
   "source": [
    "from sklearn import datasets\n",
    "iris = datasets.load_iris()\n",
    "X = iris.data[:, :2]  # we only take the first two features.\n",
    "y = iris.target\n",
    "\n",
    "ones = np.ones((len(X),1))\n",
    "X = np.hstack((X, ones))\n",
    "\n",
    "y = np.where(y == 0, 1, -1)"
   ]
  },
  {
   "cell_type": "code",
   "execution_count": 78,
   "metadata": {},
   "outputs": [
    {
     "data": {
      "text/plain": [
       "Text(0, 0.5, 'sepal width (cm)')"
      ]
     },
     "execution_count": 78,
     "metadata": {},
     "output_type": "execute_result"
    },
    {
     "data": {
      "image/png": "[encoded data removed]",
      "text/plain": [
       "<Figure size 432x288 with 1 Axes>"
      ]
     },
     "metadata": {
      "needs_background": "light"
     },
     "output_type": "display_data"
    }
   ],
   "source": [
    "plt.scatter(iris.data[:, 0], iris.data[:, 1], c = y )\n",
    "plt.xlabel(iris.feature_names[0])\n",
    "plt.ylabel(iris.feature_names[1])"
   ]
  },
  {
   "cell_type": "markdown",
   "metadata": {},
   "source": [
    "### Solución Iris con perceptron "
   ]
  },
  {
   "cell_type": "code",
   "execution_count": 79,
   "metadata": {},
   "outputs": [
    {
     "data": {
      "text/plain": [
       "Text(0, 0.5, 'sepal width (cm)')"
      ]
     },
     "execution_count": 79,
     "metadata": {},
     "output_type": "execute_result"
    },
    {
     "data": {
      "image/png": "[encoded data removed]",
      "text/plain": [
       "<Figure size 432x288 with 1 Axes>"
      ]
     },
     "metadata": {
      "needs_background": "light"
     },
     "output_type": "display_data"
    }
   ],
   "source": [
    "my_iris_classifier = my_perceptron(eta=0.01, n_iter=100)\n",
    "\n",
    "my_iris_classifier.fit(X,y)\n",
    "\n",
    "y_pred = my_iris_classifier.predict(X)\n",
    "\n",
    "plt.scatter(iris.data[:, 0], iris.data[:, 1], c = y_pred)\n",
    "plt.xlabel(iris.feature_names[0])\n",
    "plt.ylabel(iris.feature_names[1])"
   ]
  },
  {
   "cell_type": "markdown",
   "metadata": {},
   "source": [
    "### Solución Iris con adaline\n"
   ]
  },
  {
   "cell_type": "code",
   "execution_count": 144,
   "metadata": {},
   "outputs": [
    {
     "name": "stdout",
     "output_type": "stream",
     "text": [
      "[-1.02077578e+181 -5.27521373e+180 -1.72132328e+180]\n",
      "***\n",
      "[[5.1 4.9 4.7 4.6 5.  5.4 4.6 5.  4.4 4.9 5.4 4.8 4.8 4.3 5.8 5.7 5.4 5.1\n",
      "  5.7 5.1 5.4 5.1 4.6 5.1 4.8 5.  5.  5.2 5.2 4.7 4.8 5.4 5.2 5.5 4.9 5.\n",
      "  5.5 4.9 4.4 5.1 5.  4.5 4.4 5.  5.1 4.8 5.1 4.6 5.3 5.  7.  6.4 6.9 5.5\n",
      "  6.5 5.7 6.3 4.9 6.6 5.2 5.  5.9 6.  6.1 5.6 6.7 5.6 5.8 6.2 5.6 5.9 6.1\n",
      "  6.3 6.1 6.4 6.6 6.8 6.7 6.  5.7 5.5 5.5 5.8 6.  5.4 6.  6.7 6.3 5.6 5.5\n",
      "  5.5 6.1 5.8 5.  5.6 5.7 5.7 6.2 5.1 5.7 6.3 5.8 7.1 6.3 6.5 7.6 4.9 7.3\n",
      "  6.7 7.2 6.5 6.4 6.8 5.7 5.8 6.4 6.5 7.7 7.7 6.  6.9 5.6 7.7 6.3 6.7 7.2\n",
      "  6.2 6.1 6.4 7.2 7.4 7.9 6.4 6.3 6.1 7.7 6.3 6.4 6.  6.9 6.7 6.9 5.8 6.8\n",
      "  6.7 6.7 6.3 6.5 6.2 5.9]\n",
      " [3.5 3.  3.2 3.1 3.6 3.9 3.4 3.4 2.9 3.1 3.7 3.4 3.  3.  4.  4.4 3.9 3.5\n",
      "  3.8 3.8 3.4 3.7 3.6 3.3 3.4 3.  3.4 3.5 3.4 3.2 3.1 3.4 4.1 4.2 3.1 3.2\n",
      "  3.5 3.6 3.  3.4 3.5 2.3 3.2 3.5 3.8 3.  3.8 3.2 3.7 3.3 3.2 3.2 3.1 2.3\n",
      "  2.8 2.8 3.3 2.4 2.9 2.7 2.  3.  2.2 2.9 2.9 3.1 3.  2.7 2.2 2.5 3.2 2.8\n",
      "  2.5 2.8 2.9 3.  2.8 3.  2.9 2.6 2.4 2.4 2.7 2.7 3.  3.4 3.1 2.3 3.  2.5\n",
      "  2.6 3.  2.6 2.3 2.7 3.  2.9 2.9 2.5 2.8 3.3 2.7 3.  2.9 3.  3.  2.5 2.9\n",
      "  2.5 3.6 3.2 2.7 3.  2.5 2.8 3.2 3.  3.8 2.6 2.2 3.2 2.8 2.8 2.7 3.3 3.2\n",
      "  2.8 3.  2.8 3.  2.8 3.8 2.8 2.8 2.6 3.  3.4 3.1 3.  3.1 3.1 3.1 2.7 3.2\n",
      "  3.3 3.  2.5 3.  3.4 3. ]\n",
      " [1.  1.  1.  1.  1.  1.  1.  1.  1.  1.  1.  1.  1.  1.  1.  1.  1.  1.\n",
      "  1.  1.  1.  1.  1.  1.  1.  1.  1.  1.  1.  1.  1.  1.  1.  1.  1.  1.\n",
      "  1.  1.  1.  1.  1.  1.  1.  1.  1.  1.  1.  1.  1.  1.  1.  1.  1.  1.\n",
      "  1.  1.  1.  1.  1.  1.  1.  1.  1.  1.  1.  1.  1.  1.  1.  1.  1.  1.\n",
      "  1.  1.  1.  1.  1.  1.  1.  1.  1.  1.  1.  1.  1.  1.  1.  1.  1.  1.\n",
      "  1.  1.  1.  1.  1.  1.  1.  1.  1.  1.  1.  1.  1.  1.  1.  1.  1.  1.\n",
      "  1.  1.  1.  1.  1.  1.  1.  1.  1.  1.  1.  1.  1.  1.  1.  1.  1.  1.\n",
      "  1.  1.  1.  1.  1.  1.  1.  1.  1.  1.  1.  1.  1.  1.  1.  1.  1.  1.\n",
      "  1.  1.  1.  1.  1.  1. ]]\n"
     ]
    },
    {
     "data": {
      "text/plain": [
       "Text(0, 0.5, 'sepal width (cm)')"
      ]
     },
     "execution_count": 144,
     "metadata": {},
     "output_type": "execute_result"
    },
    {
     "data": {
      "image/png": "[encoded data removed]",
      "text/plain": [
       "<Figure size 432x288 with 1 Axes>"
      ]
     },
     "metadata": {
      "needs_background": "light"
     },
     "output_type": "display_data"
    }
   ],
   "source": [
    "my_iris_classifier = my_adaline(eta=0.01, n_iter=100)\n",
    "\n",
    "my_iris_classifier.fit(X,y)\n",
    "\n",
    "y_pred = my_iris_classifier.predict(X)\n",
    "\n",
    "plt.scatter(iris.data[:, 0], iris.data[:, 1], c = y_pred)\n",
    "plt.xlabel(iris.feature_names[0])\n",
    "plt.ylabel(iris.feature_names[1])"
   ]
  },
  {
   "cell_type": "markdown",
   "metadata": {},
   "source": [
    "### Comparación de resultados"
   ]
  },
  {
   "cell_type": "markdown",
   "metadata": {},
   "source": [
    "Se puede ver que en el problema del Iris data set, el perceptron clasifica mejor que el adaline. "
   ]
  }
 ],
 "metadata": {
  "interpreter": {
   "hash": "63e1af81e0db07465212a9872792eab6654748401e44928990f8b7c7ca2a7915"
  },
  "kernelspec": {
   "display_name": "Python 3.9.7 ('market-basket')",
   "language": "python",
   "name": "python3"
  },
  "language_info": {
   "codemirror_mode": {
    "name": "ipython",
    "version": 3
   },
   "file_extension": ".py",
   "mimetype": "text/x-python",
   "name": "python",
   "nbconvert_exporter": "python",
   "pygments_lexer": "ipython3",
   "version": "3.9.7"
  },
  "orig_nbformat": 4
 },
 "nbformat": 4,
 "nbformat_minor": 2
}

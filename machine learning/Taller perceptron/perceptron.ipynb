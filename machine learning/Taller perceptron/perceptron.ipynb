{
 "cells": [
  {
   "cell_type": "markdown",
   "metadata": {},
   "source": [
    "# Taller Perceptron\n",
    "\n",
    "Carlos Garavito,  \n",
    "Juan Sebastián Cortes. \n",
    "***\n",
    "\n",
    "\n",
    "1. Implementación de un perceptron y su regla de aprendizaje. El perceptron debe aceptar como entrada un vector de longittud arbitraria, i.e. el número de caracteristicas (regresores) puede ser arbitrario.\n",
    "\n",
    "2. Implementación de un adaline con su regla de aprendizaje. El adaline debe aceptar como entrada un vector de longitud arbitraria, i.e. el número de caracteristicas (regresores) puede ser arbitrario.\n",
    "\n",
    "3. Implemente un perceptrón y un adaline que pueda realizar las operaciones logicas AND, OR, XOR y XNOR.\n",
    "\n",
    "4. Al implementar la AND y la OR, si compara los pesos con lso datos de la clase $1$ (cuya salida es $1$, ¿Qué puede concluir?\n",
    "\n",
    "5. Solucione el problema de las flores de iris utilizando un perceptrón y un adaline. Utilice solamente dos clases. Compare las respuestas.\n"
   ]
  },
  {
   "cell_type": "markdown",
   "metadata": {},
   "source": [
    "## Implementación de un perceptron"
   ]
  },
  {
   "cell_type": "markdown",
   "metadata": {},
   "source": [
    "<center><img src=\"images/perceptron.png\" width=\"400\"></center>\n",
    "\n",
    "Se ha visto que el perceptron puede ser descrito como se muestra en la figura, y que matematicamente es de la forma\n",
    "\n",
    "$$z = \\boldsymbol\\omega^{\\text{T}}\\mathbf{x},$$ \n",
    "\n",
    "tal que, \n",
    "\n",
    "$$\n",
    "\\begin{equation}\n",
    "  y = \\varphi(z)=\n",
    "    \\begin{cases}\n",
    "      1 & \\text{if} & z \\geq \\theta,\\\\\n",
    "      -1 & \\text{if} & z < \\theta.\n",
    "    \\end{cases}       \n",
    "\\end{equation}$$\n",
    "\n",
    "Además, se ha definido que la regla de aprendizaje se muestra en dos pasos:\n",
    "\n",
    "1. Inicializar los pesos $\\omega$ a 0 o a números aleatorios pequeños.\n",
    "2. Para cada dato de entrenamiento $\\mathbf{x}^{(i)}$ realizar los siguientes pasos:\n",
    "    * actualizar le valor de la predicción, $\\hat{y}$,\n",
    "    * Actualizar los pesos.\n",
    "\n",
    "Esto es, \n",
    "\n",
    "$$\\boldsymbol\\omega := \\boldsymbol\\omega+\\Delta\\boldsymbol\\omega,$$\n",
    "\n",
    "$$\\Delta\\boldsymbol\\omega = \\eta\\mathbf{X}^{\\text{T}}(\\mathbf{y}-\\hat{\\mathbf{y}}),$$\n",
    "\n",
    "donde $\\omega$ es el vector de pesos; $\\eta$ es la constante de aprendizaje; $\\mathbf{X}$ es una matrix de dimensiones $m\\times N$, donde $m$ es el número de observaciones, y $N$ el número de entradas (regresores, cvaracteristicas, etc).\n",
    "\n",
    "Así, la implementación en python se muestra a continuación."
   ]
  },
  {
   "cell_type": "code",
   "execution_count": null,
   "metadata": {},
   "outputs": [],
   "source": [
    "import numpy as np\n"
   ]
  },
  {
   "cell_type": "markdown",
   "metadata": {},
   "source": [
    "## Implementación adaline"
   ]
  },
  {
   "cell_type": "markdown",
   "metadata": {},
   "source": [
    "## Implementación perceptrón y adaline: AND, OR, XOR, XNOR"
   ]
  },
  {
   "cell_type": "markdown",
   "metadata": {},
   "source": [
    "## Al implementar la AND y la OR, si compara los pesos con lso datos de la clase $1$ (cuya salida es $1$), ¿Qué puede concluir?"
   ]
  },
  {
   "cell_type": "markdown",
   "metadata": {},
   "source": [
    "## Solución Iris con perceptron y adaline"
   ]
  },
  {
   "cell_type": "markdown",
   "metadata": {},
   "source": [
    "### Solución Iris con perceptron "
   ]
  },
  {
   "cell_type": "markdown",
   "metadata": {},
   "source": [
    "### Solución Iris con adaline"
   ]
  },
  {
   "cell_type": "markdown",
   "metadata": {},
   "source": [
    "### Comparación de resultados"
   ]
  },
  {
   "cell_type": "markdown",
   "metadata": {},
   "source": []
  }
 ],
 "metadata": {
  "interpreter": {
   "hash": "63e1af81e0db07465212a9872792eab6654748401e44928990f8b7c7ca2a7915"
  },
  "kernelspec": {
   "display_name": "Python 3.9.7 ('market-basket')",
   "language": "python",
   "name": "python3"
  },
  "language_info": {
   "codemirror_mode": {
    "name": "ipython",
    "version": 3
   },
   "file_extension": ".py",
   "mimetype": "text/x-python",
   "name": "python",
   "nbconvert_exporter": "python",
   "pygments_lexer": "ipython3",
   "version": "3.9.7"
  },
  "orig_nbformat": 4
 },
 "nbformat": 4,
 "nbformat_minor": 2
}
